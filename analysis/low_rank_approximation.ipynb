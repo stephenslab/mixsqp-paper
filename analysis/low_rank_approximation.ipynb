{
 "cells": [
  {
   "cell_type": "markdown",
   "metadata": {
    "collapsed": true
   },
   "source": [
    "# mix-SQP demo with different low-rank matrix approximations\n",
    "\n",
    "In this example, we illustrate how the QR and singular value decompositions of the likelihood matrix can be used to speed up the SQP algorithm. Compare these results to Fig. 2 of the paper.\n",
    "\n",
    "## Analysis setup\n",
    "\n",
    "We begin by loading the Distributions and LowRankApprox Julia packages, as well as some function definitions used in the code chunks below."
   ]
  },
  {
   "cell_type": "code",
   "execution_count": 6,
   "metadata": {},
   "outputs": [],
   "source": [
    "using Distributions\n",
    "using LowRankApprox\n",
    "include(\"../code/julia/datasim.jl\");\n",
    "include(\"../code/julia/likelihood.jl\");\n",
    "include(\"../code/julia/mixSQP_time.jl\");"
   ]
  },
  {
   "cell_type": "markdown",
   "metadata": {},
   "source": [
    "Next, initialize the sequence of pseudorandom numbers."
   ]
  },
  {
   "cell_type": "code",
   "execution_count": 5,
   "metadata": {
    "collapsed": true
   },
   "outputs": [],
   "source": [
    "srand(1);"
   ]
  },
  {
   "cell_type": "markdown",
   "metadata": {},
   "source": [
    "## Generate a small data set\n",
    "\n",
    "Let's start with a smaller example with 50,000 samples."
   ]
  },
  {
   "cell_type": "code",
   "execution_count": 7,
   "metadata": {},
   "outputs": [],
   "source": [
    "x = normtmixdatasim(round(Int,5e4));"
   ]
  },
  {
   "cell_type": "markdown",
   "metadata": {},
   "source": [
    "## Compute the likelihood matrix\n",
    "\n",
    "Compute the $n \\times k$ likelihood matrix for a mixture of zero-centered normals, with $k = 20$. Note that the rows of the likelihood matrix are normalized by default."
   ]
  },
  {
   "cell_type": "code",
   "execution_count": 8,
   "metadata": {},
   "outputs": [
    {
     "data": {
      "text/plain": [
       "(50000, 20)"
      ]
     },
     "execution_count": 8,
     "metadata": {},
     "output_type": "execute_result"
    }
   ],
   "source": [
    "sd = autoselectmixsd(x,gridmult = 1.425);\n",
    "L  = normlikmatrix(x,sd = sd);\n",
    "size(L)"
   ]
  },
  {
   "cell_type": "markdown",
   "metadata": {},
   "source": [
    "## Fit mixture model using SQP algorithm \n",
    "\n",
    "First we run the mix-SQP algorithm once to precompile the function."
   ]
  },
  {
   "cell_type": "code",
   "execution_count": 12,
   "metadata": {},
   "outputs": [],
   "source": [
    "out = mixSQP_time(L);"
   ]
  },
  {
   "cell_type": "markdown",
   "metadata": {},
   "source": [
    "Next, run the mix-SQP solver again with the SVD and QR approximations to the likelihood matrix, and with no approximation. The approximation tolerance is set very low, to `1e-8`."
   ]
  },
  {
   "cell_type": "code",
   "execution_count": 2,
   "metadata": {
    "collapsed": true
   },
   "outputs": [],
   "source": [
    "# pqrtol    : relative tolerance for randomized low-rank approximation\n",
    "# lowrank : low-rank approximation method, perform randomized svd if \"svd\", randomized RRQR if \"qr\",\n",
    "#           and do nothing otherwise\n",
    "\n",
    "# example\n",
    "data = Array{Float64,2}(CSV.read(\"../data/sample5000x20.txt\", nullable = false, header = false, delim = ' '));\n",
    "x_svd = mixSQP_time(data, pqrtol = 1e-8, lowrank = \"svd\")[1];\n",
    "x_qr = mixSQP_time(data,  pqrtol = 1e-8, lowrank = \"qr\")[1];\n",
    "x_nothing = mixSQP_time(data,  pqrtol = 1e-8, lowrank = \"nothing\")[1];"
   ]
  },
  {
   "cell_type": "code",
   "execution_count": 13,
   "metadata": {},
   "outputs": [
    {
     "ename": "LoadError",
     "evalue": "\u001b[91mUndefVarError: data not defined\u001b[39m",
     "output_type": "error",
     "traceback": [
      "\u001b[91mUndefVarError: data not defined\u001b[39m",
      "",
      "Stacktrace:",
      " [1] \u001b[1minclude_string\u001b[22m\u001b[22m\u001b[1m(\u001b[22m\u001b[22m::String, ::String\u001b[1m)\u001b[22m\u001b[22m at \u001b[1m./loading.jl:522\u001b[22m\u001b[22m"
     ]
    }
   ],
   "source": [
    "@time outSVD = mixSQP_time(L,lowrank = \"svd\");\n",
    "@time outQR  = mixSQP_time(L,lowrank = \"qr\");\n",
    "@time out    = mixSQP_time(L,lowrank = \"nothing\");"
   ]
  },
  {
   "cell_type": "code",
   "execution_count": 4,
   "metadata": {
    "collapsed": true
   },
   "outputs": [],
   "source": [
    "data = Array{Float64,2}(CSV.read(\"../data/sample100000x100.txt\", nullable = false, header = false, delim = ' '));"
   ]
  },
  {
   "cell_type": "code",
   "execution_count": 5,
   "metadata": {},
   "outputs": [
    {
     "name": "stdout",
     "output_type": "stream",
     "text": [
      "  0.396186 seconds (56.12 k allocations: 324.077 MiB, 8.41% gc time)\n",
      "  0.281044 seconds (8.66 k allocations: 321.349 MiB, 9.47% gc time)\n",
      "  2.880684 seconds (6.51 k allocations: 2.412 GiB, 45.00% gc time)\n"
     ]
    },
    {
     "data": {
      "text/plain": [
       "2×2 Array{Any,2}:\n",
       "  \"rel_err btw x_svd,x\"   \"rel_error btw x_qr,x\"\n",
       " 0.0                     0.0                    "
      ]
     },
     "execution_count": 5,
     "metadata": {},
     "output_type": "execute_result"
    }
   ],
   "source": [
    "@time x_svd = mixSQP_time(data, lowrank = \"svd\")[1];\n",
    "@time x_qr = mixSQP_time(data, lowrank = \"qr\")[1];\n",
    "@time x_nothing = mixSQP_time(data, lowrank = \"nothing\")[1];\n",
    "[\"rel_err btw x_svd,x\" \"rel_error btw x_qr,x\"; rel_error(data,x_svd,x_nothing) rel_error(data,x_qr,x_nothing)]"
   ]
  },
  {
   "cell_type": "code",
   "execution_count": null,
   "metadata": {
    "collapsed": true
   },
   "outputs": [],
   "source": [
    "L1 = Array{Float64,2}(CSV.read(\"../data/sample5000x20.txt\", nullable = false, header = false, delim = ' '));\n",
    "L2 = Array{Float64,2}(CSV.read(\"../data/sample100000x100.txt\", nullable = false, header = false, delim = ' '));"
   ]
  },
  {
   "cell_type": "code",
   "execution_count": null,
   "metadata": {
    "collapsed": true
   },
   "outputs": [],
   "source": [
    "t = psvdfact(L1); D = (t[:U] .* t[:S]') * t[:Vt] - L1;\n",
    "vecnorm(D),norm(D)"
   ]
  },
  {
   "cell_type": "code",
   "execution_count": null,
   "metadata": {
    "collapsed": true
   },
   "outputs": [],
   "source": [
    "t = psvdfact(L2); D = (t[:U] .* t[:S]') * t[:Vt] - L2;\n",
    "vecnorm(D),norm(D)"
   ]
  },
  {
   "cell_type": "code",
   "execution_count": null,
   "metadata": {
    "collapsed": true
   },
   "outputs": [],
   "source": [
    "t = pqrfact(L1); D = t[:Q] * t[:R] * sparse(t[:P])' - L1;\n",
    "vecnorm(D),norm(D)"
   ]
  },
  {
   "cell_type": "code",
   "execution_count": null,
   "metadata": {
    "collapsed": true
   },
   "outputs": [],
   "source": [
    "t = pqrfact(L2); D = t[:Q] * t[:R] * sparse(t[:P])' - L2;\n",
    "vecnorm(D),norm(D)"
   ]
  },
  {
   "cell_type": "markdown",
   "metadata": {},
   "source": [
    "## Session information\n",
    "\n",
    "The section gives information about the computing environment used to generate the results contained in this\n",
    "notebook, including the version of Julia, and the versions of the Julia packages used here."
   ]
  },
  {
   "cell_type": "code",
   "execution_count": 6,
   "metadata": {},
   "outputs": [
    {
     "name": "stdout",
     "output_type": "stream",
     "text": [
      " - LowRankApprox                 0.1.0\n",
      " - CSV                           0.1.5\n"
     ]
    }
   ],
   "source": [
    "Pkg.status(\"Distributions\");\n",
    "Pkg.status(\"LowRankApprox\");"
   ]
  },
  {
   "cell_type": "code",
   "execution_count": 7,
   "metadata": {},
   "outputs": [
    {
     "name": "stdout",
     "output_type": "stream",
     "text": [
      "Julia Version 0.6.2\n",
      "Commit d386e40c17 (2017-12-13 18:08 UTC)\n",
      "Platform Info:\n",
      "  OS: macOS (x86_64-apple-darwin14.5.0)\n",
      "  CPU: Intel(R) Core(TM) i7-7567U CPU @ 3.50GHz\n",
      "  WORD_SIZE: 64\n",
      "  BLAS: libopenblas (USE64BITINT DYNAMIC_ARCH NO_AFFINITY Prescott)\n",
      "  LAPACK: libopenblas64_\n",
      "  LIBM: libopenlibm\n",
      "  LLVM: libLLVM-3.9.1 (ORCJIT, broadwell)\n"
     ]
    }
   ],
   "source": [
    "versioninfo()"
   ]
  }
 ],
 "metadata": {
  "kernelspec": {
   "display_name": "Julia 0.6.2",
   "language": "julia",
   "name": "julia-0.6"
  },
  "language_info": {
   "file_extension": ".jl",
   "mimetype": "application/julia",
   "name": "julia",
   "version": "0.6.2"
  }
 },
 "nbformat": 4,
 "nbformat_minor": 2
}
