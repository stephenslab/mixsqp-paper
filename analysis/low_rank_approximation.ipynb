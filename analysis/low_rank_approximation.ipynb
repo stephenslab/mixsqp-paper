{
 "cells": [
  {
   "cell_type": "markdown",
   "metadata": {
    "collapsed": true
   },
   "source": [
    "# mix-SQP demo with different low-rank matrix approximations\n",
    "\n",
    "In this example, we illustrate how the QR and singular value decompositions of the likelihood matrix can be used to speed up the SQP algorithm.\n",
    "\n",
    "## Analysis setup\n",
    "\n",
    "*Before attempting to run this Julia code, make sure your computer is properly set up to run this code by following the setup instructions in the README of the [git repository](https://github.com/stephenslab/mixsqp-paper).*\n",
    "\n",
    "We begin by loading the Distributions, LowRankApprox and other packages, as well as some function definitions used in the code chunks below."
   ]
  },
  {
   "cell_type": "code",
   "execution_count": 1,
   "metadata": {},
   "outputs": [],
   "source": [
    "using Pkg\n",
    "using Random\n",
    "using Printf\n",
    "using Distributions\n",
    "using LinearAlgebra\n",
    "using SparseArrays\n",
    "using LowRankApprox\n",
    "include(\"../code/datasim.jl\");\n",
    "include(\"../code/likelihood.jl\");\n",
    "include(\"../code/mixSQP.jl\");"
   ]
  },
  {
   "cell_type": "markdown",
   "metadata": {},
   "source": [
    "Next, initialize the sequence of pseudorandom numbers."
   ]
  },
  {
   "cell_type": "code",
   "execution_count": 2,
   "metadata": {
    "collapsed": true
   },
   "outputs": [],
   "source": [
    "Random.seed!(1);"
   ]
  },
  {
   "cell_type": "markdown",
   "metadata": {},
   "source": [
    "## Generate a small data set\n",
    "\n",
    "Let's start with a smaller example with 50,000 samples."
   ]
  },
  {
   "cell_type": "code",
   "execution_count": 3,
   "metadata": {
    "collapsed": true
   },
   "outputs": [],
   "source": [
    "z = normtmixdatasim(round(Int,5e4));"
   ]
  },
  {
   "cell_type": "markdown",
   "metadata": {},
   "source": [
    "## Compute the likelihood matrix\n",
    "\n",
    "Compute the $n \\times k$ likelihood matrix for a mixture of zero-centered normals, with $k = 20$. Note that the rows of the likelihood matrix are normalized by default."
   ]
  },
  {
   "cell_type": "code",
   "execution_count": 4,
   "metadata": {},
   "outputs": [
    {
     "data": {
      "text/plain": [
       "(50000, 20)"
      ]
     },
     "execution_count": 4,
     "metadata": {},
     "output_type": "execute_result"
    }
   ],
   "source": [
    "sd = autoselectmixsd(z,nv = 20);\n",
    "L  = normlikmatrix(z,sd = sd);\n",
    "size(L)"
   ]
  },
  {
   "cell_type": "markdown",
   "metadata": {},
   "source": [
    "## Fit mixture model using SQP algorithm \n",
    "\n",
    "First we run the mix-SQP algorithm a few times to precompile the relevant functions."
   ]
  },
  {
   "cell_type": "code",
   "execution_count": 5,
   "metadata": {},
   "outputs": [],
   "source": [
    "out = mixSQP(L,lowrank = \"svd\",maxiter = 10,verbose = false);\n",
    "out = mixSQP(L,lowrank = \"qr\",maxiter = 10,verbose = false);\n",
    "out = mixSQP(L,lowrank = \"nothing\",maxiter = 10,verbose = false);"
   ]
  },
  {
   "cell_type": "markdown",
   "metadata": {},
   "source": [
    "Next, run the mix-SQP solver again with the SVD and QR approximations to the likelihood matrix, and with no approximation. The approximation tolerance is set very low, to `1e-10`."
   ]
  },
  {
   "cell_type": "code",
   "execution_count": 6,
   "metadata": {},
   "outputs": [
    {
     "name": "stdout",
     "output_type": "stream",
     "text": [
      "  0.227304 seconds (30.38 k allocations: 272.346 MiB, 10.40% gc time)\n",
      "  0.226690 seconds (30.03 k allocations: 264.711 MiB, 10.62% gc time)\n",
      "  0.249882 seconds (37.26 k allocations: 432.825 MiB, 13.55% gc time)\n"
     ]
    }
   ],
   "source": [
    "@time outSVD = mixSQP(L,lowrank = \"svd\",pqrtol = 1e-10,verbose = false);\n",
    "@time outQR  = mixSQP(L,lowrank = \"qr\",pqrtol = 1e-10,verbose = false);\n",
    "@time out    = mixSQP(L,lowrank = \"nothing\",verbose = false);"
   ]
  },
  {
   "cell_type": "markdown",
   "metadata": {},
   "source": [
    "You may see a slight improvement in the computation time with the QR and SVD approximations. The solutions using the low-rank approximations are still very close to the solution without an approximation:"
   ]
  },
  {
   "cell_type": "code",
   "execution_count": 7,
   "metadata": {},
   "outputs": [
    {
     "data": {
      "text/plain": [
       "(1.8189894035458565e-12, 1.8189894035458565e-12)"
      ]
     },
     "execution_count": 7,
     "metadata": {},
     "output_type": "execute_result"
    }
   ],
   "source": [
    "mixobjective(L,outSVD[\"x\"]) - mixobjective(L,out[\"x\"]), \n",
    "mixobjective(L,outQR[\"x\"]) - mixobjective(L,out[\"x\"])"
   ]
  },
  {
   "cell_type": "markdown",
   "metadata": {
    "collapsed": true
   },
   "source": [
    "## Generate a larger data set\n",
    "\n",
    "Next, let's see what happens when we use the SQP algorithm to fit a mixture model to a much larger data set."
   ]
  },
  {
   "cell_type": "code",
   "execution_count": 8,
   "metadata": {
    "collapsed": true
   },
   "outputs": [],
   "source": [
    "z = normtmixdatasim(round(Int,1e6));"
   ]
  },
  {
   "cell_type": "markdown",
   "metadata": {},
   "source": [
    "## Compute the likelihood matrix\n",
    "\n",
    "As before, we compute the $n \\times k$ likelihood matrix for a mixture of zero-centered normals. This time, we use a finer grid of $k = 100$ normal densities."
   ]
  },
  {
   "cell_type": "code",
   "execution_count": 9,
   "metadata": {},
   "outputs": [
    {
     "data": {
      "text/plain": [
       "(1000000, 100)"
      ]
     },
     "execution_count": 9,
     "metadata": {},
     "output_type": "execute_result"
    }
   ],
   "source": [
    "sd = autoselectmixsd(z,nv = 100);\n",
    "L  = normlikmatrix(z,sd = sd);\n",
    "size(L)"
   ]
  },
  {
   "cell_type": "markdown",
   "metadata": {
    "collapsed": true
   },
   "source": [
    "## Fit mixture model using SQP algorithm \n",
    "\n",
    "As before, let's run the mix-SQP solver with the SVD and QR approximations, and with no approximation."
   ]
  },
  {
   "cell_type": "code",
   "execution_count": 10,
   "metadata": {},
   "outputs": [
    {
     "name": "stdout",
     "output_type": "stream",
     "text": [
      "  9.602211 seconds (485.50 k allocations: 6.457 GiB, 9.72% gc time)\n",
      "  8.688203 seconds (112.77 k allocations: 6.322 GiB, 8.06% gc time)\n",
      " 39.652424 seconds (40.08 k allocations: 34.259 GiB, 9.46% gc time)\n"
     ]
    }
   ],
   "source": [
    "@time outSVD = mixSQP(L,lowrank = \"svd\",pqrtol = 1e-10,verbose = false);\n",
    "@time outQR  = mixSQP(L,lowrank = \"qr\",pqrtol = 1e-10,verbose = false);\n",
    "@time out    = mixSQP(L,lowrank = \"none\",verbose = false);"
   ]
  },
  {
   "cell_type": "markdown",
   "metadata": {},
   "source": [
    "In the larger data set, the QR and SVD approximations yield much larger improvements in computation time, which is not surprising because the matrix-vector operations (particularly in computing the gradient and Hessian) dominate the computational cost.\n",
    "\n",
    "As before, the solutions using the low-rank approximations are still close to the solution that is obtained without any approximation:"
   ]
  },
  {
   "cell_type": "code",
   "execution_count": 11,
   "metadata": {},
   "outputs": [
    {
     "data": {
      "text/plain": [
       "(9.953510016202927e-9, 5.820766091346741e-9)"
      ]
     },
     "execution_count": 11,
     "metadata": {},
     "output_type": "execute_result"
    }
   ],
   "source": [
    "mixobjective(L,outSVD[\"x\"]) - mixobjective(L,out[\"x\"]), \n",
    "mixobjective(L,outQR[\"x\"]) - mixobjective(L,out[\"x\"])"
   ]
  },
  {
   "cell_type": "markdown",
   "metadata": {},
   "source": [
    "## Session information\n",
    "\n",
    "The section gives information about the computing environment used to generate the results contained in this\n",
    "notebook, including the version of Julia, and the versions of the Julia packages used here."
   ]
  },
  {
   "cell_type": "code",
   "execution_count": 12,
   "metadata": {},
   "outputs": [
    {
     "name": "stdout",
     "output_type": "stream",
     "text": [
      "\u001b[32m\u001b[1m    Status\u001b[22m\u001b[39m `~/.julia/environments/v1.1/Project.toml`\n",
      " \u001b[90m [31c24e10]\u001b[39m\u001b[37m Distributions v0.21.1\u001b[39m\n",
      "\u001b[32m\u001b[1m    Status\u001b[22m\u001b[39m `~/.julia/environments/v1.1/Project.toml`\n",
      " \u001b[90m [898213cb]\u001b[39m\u001b[37m LowRankApprox v0.2.3\u001b[39m\n",
      "Julia Version 1.1.1\n",
      "Commit 55e36cc (2019-05-16 04:10 UTC)\n",
      "Platform Info:\n",
      "  OS: macOS (x86_64-apple-darwin15.6.0)\n",
      "  CPU: Intel(R) Core(TM) i7-7567U CPU @ 3.50GHz\n",
      "  WORD_SIZE: 64\n",
      "  LIBM: libopenlibm\n",
      "  LLVM: libLLVM-6.0.1 (ORCJIT, skylake)\n"
     ]
    }
   ],
   "source": [
    "Pkg.status(\"Distributions\");\n",
    "Pkg.status(\"LowRankApprox\");\n",
    "versioninfo()"
   ]
  }
 ],
 "metadata": {
  "kernelspec": {
   "display_name": "Julia 1.1.1",
   "language": "julia",
   "name": "julia-1.1"
  },
  "language_info": {
   "file_extension": ".jl",
   "mimetype": "application/julia",
   "name": "julia",
   "version": "1.1.1"
  }
 },
 "nbformat": 4,
 "nbformat_minor": 2
}
