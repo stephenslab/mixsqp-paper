{
 "cells": [
  {
   "cell_type": "code",
   "execution_count": 8,
   "metadata": {},
   "outputs": [],
   "source": [
    "using CSV\n",
    "using LowRankApprox"
   ]
  },
  {
   "cell_type": "code",
   "execution_count": 2,
   "metadata": {
    "collapsed": true
   },
   "outputs": [],
   "source": [
    "include(\"../code/julia/mixSQP_time.jl\")\n",
    "# pqrtol    : relative tolerance for randomized low-rank approximation\n",
    "# lowrank : low-rank approximation method, perform randomized svd if \"svd\", randomized RRQR if \"qr\",\n",
    "#           and do nothing otherwise\n",
    "\n",
    "# example\n",
    "data = Array{Float64,2}(CSV.read(\"../data/sample5000x20.txt\", nullable = false, header = false, delim = ' '));\n",
    "x_svd = mixSQP_time(data, pqrtol = 1e-8, lowrank = \"svd\")[1];\n",
    "x_qr = mixSQP_time(data,  pqrtol = 1e-8, lowrank = \"qr\")[1];\n",
    "x_nothing = mixSQP_time(data,  pqrtol = 1e-8, lowrank = \"nothing\")[1];"
   ]
  },
  {
   "cell_type": "code",
   "execution_count": 3,
   "metadata": {},
   "outputs": [
    {
     "name": "stdout",
     "output_type": "stream",
     "text": [
      "  0.014314 seconds (4.56 k allocations: 13.721 MiB, 28.68% gc time)\n",
      "  0.015855 seconds (5.08 k allocations: 13.127 MiB, 40.51% gc time)\n",
      "  0.016785 seconds (4.31 k allocations: 23.009 MiB, 29.73% gc time)\n"
     ]
    },
    {
     "data": {
      "text/plain": [
       "2×2 Array{Any,2}:\n",
       "  \"rel_err btw x_svd,x\"   \"rel_error btw x_qr,x\"\n",
       " 4.44089e-16             4.44089e-16            "
      ]
     },
     "execution_count": 3,
     "metadata": {},
     "output_type": "execute_result"
    }
   ],
   "source": [
    "srand(1)\n",
    "@time mixSQP_time(data, lowrank = \"svd\")[1];\n",
    "@time mixSQP_time(data, lowrank = \"qr\")[1];\n",
    "@time mixSQP_time(data, lowrank = \"nothing\")[1];\n",
    "[\"rel_err btw x_svd,x\" \"rel_error btw x_qr,x\"; rel_error(data,x_svd,x_nothing) rel_error(data,x_qr,x_nothing)]"
   ]
  },
  {
   "cell_type": "code",
   "execution_count": 4,
   "metadata": {
    "collapsed": true
   },
   "outputs": [],
   "source": [
    "data = Array{Float64,2}(CSV.read(\"../data/sample100000x100.txt\", nullable = false, header = false, delim = ' '));"
   ]
  },
  {
   "cell_type": "code",
   "execution_count": 5,
   "metadata": {},
   "outputs": [
    {
     "name": "stdout",
     "output_type": "stream",
     "text": [
      "  0.396186 seconds (56.12 k allocations: 324.077 MiB, 8.41% gc time)\n",
      "  0.281044 seconds (8.66 k allocations: 321.349 MiB, 9.47% gc time)\n",
      "  2.880684 seconds (6.51 k allocations: 2.412 GiB, 45.00% gc time)\n"
     ]
    },
    {
     "data": {
      "text/plain": [
       "2×2 Array{Any,2}:\n",
       "  \"rel_err btw x_svd,x\"   \"rel_error btw x_qr,x\"\n",
       " 0.0                     0.0                    "
      ]
     },
     "execution_count": 5,
     "metadata": {},
     "output_type": "execute_result"
    }
   ],
   "source": [
    "srand(1)\n",
    "@time x_svd = mixSQP_time(data, lowrank = \"svd\")[1];\n",
    "@time x_qr = mixSQP_time(data, lowrank = \"qr\")[1];\n",
    "@time x_nothing = mixSQP_time(data, lowrank = \"nothing\")[1];\n",
    "[\"rel_err btw x_svd,x\" \"rel_error btw x_qr,x\"; rel_error(data,x_svd,x_nothing) rel_error(data,x_qr,x_nothing)]"
   ]
  },
  {
   "cell_type": "markdown",
   "metadata": {},
   "source": [
    "## Session information\n",
    "\n",
    "The section gives information about the computing environment used to generate the results contained in this\n",
    "manuscript, including the version of Julia, Python and the Julia packages. "
   ]
  },
  {
   "cell_type": "code",
   "execution_count": 6,
   "metadata": {},
   "outputs": [
    {
     "name": "stdout",
     "output_type": "stream",
     "text": [
      " - LowRankApprox                 0.1.0\n",
      " - CSV                           0.1.5\n"
     ]
    }
   ],
   "source": [
    "Pkg.status(\"LowRankApprox\")\n",
    "Pkg.status(\"CSV\")"
   ]
  },
  {
   "cell_type": "code",
   "execution_count": 7,
   "metadata": {},
   "outputs": [
    {
     "name": "stdout",
     "output_type": "stream",
     "text": [
      "Julia Version 0.6.2\n",
      "Commit d386e40c17 (2017-12-13 18:08 UTC)\n",
      "Platform Info:\n",
      "  OS: macOS (x86_64-apple-darwin14.5.0)\n",
      "  CPU: Intel(R) Core(TM) i7-7567U CPU @ 3.50GHz\n",
      "  WORD_SIZE: 64\n",
      "  BLAS: libopenblas (USE64BITINT DYNAMIC_ARCH NO_AFFINITY Prescott)\n",
      "  LAPACK: libopenblas64_\n",
      "  LIBM: libopenlibm\n",
      "  LLVM: libLLVM-3.9.1 (ORCJIT, broadwell)\n"
     ]
    }
   ],
   "source": [
    "versioninfo()"
   ]
  }
 ],
 "metadata": {
  "kernelspec": {
   "display_name": "Julia 0.6.2",
   "language": "julia",
   "name": "julia-0.6"
  },
  "language_info": {
   "file_extension": ".jl",
   "mimetype": "application/julia",
   "name": "julia",
   "version": "0.6.2"
  }
 },
 "nbformat": 4,
 "nbformat_minor": 2
}
