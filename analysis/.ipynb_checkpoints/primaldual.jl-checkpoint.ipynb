{
 "cells": [
  {
   "cell_type": "code",
   "execution_count": 3,
   "metadata": {},
   "outputs": [
    {
     "name": "stderr",
     "output_type": "stream",
     "text": [
      "WARNING: Method definition ==(Base.Nullable{S}, Base.Nullable{T}) in module Base at nullable.jl:238 overwritten in module NullableArrays at /Users/yosikim/.julia/v0.6/NullableArrays/src/operators.jl:99.\n",
      "WARNING: Method definition promote_rule(Type{T}, Type{Any}) in module Missings at /Users/yosikim/.julia/v0.6/Missings/src/Missings.jl:52 overwritten in module Nulls at /Users/yosikim/.julia/v0.6/Nulls/src/Nulls.jl:29.\n"
     ]
    }
   ],
   "source": [
    "using RCall\n",
    "using Mosek\n",
    "using JuMP\n",
    "using CSV"
   ]
  },
  {
   "cell_type": "code",
   "execution_count": 4,
   "metadata": {},
   "outputs": [],
   "source": [
    "L = Array{Float64,2}(CSV.read(\"../data/sample5000x20.txt\", nullable = false, header = false, delim = ' '));"
   ]
  },
  {
   "cell_type": "code",
   "execution_count": 20,
   "metadata": {},
   "outputs": [
    {
     "data": {
      "text/plain": [
       "vanilla_primal (generic function with 1 method)"
      ]
     },
     "execution_count": 20,
     "metadata": {},
     "output_type": "execute_result"
    }
   ],
   "source": [
    "# vanilla interior point method for the primal\n",
    "function vanilla_primal(L)\n",
    "    n,m = size(L);\n",
    "    mod = Model(solver=MosekSolver(QUIET = true));\n",
    "    @variable(mod, x[1:m] >= 0, start = 1/m);\n",
    "    @NLobjective(mod, Min, -sum(log(sum(L[i,j]*x[j] for j = 1:m)) for i = 1:n)/n);\n",
    "    @constraint(mod, sum(x) == 1)\n",
    "    solve(mod);\n",
    "    x = getvalue(x);\n",
    "    x[x.< 1e-3] = 0;\n",
    "    return sparse(x/sum(x))\n",
    "end"
   ]
  },
  {
   "cell_type": "code",
   "execution_count": 27,
   "metadata": {},
   "outputs": [
    {
     "data": {
      "text/plain": [
       "vanilla_boxed (generic function with 1 method)"
      ]
     },
     "execution_count": 27,
     "metadata": {},
     "output_type": "execute_result"
    }
   ],
   "source": [
    "# vanilla interior point method for the primal\n",
    "function vanilla_boxed(L)\n",
    "    n,m = size(L);\n",
    "    mod = Model(solver=MosekSolver(QUIET = true));\n",
    "    @variable(mod, x[1:m] >= 0, start = 1/m);\n",
    "    @NLobjective(mod, Min, -sum(log(sum(L[i,j]*x[j] for j = 1:m)) for i = 1:n)/n + sum(x[i] for i = 1:m));\n",
    "    solve(mod);\n",
    "    x = getvalue(x);\n",
    "    x[x.< 1e-3] = 0;\n",
    "    return sparse(x/sum(x))\n",
    "end"
   ]
  },
  {
   "cell_type": "code",
   "execution_count": 17,
   "metadata": {},
   "outputs": [
    {
     "data": {
      "text/plain": [
       "vanilla_dual (generic function with 1 method)"
      ]
     },
     "execution_count": 17,
     "metadata": {},
     "output_type": "execute_result"
    }
   ],
   "source": [
    "# vanilla interior point method for the primal\n",
    "function vanilla_dual(L)\n",
    "    n,m = size(L);\n",
    "    mod = Model(solver=MosekSolver(QUIET = true));\n",
    "    @variable(mod, y[1:n] >= 0, start = 1/n);\n",
    "    @NLobjective(mod, Min, -sum(log(y[i]) for i = 1:n)/n);\n",
    "    @constraint(mod, ic, L'*y .<= 1)\n",
    "    solve(mod);\n",
    "    x = -getdual(ic);\n",
    "    x[x.< 1e-3] = 0;\n",
    "    return sparse(x/sum(x))\n",
    "end"
   ]
  },
  {
   "cell_type": "code",
   "execution_count": 14,
   "metadata": {},
   "outputs": [
    {
     "data": {
      "text/plain": [
       "REBayes (generic function with 1 method)"
      ]
     },
     "execution_count": 14,
     "metadata": {},
     "output_type": "execute_result"
    }
   ],
   "source": [
    "function REBayes(L)\n",
    "    @rput L;\n",
    "    R\"require(REBayes);\n",
    "    t_rebayes = system.time(res <- KWDual(L, rep(1,dim(L)[2]), rep(1,dim(L)[1])/dim(L)[1]))[3];\n",
    "    res$f[res$f < 1e-4] = 0\n",
    "    x_rebayes = res$f / sum(res$f)\"\n",
    "    @rget x_rebayes;\n",
    "    return sparse(x_rebayes)\n",
    "end"
   ]
  },
  {
   "cell_type": "code",
   "execution_count": 23,
   "metadata": {},
   "outputs": [
    {
     "name": "stdout",
     "output_type": "stream",
     "text": [
      "  0.297113 seconds (437.38 k allocations: 53.632 MiB, 41.91% gc time)\n"
     ]
    },
    {
     "data": {
      "text/plain": [
       "20-element SparseVector{Float64,Int64} with 3 stored entries:\n",
       "  [1 ]  =  0.469905\n",
       "  [13]  =  0.305865\n",
       "  [14]  =  0.22423"
      ]
     },
     "execution_count": 23,
     "metadata": {},
     "output_type": "execute_result"
    }
   ],
   "source": [
    "@time vanilla_dual(L)"
   ]
  },
  {
   "cell_type": "code",
   "execution_count": 29,
   "metadata": {},
   "outputs": [
    {
     "name": "stdout",
     "output_type": "stream",
     "text": [
      "  0.860932 seconds (1.02 M allocations: 133.443 MiB, 27.82% gc time)\n"
     ]
    },
    {
     "data": {
      "text/plain": [
       "20-element SparseVector{Float64,Int64} with 3 stored entries:\n",
       "  [1 ]  =  0.469903\n",
       "  [13]  =  0.305866\n",
       "  [14]  =  0.224231"
      ]
     },
     "execution_count": 29,
     "metadata": {},
     "output_type": "execute_result"
    }
   ],
   "source": [
    "@time vanilla_primal(L)"
   ]
  },
  {
   "cell_type": "code",
   "execution_count": 31,
   "metadata": {},
   "outputs": [
    {
     "name": "stdout",
     "output_type": "stream",
     "text": [
      "  0.818472 seconds (1.02 M allocations: 133.433 MiB, 15.06% gc time)\n"
     ]
    },
    {
     "data": {
      "text/plain": [
       "20-element SparseVector{Float64,Int64} with 3 stored entries:\n",
       "  [1 ]  =  0.469901\n",
       "  [13]  =  0.305867\n",
       "  [14]  =  0.224232"
      ]
     },
     "execution_count": 31,
     "metadata": {},
     "output_type": "execute_result"
    }
   ],
   "source": [
    "@time vanilla_boxed(L)"
   ]
  },
  {
   "cell_type": "code",
   "execution_count": 24,
   "metadata": {},
   "outputs": [
    {
     "name": "stdout",
     "output_type": "stream",
     "text": [
      "  0.195636 seconds (170 allocations: 6.984 KiB)\n"
     ]
    },
    {
     "data": {
      "text/plain": [
       "20-element SparseVector{Float64,Int64} with 3 stored entries:\n",
       "  [1 ]  =  0.469905\n",
       "  [13]  =  0.305865\n",
       "  [14]  =  0.22423"
      ]
     },
     "execution_count": 24,
     "metadata": {},
     "output_type": "execute_result"
    }
   ],
   "source": [
    "@time REBayes(L)"
   ]
  },
  {
   "cell_type": "code",
   "execution_count": 16,
   "metadata": {},
   "outputs": [],
   "source": [
    "# L = Array{Float64,2}(CSV.read(\"../data/sample100000x100.txt\", nullable = false, header = false, delim = ' '));\n",
    "# warning : the following code might be extremely slow (with this large L)\n",
    "# @time vanilla_primal(L)\n",
    "# @time vanilla_dual(L)"
   ]
  }
 ],
 "metadata": {
  "kernelspec": {
   "display_name": "Julia 0.6.2",
   "language": "julia",
   "name": "julia-0.6"
  },
  "language_info": {
   "file_extension": ".jl",
   "mimetype": "application/julia",
   "name": "julia",
   "version": "0.6.2"
  }
 },
 "nbformat": 4,
 "nbformat_minor": 2
}
