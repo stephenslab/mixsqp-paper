{
 "cells": [
  {
   "cell_type": "code",
   "execution_count": 5,
   "metadata": {},
   "outputs": [],
   "source": [
    "using RCall\n",
    "using LowRankApprox"
   ]
  },
  {
   "cell_type": "code",
   "execution_count": 2,
   "metadata": {},
   "outputs": [
    {
     "data": {
      "text/plain": [
       "genL (generic function with 1 method)"
      ]
     },
     "execution_count": 2,
     "metadata": {},
     "output_type": "execute_result"
    }
   ],
   "source": [
    "include(\"../code/julia/mixSQP_time.jl\")\n",
    "include(\"../code/julia/REBayes.jl\")\n",
    "include(\"../code/julia/genL.jl\")"
   ]
  },
  {
   "cell_type": "code",
   "execution_count": 56,
   "metadata": {},
   "outputs": [],
   "source": [
    "srand(1)\n",
    "Z = randn(10,10^6) .* [1;1;1;1;1;5;5;10;10;20];\n",
    "z = Z[:]; s = ones(5*10^6);\n",
    "\n",
    "# example\n",
    "L = genL(z[1:10^3],s[1:10^3], mult = 2.0);\n",
    "[mixSQP_time(L)[4] REBayes(L)[2]];"
   ]
  },
  {
   "cell_type": "code",
   "execution_count": 60,
   "metadata": {},
   "outputs": [
    {
     "name": "stdout",
     "output_type": "stream",
     "text": [
      "(32768, 13)\n"
     ]
    },
    {
     "data": {
      "text/plain": [
       "1×2 Array{Float64,2}:\n",
       " 0.0774826  0.734"
      ]
     },
     "execution_count": 60,
     "metadata": {},
     "output_type": "execute_result"
    }
   ],
   "source": [
    "L = genL(z[1:2^15],s[1:2^15], mult = 2.0);\n",
    "println(size(L))\n",
    "[mixSQP_time(L)[4] REBayes(L)[2]]"
   ]
  },
  {
   "cell_type": "code",
   "execution_count": 63,
   "metadata": {},
   "outputs": [
    {
     "name": "stdout",
     "output_type": "stream",
     "text": [
      "(65536, 24)\n"
     ]
    },
    {
     "data": {
      "text/plain": [
       "1×2 Array{Float64,2}:\n",
       " 0.213459  1.776"
      ]
     },
     "execution_count": 63,
     "metadata": {},
     "output_type": "execute_result"
    }
   ],
   "source": [
    "L = genL(z[1:2^16],s[1:2^16], mult = 1.4);\n",
    "println(size(L))\n",
    "[mixSQP_time(L)[4] REBayes(L)[2]]"
   ]
  },
  {
   "cell_type": "code",
   "execution_count": 41,
   "metadata": {},
   "outputs": [
    {
     "data": {
      "text/plain": [
       "1×2 Array{Float64,2}:\n",
       " 5.36741  97.762"
      ]
     },
     "execution_count": 41,
     "metadata": {},
     "output_type": "execute_result"
    }
   ],
   "source": [
    "L = genL(z[1:2^20],s[1:2^20], mult = 1.2);\n",
    "[mixSQP_time(L)[4] REBayes(L)[2]]"
   ]
  },
  {
   "cell_type": "code",
   "execution_count": 42,
   "metadata": {},
   "outputs": [
    {
     "data": {
      "text/plain": [
       "(1048576, 37)"
      ]
     },
     "execution_count": 42,
     "metadata": {},
     "output_type": "execute_result"
    }
   ],
   "source": [
    "size(L)"
   ]
  },
  {
   "cell_type": "code",
   "execution_count": 31,
   "metadata": {},
   "outputs": [
    {
     "name": "stdout",
     "output_type": "stream",
     "text": [
      "0.031823455\n",
      "0.071620288\n",
      "0.305306732\n",
      "1.028306702\n",
      "5.147090416\n"
     ]
    }
   ],
   "source": [
    "t = zeros(5);\n",
    "for i = 1:5\n",
    "    n = 2^(10+2*i);\n",
    "    L = genL(z[1:n],s[1:n], mult = 1.064)[:,1:100];\n",
    "    tic();\n",
    "    t[i] = mixSQP_time(L)[4];\n",
    "    toc();\n",
    "    println(t[i])\n",
    "end"
   ]
  },
  {
   "cell_type": "code",
   "execution_count": 32,
   "metadata": {},
   "outputs": [
    {
     "name": "stdout",
     "output_type": "stream",
     "text": [
      "0.063881406\n",
      "0.17926826\n",
      "0.361126117\n",
      "1.184849378\n",
      "5.2783076950000005\n"
     ]
    }
   ],
   "source": [
    "t = zeros(5);\n",
    "for i = 1:5\n",
    "    n = 2^(10+2*i);\n",
    "    L = genL(z[1:n],s[1:n], mult = 1.031)[:,1:200];\n",
    "    t[i] = mixSQP_time(L)[4];\n",
    "    println(t[i])\n",
    "end"
   ]
  }
 ],
 "metadata": {
  "kernelspec": {
   "display_name": "Julia 0.6.2",
   "language": "julia",
   "name": "julia-0.6"
  },
  "language_info": {
   "file_extension": ".jl",
   "mimetype": "application/julia",
   "name": "julia",
   "version": "0.6.2"
  }
 },
 "nbformat": 4,
 "nbformat_minor": 2
}
