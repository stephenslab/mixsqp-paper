{
 "cells": [
  {
   "cell_type": "code",
   "execution_count": 7,
   "metadata": {},
   "outputs": [
    {
     "data": {
      "text/plain": [
       "(1000, 10)"
      ]
     },
     "execution_count": 7,
     "metadata": {},
     "output_type": "execute_result"
    }
   ],
   "source": [
    "using Distributions\n",
    "using LowRankApprox\n",
    "include(\"../code/julia/datasim.jl\");\n",
    "include(\"../code/julia/likelihood.jl\");\n",
    "include(\"../code/julia/mixSQP.jl\");\n",
    "x = normtmixdatasim(round(Int,1e3));\n",
    "sd = autoselectmixsd(x,nv = 10);\n",
    "L  = normlikmatrix(x,sd = sd);\n",
    "size(L)"
   ]
  },
  {
   "cell_type": "code",
   "execution_count": 8,
   "metadata": {},
   "outputs": [
    {
     "data": {
      "text/plain": [
       "10-element Array{Float64,1}:\n",
       " 0.881998  \n",
       " 0.0       \n",
       " 0.0       \n",
       " 0.0       \n",
       " 0.0       \n",
       " 0.0796636 \n",
       " 0.033278  \n",
       " 0.00506001\n",
       " 0.0       \n",
       " 0.0       "
      ]
     },
     "execution_count": 8,
     "metadata": {},
     "output_type": "execute_result"
    }
   ],
   "source": [
    "out = mixSQP(L,verbose = false)[\"x\"]"
   ]
  },
  {
   "cell_type": "code",
   "execution_count": 22,
   "metadata": {},
   "outputs": [],
   "source": [
    "using CSV\n",
    "CSV.write(\"sample1000x10.txt\", DataFrame(L), delim = ' ',  header = false);"
   ]
  }
 ],
 "metadata": {
  "kernelspec": {
   "display_name": "Julia 0.6.2",
   "language": "julia",
   "name": "julia-0.6"
  },
  "language_info": {
   "file_extension": ".jl",
   "mimetype": "application/julia",
   "name": "julia",
   "version": "0.6.2"
  }
 },
 "nbformat": 4,
 "nbformat_minor": 2
}
