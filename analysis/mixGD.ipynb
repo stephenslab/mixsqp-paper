{
 "cells": [
  {
   "cell_type": "code",
   "execution_count": 1,
   "metadata": {},
   "outputs": [],
   "source": [
    "# Short script to test the projected gradient method against other\n",
    "# algorithms.\n",
    "using Distributions\n",
    "using LowRankApprox\n",
    "include(\"../code/datasim.jl\");\n",
    "include(\"../code/likelihood.jl\");\n",
    "include(\"../code/mixEM.jl\");\n",
    "include(\"../code/mixGD.jl\");\n",
    "include(\"../code/mixSQP.jl\");\n",
    "\n",
    "# Initialize the sequence of pseudorandom numbers.\n",
    "srand(1);\n",
    "\n",
    "# Generate a data set with n = 50,000.\n",
    "z = normtmixdatasim(round(Int,1000));\n",
    "\n",
    "# Compute the 50,000 x 20 likelihood matrix.\n",
    "sd = autoselectmixsd(z,nv = 10000);\n",
    "L  = normlikmatrix(z,sd = sd);"
   ]
  },
  {
   "cell_type": "code",
   "execution_count": 28,
   "metadata": {},
   "outputs": [],
   "source": [
    "# Initialize the sequence of pseudorandom numbers.\n",
    "srand(1);\n",
    "\n",
    "# Generate a data set with n = 50,000.\n",
    "z = normtmixdatasim(round(Int,2000));\n",
    "\n",
    "# Compute the 50,000 x 20 likelihood matrix.\n",
    "sd = autoselectmixsd(z,nv = 1000);\n",
    "L  = normlikmatrix(z,sd = sd);"
   ]
  },
  {
   "cell_type": "code",
   "execution_count": 26,
   "metadata": {},
   "outputs": [],
   "source": [
    "# Initialize the sequence of pseudorandom numbers.\n",
    "srand(1);\n",
    "\n",
    "# Generate a data set with n = 50,000.\n",
    "z = normtmixdatasim(round(Int,50000));\n",
    "\n",
    "# Compute the 50,000 x 20 likelihood matrix.\n",
    "sd = autoselectmixsd(z,nv = 100);\n",
    "L  = normlikmatrix(z,sd = sd);"
   ]
  },
  {
   "cell_type": "code",
   "execution_count": 29,
   "metadata": {},
   "outputs": [
    {
     "name": "stdout",
     "output_type": "stream",
     "text": [
      "  3.189305 seconds (80.28 k allocations: 1.997 GiB, 59.48% gc time)\n",
      "  1.828580 seconds (263.22 k allocations: 1005.268 MiB, 9.66% gc time)\n",
      "  0.216901 seconds (10.26 k allocations: 230.245 MiB, 12.04% gc time)\n",
      "  5.916267 seconds (575.72 k allocations: 498.929 MiB, 0.95% gc time)\n",
      "Objective at SQP  solution: 4.083035719882e+02\n",
      "Objective at SQP2 solution: 4.083035720771e+02\n",
      "Objective at EM   solution:  4.310728523556e+02\n",
      "Objective at PGD  solution: 4.090889249050e+02\n"
     ]
    }
   ],
   "source": [
    "# Run the mix-SQP algorithm.\n",
    "@time outsqp = mixSQP(L,lowrank = \"none\", eps = 1e-8, maxqpiter = 300, verbose = false);\n",
    "@time outsqp2 = mixSQP(L,lowrank = \"qr\", eps = 1e-8, maxqpiter = 300, verbose = false);\n",
    "\n",
    "# Run the EM algorithm.\n",
    "@time xem, fem = mixEM(L,maxiter = 1000,tol = 1e-4);\n",
    "\n",
    "# Run the projected gradient descent method.\n",
    "@time xpgd, fpgd = mixGD(L,maxiter = 2000, alpha = 1);\n",
    "\n",
    "# Compare the quality of the solutions.\n",
    "@printf \"Objective at SQP  solution: %0.12e\\n\" mixobjective(L,outsqp[\"x\"])\n",
    "@printf \"Objective at SQP2 solution: %0.12e\\n\" mixobjective(L,outsqp2[\"x\"])\n",
    "@printf \"Objective at EM   solution:  %0.12e\\n\" mixobjective(L,xem)\n",
    "@printf \"Objective at PGD  solution: %0.12e\\n\" mixobjective(L,xpgd)"
   ]
  }
 ],
 "metadata": {
  "kernelspec": {
   "display_name": "Julia 0.6.2",
   "language": "julia",
   "name": "julia-0.6"
  },
  "language_info": {
   "file_extension": ".jl",
   "mimetype": "application/julia",
   "name": "julia",
   "version": "0.6.2"
  }
 },
 "nbformat": 4,
 "nbformat_minor": 2
}
