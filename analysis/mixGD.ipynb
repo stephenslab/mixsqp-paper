{
 "cells": [
  {
   "cell_type": "code",
   "execution_count": 101,
   "metadata": {},
   "outputs": [],
   "source": [
    "# Short script to test the projected gradient method against other\n",
    "# algorithms.\n",
    "using Distributions\n",
    "using LowRankApprox\n",
    "include(\"../code/datasim.jl\");\n",
    "include(\"../code/likelihood.jl\");\n",
    "include(\"../code/mixEM.jl\");\n",
    "include(\"../code/mixGD.jl\");\n",
    "include(\"../code/mixSQP.jl\");\n",
    "\n",
    "# Initialize the sequence of pseudorandom numbers.\n",
    "srand(1);\n",
    "\n",
    "# Generate a data set with n = 50,000.\n",
    "z = normtmixdatasim(round(Int,5e4));\n",
    "\n",
    "# Compute the 50,000 x 20 likelihood matrix.\n",
    "sd = autoselectmixsd(z,nv = 20);\n",
    "L  = normlikmatrix(z,sd = sd);"
   ]
  },
  {
   "cell_type": "code",
   "execution_count": 41,
   "metadata": {},
   "outputs": [
    {
     "name": "stdout",
     "output_type": "stream",
     "text": [
      "Running SQP algorithm with the following settings:\n",
      "- 50000 x 20 data matrix\n",
      "- convergence tolerance = 1.00e-08\n",
      "- zero threshold        = 1.00e-03\n",
      "- Exact derivative computation (partial QR not used).\n",
      "iter      objective -min(g+1)  #nz #qp #ls\n",
      "   1 3.03732706e+04 +6.34e-01   20\n",
      "   2 2.09278021e+04 +1.08e+03    2  23   1\n",
      "   3 1.26825370e+04 +3.75e+02    3  56   1\n",
      "   4 1.09355456e+04 +1.64e+02    4  35   1\n",
      "   5 1.06323389e+04 +7.67e+01    3  22   1\n",
      "   6 1.04676193e+04 +3.82e+01    3  10   1\n",
      "   7 1.02719880e+04 +1.84e+01    2  10   1\n",
      "   8 1.01158269e+04 +9.25e+00    3  15   1\n",
      "   9 1.00277283e+04 +4.54e+00    3   6   1\n",
      "  10 9.88864226e+03 +2.14e+00    3  19   1\n",
      "  11 9.80898079e+03 +9.88e-01    3   6   1\n",
      "  12 9.76397182e+03 +4.12e-01    3   8   1\n",
      "  13 9.73367942e+03 +1.49e-01    5  11   1\n",
      "  14 9.72163433e+03 +4.09e-02    5   7   1\n",
      "  15 9.71737627e+03 +3.65e-03    5   7   1\n",
      "  16 9.71685452e+03 -3.17e-07    5   7   1\n",
      "Optimization took 16 iterations and 0.6622 seconds.\n",
      "Objective at SQP solution: 9.737723477219e+03\n",
      "Objective at PGD solution: 9.837741530385e+03\n",
      "Objective at EM solution:  9.745765114070e+03\n"
     ]
    }
   ],
   "source": [
    "# Run the mix-SQP algorithm.\n",
    "outsqp = mixSQP(L,lowrank = \"none\");\n",
    "\n",
    "# Run the EM algorithm.\n",
    "xem, fem = mixEM(L,maxiter = 1000,tol = 1e-4);\n",
    "\n",
    "# Run the projected gradient descent method.\n",
    "xpgd, fpgd = mixGD(L,maxiter = 1000, alpha = 0.001);\n",
    "\n",
    "# Compare the quality of the solutions.\n",
    "@printf \"Objective at SQP solution: %0.12e\\n\" mixobjective(L,outsqp[\"x\"])\n",
    "@printf \"Objective at PGD solution: %0.12e\\n\" mixobjective(L,xpgd)\n",
    "@printf \"Objective at EM solution:  %0.12e\\n\" mixobjective(L,xem)"
   ]
  },
  {
   "cell_type": "code",
   "execution_count": 102,
   "metadata": {},
   "outputs": [],
   "source": [
    "xpgd, fpgd, a, b = mixGD(L,maxiter = 1000, alpha = 0.1, eps = 1e-4);"
   ]
  },
  {
   "cell_type": "code",
   "execution_count": 103,
   "metadata": {},
   "outputs": [
    {
     "data": {
      "text/plain": [
       "1000-element Array{Float64,1}:\n",
       " 30364.1 \n",
       " 14940.5 \n",
       " 10673.5 \n",
       " 10203.5 \n",
       " 10201.8 \n",
       " 10047.8 \n",
       " 10046.7 \n",
       " 10045.3 \n",
       "  9983.49\n",
       "  9976.52\n",
       "  9972.79\n",
       "  9969.68\n",
       "  9939.09\n",
       "     ⋮   \n",
       "  9759.27\n",
       "  9759.26\n",
       "  9759.25\n",
       "  9759.25\n",
       "  9759.24\n",
       "  9759.24\n",
       "  9759.23\n",
       "  9759.22\n",
       "  9759.22\n",
       "  9759.21\n",
       "  9759.21\n",
       "  9759.2 "
      ]
     },
     "execution_count": 103,
     "metadata": {},
     "output_type": "execute_result"
    }
   ],
   "source": [
    "fpgd"
   ]
  },
  {
   "cell_type": "code",
   "execution_count": 104,
   "metadata": {},
   "outputs": [
    {
     "data": {
      "text/plain": [
       "1000-element Array{Float64,1}:\n",
       " 0.0\n",
       " 0.0\n",
       " 0.0\n",
       " 6.0\n",
       " 0.0\n",
       " 9.0\n",
       " 6.0\n",
       " 0.0\n",
       " 9.0\n",
       " 7.0\n",
       " 5.0\n",
       " 0.0\n",
       " 3.0\n",
       " ⋮  \n",
       " 4.0\n",
       " 7.0\n",
       " 5.0\n",
       " 6.0\n",
       " 6.0\n",
       " 4.0\n",
       " 7.0\n",
       " 5.0\n",
       " 6.0\n",
       " 6.0\n",
       " 4.0\n",
       " 7.0"
      ]
     },
     "execution_count": 104,
     "metadata": {},
     "output_type": "execute_result"
    }
   ],
   "source": [
    "b"
   ]
  }
 ],
 "metadata": {
  "kernelspec": {
   "display_name": "Julia 0.6.2",
   "language": "julia",
   "name": "julia-0.6"
  },
  "language_info": {
   "file_extension": ".jl",
   "mimetype": "application/julia",
   "name": "julia",
   "version": "0.6.2"
  }
 },
 "nbformat": 4,
 "nbformat_minor": 2
}
