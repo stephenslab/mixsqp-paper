{
 "cells": [
  {
   "cell_type": "code",
   "execution_count": 4,
   "metadata": {},
   "outputs": [],
   "source": [
    "# Short script to test the projected gradient method against other\n",
    "# algorithms.\n",
    "using Distributions\n",
    "using LowRankApprox\n",
    "include(\"../code/datasim.jl\");\n",
    "include(\"../code/likelihood.jl\");\n",
    "include(\"../code/mixEM.jl\");\n",
    "include(\"../code/mixGD.jl\");\n",
    "include(\"../code/mixSQP.jl\");\n",
    "\n",
    "# Initialize the sequence of pseudorandom numbers.\n",
    "srand(1);\n",
    "\n",
    "# Generate a data set with n = 50,000.\n",
    "z = normtmixdatasim(round(Int,1000));\n",
    "\n",
    "# Compute the 50,000 x 20 likelihood matrix.\n",
    "sd = autoselectmixsd(z,nv = 1000);\n",
    "L  = normlikmatrix(z,sd = sd);"
   ]
  },
  {
   "cell_type": "code",
   "execution_count": 11,
   "metadata": {},
   "outputs": [],
   "source": [
    "# Initialize the sequence of pseudorandom numbers.\n",
    "srand(2018);\n",
    "\n",
    "# Generate a data set with n = 50,000.\n",
    "z = normtmixdatasim(round(Int,1000));\n",
    "\n",
    "# Compute the 50,000 x 20 likelihood matrix.\n",
    "sd = autoselectmixsd(z,nv = 1000);\n",
    "L  = normlikmatrix(z,sd = sd);"
   ]
  },
  {
   "cell_type": "code",
   "execution_count": 12,
   "metadata": {},
   "outputs": [
    {
     "name": "stdout",
     "output_type": "stream",
     "text": [
      "  2.077090 seconds (46.86 k allocations: 1.375 GiB, 60.50% gc time)\n",
      "  1.728100 seconds (242.56 k allocations: 967.896 MiB, 9.19% gc time)\n",
      "  4.002609 seconds (407.77 k allocations: 4.490 GiB, 13.05% gc time)\n",
      "  6.584784 seconds (1.60 M allocations: 1.090 GiB, 1.71% gc time)\n",
      "Objective at SQP  solution: 1.984644174655e+02\n",
      "Objective at SQP2 solution: 1.984644174655e+02\n",
      "Objective at EM   solution:  1.996963098746e+02\n",
      "Objective at PGD  solution: 1.985189779534e+02\n"
     ]
    }
   ],
   "source": [
    "# Run the mix-SQP algorithm.\n",
    "@time outsqp = mixSQP(L,lowrank = \"none\", eps = 1e-8, maxqpiter = 20, verbose = false, nullprior = 0);\n",
    "@time outsqp2 = mixSQP(L,lowrank = \"qr\", eps = 1e-8, maxqpiter = 20, verbose = false, nullprior = 0);\n",
    "\n",
    "# Run the EM algorithm.\n",
    "@time xem, fem = mixEM(L,maxiter = 200,tol = 1e-6);\n",
    "\n",
    "# Run the projected gradient descent method.\n",
    "@time xpgd, fpgd = mixGD(L,maxiter = 6000, alpha = 10, tol = 1e-8);\n",
    "\n",
    "# Compare the quality of the solutions.\n",
    "@printf \"Objective at SQP  solution: %0.12e\\n\" mixobjective(L,outsqp[\"x\"])\n",
    "@printf \"Objective at SQP2 solution: %0.12e\\n\" mixobjective(L,outsqp2[\"x\"])\n",
    "@printf \"Objective at EM   solution:  %0.12e\\n\" mixobjective(L,xem)\n",
    "@printf \"Objective at PGD  solution: %0.12e\\n\" mixobjective(L,xpgd)"
   ]
  }
 ],
 "metadata": {
  "kernelspec": {
   "display_name": "Julia 0.6.2",
   "language": "julia",
   "name": "julia-0.6"
  },
  "language_info": {
   "file_extension": ".jl",
   "mimetype": "application/julia",
   "name": "julia",
   "version": "0.6.2"
  }
 },
 "nbformat": 4,
 "nbformat_minor": 2
}
