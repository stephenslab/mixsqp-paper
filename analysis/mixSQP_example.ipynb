{
 "cells": [
  {
   "cell_type": "markdown",
   "metadata": {},
   "source": [
    "# Illustration of mix-SQP solver applied to a small data set, and a large one\n",
    "\n",
    "## Analysis setup\n",
    "\n",
    "*Before attempting to run this Julia code, make sure your computer is properly set up to run this code by following the setup instructions in the README of the [git repository](https://github.com/stephenslab/mixsqp-paper).*\n",
    "\n",
    "We begin by loading the Distributions and LowRankApprox Julia packages, as well as some function definitions used in the code chunks below."
   ]
  },
  {
   "cell_type": "code",
   "execution_count": 1,
   "metadata": {},
   "outputs": [],
   "source": [
    "using Pkg\n",
    "using Printf\n",
    "using Random\n",
    "using Distributions\n",
    "using LinearAlgebra\n",
    "using SparseArrays\n",
    "using LowRankApprox\n",
    "include(\"../code/datasim.jl\");\n",
    "include(\"../code/likelihood.jl\");\n",
    "include(\"../code/mixSQP.jl\");"
   ]
  },
  {
   "cell_type": "markdown",
   "metadata": {},
   "source": [
    "Next, initialize the sequence of pseudorandom numbers."
   ]
  },
  {
   "cell_type": "code",
   "execution_count": 2,
   "metadata": {},
   "outputs": [],
   "source": [
    "Random.seed!(1);"
   ]
  },
  {
   "cell_type": "markdown",
   "metadata": {},
   "source": [
    "## Generate a small data set\n",
    "\n",
    "Let's start with a smaller example with 50,000 samples."
   ]
  },
  {
   "cell_type": "code",
   "execution_count": 3,
   "metadata": {
    "collapsed": true
   },
   "outputs": [],
   "source": [
    "z = normtmixdatasim(round(Int,5e4));"
   ]
  },
  {
   "cell_type": "markdown",
   "metadata": {},
   "source": [
    "## Compute the likelihood matrix\n",
    "\n",
    "Compute the $n \\times k$ likelihood matrix for a mixture of zero-centered normals, with $k = 20$. Note that the rows of the likelihood matrix are normalized by default."
   ]
  },
  {
   "cell_type": "code",
   "execution_count": 4,
   "metadata": {},
   "outputs": [
    {
     "data": {
      "text/plain": [
       "(50000, 20)"
      ]
     },
     "execution_count": 4,
     "metadata": {},
     "output_type": "execute_result"
    }
   ],
   "source": [
    "sd = autoselectmixsd(z,nv = 20);\n",
    "L  = normlikmatrix(z,sd = sd);\n",
    "size(L)"
   ]
  },
  {
   "cell_type": "markdown",
   "metadata": {},
   "source": [
    "## Fit mixture model using SQP algorithm \n",
    "\n",
    "First we run the mix-SQP algorithm once to precompile the function."
   ]
  },
  {
   "cell_type": "code",
   "execution_count": 5,
   "metadata": {
    "collapsed": true
   },
   "outputs": [],
   "source": [
    "out = mixSQP(L,maxiter = 10,verbose = false);"
   ]
  },
  {
   "cell_type": "markdown",
   "metadata": {},
   "source": [
    "Observe that only a small number of iterations is needed to converge to the solution of the constrained optimization problem."
   ]
  },
  {
   "cell_type": "code",
   "execution_count": 6,
   "metadata": {},
   "outputs": [
    {
     "name": "stdout",
     "output_type": "stream",
     "text": [
      "Running SQP algorithm with the following settings:\n",
      "- 50000 x 20 data matrix\n",
      "- convergence tolerance  = 1.00e-08\n",
      "- zero threshold         = 1.00e-06\n",
      "- partial SVD tolerance  = 1.00e-08\n",
      "- partial SVD max. error = 3.30e-07\n",
      "iter      objective -min(g+1)  #nz #qp #ls\n",
      "   1 3.03733620e+04 +6.30e-01   20\n",
      "   2 2.09533189e+04 +5.80e+04    1   0   0\n",
      "   3 1.28027913e+04 +2.02e+04    4   0   0\n",
      "   4 1.11155343e+04 +8.75e+03    4   0   0\n",
      "   5 1.09390485e+04 +4.16e+03    4   0   0\n",
      "   6 1.07197711e+04 +2.05e+03    3   0   0\n",
      "   7 1.05963767e+04 +1.05e+03    3   0   0\n",
      "   8 1.05212428e+04 +5.21e+02    4   0   0\n",
      "   9 1.03089069e+04 +2.57e+02    4   0   0\n",
      "  10 1.01851327e+04 +1.31e+02    4   0   0\n",
      "  11 1.01318618e+04 +6.64e+01    4   0   0\n",
      "  12 1.00461045e+04 +3.29e+01    4   0   0\n",
      "  13 9.90166640e+03 +1.65e+01    5   0   0\n",
      "  14 9.85230672e+03 +8.21e+00    4   0   0\n",
      "  15 9.81701206e+03 +3.95e+00    5   0   0\n",
      "  16 9.77596268e+03 +1.86e+00    5   0   0\n",
      "  17 9.75307635e+03 +8.53e-01    5   0   0\n",
      "  18 9.74130102e+03 +3.62e-01    6   0   0\n",
      "  19 9.73189243e+03 +1.11e-01    6   0   0\n",
      "  20 9.72792839e+03 +2.34e-02    6   0   0\n",
      "  21 9.72699979e+03 +1.84e-03    6   0   0\n",
      "  22 9.72691654e+03 +1.68e-06    6   0   0\n",
      "  23 9.72691593e+03 -3.18e-09    6   0   0\n",
      "  0.861777 seconds (1.12 M allocations: 335.503 MiB, 6.32% gc time)\n"
     ]
    }
   ],
   "source": [
    "k   = size(L,2);\n",
    "x0  = ones(k)/k;\n",
    "@time out = mixSQP(L,x = x0);"
   ]
  },
  {
   "cell_type": "markdown",
   "metadata": {},
   "source": [
    "## Generate a larger data set\n",
    "\n",
    "Next, let's see what happens when we use the SQP algorithm to fit a mixture model to a much larger data set."
   ]
  },
  {
   "cell_type": "code",
   "execution_count": 7,
   "metadata": {
    "collapsed": true
   },
   "outputs": [],
   "source": [
    "Random.seed!(1);\n",
    "z = normtmixdatasim(round(Int,1e5));"
   ]
  },
  {
   "cell_type": "markdown",
   "metadata": {},
   "source": [
    "## Compute the likelihood matrix\n",
    "\n",
    "As before, we compute the $n \\times k$ likelihood matrix for a mixture of zero-centered normals. This time, we use a finer grid of $k = 40$ normal densities."
   ]
  },
  {
   "cell_type": "code",
   "execution_count": 8,
   "metadata": {},
   "outputs": [
    {
     "data": {
      "text/plain": [
       "(100000, 40)"
      ]
     },
     "execution_count": 8,
     "metadata": {},
     "output_type": "execute_result"
    }
   ],
   "source": [
    "sd = autoselectmixsd(z,nv = 40);\n",
    "L  = normlikmatrix(z,sd = sd);\n",
    "size(L)"
   ]
  },
  {
   "cell_type": "markdown",
   "metadata": {},
   "source": [
    "## Fit mixture model using SQP algorithm \n",
    "\n",
    "Even on this much larger data set, only a small number of iterations is needed to compute the solution."
   ]
  },
  {
   "cell_type": "code",
   "execution_count": 9,
   "metadata": {},
   "outputs": [
    {
     "name": "stdout",
     "output_type": "stream",
     "text": [
      "Running SQP algorithm with the following settings:\n",
      "- 100000 x 40 data matrix\n",
      "- convergence tolerance  = 1.00e-08\n",
      "- zero threshold         = 1.00e-06\n",
      "- partial SVD tolerance  = 1.00e-08\n",
      "- partial SVD max. error = 1.35e-06\n",
      "iter      objective -min(g+1)  #nz #qp #ls\n",
      "   1 6.21694207e+04 +6.60e-01   40\n",
      "   2 4.83207933e+04 +3.93e-01   40   0   0\n",
      "   3 3.75596771e+04 +2.25e-01   40   0   0\n",
      "   4 2.99843226e+04 +1.23e-01   40   0   0\n",
      "   5 2.13835273e+04 +7.20e+03    3   0   0\n",
      "   6 1.98674398e+04 +2.53e+03    3   0   0\n",
      "   7 1.97771147e+04 +1.12e+03    3   0   0\n",
      "   8 1.97191264e+04 +5.21e+02    3   0   0\n",
      "   9 1.96310713e+04 +2.54e+02    3   0   0\n",
      "  10 1.95995661e+04 +1.24e+02    4   0   0\n",
      "  11 1.95641269e+04 +6.15e+01    5   0   0\n",
      "  12 1.95418491e+04 +3.09e+01    6   0   0\n",
      "  13 1.95188457e+04 +1.53e+01    6   0   0\n",
      "  14 1.95042314e+04 +7.72e+00    5   0   0\n",
      "  15 1.94888368e+04 +3.80e+00    6   0   0\n",
      "  16 1.94788367e+04 +1.87e+00    6   0   0\n",
      "  17 1.94701494e+04 +8.56e-01    6   0   0\n",
      "  18 1.94655306e+04 +3.33e-01    6   0   0\n",
      "  19 1.94621375e+04 +9.23e-02    7   0   0\n",
      "  20 1.94610863e+04 +1.37e-02    6   0   0\n",
      "  21 1.94608951e+04 +5.45e-04    6   0   0\n",
      "  22 1.94608878e+04 -3.13e-09    6   0   0\n",
      "  0.549351 seconds (27.77 k allocations: 634.877 MiB, 13.71% gc time)\n"
     ]
    }
   ],
   "source": [
    "k   = size(L,2);\n",
    "x0  = ones(k)/k;\n",
    "@time out = mixSQP(L,x = x0);"
   ]
  },
  {
   "cell_type": "markdown",
   "metadata": {},
   "source": [
    "With no low-rank approximation (`lowrank = \"none\"`), the algorithm still converges rapidly, even when using a very small correction factor `eps = 1e-12`."
   ]
  },
  {
   "cell_type": "code",
   "execution_count": 10,
   "metadata": {},
   "outputs": [
    {
     "name": "stdout",
     "output_type": "stream",
     "text": [
      "Running SQP algorithm with the following settings:\n",
      "- 100000 x 40 data matrix\n",
      "- convergence tolerance  = 1.00e-08\n",
      "- zero threshold         = 1.00e-06\n",
      "- Exact derivative computation (partial QR not used).\n",
      "iter      objective -min(g+1)  #nz #qp #ls\n",
      "   1 6.21694226e+04 +6.60e-01   40\n",
      "   2 4.35976361e+04 +2.74e+08    2   0   0\n",
      "   3 2.63754248e+04 +9.42e+07    3   0   0\n",
      "   4 2.26716550e+04 +4.11e+07    3   0   0\n",
      "   5 2.22369707e+04 +1.93e+07    3   0   0\n",
      "   6 2.20822493e+04 +9.86e+06    3   0   0\n",
      "   7 2.17850756e+04 +4.96e+06    3   0   0\n",
      "   8 2.15686849e+04 +2.48e+06    2   0   0\n",
      "   9 2.13181589e+04 +1.28e+06    3   0   0\n",
      "  10 2.11397368e+04 +6.40e+05    2   0   0\n",
      "  11 2.08812795e+04 +3.39e+05    3   0   0\n",
      "  12 2.07941248e+04 +1.75e+05    3   0   0\n",
      "  13 2.04915356e+04 +8.97e+04    3   0   0\n",
      "  14 2.03990501e+04 +4.57e+04    3   0   0\n",
      "  15 2.01797507e+04 +2.27e+04    3   0   0\n",
      "  16 2.00663424e+04 +1.17e+04    3   0   0\n",
      "  17 2.00068966e+04 +5.91e+03    3   0   0\n",
      "  18 1.98269276e+04 +3.06e+03    3   0   0\n",
      "  19 1.97740158e+04 +1.56e+03    3   0   0\n",
      "  20 1.97130109e+04 +7.79e+02    3   0   0\n",
      "  21 1.96283745e+04 +3.99e+02    3   0   0\n",
      "  22 1.96010421e+04 +2.00e+02    4   0   0\n",
      "  23 1.95654206e+04 +9.97e+01    4   0   0\n",
      "  24 1.95444434e+04 +5.02e+01    6   0   0\n",
      "  25 1.95216090e+04 +2.51e+01    6   0   0\n",
      "  26 1.95072601e+04 +1.28e+01    5   0   0\n",
      "  27 1.94925787e+04 +6.33e+00    5   0   0\n",
      "  28 1.94817429e+04 +3.17e+00    6   0   0\n",
      "  29 1.94728348e+04 +1.50e+00    6   0   0\n",
      "  30 1.94676911e+04 +6.57e-01    6   0   0\n",
      "  31 1.94635123e+04 +2.27e-01    6   0   0\n",
      "  32 1.94615349e+04 +5.42e-02    6   0   0\n",
      "  33 1.94609587e+04 +5.31e-03    6   0   0\n",
      "  34 1.94608908e+04 +1.44e-04    6   0   0\n",
      "  35 1.94608893e+04 +1.36e-07    6   0   0\n",
      "  36 1.94608893e+04 -3.13e-13    6   0   0\n",
      "  1.736786 seconds (81.75 k allocations: 2.396 GiB, 17.75% gc time)\n"
     ]
    }
   ],
   "source": [
    "@time out = mixSQP(L,x = x0,lowrank = \"none\",eps = 1e-12);"
   ]
  },
  {
   "cell_type": "markdown",
   "metadata": {},
   "source": [
    "## Session information\n",
    "\n",
    "The section gives information about the computing environment used to generate the results contained in this\n",
    "notebook, including the version of Julia, and the versions of the Julia packages used here. "
   ]
  },
  {
   "cell_type": "code",
   "execution_count": 11,
   "metadata": {},
   "outputs": [
    {
     "name": "stdout",
     "output_type": "stream",
     "text": [
      "\u001b[32m\u001b[1m    Status\u001b[22m\u001b[39m `~/.julia/environments/v1.1/Project.toml`\n",
      " \u001b[90m [31c24e10]\u001b[39m\u001b[37m Distributions v0.21.1\u001b[39m\n",
      "\u001b[32m\u001b[1m    Status\u001b[22m\u001b[39m `~/.julia/environments/v1.1/Project.toml`\n",
      " \u001b[90m [898213cb]\u001b[39m\u001b[37m LowRankApprox v0.2.3\u001b[39m\n",
      "Julia Version 1.1.1\n",
      "Commit 55e36cc (2019-05-16 04:10 UTC)\n",
      "Platform Info:\n",
      "  OS: macOS (x86_64-apple-darwin15.6.0)\n",
      "  CPU: Intel(R) Core(TM) i7-7567U CPU @ 3.50GHz\n",
      "  WORD_SIZE: 64\n",
      "  LIBM: libopenlibm\n",
      "  LLVM: libLLVM-6.0.1 (ORCJIT, skylake)\n"
     ]
    }
   ],
   "source": [
    "Pkg.status(\"Distributions\");\n",
    "Pkg.status(\"LowRankApprox\");\n",
    "versioninfo();"
   ]
  }
 ],
 "metadata": {
  "kernelspec": {
   "display_name": "Julia 1.1.1",
   "language": "julia",
   "name": "julia-1.1"
  },
  "language_info": {
   "file_extension": ".jl",
   "mimetype": "application/julia",
   "name": "julia",
   "version": "1.1.1"
  }
 },
 "nbformat": 4,
 "nbformat_minor": 2
}
