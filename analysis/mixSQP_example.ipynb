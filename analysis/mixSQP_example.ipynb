{
 "cells": [
  {
   "cell_type": "markdown",
   "metadata": {},
   "source": [
    "## Analysis setup\n",
    "\n",
    "We begin by loading the LowRankApprox package, as well as some function definitions used in the code chunks below."
   ]
  },
  {
   "cell_type": "code",
   "execution_count": 1,
   "metadata": {},
   "outputs": [],
   "source": [
    "using LowRankApprox\n",
    "include(\"../code/julia/datasim.jl\");\n",
    "include(\"../code/julia/likelihood.jl\");\n",
    "include(\"../code/julia/ash.jl\");\n",
    "include(\"../code/julia/mixSQP.jl\");"
   ]
  },
  {
   "cell_type": "markdown",
   "metadata": {},
   "source": [
    "Next, initialize the sequence of pseudorandom numbers."
   ]
  },
  {
   "cell_type": "code",
   "execution_count": 2,
   "metadata": {
    "collapsed": true
   },
   "outputs": [],
   "source": [
    "srand(1);"
   ]
  },
  {
   "cell_type": "markdown",
   "metadata": {},
   "source": [
    "## Generate a small data set\n",
    "\n",
    "Let's start with a smaller example with 5,000 samples."
   ]
  },
  {
   "cell_type": "code",
   "execution_count": 3,
   "metadata": {
    "collapsed": true
   },
   "outputs": [],
   "source": [
    "x = normdatasim(5000);"
   ]
  },
  {
   "cell_type": "markdown",
   "metadata": {},
   "source": [
    "## Compute the likelihood matrix\n",
    "\n",
    "Compute the $n \\times k$ likelihood matrix for a mixture of zero-centered normals, with $k = 20$. Note that the rows of the likelihood matrix are normalized by default."
   ]
  },
  {
   "cell_type": "code",
   "execution_count": 4,
   "metadata": {},
   "outputs": [
    {
     "data": {
      "text/plain": [
       "(5000, 20)"
      ]
     },
     "execution_count": 4,
     "metadata": {},
     "output_type": "execute_result"
    }
   ],
   "source": [
    "sd = autoselectmixsd(x, gridmult = 1.35);\n",
    "L  = normlikmatrix(x,sd = sd);\n",
    "size(L)"
   ]
  },
  {
   "cell_type": "markdown",
   "metadata": {},
   "source": [
    "## Fit mixture model using SQP algorithm \n",
    "\n",
    "Observe that only a very small number of iterations is needed to converge to a solution."
   ]
  },
  {
   "cell_type": "code",
   "execution_count": 6,
   "metadata": {},
   "outputs": [
    {
     "name": "stdout",
     "output_type": "stream",
     "text": [
      "Running SQP algorithm with the following settings:\n",
      "- 5000 x 20 data matrix\n",
      "- convergence tolerance = 1.00e-08\n",
      "- zero threshold        = 1.00e-03\n",
      "- partial SVD tolerance  = 1.00e-10\n",
      "- partial SVD max. error = 2.27e-09\n",
      "iter       objective -min(g+1) #nnz #qp\n",
      "   1 3.03448152e+03 +1.89e-01   20   0\n",
      "   2 2.56644563e+03 +2.45e-01    3  40\n",
      "   3 2.39097137e+03 +4.62e-02    4  16\n",
      "   4 2.37075315e+03 +5.35e-03    4  20\n",
      "   5 2.36651952e+03 +3.31e-04    4  11\n",
      "   6 2.36620436e+03 +1.24e-06    4   2\n",
      "   7 2.36620312e+03 -1.14e-08    4   2\n",
      "Optimization took 7 iterations and 4.8038 seconds.\n"
     ]
    }
   ],
   "source": [
    "out = mixSQP(L, x = ones(size(L,2))/size(L,2), convtol = 1e-8,\n",
    "             pqrtol = 1e-10, eps = 1e-8, sptol = 1e-3,\n",
    "             maxiter = 100, maxqpiter = 100,\n",
    "             lowrank = \"svd\", seed = 1, verbose = true);"
   ]
  },
  {
   "cell_type": "markdown",
   "metadata": {},
   "source": [
    "## Generate a larger data set\n",
    "\n",
    "Next, let's see what happens when we use the SQP algorithm to fit a mixture model to a much larger data set."
   ]
  },
  {
   "cell_type": "code",
   "execution_count": 7,
   "metadata": {
    "collapsed": true
   },
   "outputs": [],
   "source": [
    "x = normdatasim(100000);"
   ]
  },
  {
   "cell_type": "markdown",
   "metadata": {},
   "source": [
    "## Compute the likelihood matrix\n",
    "\n",
    "As before, we compute the $n \\times k$ likelihood matrix for a mixture of zero-centered normals. This time, we use a finer grid of $k = 100$ normal densities."
   ]
  },
  {
   "cell_type": "code",
   "execution_count": 8,
   "metadata": {},
   "outputs": [
    {
     "data": {
      "text/plain": [
       "(100000, 99)"
      ]
     },
     "execution_count": 8,
     "metadata": {},
     "output_type": "execute_result"
    }
   ],
   "source": [
    "sd = autoselectmixsd(x, gridmult = 1.059);\n",
    "L  = normlikmatrix(x,sd = sd);\n",
    "size(L)"
   ]
  },
  {
   "cell_type": "markdown",
   "metadata": {},
   "source": [
    "## Fit mixture model using SQP algorithm \n",
    "\n",
    "Even on this much larger data set, only a small number of iterations is needed to compute the solution."
   ]
  },
  {
   "cell_type": "code",
   "execution_count": 9,
   "metadata": {},
   "outputs": [
    {
     "name": "stdout",
     "output_type": "stream",
     "text": [
      "Running SQP algorithm with the following settings:\n",
      "- 100000 x 99 data matrix\n",
      "- convergence tolerance = 1.00e-08\n",
      "- zero threshold        = 1.00e-03\n",
      "- partial QR tolerance  = 1.00e-10\n",
      "- partial QR max. error = 7.08e-09\n",
      "iter       objective -min(g+1) #nnz #qp\n",
      "   1 6.29187466e+04 +2.04e-01   99   0\n",
      "   2 5.38404696e+04 +1.56e+00    2 100\n",
      "   3 4.88065172e+04 +3.53e-01    3  25\n",
      "   4 4.78728685e+04 +4.99e-02    3  11\n",
      "   5 4.75838575e+04 +2.14e-03    3   2\n",
      "   6 4.75351234e+04 +2.22e-05    4  22\n",
      "   7 4.75341004e+04 -1.11e-08    4   2\n",
      "Optimization took 7 iterations and 1.3380 seconds.\n"
     ]
    }
   ],
   "source": [
    "out = mixSQP(L, x = ones(size(L,2))/size(L,2), convtol = 1e-8,\n",
    "             pqrtol = 1e-10, eps = 1e-8, sptol = 1e-3,\n",
    "             maxiter = 100, maxqpiter = 100,\n",
    "             lowrank = \"qr\", seed = 1, verbose = true);"
   ]
  },
  {
   "cell_type": "markdown",
   "metadata": {},
   "source": [
    "## Session information\n",
    "\n",
    "The section gives information about the computing environment used to generate the results contained in this\n",
    "notebook, including the version of Julia, and the versions of the Julia packages used here. "
   ]
  },
  {
   "cell_type": "code",
   "execution_count": 10,
   "metadata": {},
   "outputs": [
    {
     "name": "stdout",
     "output_type": "stream",
     "text": [
      " - LowRankApprox                 0.1.0\n"
     ]
    }
   ],
   "source": [
    "Pkg.status(\"LowRankApprox\")"
   ]
  },
  {
   "cell_type": "code",
   "execution_count": 11,
   "metadata": {},
   "outputs": [
    {
     "name": "stdout",
     "output_type": "stream",
     "text": [
      "Julia Version 0.6.2\n",
      "Commit d386e40c17 (2017-12-13 18:08 UTC)\n",
      "Platform Info:\n",
      "  OS: macOS (x86_64-apple-darwin14.5.0)\n",
      "  CPU: Intel(R) Core(TM) i7-7567U CPU @ 3.50GHz\n",
      "  WORD_SIZE: 64\n",
      "  BLAS: libopenblas (USE64BITINT DYNAMIC_ARCH NO_AFFINITY Prescott)\n",
      "  LAPACK: libopenblas64_\n",
      "  LIBM: libopenlibm\n",
      "  LLVM: libLLVM-3.9.1 (ORCJIT, broadwell)\n"
     ]
    }
   ],
   "source": [
    "versioninfo()"
   ]
  }
 ],
 "metadata": {
  "kernelspec": {
   "display_name": "Julia 0.6.2",
   "language": "julia",
   "name": "julia-0.6"
  },
  "language_info": {
   "file_extension": ".jl",
   "mimetype": "application/julia",
   "name": "julia",
   "version": "0.6.2"
  }
 },
 "nbformat": 4,
 "nbformat_minor": 2
}
