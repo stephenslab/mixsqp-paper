{
 "cells": [
  {
   "cell_type": "code",
   "execution_count": 3,
   "metadata": {},
   "outputs": [],
   "source": [
    "using CSV"
   ]
  },
  {
   "cell_type": "code",
   "execution_count": 4,
   "metadata": {},
   "outputs": [
    {
     "ename": "LoadError",
     "evalue": "LoadError: \u001b[91mSystemError: opening file ../data/sample5000x20.txt: No such file or directory\u001b[39m\nwhile loading /Users/pcarbo/git/mixopt-paper/code/julia/makedata.jl, in expression starting on line 27",
     "output_type": "error",
     "traceback": [
      "LoadError: \u001b[91mSystemError: opening file ../data/sample5000x20.txt: No such file or directory\u001b[39m\nwhile loading /Users/pcarbo/git/mixopt-paper/code/julia/makedata.jl, in expression starting on line 27",
      "",
      "Stacktrace:",
      " [1] \u001b[1m#systemerror#44\u001b[22m\u001b[22m at \u001b[1m./error.jl:64\u001b[22m\u001b[22m [inlined]",
      " [2] \u001b[1msystemerror\u001b[22m\u001b[22m\u001b[1m(\u001b[22m\u001b[22m::String, ::Bool\u001b[1m)\u001b[22m\u001b[22m at \u001b[1m./error.jl:64\u001b[22m\u001b[22m",
      " [3] \u001b[1mopen\u001b[22m\u001b[22m\u001b[1m(\u001b[22m\u001b[22m::String, ::Bool, ::Bool, ::Bool, ::Bool, ::Bool\u001b[1m)\u001b[22m\u001b[22m at \u001b[1m./iostream.jl:104\u001b[22m\u001b[22m",
      " [4] \u001b[1mopen\u001b[22m\u001b[22m\u001b[1m(\u001b[22m\u001b[22m::String, ::String\u001b[1m)\u001b[22m\u001b[22m at \u001b[1m./iostream.jl:132\u001b[22m\u001b[22m",
      " [5] \u001b[1mclose!\u001b[22m\u001b[22m\u001b[1m(\u001b[22m\u001b[22m::CSV.Sink\u001b[1m)\u001b[22m\u001b[22m at \u001b[1m/Users/pcarbo/.julia/v0.6/CSV/src/Sink.jl:82\u001b[22m\u001b[22m",
      " [6] \u001b[1m#write#36\u001b[22m\u001b[22m\u001b[1m(\u001b[22m\u001b[22m::Bool, ::Dict{Int64,Function}, ::Array{Any,1}, ::Function, ::String, ::DataFrames.DataFrame\u001b[1m)\u001b[22m\u001b[22m at \u001b[1m/Users/pcarbo/.julia/v0.6/CSV/src/Sink.jl:151\u001b[22m\u001b[22m",
      " [7] \u001b[1m(::CSV.#kw##write)\u001b[22m\u001b[22m\u001b[1m(\u001b[22m\u001b[22m::Array{Any,1}, ::CSV.#write, ::String, ::DataFrames.DataFrame\u001b[1m)\u001b[22m\u001b[22m at \u001b[1m./<missing>:0\u001b[22m\u001b[22m",
      " [8] \u001b[1minclude_from_node1\u001b[22m\u001b[22m\u001b[1m(\u001b[22m\u001b[22m::String\u001b[1m)\u001b[22m\u001b[22m at \u001b[1m./loading.jl:576\u001b[22m\u001b[22m",
      " [9] \u001b[1minclude\u001b[22m\u001b[22m\u001b[1m(\u001b[22m\u001b[22m::String\u001b[1m)\u001b[22m\u001b[22m at \u001b[1m./sysimg.jl:14\u001b[22m\u001b[22m",
      " [10] \u001b[1minclude_string\u001b[22m\u001b[22m\u001b[1m(\u001b[22m\u001b[22m::String, ::String\u001b[1m)\u001b[22m\u001b[22m at \u001b[1m./loading.jl:522\u001b[22m\u001b[22m"
     ]
    }
   ],
   "source": [
    "# make a large data set and save it to ../data/sample100000x100.txt\n",
    "include(\"../code/julia/makedata.jl\");"
   ]
  },
  {
   "cell_type": "code",
   "execution_count": 3,
   "metadata": {
    "collapsed": true
   },
   "outputs": [],
   "source": [
    "L1 = Array{Float64,2}(CSV.read(\"../data/sample5000x20.txt\", nullable = false, header = false, delim = ' '));\n",
    "L2 = Array{Float64,2}(CSV.read(\"../data/sample100000x100.txt\", nullable = false, header = false, delim = ' '));"
   ]
  },
  {
   "cell_type": "code",
   "execution_count": 4,
   "metadata": {},
   "outputs": [
    {
     "name": "stdout",
     "output_type": "stream",
     "text": [
      "Running SQP algorithm with the following settings:\n",
      "- 5000 x 20 data matrix\n",
      "- convergence tolerance = 1.00e-08\n",
      "- zero threshold        = 1.00e-03\n",
      "- partial SVD tolerance  = 1.00e-10\n",
      "- partial SVD max. error = 1.98e-10\n",
      "iter       objective -min(g+1) #nnz #qp\n",
      "   1 2.95206790e+03 +1.81e-01   20   0\n",
      "   2 2.55805274e+03 +2.20e-01    3  22\n",
      "   3 2.37809188e+03 +4.08e-02    3   2\n",
      "   4 2.34432187e+03 +5.72e-03    3   2\n",
      "   5 2.33599066e+03 +2.59e-04    3   2\n",
      "   6 2.33556636e+03 +4.81e-07    3   2\n",
      "   7 2.33556553e+03 -9.52e-09    3   2\n",
      "Optimization took 7 iterations and 0.1496 seconds.\n"
     ]
    },
    {
     "data": {
      "text/plain": [
       "Dict{String,Any} with 8 entries:\n",
       "  \"timing\"      => [0.132761, 0.00424184, 0.00198153, 0.00184505, 0.00207427, 0…\n",
       "  \"nnz\"         => [20.0, 3.0, 3.0, 3.0, 3.0, 3.0, 3.0]\n",
       "  \"totaltime\"   => 0.149593\n",
       "  \"lowranktime\" => 0.00465664\n",
       "  \"obj\"         => [2952.07, 2558.05, 2378.09, 2344.32, 2335.99, 2335.57, 2335.…\n",
       "  \"x\"           => [0.469905, 0.0, 0.0, 0.0, 0.0, 0.0, 0.0, 0.0, 0.0, 0.0, 0.0,…\n",
       "  \"nqp\"         => [0.0, 22.0, 2.0, 2.0, 2.0, 2.0, 2.0]\n",
       "  \"gmin\"        => [-0.181487, -0.220214, -0.0407744, -0.00572226, -0.000259016…"
      ]
     },
     "execution_count": 4,
     "metadata": {},
     "output_type": "execute_result"
    }
   ],
   "source": [
    "include(\"../code/julia/mixSQP.jl\");\n",
    "x1 = mixSQP(L1, x = ones(size(L1,2))/size(L1,2); convtol = 1e-8,\n",
    "                pqrtol = 1e-10, eps = 1e-8, sptol = 1e-3,\n",
    "                maxiter = 100, maxqpiter = 100,\n",
    "                lowrank = \"svd\", seed = 1, verbose = true)"
   ]
  },
  {
   "cell_type": "code",
   "execution_count": 5,
   "metadata": {},
   "outputs": [
    {
     "name": "stdout",
     "output_type": "stream",
     "text": [
      "Running SQP algorithm with the following settings:\n",
      "- 100000 x 100 data matrix\n",
      "- convergence tolerance = 1.00e-08\n",
      "- zero threshold        = 1.00e-03\n",
      "- partial QR tolerance  = 1.00e-10\n",
      "- partial QR max. error = 2.69e-09\n",
      "iter       objective -min(g+1) #nnz #qp\n",
      "   1 5.03421516e+04 +2.90e-01  100   0\n",
      "   2 5.19513613e+04 +1.06e-01    4 100\n",
      "   3 4.83001092e+04 +1.57e-02    4  26\n",
      "   4 4.76838683e+04 +4.20e-04    3  12\n",
      "   5 4.76630722e+04 +4.85e-07    3   2\n",
      "   6 4.76630469e+04 -9.29e-09    3   2\n",
      "Optimization took 6 iterations and 1.3919 seconds.\n"
     ]
    },
    {
     "data": {
      "text/plain": [
       "Dict{String,Any} with 8 entries:\n",
       "  \"timing\"      => [0.831106, 0.174955, 0.0311429, 0.0224087, 0.0210083, 0.0]\n",
       "  \"nnz\"         => [100.0, 4.0, 4.0, 3.0, 3.0, 3.0]\n",
       "  \"totaltime\"   => 1.39185\n",
       "  \"lowranktime\" => 0.311231\n",
       "  \"obj\"         => [50342.2, 51951.4, 48300.1, 47683.9, 47663.1, 47663.0]\n",
       "  \"x\"           => [0.496888, 0.0, 0.0, 0.0, 0.0, 0.0, 0.0, 0.0, 0.0, 0.0  …  0…\n",
       "  \"nqp\"         => [0.0, 100.0, 26.0, 12.0, 2.0, 2.0]\n",
       "  \"gmin\"        => [-0.290037, -0.105654, -0.0156565, -0.000419683, -4.85359e-7…"
      ]
     },
     "execution_count": 5,
     "metadata": {},
     "output_type": "execute_result"
    }
   ],
   "source": [
    "x2 = mixSQP(L2, x = ones(size(L2,2))/size(L2,2); convtol = 1e-8,\n",
    "                pqrtol = 1e-10, eps = 1e-8, sptol = 1e-3,\n",
    "                maxiter = 100, maxqpiter = 100,\n",
    "                lowrank = \"qr\", seed = 1, verbose = true)"
   ]
  },
  {
   "cell_type": "markdown",
   "metadata": {},
   "source": [
    "## Session information\n",
    "\n",
    "The section gives information about the computing environment used to generate the results contained in this\n",
    "manuscript, including the version of Julia, Python and the Julia packages. "
   ]
  },
  {
   "cell_type": "code",
   "execution_count": 6,
   "metadata": {},
   "outputs": [
    {
     "name": "stdout",
     "output_type": "stream",
     "text": [
      " - CSV                           0.1.5\n"
     ]
    }
   ],
   "source": [
    "Pkg.status(\"CSV\")"
   ]
  },
  {
   "cell_type": "code",
   "execution_count": 7,
   "metadata": {},
   "outputs": [
    {
     "name": "stdout",
     "output_type": "stream",
     "text": [
      "Julia Version 0.6.2\n",
      "Commit d386e40c17 (2017-12-13 18:08 UTC)\n",
      "Platform Info:\n",
      "  OS: macOS (x86_64-apple-darwin14.5.0)\n",
      "  CPU: Intel(R) Core(TM) i7-6700HQ CPU @ 2.60GHz\n",
      "  WORD_SIZE: 64\n",
      "  BLAS: libopenblas (USE64BITINT DYNAMIC_ARCH NO_AFFINITY Haswell)\n",
      "  LAPACK: libopenblas64_\n",
      "  LIBM: libopenlibm\n",
      "  LLVM: libLLVM-3.9.1 (ORCJIT, skylake)\n"
     ]
    }
   ],
   "source": [
    "versioninfo()"
   ]
  }
 ],
 "metadata": {
  "kernelspec": {
   "display_name": "Julia 0.6.2",
   "language": "julia",
   "name": "julia-0.6"
  },
  "language_info": {
   "file_extension": ".jl",
   "mimetype": "application/julia",
   "name": "julia",
   "version": "0.6.2"
  }
 },
 "nbformat": 4,
 "nbformat_minor": 2
}
