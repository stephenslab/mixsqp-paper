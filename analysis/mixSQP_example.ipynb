{
 "cells": [
  {
   "cell_type": "markdown",
   "metadata": {},
   "source": [
    "# Illustration of mix-SQP solver applied to a small data set, and a large one\n",
    "\n",
    "## Analysis setup\n",
    "\n",
    "We begin by loading the Distributions and LowRankApprox Julia packages, as well as some function definitions used in the code chunks below."
   ]
  },
  {
   "cell_type": "code",
   "execution_count": 1,
   "metadata": {
    "collapsed": true
   },
   "outputs": [],
   "source": [
    "using Distributions\n",
    "using LowRankApprox\n",
    "include(\"../code/julia/datasim.jl\");\n",
    "include(\"../code/julia/likelihood.jl\");\n",
    "include(\"../code/julia/mixSQP.jl\");"
   ]
  },
  {
   "cell_type": "markdown",
   "metadata": {},
   "source": [
    "Next, initialize the sequence of pseudorandom numbers."
   ]
  },
  {
   "cell_type": "code",
   "execution_count": 2,
   "metadata": {
    "collapsed": true
   },
   "outputs": [],
   "source": [
    "srand(1);"
   ]
  },
  {
   "cell_type": "markdown",
   "metadata": {},
   "source": [
    "## Generate a small data set\n",
    "\n",
    "Let's start with a smaller example with 50,000 samples."
   ]
  },
  {
   "cell_type": "code",
   "execution_count": 3,
   "metadata": {
    "collapsed": true
   },
   "outputs": [],
   "source": [
    "x = normtmixdatasim(round(Int,5e4));"
   ]
  },
  {
   "cell_type": "markdown",
   "metadata": {},
   "source": [
    "## Compute the likelihood matrix\n",
    "\n",
    "Compute the $n \\times k$ likelihood matrix for a mixture of zero-centered normals, with $k = 20$. Note that the rows of the likelihood matrix are normalized by default."
   ]
  },
  {
   "cell_type": "code",
   "execution_count": 4,
   "metadata": {},
   "outputs": [
    {
     "data": {
      "text/plain": [
       "(50000, 20)"
      ]
     },
     "execution_count": 4,
     "metadata": {},
     "output_type": "execute_result"
    }
   ],
   "source": [
    "sd = autoselectmixsd(x,nv = 20);\n",
    "L  = normlikmatrix(x,sd = sd);\n",
    "size(L)"
   ]
  },
  {
   "cell_type": "markdown",
   "metadata": {},
   "source": [
    "## Fit mixture model using SQP algorithm \n",
    "\n",
    "First we run the mix-SQP algorithm once to precompile the function."
   ]
  },
  {
   "cell_type": "code",
   "execution_count": 5,
   "metadata": {
    "collapsed": true
   },
   "outputs": [],
   "source": [
    "out = mixSQP(L,verbose = false);"
   ]
  },
  {
   "cell_type": "markdown",
   "metadata": {},
   "source": [
    "Observe that only a small number of iterations is needed to converge to the solution of the constrained optimization problem."
   ]
  },
  {
   "cell_type": "code",
   "execution_count": 6,
   "metadata": {
    "collapsed": true
   },
   "outputs": [],
   "source": [
    "F = pqrfact(L, rtol = 1e-8);"
   ]
  },
  {
   "cell_type": "code",
   "execution_count": 7,
   "metadata": {},
   "outputs": [
    {
     "name": "stdout",
     "output_type": "stream",
     "text": [
      "Running SQP algorithm with the following settings:\n",
      "- 50000 x 20 data matrix\n",
      "- convergence tolerance = 1.00e-08\n",
      "- zero threshold        = 1.00e-03\n",
      "- partial SVD tolerance  = 1.00e-10\n",
      "- partial SVD max. error = 1.40e-09\n",
      "iter       objective -min(g+1) #nnz #qp\n",
      "   1 3.03733620e+04 +6.30e-01   20   0\n",
      "   2 2.09533189e+04 +5.80e+04    1  27\n",
      "   3 1.28052235e+04 +2.01e+04    3  54\n",
      "   4 1.11157460e+04 +8.72e+03    3  31\n",
      "   5 1.09368736e+04 +4.16e+03    3   9\n",
      "   6 1.07219448e+04 +2.01e+03    3  18\n",
      "   7 1.05948304e+04 +1.03e+03    3  12\n",
      "   8 1.05171906e+04 +5.08e+02    3  10\n",
      "   9 1.03014356e+04 +2.50e+02    2  22\n",
      "  10 1.01823391e+04 +1.28e+02    3  21\n",
      "  11 1.01284988e+04 +6.46e+01    3  12\n",
      "  12 1.00402287e+04 +3.20e+01    3   9\n",
      "  13 9.89728597e+03 +1.61e+01    3  18\n",
      "  14 9.85080002e+03 +8.00e+00    3   7\n",
      "  15 9.81499312e+03 +3.85e+00    3   6\n",
      "  16 9.77433654e+03 +1.81e+00    3  12\n",
      "  17 9.75246378e+03 +8.28e-01    4  12\n",
      "  18 9.74082690e+03 +3.51e-01    4   6\n",
      "  19 9.73160828e+03 +1.06e-01    4  18\n",
      "  20 9.72785007e+03 +2.17e-02    5  18\n",
      "  21 9.72698821e+03 +1.59e-03    5   7\n",
      "  22 9.72691638e+03 +1.03e-06    5   7\n",
      "  23 9.72691593e+03 -3.18e-09    5   7\n",
      "Optimization took 23 iterations and 0.4133 seconds.\n"
     ]
    }
   ],
   "source": [
    "k   = size(L,2);\n",
    "x0  = ones(k)/k;\n",
    "out = mixSQP(L,x = x0,pqrtol = 1e-10);"
   ]
  },
  {
   "cell_type": "markdown",
   "metadata": {},
   "source": [
    "## Generate a larger data set\n",
    "\n",
    "Next, let's see what happens when we use the SQP algorithm to fit a mixture model to a much larger data set."
   ]
  },
  {
   "cell_type": "code",
   "execution_count": 8,
   "metadata": {
    "collapsed": true
   },
   "outputs": [],
   "source": [
    "x = normtmixdatasim(round(Int,1e6));"
   ]
  },
  {
   "cell_type": "markdown",
   "metadata": {},
   "source": [
    "## Compute the likelihood matrix\n",
    "\n",
    "As before, we compute the $n \\times k$ likelihood matrix for a mixture of zero-centered normals. This time, we use a finer grid of $k = 100$ normal densities."
   ]
  },
  {
   "cell_type": "code",
   "execution_count": 9,
   "metadata": {},
   "outputs": [
    {
     "data": {
      "text/plain": [
       "(1000000, 100)"
      ]
     },
     "execution_count": 9,
     "metadata": {},
     "output_type": "execute_result"
    }
   ],
   "source": [
    "sd = autoselectmixsd(x,nv = 100);\n",
    "L  = normlikmatrix(x,sd = sd);\n",
    "size(L)"
   ]
  },
  {
   "cell_type": "markdown",
   "metadata": {},
   "source": [
    "## Fit mixture model using SQP algorithm \n",
    "\n",
    "Even on this much larger data set, only a small number of iterations is needed to compute the solution."
   ]
  },
  {
   "cell_type": "code",
   "execution_count": 10,
   "metadata": {},
   "outputs": [
    {
     "name": "stdout",
     "output_type": "stream",
     "text": [
      "Running SQP algorithm with the following settings:\n",
      "- 1000000 x 100 data matrix\n",
      "- convergence tolerance = 1.00e-08\n",
      "- zero threshold        = 1.00e-03\n",
      "- partial SVD tolerance  = 1.00e-10\n",
      "- partial SVD max. error = 3.52e-08\n",
      "iter       objective -min(g+1) #nnz #qp\n",
      "   1 7.00907581e+05 +8.02e-01  100   0\n",
      "   2 4.68009504e+05 +1.87e+04    2 100\n",
      "   3 2.60982445e+05 +6.57e+03    3 100\n",
      "   4 2.09623970e+05 +2.85e+03    3  62\n",
      "   5 2.04474816e+05 +1.36e+03    3  90\n",
      "   6 2.02491333e+05 +6.70e+02    2  66\n",
      "   7 2.00599453e+05 +3.30e+02    3  54\n",
      "   8 1.99393417e+05 +1.64e+02    3  19\n",
      "   9 1.98446578e+05 +8.16e+01    3  16\n",
      "  10 1.97713280e+05 +4.05e+01    3  18\n",
      "  11 1.97150964e+05 +2.01e+01    3  12\n",
      "  12 1.96760965e+05 +9.98e+00    4  48\n",
      "  13 1.96488688e+05 +4.92e+00    4  46\n",
      "  14 1.96252124e+05 +2.38e+00    5  38\n",
      "  15 1.96075686e+05 +1.11e+00    4  31\n",
      "  16 1.95940602e+05 +4.85e-01    5  41\n",
      "  17 1.95857390e+05 +1.82e-01    4  57\n",
      "  18 1.95813182e+05 +5.15e-02    4  38\n",
      "  19 1.95799181e+05 +7.26e-03    4  38\n",
      "  20 1.95797589e+05 +8.44e-05    4  35\n",
      "  21 1.95797556e+05 -3.16e-09    4  35\n",
      "Optimization took 21 iterations and 14.3891 seconds.\n"
     ]
    }
   ],
   "source": [
    "k   = size(L,2);\n",
    "x0  = ones(k)/k;\n",
    "out = mixSQP(L,x = x0,pqrtol = 1e-10);"
   ]
  },
  {
   "cell_type": "markdown",
   "metadata": {},
   "source": [
    "## Session information\n",
    "\n",
    "The section gives information about the computing environment used to generate the results contained in this\n",
    "notebook, including the version of Julia, and the versions of the Julia packages used here. "
   ]
  },
  {
   "cell_type": "code",
   "execution_count": 11,
   "metadata": {},
   "outputs": [
    {
     "name": "stdout",
     "output_type": "stream",
     "text": [
      " - Distributions                 0.15.0\n",
      " - LowRankApprox                 0.1.0\n"
     ]
    }
   ],
   "source": [
    "Pkg.status(\"Distributions\");\n",
    "Pkg.status(\"LowRankApprox\");"
   ]
  },
  {
   "cell_type": "code",
   "execution_count": 12,
   "metadata": {},
   "outputs": [
    {
     "name": "stdout",
     "output_type": "stream",
     "text": [
      "Julia Version 0.6.2\n",
      "Commit d386e40c17 (2017-12-13 18:08 UTC)\n",
      "Platform Info:\n",
      "  OS: macOS (x86_64-apple-darwin14.5.0)\n",
      "  CPU: Intel(R) Core(TM) i7-7567U CPU @ 3.50GHz\n",
      "  WORD_SIZE: 64\n",
      "  BLAS: libopenblas (USE64BITINT DYNAMIC_ARCH NO_AFFINITY Prescott)\n",
      "  LAPACK: libopenblas64_\n",
      "  LIBM: libopenlibm\n",
      "  LLVM: libLLVM-3.9.1 (ORCJIT, broadwell)\n"
     ]
    }
   ],
   "source": [
    "versioninfo()"
   ]
  }
 ],
 "metadata": {
  "kernelspec": {
   "display_name": "Julia 0.6.2",
   "language": "julia",
   "name": "julia-0.6"
  },
  "language_info": {
   "file_extension": ".jl",
   "mimetype": "application/julia",
   "name": "julia",
   "version": "0.6.2"
  }
 },
 "nbformat": 4,
 "nbformat_minor": 2
}
