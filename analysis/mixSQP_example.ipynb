{
 "cells": [
  {
   "cell_type": "markdown",
   "metadata": {},
   "source": [
    "## Analysis setup\n",
    "\n",
    "We begin by loading the Distributions and LowRankApprox Julia packages, as well as some function definitions used in the code chunks below."
   ]
  },
  {
   "cell_type": "code",
   "execution_count": 1,
   "metadata": {
    "collapsed": true
   },
   "outputs": [],
   "source": [
    "using Distributions\n",
    "using LowRankApprox\n",
    "include(\"../code/julia/datasim.jl\");\n",
    "include(\"../code/julia/likelihood.jl\");\n",
    "include(\"../code/julia/ash.jl\");\n",
    "include(\"../code/julia/mixSQP.jl\");"
   ]
  },
  {
   "cell_type": "markdown",
   "metadata": {},
   "source": [
    "Next, initialize the sequence of pseudorandom numbers."
   ]
  },
  {
   "cell_type": "code",
   "execution_count": 2,
   "metadata": {
    "collapsed": true
   },
   "outputs": [],
   "source": [
    "srand(1);"
   ]
  },
  {
   "cell_type": "markdown",
   "metadata": {},
   "source": [
    "## Generate a small data set\n",
    "\n",
    "Let's start with a smaller example with 5,000 samples."
   ]
  },
  {
   "cell_type": "code",
   "execution_count": 3,
   "metadata": {},
   "outputs": [],
   "source": [
    "x = normtmixdatasim(5000);"
   ]
  },
  {
   "cell_type": "markdown",
   "metadata": {},
   "source": [
    "## Compute the likelihood matrix\n",
    "\n",
    "Compute the $n \\times k$ likelihood matrix for a mixture of zero-centered normals, with $k = 20$. Note that the rows of the likelihood matrix are normalized by default."
   ]
  },
  {
   "cell_type": "code",
   "execution_count": 4,
   "metadata": {},
   "outputs": [
    {
     "data": {
      "text/plain": [
       "(5000, 20)"
      ]
     },
     "execution_count": 4,
     "metadata": {},
     "output_type": "execute_result"
    }
   ],
   "source": [
    "sd = autoselectmixsd(x, gridmult = 1.375);\n",
    "L  = normlikmatrix(x,sd = sd);\n",
    "size(L)"
   ]
  },
  {
   "cell_type": "markdown",
   "metadata": {},
   "source": [
    "## Fit mixture model using SQP algorithm \n",
    "\n",
    "Observe that only a small number of iterations is needed to converge to the solution of the constrained optimization problem."
   ]
  },
  {
   "cell_type": "code",
   "execution_count": 5,
   "metadata": {},
   "outputs": [
    {
     "name": "stdout",
     "output_type": "stream",
     "text": [
      "Running SQP algorithm with the following settings:\n",
      "- 5000 x 20 data matrix\n",
      "- convergence tolerance = 1.00e-08\n",
      "- zero threshold        = 1.00e-03\n",
      "- partial SVD tolerance  = 1.00e-10\n",
      "- partial SVD max. error = 1.73e-09\n",
      "iter       objective -min(g+1) #nnz #qp\n",
      "   1 2.47539249e+03 +4.45e-01   20   0\n",
      "   2 1.75265768e+03 +3.50e+04    1  30\n",
      "   3 1.16160122e+03 +1.20e+04    1  14\n",
      "   4 1.09130438e+03 +5.22e+03    3  43\n",
      "   5 1.06636501e+03 +2.41e+03    3  28\n",
      "   6 1.04509224e+03 +1.19e+03    3  19\n",
      "   7 1.03423266e+03 +6.37e+02    3   7\n",
      "   8 1.01931434e+03 +3.15e+02    2   8\n",
      "   9 1.00587765e+03 +1.59e+02    3  21\n",
      "  10 1.00148985e+03 +8.02e+01    3   7\n",
      "  11 9.91249275e+02 +3.99e+01    3  16\n",
      "  12 9.81087089e+02 +1.98e+01    3  22\n",
      "  13 9.77327006e+02 +9.77e+00    4  24\n",
      "  14 9.72127358e+02 +4.69e+00    3  29\n",
      "  15 9.69514294e+02 +2.16e+00    4  12\n",
      "  16 9.68516666e+02 +9.48e-01    4  13\n",
      "  17 9.67920270e+02 +3.82e-01    4  10\n",
      "  18 9.67489808e+02 +1.13e-01    4   7\n",
      "  19 9.67238871e+02 +2.01e-02    5   9\n",
      "  20 9.67162974e+02 +1.40e-03    5  10\n",
      "  21 9.67157062e+02 +2.59e-06    5  10\n",
      "  22 9.67157028e+02 -6.53e-09    5  10\n",
      "Optimization took 22 iterations and 4.8686 seconds.\n"
     ]
    }
   ],
   "source": [
    "out = mixSQP(L, x = ones(size(L,2))/size(L,2), convtol = 1e-8,\n",
    "             pqrtol = 1e-10, eps = 1e-8, sptol = 1e-3,\n",
    "             maxiter = 100, maxqpiter = 100,\n",
    "             lowrank = \"svd\", seed = 1, verbose = true);"
   ]
  },
  {
   "cell_type": "markdown",
   "metadata": {},
   "source": [
    "## Generate a larger data set\n",
    "\n",
    "Next, let's see what happens when we use the SQP algorithm to fit a mixture model to a much larger data set."
   ]
  },
  {
   "cell_type": "code",
   "execution_count": 6,
   "metadata": {
    "collapsed": true
   },
   "outputs": [],
   "source": [
    "x = normtmixdatasim(100000);"
   ]
  },
  {
   "cell_type": "markdown",
   "metadata": {},
   "source": [
    "## Compute the likelihood matrix\n",
    "\n",
    "As before, we compute the $n \\times k$ likelihood matrix for a mixture of zero-centered normals. This time, we use a finer grid of $k = 100$ normal densities."
   ]
  },
  {
   "cell_type": "code",
   "execution_count": 7,
   "metadata": {},
   "outputs": [
    {
     "data": {
      "text/plain": [
       "(100000, 100)"
      ]
     },
     "execution_count": 7,
     "metadata": {},
     "output_type": "execute_result"
    }
   ],
   "source": [
    "sd = autoselectmixsd(x, gridmult = 1.0685);\n",
    "L  = normlikmatrix(x,sd = sd);\n",
    "size(L)"
   ]
  },
  {
   "cell_type": "markdown",
   "metadata": {},
   "source": [
    "## Fit mixture model using SQP algorithm \n",
    "\n",
    "Even on this much larger data set, only a small number of iterations is needed to compute the solution."
   ]
  },
  {
   "cell_type": "code",
   "execution_count": 8,
   "metadata": {},
   "outputs": [
    {
     "name": "stdout",
     "output_type": "stream",
     "text": [
      "Running SQP algorithm with the following settings:\n",
      "- 100000 x 100 data matrix\n",
      "- convergence tolerance = 1.00e-08\n",
      "- zero threshold        = 1.00e-03\n",
      "- partial QR tolerance  = 1.00e-10\n",
      "- partial QR max. error = 2.75e-08\n",
      "iter       objective -min(g+1) #nnz #qp\n",
      "   1 6.82359802e+04 +7.70e-01  100   0\n",
      "   2 5.10425051e+04 +7.74e+04    1 100\n",
      "   3 2.94656541e+04 +2.72e+04    1  54\n",
      "   4 2.40476848e+04 +1.19e+04    2 100\n",
      "   5 2.30013029e+04 +5.61e+03    2  57\n",
      "   6 2.22589255e+04 +2.77e+03    2  63\n",
      "   7 2.18716099e+04 +1.38e+03    2  84\n",
      "   8 2.14881758e+04 +6.94e+02    3  71\n",
      "   9 2.11402934e+04 +3.48e+02    3  76\n",
      "  10 2.08215862e+04 +1.75e+02    2  46\n",
      "  11 2.05391373e+04 +8.81e+01    3  45\n",
      "  12 2.02560390e+04 +4.41e+01    3  40\n",
      "  13 2.00388584e+04 +2.21e+01    3  34\n",
      "  14 1.98259356e+04 +1.10e+01    3  34\n",
      "  15 1.96780269e+04 +5.42e+00    3  33\n",
      "  16 1.95582619e+04 +2.60e+00    3  48\n",
      "  17 1.94819909e+04 +1.20e+00    4  44\n",
      "  18 1.94389532e+04 +5.25e-01    4  44\n",
      "  19 1.94129151e+04 +2.01e-01    4  50\n",
      "  20 1.93980889e+04 +5.71e-02    5  49\n",
      "  21 1.93920909e+04 +8.96e-03    5  36\n",
      "  22 1.93909642e+04 +2.61e-04    4  41\n",
      "  23 1.93909218e+04 -3.09e-09    4  40\n",
      "Optimization took 23 iterations and 1.6842 seconds.\n"
     ]
    }
   ],
   "source": [
    "out = mixSQP(L, x = ones(size(L,2))/size(L,2), convtol = 1e-8,\n",
    "             pqrtol = 1e-10, eps = 1e-8, sptol = 1e-3,\n",
    "             maxiter = 100, maxqpiter = 100,\n",
    "             lowrank = \"qr\", seed = 1, verbose = true);"
   ]
  },
  {
   "cell_type": "markdown",
   "metadata": {},
   "source": [
    "## Session information\n",
    "\n",
    "The section gives information about the computing environment used to generate the results contained in this\n",
    "notebook, including the version of Julia, and the versions of the Julia packages used here. "
   ]
  },
  {
   "cell_type": "code",
   "execution_count": 9,
   "metadata": {},
   "outputs": [
    {
     "name": "stdout",
     "output_type": "stream",
     "text": [
      " - Distributions                 0.15.0\n",
      " - LowRankApprox                 0.1.0\n"
     ]
    }
   ],
   "source": [
    "Pkg.status(\"Distributions\");\n",
    "Pkg.status(\"LowRankApprox\");"
   ]
  },
  {
   "cell_type": "code",
   "execution_count": 10,
   "metadata": {},
   "outputs": [
    {
     "name": "stdout",
     "output_type": "stream",
     "text": [
      "Julia Version 0.6.2\n",
      "Commit d386e40c17 (2017-12-13 18:08 UTC)\n",
      "Platform Info:\n",
      "  OS: macOS (x86_64-apple-darwin14.5.0)\n",
      "  CPU: Intel(R) Core(TM) i7-7567U CPU @ 3.50GHz\n",
      "  WORD_SIZE: 64\n",
      "  BLAS: libopenblas (USE64BITINT DYNAMIC_ARCH NO_AFFINITY Prescott)\n",
      "  LAPACK: libopenblas64_\n",
      "  LIBM: libopenlibm\n",
      "  LLVM: libLLVM-3.9.1 (ORCJIT, broadwell)\n"
     ]
    }
   ],
   "source": [
    "versioninfo()"
   ]
  }
 ],
 "metadata": {
  "kernelspec": {
   "display_name": "Julia 0.6.2",
   "language": "julia",
   "name": "julia-0.6"
  },
  "language_info": {
   "file_extension": ".jl",
   "mimetype": "application/julia",
   "name": "julia",
   "version": "0.6.2"
  }
 },
 "nbformat": 4,
 "nbformat_minor": 2
}
