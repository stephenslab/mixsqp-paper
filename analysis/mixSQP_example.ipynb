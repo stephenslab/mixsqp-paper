{
 "cells": [
  {
   "cell_type": "markdown",
   "metadata": {},
   "source": [
    "# Illustration of mix-SQP solver applied to a small data set, and a large one\n",
    "\n",
    "## Analysis setup\n",
    "\n",
    "We begin by loading the Distributions and LowRankApprox Julia packages, as well as some function definitions used in the code chunks below."
   ]
  },
  {
   "cell_type": "code",
   "execution_count": 1,
   "metadata": {
    "collapsed": true
   },
   "outputs": [],
   "source": [
    "using Distributions\n",
    "using LowRankApprox\n",
    "include(\"../code/julia/datasim.jl\");\n",
    "include(\"../code/julia/likelihood.jl\");\n",
    "include(\"../code/julia/mixSQP.jl\");"
   ]
  },
  {
   "cell_type": "markdown",
   "metadata": {},
   "source": [
    "Next, initialize the sequence of pseudorandom numbers."
   ]
  },
  {
   "cell_type": "code",
   "execution_count": 2,
   "metadata": {
    "collapsed": true
   },
   "outputs": [],
   "source": [
    "srand(1);"
   ]
  },
  {
   "cell_type": "markdown",
   "metadata": {},
   "source": [
    "## Generate a small data set\n",
    "\n",
    "Let's start with a smaller example with 50,000 samples."
   ]
  },
  {
   "cell_type": "code",
   "execution_count": 3,
   "metadata": {
    "collapsed": true
   },
   "outputs": [],
   "source": [
    "x = normtmixdatasim(round(Int,5e4));"
   ]
  },
  {
   "cell_type": "markdown",
   "metadata": {},
   "source": [
    "## Compute the likelihood matrix\n",
    "\n",
    "Compute the $n \\times k$ likelihood matrix for a mixture of zero-centered normals, with $k = 20$. Note that the rows of the likelihood matrix are normalized by default."
   ]
  },
  {
   "cell_type": "code",
   "execution_count": 4,
   "metadata": {},
   "outputs": [
    {
     "data": {
      "text/plain": [
       "(50000, 20)"
      ]
     },
     "execution_count": 4,
     "metadata": {},
     "output_type": "execute_result"
    }
   ],
   "source": [
    "sd = autoselectmixsd(x,gridmult = 1.425);\n",
    "L  = normlikmatrix(x,sd = sd);\n",
    "size(L)"
   ]
  },
  {
   "cell_type": "markdown",
   "metadata": {},
   "source": [
    "## Fit mixture model using SQP algorithm \n",
    "\n",
    "First we run the mix-SQP algorithm once to precompile the function."
   ]
  },
  {
   "cell_type": "code",
   "execution_count": 5,
   "metadata": {
    "collapsed": true
   },
   "outputs": [],
   "source": [
    "out = mixSQP(L,verbose = false);"
   ]
  },
  {
   "cell_type": "markdown",
   "metadata": {},
   "source": [
    "Observe that only a small number of iterations is needed to converge to the solution of the constrained optimization problem."
   ]
  },
  {
   "cell_type": "code",
   "execution_count": 6,
   "metadata": {
    "collapsed": true
   },
   "outputs": [],
   "source": [
    "F = pqrfact(L, rtol = 1e-8);"
   ]
  },
  {
   "cell_type": "code",
   "execution_count": 7,
   "metadata": {},
   "outputs": [
    {
     "name": "stdout",
     "output_type": "stream",
     "text": [
      "Running SQP algorithm with the following settings:\n",
      "- 50000 x 20 data matrix\n",
      "- convergence tolerance = 1.00e-08\n",
      "- zero threshold        = 1.00e-03\n",
      "- partial SVD tolerance  = 1.00e-10\n",
      "- partial SVD max. error = 4.49e-09\n",
      "iter       objective -min(g+1) #nnz #qp\n",
      "   1 2.90798847e+04 +5.81e-01   20   0\n",
      "   2 2.01513705e+04 +5.61e+04    2  32\n",
      "   3 1.25759810e+04 +1.96e+04    3  55\n",
      "   4 1.11441786e+04 +8.60e+03    3   9\n",
      "   5 1.08869695e+04 +4.04e+03    3  24\n",
      "   6 1.07736291e+04 +2.01e+03    3  12\n",
      "   7 1.06041886e+04 +9.91e+02    2  13\n",
      "   8 1.04170898e+04 +5.06e+02    3  21\n",
      "   9 1.03458093e+04 +2.56e+02    3  10\n",
      "  10 1.02580490e+04 +1.28e+02    3  13\n",
      "  11 1.00593430e+04 +6.35e+01    3  21\n",
      "  12 9.97666976e+03 +3.23e+01    3   7\n",
      "  13 9.93357372e+03 +1.60e+01    3   9\n",
      "  14 9.86711011e+03 +7.82e+00    3   7\n",
      "  15 9.79793040e+03 +3.79e+00    4  20\n",
      "  16 9.76514031e+03 +1.81e+00    4   4\n",
      "  17 9.74910313e+03 +8.03e-01    4   6\n",
      "  18 9.73503631e+03 +3.31e-01    5  17\n",
      "  19 9.72756507e+03 +1.23e-01    5   9\n",
      "  20 9.72288854e+03 +2.29e-02    4   8\n",
      "  21 9.72176768e+03 +8.76e-04    4   7\n",
      "  22 9.72172860e+03 -3.17e-09    4   7\n",
      "Optimization took 22 iterations and 0.5258 seconds.\n"
     ]
    }
   ],
   "source": [
    "k   = size(L,2);\n",
    "x0  = ones(k)/k;\n",
    "out = mixSQP(L,x = x0,pqrtol = 1e-10);"
   ]
  },
  {
   "cell_type": "markdown",
   "metadata": {},
   "source": [
    "## Generate a larger data set\n",
    "\n",
    "Next, let's see what happens when we use the SQP algorithm to fit a mixture model to a much larger data set."
   ]
  },
  {
   "cell_type": "code",
   "execution_count": 8,
   "metadata": {
    "collapsed": true
   },
   "outputs": [],
   "source": [
    "srand(1);\n",
    "x = normtmixdatasim(round(Int,1e6));"
   ]
  },
  {
   "cell_type": "markdown",
   "metadata": {},
   "source": [
    "## Compute the likelihood matrix\n",
    "\n",
    "As before, we compute the $n \\times k$ likelihood matrix for a mixture of zero-centered normals. This time, we use a finer grid of $k = 100$ normal densities."
   ]
  },
  {
   "cell_type": "code",
   "execution_count": 9,
   "metadata": {},
   "outputs": [
    {
     "data": {
      "text/plain": [
       "(1000000, 100)"
      ]
     },
     "execution_count": 9,
     "metadata": {},
     "output_type": "execute_result"
    }
   ],
   "source": [
    "sd = autoselectmixsd(x,gridmult = 1.0735);\n",
    "L  = normlikmatrix(x,sd = sd);\n",
    "size(L)"
   ]
  },
  {
   "cell_type": "markdown",
   "metadata": {},
   "source": [
    "## Fit mixture model using SQP algorithm \n",
    "\n",
    "Even on this much larger data set, only a small number of iterations is needed to compute the solution."
   ]
  },
  {
   "cell_type": "code",
   "execution_count": 10,
   "metadata": {},
   "outputs": [
    {
     "name": "stdout",
     "output_type": "stream",
     "text": [
      "Running SQP algorithm with the following settings:\n",
      "- 1000000 x 100 data matrix\n",
      "- convergence tolerance = 1.00e-08\n",
      "- zero threshold        = 1.00e-03\n",
      "- partial SVD tolerance  = 1.00e-10\n",
      "- partial SVD max. error = 5.72e-08\n",
      "iter       objective -min(g+1) #nnz #qp\n",
      "   1 7.50804421e+05 +8.94e-01  100   0\n",
      "   2 4.98946119e+05 +1.58e+04    2 100\n",
      "   3 2.71098825e+05 +5.49e+03    3 100\n",
      "   4 2.08054807e+05 +2.40e+03    2  75\n",
      "   5 2.01812531e+05 +1.15e+03    3  85\n",
      "   6 2.00364047e+05 +5.72e+02    3  90\n",
      "   7 1.99322199e+05 +2.84e+02    3  60\n",
      "   8 1.98523303e+05 +1.41e+02    3  54\n",
      "   9 1.97934370e+05 +7.00e+01    4  56\n",
      "  10 1.97516187e+05 +3.48e+01    4  49\n",
      "  11 1.97204193e+05 +1.73e+01    5  38\n",
      "  12 1.96914514e+05 +8.58e+00    4  37\n",
      "  13 1.96692838e+05 +4.23e+00    5  44\n",
      "  14 1.96498043e+05 +2.04e+00    4  43\n",
      "  15 1.96352796e+05 +9.43e-01    5  46\n",
      "  16 1.96242593e+05 +4.06e-01    4  57\n",
      "  17 1.96170968e+05 +1.46e-01    5  32\n",
      "  18 1.96135998e+05 +3.42e-02    4  29\n",
      "  19 1.96125880e+05 +3.64e-03    4  38\n",
      "  20 1.96124998e+05 +6.32e-06    4  37\n",
      "  21 1.96124988e+05 -3.18e-09    4  37\n",
      "Optimization took 21 iterations and 14.3532 seconds.\n"
     ]
    }
   ],
   "source": [
    "k   = size(L,2);\n",
    "x0  = ones(k)/k;\n",
    "out = mixSQP(L,x = x0,pqrtol = 1e-10);"
   ]
  },
  {
   "cell_type": "markdown",
   "metadata": {},
   "source": [
    "## Session information\n",
    "\n",
    "The section gives information about the computing environment used to generate the results contained in this\n",
    "notebook, including the version of Julia, and the versions of the Julia packages used here. "
   ]
  },
  {
   "cell_type": "code",
   "execution_count": 11,
   "metadata": {},
   "outputs": [
    {
     "name": "stdout",
     "output_type": "stream",
     "text": [
      " - Distributions                 0.15.0\n",
      " - LowRankApprox                 0.1.0\n"
     ]
    }
   ],
   "source": [
    "Pkg.status(\"Distributions\");\n",
    "Pkg.status(\"LowRankApprox\");"
   ]
  },
  {
   "cell_type": "code",
   "execution_count": 12,
   "metadata": {},
   "outputs": [
    {
     "name": "stdout",
     "output_type": "stream",
     "text": [
      "Julia Version 0.6.2\n",
      "Commit d386e40c17 (2017-12-13 18:08 UTC)\n",
      "Platform Info:\n",
      "  OS: macOS (x86_64-apple-darwin14.5.0)\n",
      "  CPU: Intel(R) Core(TM) i7-7567U CPU @ 3.50GHz\n",
      "  WORD_SIZE: 64\n",
      "  BLAS: libopenblas (USE64BITINT DYNAMIC_ARCH NO_AFFINITY Prescott)\n",
      "  LAPACK: libopenblas64_\n",
      "  LIBM: libopenlibm\n",
      "  LLVM: libLLVM-3.9.1 (ORCJIT, broadwell)\n"
     ]
    }
   ],
   "source": [
    "versioninfo()"
   ]
  }
 ],
 "metadata": {
  "kernelspec": {
   "display_name": "Julia 0.6.2",
   "language": "julia",
   "name": "julia-0.6"
  },
  "language_info": {
   "file_extension": ".jl",
   "mimetype": "application/julia",
   "name": "julia",
   "version": "0.6.2"
  }
 },
 "nbformat": 4,
 "nbformat_minor": 2
}
