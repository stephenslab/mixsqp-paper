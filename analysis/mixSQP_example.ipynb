{
 "cells": [
  {
   "cell_type": "markdown",
   "metadata": {},
   "source": [
    "# Illustration of mix-SQP solver applied to a small data set, and a large one\n",
    "\n",
    "## Analysis setup\n",
    "\n",
    "We begin by loading the Distributions and LowRankApprox Julia packages, as well as some function definitions used in the code chunks below."
   ]
  },
  {
   "cell_type": "code",
   "execution_count": 1,
   "metadata": {
    "collapsed": true
   },
   "outputs": [],
   "source": [
    "using Distributions\n",
    "using LowRankApprox\n",
    "include(\"../code/julia/datasim.jl\");\n",
    "include(\"../code/julia/likelihood.jl\");\n",
    "include(\"../code/julia/mixSQP.jl\");"
   ]
  },
  {
   "cell_type": "markdown",
   "metadata": {},
   "source": [
    "Next, initialize the sequence of pseudorandom numbers."
   ]
  },
  {
   "cell_type": "code",
   "execution_count": 2,
   "metadata": {
    "collapsed": true
   },
   "outputs": [],
   "source": [
    "srand(1);"
   ]
  },
  {
   "cell_type": "markdown",
   "metadata": {},
   "source": [
    "## Generate a small data set\n",
    "\n",
    "Let's start with a smaller example with 50,000 samples."
   ]
  },
  {
   "cell_type": "code",
   "execution_count": 3,
   "metadata": {
    "collapsed": true
   },
   "outputs": [],
   "source": [
    "x = normtmixdatasim(round(Int,5e4));"
   ]
  },
  {
   "cell_type": "markdown",
   "metadata": {},
   "source": [
    "## Compute the likelihood matrix\n",
    "\n",
    "Compute the $n \\times k$ likelihood matrix for a mixture of zero-centered normals, with $k = 20$. Note that the rows of the likelihood matrix are normalized by default."
   ]
  },
  {
   "cell_type": "code",
   "execution_count": 4,
   "metadata": {},
   "outputs": [
    {
     "data": {
      "text/plain": [
       "(50000, 20)"
      ]
     },
     "execution_count": 4,
     "metadata": {},
     "output_type": "execute_result"
    }
   ],
   "source": [
    "sd = autoselectmixsd(x,nv = 20);\n",
    "L  = normlikmatrix(x,sd = sd);\n",
    "size(L)"
   ]
  },
  {
   "cell_type": "markdown",
   "metadata": {},
   "source": [
    "## Fit mixture model using SQP algorithm \n",
    "\n",
    "First we run the mix-SQP algorithm once to precompile the function."
   ]
  },
  {
   "cell_type": "code",
   "execution_count": 5,
   "metadata": {
    "collapsed": true
   },
   "outputs": [],
   "source": [
    "out = mixSQP(L,verbose = false);"
   ]
  },
  {
   "cell_type": "markdown",
   "metadata": {},
   "source": [
    "Observe that only a small number of iterations is needed to converge to the solution of the constrained optimization problem."
   ]
  },
  {
   "cell_type": "code",
   "execution_count": 7,
   "metadata": {},
   "outputs": [
    {
     "name": "stdout",
     "output_type": "stream",
     "text": [
      "Running SQP algorithm with the following settings:\n",
      "- 50000 x 20 data matrix\n",
      "- convergence tolerance = 1.00e-08\n",
      "- zero threshold        = 1.00e-03\n",
      "- partial SVD tolerance  = 1.00e-08\n",
      "- partial SVD max. error = 4.18e-07\n",
      "iter      objective -min(g+1) #nnz #qp #ls\n",
      "   1 3.03733620e+04 +6.30e-01   20   0   0\n",
      "   2 2.09533189e+04 +5.80e+04    1  27   1\n",
      "   3 1.28106400e+04 +2.01e+04    4  57   1\n",
      "   4 1.11157265e+04 +8.72e+03    4  48   1\n",
      "   5 1.09372999e+04 +4.16e+03    4  12   1\n",
      "   6 1.07220053e+04 +2.02e+03    3  22   1\n",
      "   7 1.05950740e+04 +1.03e+03    3  10   1\n",
      "   8 1.05178900e+04 +5.10e+02    3  10   1\n",
      "   9 1.03026996e+04 +2.51e+02    2  22   1\n",
      "  10 1.01828086e+04 +1.28e+02    3  21   1\n",
      "  11 1.01290749e+04 +6.49e+01    3  12   1\n",
      "  12 1.00412277e+04 +3.21e+01    3  10   1\n",
      "  13 9.89799824e+03 +1.61e+01    3  18   1\n",
      "  14 9.85105243e+03 +8.03e+00    3   7   1\n",
      "  15 9.81533615e+03 +3.87e+00    3   6   1\n",
      "  16 9.77460732e+03 +1.82e+00    3  12   1\n",
      "  17 9.75256499e+03 +8.32e-01    4  12   1\n",
      "  18 9.74090584e+03 +3.53e-01    4   6   1\n",
      "  19 9.73165481e+03 +1.07e-01    4  18   1\n",
      "  20 9.72786275e+03 +2.20e-02    5  18   1\n",
      "  21 9.72699004e+03 +1.63e-03    5   7   1\n",
      "  22 9.72691641e+03 +1.12e-06    5   7   1\n",
      "  23 9.72691593e+03 -3.18e-09    5   7   1\n",
      "Optimization took 23 iterations and 0.3141 seconds.\n"
     ]
    }
   ],
   "source": [
    "k   = size(L,2);\n",
    "x0  = ones(k)/k;\n",
    "out = mixSQP(L,x = x0,lowrank = \"none\");"
   ]
  },
  {
   "cell_type": "markdown",
   "metadata": {},
   "source": [
    "## Generate a larger data set\n",
    "\n",
    "Next, let's see what happens when we use the SQP algorithm to fit a mixture model to a much larger data set."
   ]
  },
  {
   "cell_type": "code",
   "execution_count": null,
   "metadata": {
    "collapsed": true
   },
   "outputs": [],
   "source": [
    "srand(3);\n",
    "x = normtmixdatasim(round(Int,1e6));"
   ]
  },
  {
   "cell_type": "markdown",
   "metadata": {},
   "source": [
    "## Compute the likelihood matrix\n",
    "\n",
    "As before, we compute the $n \\times k$ likelihood matrix for a mixture of zero-centered normals. This time, we use a finer grid of $k = 100$ normal densities."
   ]
  },
  {
   "cell_type": "code",
   "execution_count": null,
   "metadata": {},
   "outputs": [],
   "source": [
    "sd = autoselectmixsd(x,nv = 100);\n",
    "L  = normlikmatrix(x,sd = sd);\n",
    "size(L)"
   ]
  },
  {
   "cell_type": "markdown",
   "metadata": {},
   "source": [
    "## Fit mixture model using SQP algorithm \n",
    "\n",
    "Even on this much larger data set, only a small number of iterations is needed to compute the solution."
   ]
  },
  {
   "cell_type": "code",
   "execution_count": null,
   "metadata": {},
   "outputs": [],
   "source": [
    "k   = size(L,2);\n",
    "x0  = ones(k)/k;\n",
    "out = mixSQP(L,x = x0,lowrank = \"none\");"
   ]
  },
  {
   "cell_type": "markdown",
   "metadata": {},
   "source": [
    "## Session information\n",
    "\n",
    "The section gives information about the computing environment used to generate the results contained in this\n",
    "notebook, including the version of Julia, and the versions of the Julia packages used here. "
   ]
  },
  {
   "cell_type": "code",
   "execution_count": null,
   "metadata": {
    "collapsed": true
   },
   "outputs": [],
   "source": [
    "Pkg.status(\"Distributions\");\n",
    "Pkg.status(\"LowRankApprox\");\n",
    "versioninfo();"
   ]
  }
 ],
 "metadata": {
  "kernelspec": {
   "display_name": "Julia 0.6.2",
   "language": "julia",
   "name": "julia-0.6"
  },
  "language_info": {
   "file_extension": ".jl",
   "mimetype": "application/julia",
   "name": "julia",
   "version": "0.6.2"
  }
 },
 "nbformat": 4,
 "nbformat_minor": 2
}
