{
 "cells": [
  {
   "cell_type": "markdown",
   "metadata": {},
   "source": [
    "# Illustration of mix-SQP solver applied to a small data set, and a large one\n",
    "\n",
    "## Analysis setup\n",
    "\n",
    "We begin by loading the Distributions and LowRankApprox Julia packages, as well as some function definitions used in the code chunks below."
   ]
  },
  {
   "cell_type": "code",
   "execution_count": 1,
   "metadata": {},
   "outputs": [],
   "source": [
    "using Distributions\n",
    "using LowRankApprox\n",
    "include(\"../code/julia/datasim.jl\");\n",
    "include(\"../code/julia/likelihood.jl\");\n",
    "include(\"../code/julia/mixSQP.jl\");"
   ]
  },
  {
   "cell_type": "markdown",
   "metadata": {},
   "source": [
    "Next, initialize the sequence of pseudorandom numbers."
   ]
  },
  {
   "cell_type": "code",
   "execution_count": 2,
   "metadata": {
    "collapsed": true
   },
   "outputs": [],
   "source": [
    "srand(1);"
   ]
  },
  {
   "cell_type": "markdown",
   "metadata": {},
   "source": [
    "## Generate a small data set\n",
    "\n",
    "Let's start with a smaller example with 50,000 samples."
   ]
  },
  {
   "cell_type": "code",
   "execution_count": 3,
   "metadata": {
    "collapsed": true
   },
   "outputs": [],
   "source": [
    "x = normtmixdatasim(round(Int,5e4));"
   ]
  },
  {
   "cell_type": "markdown",
   "metadata": {},
   "source": [
    "## Compute the likelihood matrix\n",
    "\n",
    "Compute the $n \\times k$ likelihood matrix for a mixture of zero-centered normals, with $k = 20$. Note that the rows of the likelihood matrix are normalized by default."
   ]
  },
  {
   "cell_type": "code",
   "execution_count": 4,
   "metadata": {},
   "outputs": [
    {
     "data": {
      "text/plain": [
       "(50000, 20)"
      ]
     },
     "execution_count": 4,
     "metadata": {},
     "output_type": "execute_result"
    }
   ],
   "source": [
    "sd = autoselectmixsd(x,nv = 20);\n",
    "L  = normlikmatrix(x,sd = sd);\n",
    "size(L)"
   ]
  },
  {
   "cell_type": "markdown",
   "metadata": {},
   "source": [
    "## Fit mixture model using SQP algorithm \n",
    "\n",
    "First we run the mix-SQP algorithm once to precompile the function."
   ]
  },
  {
   "cell_type": "code",
   "execution_count": 5,
   "metadata": {
    "collapsed": true
   },
   "outputs": [],
   "source": [
    "out = mixSQP(L,verbose = false);"
   ]
  },
  {
   "cell_type": "markdown",
   "metadata": {},
   "source": [
    "Observe that only a small number of iterations is needed to converge to the solution of the constrained optimization problem."
   ]
  },
  {
   "cell_type": "code",
   "execution_count": 6,
   "metadata": {},
   "outputs": [
    {
     "name": "stdout",
     "output_type": "stream",
     "text": [
      "Running SQP algorithm with the following settings:\n",
      "- 50000 x 20 data matrix\n",
      "- convergence tolerance = 1.00e-08\n",
      "- zero threshold        = 1.00e-03\n",
      "- partial SVD tolerance  = 1.00e-08\n",
      "- partial SVD max. error = 4.18e-07\n",
      "iter      objective -min(g+1) #nnz #qp #ls\n",
      "   1 3.03733620e+04 +6.30e-01   20   0   0\n",
      "   2 2.09533189e+04 +5.80e+04    1  12   1\n",
      "   3 1.28101641e+04 +2.01e+04    4  60   1\n",
      "   4 1.11158863e+04 +8.72e+03    4  51   1\n",
      "   5 1.09376388e+04 +4.16e+03    4  12   1\n",
      "   6 1.07215837e+04 +2.02e+03    3  22   1\n",
      "   7 1.05948783e+04 +1.03e+03    3  10   1\n",
      "   8 1.05175827e+04 +5.10e+02    3  10   1\n",
      "   9 1.03021156e+04 +2.51e+02    2  22   1\n",
      "  10 1.01826126e+04 +1.28e+02    3  21   1\n",
      "  11 1.01288446e+04 +6.49e+01    3  12   1\n",
      "  12 1.00408173e+04 +3.21e+01    3  10   1\n",
      "  13 9.89770711e+03 +1.61e+01    3  18   1\n",
      "  14 9.85096785e+03 +8.03e+00    3   7   1\n",
      "  15 9.81522511e+03 +3.86e+00    3   6   1\n",
      "  16 9.77452162e+03 +1.82e+00    3  12   1\n",
      "  17 9.75253943e+03 +8.31e-01    4  12   1\n",
      "  18 9.74088818e+03 +3.52e-01    4   6   1\n",
      "  19 9.73164452e+03 +1.07e-01    4  18   1\n",
      "  20 9.72786027e+03 +2.19e-02    5  18   1\n",
      "  21 9.72698970e+03 +1.62e-03    5   7   1\n",
      "  22 9.72691640e+03 +1.11e-06    5   7   1\n",
      "  23 9.72691593e+03 -3.18e-09    5   7   1\n",
      "Optimization took 23 iterations and 0.3871 seconds.\n"
     ]
    }
   ],
   "source": [
    "k   = size(L,2);\n",
    "x0  = ones(k)/k;\n",
    "out = mixSQP(L,x = x0);"
   ]
  },
  {
   "cell_type": "markdown",
   "metadata": {},
   "source": [
    "## Generate a larger data set\n",
    "\n",
    "Next, let's see what happens when we use the SQP algorithm to fit a mixture model to a much larger data set."
   ]
  },
  {
   "cell_type": "code",
   "execution_count": 7,
   "metadata": {
    "collapsed": true
   },
   "outputs": [],
   "source": [
    "srand(1);\n",
    "x = normtmixdatasim(round(Int,1e5));"
   ]
  },
  {
   "cell_type": "markdown",
   "metadata": {},
   "source": [
    "## Compute the likelihood matrix\n",
    "\n",
    "As before, we compute the $n \\times k$ likelihood matrix for a mixture of zero-centered normals. This time, we use a finer grid of $k = 40$ normal densities."
   ]
  },
  {
   "cell_type": "code",
   "execution_count": 8,
   "metadata": {},
   "outputs": [
    {
     "data": {
      "text/plain": [
       "(100000, 40)"
      ]
     },
     "execution_count": 8,
     "metadata": {},
     "output_type": "execute_result"
    }
   ],
   "source": [
    "sd = autoselectmixsd(x,nv = 40);\n",
    "L  = normlikmatrix(x,sd = sd);\n",
    "size(L)"
   ]
  },
  {
   "cell_type": "markdown",
   "metadata": {},
   "source": [
    "## Fit mixture model using SQP algorithm \n",
    "\n",
    "Even on this much larger data set, only a small number of iterations is needed to compute the solution."
   ]
  },
  {
   "cell_type": "code",
   "execution_count": 9,
   "metadata": {},
   "outputs": [
    {
     "name": "stdout",
     "output_type": "stream",
     "text": [
      "Running SQP algorithm with the following settings:\n",
      "- 100000 x 40 data matrix\n",
      "- convergence tolerance = 1.00e-08\n",
      "- zero threshold        = 1.00e-03\n",
      "- partial SVD tolerance  = 1.00e-08\n",
      "- partial SVD max. error = 1.08e-06\n",
      "iter      objective -min(g+1) #nnz #qp #ls\n",
      "   1 6.21692353e+04 +6.60e-01   40   0   0\n",
      "   2 4.28399851e+04 +1.11e+03    2  17   1\n",
      "   3 2.56133820e+04 +3.86e+02    3  76   1\n",
      "   4 2.18491612e+04 +1.68e+02    2  64   1\n",
      "   5 2.12538000e+04 +7.83e+01    2  39   1\n",
      "   6 2.08928599e+04 +3.80e+01    2  31   1\n",
      "   7 2.05741542e+04 +1.88e+01    3  29   1\n",
      "   8 2.02477496e+04 +9.33e+00    3  27   1\n",
      "   9 1.99767024e+04 +4.57e+00    3  25   1\n",
      "  10 1.97720448e+04 +2.17e+00    3  12   1\n",
      "  11 1.96342064e+04 +9.83e-01    3  12   1\n",
      "  12 1.95392844e+04 +4.30e-01    4  22   1\n",
      "  13 1.94920120e+04 +1.54e-01    5  34   1\n",
      "  14 1.94705276e+04 +4.37e-02    5  40   1\n",
      "  15 1.94620086e+04 +3.73e-03    4  13   1\n",
      "  16 1.94607620e+04 -3.11e-07    4  15   1\n",
      "Optimization took 16 iterations and 0.4703 seconds.\n"
     ]
    }
   ],
   "source": [
    "k   = size(L,2);\n",
    "x0  = ones(k)/k;\n",
    "out = mixSQP(L,x = x0,eps = 1e-6);"
   ]
  },
  {
   "cell_type": "markdown",
   "metadata": {},
   "source": [
    "If we use the default setting for `eps` in this case (`1e-8`), the algorithm still converges after a slightly larger number of iterations. "
   ]
  },
  {
   "cell_type": "code",
   "execution_count": 10,
   "metadata": {},
   "outputs": [
    {
     "name": "stdout",
     "output_type": "stream",
     "text": [
      "Running SQP algorithm with the following settings:\n",
      "- 100000 x 40 data matrix\n",
      "- convergence tolerance = 1.00e-08\n",
      "- zero threshold        = 1.00e-03\n",
      "- partial SVD tolerance  = 1.00e-08\n",
      "- partial SVD max. error = 1.08e-06\n",
      "iter      objective -min(g+1) #nnz #qp #ls\n",
      "   1 6.21694207e+04 +6.60e-01   40   0   0\n",
      "   2 4.83207935e+04 +3.93e-01   40  17   2\n",
      "   3 3.75596759e+04 +2.25e-01   40  52   2\n",
      "   4 2.99843229e+04 +1.23e-01   40  51   2\n",
      "   5 2.13835266e+04 +7.20e+03    3  48   1\n",
      "   6 1.98795117e+04 +2.53e+03    4  65   1\n",
      "   7 1.97777586e+04 +1.12e+03    3  11   1\n",
      "   8 1.97192133e+04 +5.22e+02    3  12   1\n",
      "   9 1.96312101e+04 +2.54e+02    3  28   1\n",
      "  10 1.95996264e+04 +1.25e+02    4  12   1\n",
      "  11 1.95641472e+04 +6.16e+01    4  28   1\n",
      "  12 1.95418605e+04 +3.09e+01    5  12   1\n",
      "  13 1.95188575e+04 +1.54e+01    5  28   1\n",
      "  14 1.95042420e+04 +7.72e+00    4   8   1\n",
      "  15 1.94888493e+04 +3.80e+00    4  21   1\n",
      "  16 1.94788434e+04 +1.87e+00    5   6   1\n",
      "  17 1.94701551e+04 +8.57e-01    5  22   1\n",
      "  18 1.94655347e+04 +3.33e-01    4  10   1\n",
      "  19 1.94621395e+04 +9.24e-02    4  14   1\n",
      "  20 1.94610868e+04 +1.37e-02    4  15   1\n",
      "  21 1.94608952e+04 +5.47e-04    4  18   1\n",
      "  22 1.94608878e+04 -3.13e-09    4  15   1\n",
      "Optimization took 22 iterations and 0.7966 seconds.\n"
     ]
    }
   ],
   "source": [
    "include(\"../code/julia/mixSQP.jl\");\n",
    "out = mixSQP(L,x = x0);"
   ]
  },
  {
   "cell_type": "markdown",
   "metadata": {},
   "source": [
    "## Session information\n",
    "\n",
    "The section gives information about the computing environment used to generate the results contained in this\n",
    "notebook, including the version of Julia, and the versions of the Julia packages used here. "
   ]
  },
  {
   "cell_type": "code",
   "execution_count": 11,
   "metadata": {},
   "outputs": [
    {
     "name": "stdout",
     "output_type": "stream",
     "text": [
      " - Distributions                 0.15.0\n",
      " - LowRankApprox                 0.1.1\n",
      "Julia Version 0.6.2\n",
      "Commit d386e40c17 (2017-12-13 18:08 UTC)\n",
      "Platform Info:\n",
      "  OS: macOS (x86_64-apple-darwin14.5.0)\n",
      "  CPU: Intel(R) Core(TM) i7-7567U CPU @ 3.50GHz\n",
      "  WORD_SIZE: 64\n",
      "  BLAS: libopenblas (USE64BITINT DYNAMIC_ARCH NO_AFFINITY Prescott)\n",
      "  LAPACK: libopenblas64_\n",
      "  LIBM: libopenlibm\n",
      "  LLVM: libLLVM-3.9.1 (ORCJIT, broadwell)\n"
     ]
    }
   ],
   "source": [
    "Pkg.status(\"Distributions\");\n",
    "Pkg.status(\"LowRankApprox\");\n",
    "versioninfo();"
   ]
  }
 ],
 "metadata": {
  "kernelspec": {
   "display_name": "Julia 0.6.2",
   "language": "julia",
   "name": "julia-0.6"
  },
  "language_info": {
   "file_extension": ".jl",
   "mimetype": "application/julia",
   "name": "julia",
   "version": "0.6.2"
  }
 },
 "nbformat": 4,
 "nbformat_minor": 2
}
