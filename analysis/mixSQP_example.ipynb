{
 "cells": [
  {
   "cell_type": "markdown",
   "metadata": {},
   "source": [
    "# Illustration of mix-SQP solver applied to a small data set, and a large one\n",
    "\n",
    "## Analysis setup\n",
    "\n",
    "*Before attempting to run this Julia code, make sure your computer is properly set up to run this code by following the \"Quick Start\" instructions in the README of the [git repository](https://github.com/stephenslab/mixsqp-paper).*\n",
    "\n",
    "We begin by loading the Distributions and LowRankApprox Julia packages, as well as some function definitions used in the code chunks below."
   ]
  },
  {
   "cell_type": "code",
   "execution_count": 1,
   "metadata": {
    "collapsed": true
   },
   "outputs": [],
   "source": [
    "using Distributions\n",
    "using LowRankApprox\n",
    "include(\"../code/datasim.jl\");\n",
    "include(\"../code/likelihood.jl\");\n",
    "include(\"../code/mixSQP.jl\");"
   ]
  },
  {
   "cell_type": "markdown",
   "metadata": {},
   "source": [
    "Next, initialize the sequence of pseudorandom numbers."
   ]
  },
  {
   "cell_type": "code",
   "execution_count": 2,
   "metadata": {
    "collapsed": true
   },
   "outputs": [],
   "source": [
    "srand(1);"
   ]
  },
  {
   "cell_type": "markdown",
   "metadata": {},
   "source": [
    "## Generate a small data set\n",
    "\n",
    "Let's start with a smaller example with 50,000 samples."
   ]
  },
  {
   "cell_type": "code",
   "execution_count": 3,
   "metadata": {
    "collapsed": true
   },
   "outputs": [],
   "source": [
    "z = normtmixdatasim(round(Int,5e4));"
   ]
  },
  {
   "cell_type": "markdown",
   "metadata": {},
   "source": [
    "## Compute the likelihood matrix\n",
    "\n",
    "Compute the $n \\times k$ likelihood matrix for a mixture of zero-centered normals, with $k = 20$. Note that the rows of the likelihood matrix are normalized by default."
   ]
  },
  {
   "cell_type": "code",
   "execution_count": 4,
   "metadata": {},
   "outputs": [
    {
     "data": {
      "text/plain": [
       "(50000, 20)"
      ]
     },
     "execution_count": 4,
     "metadata": {},
     "output_type": "execute_result"
    }
   ],
   "source": [
    "sd = autoselectmixsd(z,nv = 20);\n",
    "L  = normlikmatrix(z,sd = sd);\n",
    "size(L)"
   ]
  },
  {
   "cell_type": "markdown",
   "metadata": {},
   "source": [
    "## Fit mixture model using SQP algorithm \n",
    "\n",
    "First we run the mix-SQP algorithm once to precompile the function."
   ]
  },
  {
   "cell_type": "code",
   "execution_count": 5,
   "metadata": {
    "collapsed": true
   },
   "outputs": [],
   "source": [
    "out = mixSQP(L,verbose = false);"
   ]
  },
  {
   "cell_type": "markdown",
   "metadata": {},
   "source": [
    "Observe that only a small number of iterations is needed to converge to the solution of the constrained optimization problem."
   ]
  },
  {
   "cell_type": "code",
   "execution_count": 6,
   "metadata": {},
   "outputs": [
    {
     "name": "stdout",
     "output_type": "stream",
     "text": [
      "Running SQP algorithm with the following settings:\n",
      "- 50000 x 20 data matrix\n",
      "- convergence tolerance = 1.00e-08\n",
      "- zero threshold        = 1.00e-03\n",
      "- partial SVD tolerance  = 1.00e-08\n",
      "- partial SVD max. error = 3.30e-07\n",
      "iter      objective -min(g+1) #nnz #qp #ls\n",
      "   1 3.03733620e+04 +6.30e-01   20   0   0\n",
      "   2 2.09533189e+04 +5.80e+04    1   0   1\n",
      "   3 1.28061712e+04 +2.01e+04    4   0   1\n",
      "   4 1.11122668e+04 +8.74e+03    4   0   1\n",
      "   5 1.09371560e+04 +4.16e+03    4   0   1\n",
      "   6 1.07208708e+04 +2.05e+03    3   0   1\n",
      "   7 1.05968491e+04 +1.05e+03    3   0   1\n",
      "   8 1.05219786e+04 +5.20e+02    3   0   1\n",
      "   9 1.03104419e+04 +2.57e+02    2   0   1\n",
      "  10 1.01856260e+04 +1.31e+02    3   0   1\n",
      "  11 1.01323900e+04 +6.64e+01    3   0   1\n",
      "  12 1.00470781e+04 +3.29e+01    3   0   1\n",
      "  13 9.90243273e+03 +1.64e+01    3   0   1\n",
      "  14 9.85249949e+03 +8.20e+00    3   0   1\n",
      "  15 9.81725606e+03 +3.95e+00    3   0   1\n",
      "  16 9.77615717e+03 +1.86e+00    3   0   1\n",
      "  17 9.75312640e+03 +8.52e-01    4   0   1\n",
      "  18 9.74132978e+03 +3.62e-01    4   0   1\n",
      "  19 9.73190953e+03 +1.11e-01    4   0   1\n",
      "  20 9.72793191e+03 +2.34e-02    5   0   1\n",
      "  21 9.72700023e+03 +1.85e-03    5   0   1\n",
      "  22 9.72691655e+03 +1.71e-06    5   0   1\n",
      "  23 9.72691593e+03 -3.18e-09    5   0   1\n",
      "Optimization took 23 iterations and 0.3513 seconds.\n"
     ]
    }
   ],
   "source": [
    "k   = size(L,2);\n",
    "x0  = ones(k)/k;\n",
    "out = mixSQP(L,x = x0);"
   ]
  },
  {
   "cell_type": "markdown",
   "metadata": {},
   "source": [
    "## Generate a larger data set\n",
    "\n",
    "Next, let's see what happens when we use the SQP algorithm to fit a mixture model to a much larger data set."
   ]
  },
  {
   "cell_type": "code",
   "execution_count": 7,
   "metadata": {
    "collapsed": true
   },
   "outputs": [],
   "source": [
    "srand(1);\n",
    "z = normtmixdatasim(round(Int,1e5));"
   ]
  },
  {
   "cell_type": "markdown",
   "metadata": {},
   "source": [
    "## Compute the likelihood matrix\n",
    "\n",
    "As before, we compute the $n \\times k$ likelihood matrix for a mixture of zero-centered normals. This time, we use a finer grid of $k = 40$ normal densities."
   ]
  },
  {
   "cell_type": "code",
   "execution_count": 8,
   "metadata": {},
   "outputs": [
    {
     "data": {
      "text/plain": [
       "(100000, 40)"
      ]
     },
     "execution_count": 8,
     "metadata": {},
     "output_type": "execute_result"
    }
   ],
   "source": [
    "sd = autoselectmixsd(z,nv = 40);\n",
    "L  = normlikmatrix(z,sd = sd);\n",
    "size(L)"
   ]
  },
  {
   "cell_type": "markdown",
   "metadata": {},
   "source": [
    "## Fit mixture model using SQP algorithm \n",
    "\n",
    "Even on this much larger data set, only a small number of iterations is needed to compute the solution."
   ]
  },
  {
   "cell_type": "code",
   "execution_count": 9,
   "metadata": {},
   "outputs": [
    {
     "name": "stdout",
     "output_type": "stream",
     "text": [
      "Running SQP algorithm with the following settings:\n",
      "- 100000 x 40 data matrix\n",
      "- convergence tolerance = 1.00e-08\n",
      "- zero threshold        = 1.00e-03\n",
      "- partial SVD tolerance  = 1.00e-08\n",
      "- partial SVD max. error = 1.35e-06\n",
      "iter      objective -min(g+1) #nnz #qp #ls\n",
      "   1 6.21694207e+04 +6.60e-01   40   0   0\n",
      "   2 4.83207934e+04 +3.93e-01   40   0   2\n",
      "   3 3.75596772e+04 +2.25e-01   40   0   2\n",
      "   4 2.99843226e+04 +1.23e-01   40   0   2\n",
      "   5 2.13835273e+04 +7.20e+03    3   0   1\n",
      "   6 1.98815668e+04 +2.53e+03    3   0   1\n",
      "   7 1.97762416e+04 +1.12e+03    3   0   1\n",
      "   8 1.97190698e+04 +5.21e+02    3   0   1\n",
      "   9 1.96311484e+04 +2.54e+02    3   0   1\n",
      "  10 1.95996287e+04 +1.25e+02    4   0   1\n",
      "  11 1.95641608e+04 +6.15e+01    4   0   1\n",
      "  12 1.95418659e+04 +3.09e+01    5   0   1\n",
      "  13 1.95188614e+04 +1.54e+01    5   0   1\n",
      "  14 1.95042433e+04 +7.72e+00    4   0   1\n",
      "  15 1.94888513e+04 +3.80e+00    4   0   1\n",
      "  16 1.94788438e+04 +1.87e+00    5   0   1\n",
      "  17 1.94701551e+04 +8.56e-01    5   0   1\n",
      "  18 1.94655341e+04 +3.33e-01    4   0   1\n",
      "  19 1.94621391e+04 +9.23e-02    4   0   1\n",
      "  20 1.94610866e+04 +1.37e-02    4   0   1\n",
      "  21 1.94608952e+04 +5.46e-04    4   0   1\n",
      "  22 1.94608878e+04 -3.13e-09    4   0   1\n",
      "Optimization took 22 iterations and 0.7744 seconds.\n"
     ]
    }
   ],
   "source": [
    "k   = size(L,2);\n",
    "x0  = ones(k)/k;\n",
    "out = mixSQP(L,x = x0);"
   ]
  },
  {
   "cell_type": "markdown",
   "metadata": {},
   "source": [
    "With no low-rank approximation (`lowrank = \"none\"`), the algorithm still converges even when using a very small correction factor `eps = 1e-12`."
   ]
  },
  {
   "cell_type": "code",
   "execution_count": 10,
   "metadata": {},
   "outputs": [
    {
     "name": "stdout",
     "output_type": "stream",
     "text": [
      "Running SQP algorithm with the following settings:\n",
      "- 100000 x 40 data matrix\n",
      "- convergence tolerance = 1.00e-08\n",
      "- zero threshold        = 1.00e-03\n",
      "- Exact derivative computation (partial QR not used).\n",
      "iter      objective -min(g+1) #nnz #qp #ls\n",
      "   1 6.21694226e+04 +6.60e-01   40   0   0\n",
      "   2 4.35976361e+04 +2.74e+08    2   0   1\n",
      "   3 2.63754249e+04 +9.42e+07    3   0   1\n",
      "   4 2.26716550e+04 +4.11e+07    3   0   1\n",
      "   5 2.22369707e+04 +1.93e+07    3   0   1\n",
      "   6 2.20822494e+04 +9.86e+06    3   0   1\n",
      "   7 2.17850757e+04 +4.96e+06    3   0   1\n",
      "   8 2.15686851e+04 +2.48e+06    2   0   1\n",
      "   9 2.13181590e+04 +1.28e+06    3   0   1\n",
      "  10 2.11397369e+04 +6.40e+05    2   0   1\n",
      "  11 2.08812795e+04 +3.39e+05    3   0   1\n",
      "  12 2.07941249e+04 +1.75e+05    3   0   1\n",
      "  13 2.04915356e+04 +8.97e+04    3   0   1\n",
      "  14 2.03990501e+04 +4.57e+04    3   0   1\n",
      "  15 2.01797508e+04 +2.27e+04    3   0   1\n",
      "  16 2.00663424e+04 +1.17e+04    3   0   1\n",
      "  17 2.00068966e+04 +5.91e+03    3   0   1\n",
      "  18 1.98269277e+04 +3.06e+03    3   0   1\n",
      "  19 1.97740158e+04 +1.56e+03    3   0   1\n",
      "  20 1.97130109e+04 +7.79e+02    3   0   1\n",
      "  21 1.96283745e+04 +3.99e+02    3   0   1\n",
      "  22 1.96010421e+04 +2.00e+02    4   0   1\n",
      "  23 1.95654206e+04 +9.97e+01    4   0   1\n",
      "  24 1.95444434e+04 +5.02e+01    5   0   1\n",
      "  25 1.95216090e+04 +2.51e+01    4   0   1\n",
      "  26 1.95072602e+04 +1.28e+01    4   0   1\n",
      "  27 1.94925787e+04 +6.33e+00    3   0   1\n",
      "  28 1.94817429e+04 +3.17e+00    5   0   1\n",
      "  29 1.94728348e+04 +1.50e+00    4   0   1\n",
      "  30 1.94676911e+04 +6.57e-01    5   0   1\n",
      "  31 1.94635123e+04 +2.27e-01    4   0   1\n",
      "  32 1.94615349e+04 +5.42e-02    4   0   1\n",
      "  33 1.94609587e+04 +5.31e-03    4   0   1\n",
      "  34 1.94608908e+04 +1.44e-04    4   0   1\n",
      "  35 1.94608893e+04 +1.36e-07    4   0   1\n",
      "  36 1.94608893e+04 -3.25e-13    4   0   1\n",
      "Optimization took 36 iterations and 5.3336 seconds.\n"
     ]
    }
   ],
   "source": [
    "out = mixSQP(L,x = x0,lowrank = \"none\",eps = 1e-12);"
   ]
  },
  {
   "cell_type": "markdown",
   "metadata": {},
   "source": [
    "## Session information\n",
    "\n",
    "The section gives information about the computing environment used to generate the results contained in this\n",
    "notebook, including the version of Julia, and the versions of the Julia packages used here. "
   ]
  },
  {
   "cell_type": "code",
   "execution_count": 11,
   "metadata": {},
   "outputs": [
    {
     "name": "stdout",
     "output_type": "stream",
     "text": [
      " - Distributions                 0.15.0\n",
      " - LowRankApprox                 0.1.1\n",
      "Julia Version 0.6.2\n",
      "Commit d386e40c17 (2017-12-13 18:08 UTC)\n",
      "Platform Info:\n",
      "  OS: macOS (x86_64-apple-darwin14.5.0)\n",
      "  CPU: Intel(R) Core(TM) i7-7567U CPU @ 3.50GHz\n",
      "  WORD_SIZE: 64\n",
      "  BLAS: libopenblas (USE64BITINT DYNAMIC_ARCH NO_AFFINITY Prescott)\n",
      "  LAPACK: libopenblas64_\n",
      "  LIBM: libopenlibm\n",
      "  LLVM: libLLVM-3.9.1 (ORCJIT, broadwell)\n"
     ]
    }
   ],
   "source": [
    "Pkg.status(\"Distributions\");\n",
    "Pkg.status(\"LowRankApprox\");\n",
    "versioninfo();"
   ]
  }
 ],
 "metadata": {
  "kernelspec": {
   "display_name": "Julia 0.6.2",
   "language": "julia",
   "name": "julia-0.6"
  },
  "language_info": {
   "file_extension": ".jl",
   "mimetype": "application/julia",
   "name": "julia",
   "version": "0.6.2"
  }
 },
 "nbformat": 4,
 "nbformat_minor": 2
}
