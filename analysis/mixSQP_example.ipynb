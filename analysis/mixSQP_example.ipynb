{
 "cells": [
  {
   "cell_type": "markdown",
   "metadata": {},
   "source": [
    "# Illustration of mix-SQP solver applied to a small data set, and a large one\n",
    "\n",
    "## Analysis setup\n",
    "\n",
    "We begin by loading the Distributions and LowRankApprox Julia packages, as well as some function definitions used in the code chunks below."
   ]
  },
  {
   "cell_type": "code",
   "execution_count": 1,
   "metadata": {
    "collapsed": true
   },
   "outputs": [],
   "source": [
    "using Distributions\n",
    "using LowRankApprox\n",
    "include(\"../code/julia/datasim.jl\");\n",
    "include(\"../code/julia/likelihood.jl\");\n",
    "include(\"../code/julia/mixSQP.jl\");"
   ]
  },
  {
   "cell_type": "markdown",
   "metadata": {},
   "source": [
    "Next, initialize the sequence of pseudorandom numbers."
   ]
  },
  {
   "cell_type": "code",
   "execution_count": 2,
   "metadata": {
    "collapsed": true
   },
   "outputs": [],
   "source": [
    "srand(1);"
   ]
  },
  {
   "cell_type": "markdown",
   "metadata": {},
   "source": [
    "## Generate a small data set\n",
    "\n",
    "Let's start with a smaller example with 50,000 samples."
   ]
  },
  {
   "cell_type": "code",
   "execution_count": 3,
   "metadata": {
    "collapsed": true
   },
   "outputs": [],
   "source": [
    "x = normtmixdatasim(round(Int,5e4));"
   ]
  },
  {
   "cell_type": "markdown",
   "metadata": {},
   "source": [
    "## Compute the likelihood matrix\n",
    "\n",
    "Compute the $n \\times k$ likelihood matrix for a mixture of zero-centered normals, with $k = 20$. Note that the rows of the likelihood matrix are normalized by default."
   ]
  },
  {
   "cell_type": "code",
   "execution_count": 4,
   "metadata": {},
   "outputs": [
    {
     "data": {
      "text/plain": [
       "(50000, 20)"
      ]
     },
     "execution_count": 4,
     "metadata": {},
     "output_type": "execute_result"
    }
   ],
   "source": [
    "sd = autoselectmixsd(x,nv = 20);\n",
    "L  = normlikmatrix(x,sd = sd);\n",
    "size(L)"
   ]
  },
  {
   "cell_type": "markdown",
   "metadata": {},
   "source": [
    "## Fit mixture model using SQP algorithm \n",
    "\n",
    "First we run the mix-SQP algorithm once to precompile the function."
   ]
  },
  {
   "cell_type": "code",
   "execution_count": 5,
   "metadata": {
    "collapsed": true
   },
   "outputs": [],
   "source": [
    "out = mixSQP(L,verbose = false);"
   ]
  },
  {
   "cell_type": "markdown",
   "metadata": {},
   "source": [
    "Observe that only a small number of iterations is needed to converge to the solution of the constrained optimization problem."
   ]
  },
  {
   "cell_type": "code",
   "execution_count": 9,
   "metadata": {},
   "outputs": [
    {
     "name": "stdout",
     "output_type": "stream",
     "text": [
      "Running SQP algorithm with the following settings:\n",
      "- 50000 x 20 data matrix\n",
      "- convergence tolerance = 1.00e-08\n",
      "- zero threshold        = 1.00e-03\n",
      "- Exact derivative computation (partial QR not used).\n",
      "iter      objective -min(g+1) #nnz #qp #ls\n",
      "   1 3.03732706e+04 +6.30e-01   20   0   0\n",
      "   2 3.03578835e+04 +6.29e-01   20  30  10\n",
      "   3 3.03425042e+04 +6.28e-01   20  30  10\n",
      "   4 3.03271328e+04 +6.28e-01   20  30  10\n",
      "   5 3.03117692e+04 +6.27e-01   20  30  10\n",
      "   6 3.02964134e+04 +6.27e-01   20  30  10\n",
      "   7 3.02810655e+04 +6.26e-01   20  30  10\n",
      "   8 3.02657255e+04 +6.25e-01   20  30  10\n",
      "   9 3.02503933e+04 +6.25e-01   20  30  10\n",
      "  10 3.02350689e+04 +6.24e-01   20  30  10\n",
      "  11 3.02197524e+04 +6.24e-01   20  30  10\n",
      "  12 3.02044438e+04 +6.23e-01   20  30  10\n",
      "  13 3.01891430e+04 +6.22e-01   20  30  10\n",
      "  14 3.01738501e+04 +6.22e-01   20  30  10\n",
      "  15 3.01585650e+04 +6.21e-01   20  30  10\n",
      "  16 3.01432878e+04 +6.21e-01   20  30  10\n",
      "  17 3.01280185e+04 +6.20e-01   20  30  10\n",
      "  18 3.01127570e+04 +6.19e-01   20  30  10\n",
      "  19 3.00975034e+04 +6.19e-01   20  30  10\n",
      "  20 3.00822577e+04 +6.18e-01   20  30  10\n",
      "  21 3.00670198e+04 +6.18e-01   20  30  10\n",
      "  22 3.00517898e+04 +6.17e-01   20  30  10\n",
      "  23 3.00365677e+04 +6.16e-01   20  30  10\n",
      "  24 3.00213535e+04 +6.16e-01   20  30  10\n",
      "  25 3.00061471e+04 +6.15e-01   20  30  10\n",
      "  26 2.99909486e+04 +6.15e-01   20  30  10\n",
      "  27 2.99757584e+04 +6.14e-01   20  29  10\n",
      "  28 2.99605764e+04 +6.13e-01   20  29  10\n",
      "  29 2.99454028e+04 +6.13e-01   20  29  10\n",
      "  30 2.99302374e+04 +6.12e-01   20  29  10\n",
      "  31 2.99150804e+04 +6.12e-01   20  29  10\n",
      "  32 2.98999316e+04 +6.11e-01   20  29  10\n",
      "  33 2.98847912e+04 +6.10e-01   20  29  10\n",
      "  34 2.98696590e+04 +6.10e-01   20  29  10\n",
      "  35 2.98545352e+04 +6.09e-01   20  29  10\n",
      "  36 2.98394196e+04 +6.09e-01   20  29  10\n",
      "  37 2.98243123e+04 +6.08e-01   20  29  10\n",
      "  38 2.98092134e+04 +6.07e-01   20  29  10\n",
      "  39 2.97941227e+04 +6.07e-01   20  29  10\n",
      "  40 2.97790403e+04 +6.06e-01   20  29  10\n",
      "  41 2.97639662e+04 +6.06e-01   20  29  10\n",
      "  42 2.97489004e+04 +6.05e-01   20  29  10\n",
      "  43 2.97338429e+04 +6.04e-01   20  29  10\n",
      "  44 2.97187937e+04 +6.04e-01   20  29  10\n",
      "  45 2.97037528e+04 +6.03e-01   20  29  10\n",
      "  46 2.96887202e+04 +6.03e-01   20  29  10\n",
      "  47 2.96736958e+04 +6.02e-01   20  29  10\n",
      "  48 2.96586798e+04 +6.01e-01   20  29  10\n",
      "  49 2.96436720e+04 +6.01e-01   20  29  10\n",
      "  50 2.96286725e+04 +6.00e-01   20  29  10\n",
      "  51 2.96136814e+04 +6.00e-01   20  29  10\n",
      "  52 2.95986985e+04 +5.99e-01   20  29  10\n",
      "  53 2.95837239e+04 +5.99e-01   20  29  10\n",
      "  54 2.95687575e+04 +5.98e-01   20  29  10\n",
      "  55 2.95537995e+04 +5.97e-01   20  29  10\n",
      "  56 2.95388498e+04 +5.97e-01   20  29  10\n",
      "  57 2.95239083e+04 +5.96e-01   20  29  10\n",
      "  58 2.95089751e+04 +5.96e-01   20  29  10\n",
      "  59 2.94940502e+04 +5.95e-01   20  29  10\n",
      "  60 2.94791336e+04 +5.94e-01   20  29  10\n",
      "  61 2.94642253e+04 +5.94e-01   20  29  10\n",
      "  62 2.94493252e+04 +5.93e-01   20  29  10\n",
      "  63 2.94344334e+04 +5.93e-01   20  29  10\n",
      "  64 2.94195500e+04 +5.92e-01   20  29  10\n",
      "  65 2.94046747e+04 +5.92e-01   20  29  10\n",
      "  66 2.93898078e+04 +5.91e-01   20  29  10\n",
      "  67 2.93749492e+04 +5.90e-01   20  29  10\n",
      "  68 2.93600988e+04 +5.90e-01   20  29  10\n",
      "  69 2.93452567e+04 +5.89e-01   20  29  10\n",
      "  70 2.93304229e+04 +5.89e-01   20  29  10\n",
      "  71 2.93155973e+04 +5.88e-01   20  29  10\n",
      "  72 2.93007800e+04 +5.88e-01   20  29  10\n",
      "  73 2.92859711e+04 +5.87e-01   20  29  10\n",
      "  74 2.92711703e+04 +5.86e-01   20  29  10\n",
      "  75 2.92563779e+04 +5.86e-01   20  29  10\n",
      "  76 2.92415937e+04 +5.85e-01   20  29  10\n",
      "  77 2.92268178e+04 +5.85e-01   20  29  10\n",
      "  78 2.92120502e+04 +5.84e-01   20  29  10\n",
      "  79 2.91972908e+04 +5.84e-01   20  29  10\n",
      "  80 2.91825397e+04 +5.83e-01   20  29  10\n",
      "  81 2.91677969e+04 +5.82e-01   20  29  10\n",
      "  82 2.91530623e+04 +5.82e-01   20  29  10\n",
      "  83 2.91383360e+04 +5.81e-01   20  29  10\n",
      "  84 2.91236180e+04 +5.81e-01   20  29  10\n",
      "  85 2.91089082e+04 +5.80e-01   20  29  10\n",
      "  86 2.90942068e+04 +5.80e-01   20  29  10\n",
      "  87 2.90795135e+04 +5.79e-01   20  29  10\n",
      "  88 2.90648286e+04 +5.78e-01   20  29  10\n",
      "  89 2.90501519e+04 +5.78e-01   20  29  10\n",
      "  90 2.90354834e+04 +5.77e-01   20  29  10\n",
      "  91 2.90208232e+04 +5.77e-01   20  29  10\n",
      "  92 2.90061713e+04 +5.76e-01   20  29  10\n",
      "  93 2.89915277e+04 +5.76e-01   20  29  10\n",
      "  94 2.89768923e+04 +5.75e-01   20  29  10\n",
      "  95 2.89622651e+04 +5.74e-01   20  29  10\n",
      "  96 2.89476463e+04 +5.74e-01   20  29  10\n",
      "  97 2.89330356e+04 +5.73e-01   20  29  10\n",
      "  98 2.89184333e+04 +5.73e-01   20  29  10\n",
      "  99 2.89038392e+04 +5.72e-01   20  29  10\n",
      " 100 2.88892533e+04 +5.72e-01   20  29  10\n",
      "Optimization took 100 iterations and 6.3886 seconds.\n"
     ]
    }
   ],
   "source": [
    "k   = size(L,2);\n",
    "x0  = ones(k)/k;\n",
    "out = mixSQP(L,x = x0,lowrank = \"none\",eps = 1e-6);"
   ]
  },
  {
   "cell_type": "markdown",
   "metadata": {},
   "source": [
    "## Generate a larger data set\n",
    "\n",
    "Next, let's see what happens when we use the SQP algorithm to fit a mixture model to a much larger data set."
   ]
  },
  {
   "cell_type": "code",
   "execution_count": null,
   "metadata": {
    "collapsed": true
   },
   "outputs": [],
   "source": [
    "srand(3);\n",
    "x = normtmixdatasim(round(Int,1e6));"
   ]
  },
  {
   "cell_type": "markdown",
   "metadata": {},
   "source": [
    "## Compute the likelihood matrix\n",
    "\n",
    "As before, we compute the $n \\times k$ likelihood matrix for a mixture of zero-centered normals. This time, we use a finer grid of $k = 100$ normal densities."
   ]
  },
  {
   "cell_type": "code",
   "execution_count": null,
   "metadata": {},
   "outputs": [],
   "source": [
    "sd = autoselectmixsd(x,nv = 100);\n",
    "L  = normlikmatrix(x,sd = sd);\n",
    "size(L)"
   ]
  },
  {
   "cell_type": "markdown",
   "metadata": {},
   "source": [
    "## Fit mixture model using SQP algorithm \n",
    "\n",
    "Even on this much larger data set, only a small number of iterations is needed to compute the solution."
   ]
  },
  {
   "cell_type": "code",
   "execution_count": null,
   "metadata": {},
   "outputs": [],
   "source": [
    "k   = size(L,2);\n",
    "x0  = ones(k)/k;\n",
    "out = mixSQP(L,x = x0,lowrank = \"none\");"
   ]
  },
  {
   "cell_type": "markdown",
   "metadata": {},
   "source": [
    "## Session information\n",
    "\n",
    "The section gives information about the computing environment used to generate the results contained in this\n",
    "notebook, including the version of Julia, and the versions of the Julia packages used here. "
   ]
  },
  {
   "cell_type": "code",
   "execution_count": null,
   "metadata": {
    "collapsed": true
   },
   "outputs": [],
   "source": [
    "Pkg.status(\"Distributions\");\n",
    "Pkg.status(\"LowRankApprox\");\n",
    "versioninfo();"
   ]
  }
 ],
 "metadata": {
  "kernelspec": {
   "display_name": "Julia 0.6.2",
   "language": "julia",
   "name": "julia-0.6"
  },
  "language_info": {
   "file_extension": ".jl",
   "mimetype": "application/julia",
   "name": "julia",
   "version": "0.6.2"
  }
 },
 "nbformat": 4,
 "nbformat_minor": 2
}
