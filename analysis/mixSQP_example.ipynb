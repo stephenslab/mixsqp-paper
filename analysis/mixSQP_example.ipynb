{
 "cells": [
  {
   "cell_type": "code",
   "execution_count": 3,
   "metadata": {},
   "outputs": [],
   "source": [
    "using CSV\n",
    "using LowRankApprox"
   ]
  },
  {
   "cell_type": "code",
   "execution_count": 5,
   "metadata": {},
   "outputs": [],
   "source": [
    "# make a large data set and save it to ../data/sample100000x100.txt\n",
    "include(\"../code/julia/ash.jl\");\n",
    "include(\"../code/julia/mixSQP_time.jl\");\n",
    "include(\"../code/julia/makedata.jl\");"
   ]
  },
  {
   "cell_type": "code",
   "execution_count": 6,
   "metadata": {
    "collapsed": true
   },
   "outputs": [],
   "source": [
    "L1 = Array{Float64,2}(CSV.read(\"../data/sample5000x20.txt\", nullable = false, header = false, delim = ' '));\n",
    "L2 = Array{Float64,2}(CSV.read(\"../data/sample100000x100.txt\", nullable = false, header = false, delim = ' '));"
   ]
  },
  {
   "cell_type": "code",
   "execution_count": 7,
   "metadata": {},
   "outputs": [
    {
     "name": "stdout",
     "output_type": "stream",
     "text": [
      "Running SQP algorithm with the following settings:\n",
      "- 5000 x 20 data matrix\n",
      "- convergence tolerance = 1.00e-08\n",
      "- zero threshold        = 1.00e-03\n",
      "- partial SVD tolerance  = 1.00e-10\n",
      "- partial SVD max. error = 1.98e-10\n",
      "iter       objective -min(g+1) #nnz #qp\n",
      "   1 2.95206790e+03 +1.81e-01   20   0\n",
      "   2 2.55805274e+03 +2.20e-01    3  22\n",
      "   3 2.37809188e+03 +4.08e-02    3   2\n",
      "   4 2.34432187e+03 +5.72e-03    3   2\n",
      "   5 2.33599066e+03 +2.59e-04    3   2\n",
      "   6 2.33556636e+03 +4.81e-07    3   2\n",
      "   7 2.33556553e+03 -9.52e-09    3   2\n",
      "Optimization took 7 iterations and 0.1432 seconds.\n"
     ]
    }
   ],
   "source": [
    "include(\"../code/julia/mixSQP.jl\");\n",
    "x1 = mixSQP(L1, x = ones(size(L1,2))/size(L1,2); convtol = 1e-8,\n",
    "                pqrtol = 1e-10, eps = 1e-8, sptol = 1e-3,\n",
    "                maxiter = 100, maxqpiter = 100,\n",
    "                lowrank = \"svd\", seed = 1, verbose = true);"
   ]
  },
  {
   "cell_type": "code",
   "execution_count": 8,
   "metadata": {},
   "outputs": [
    {
     "name": "stdout",
     "output_type": "stream",
     "text": [
      "Running SQP algorithm with the following settings:\n",
      "- 100000 x 100 data matrix\n",
      "- convergence tolerance = 1.00e-08\n",
      "- zero threshold        = 1.00e-03\n",
      "- partial QR tolerance  = 1.00e-10\n",
      "- partial QR max. error = 2.69e-09\n",
      "iter       objective -min(g+1) #nnz #qp\n",
      "   1 5.03421516e+04 +2.90e-01  100   0\n",
      "   2 5.19513613e+04 +1.06e-01    4 100\n",
      "   3 4.83001092e+04 +1.57e-02    4  26\n",
      "   4 4.76838683e+04 +4.20e-04    3  12\n",
      "   5 4.76630722e+04 +4.85e-07    3   2\n",
      "   6 4.76630469e+04 -9.29e-09    3   2\n",
      "Optimization took 6 iterations and 1.3078 seconds.\n"
     ]
    }
   ],
   "source": [
    "x2 = mixSQP(L2, x = ones(size(L2,2))/size(L2,2); convtol = 1e-8,\n",
    "                pqrtol = 1e-10, eps = 1e-8, sptol = 1e-3,\n",
    "                maxiter = 100, maxqpiter = 100,\n",
    "                lowrank = \"qr\", seed = 1, verbose = true);"
   ]
  },
  {
   "cell_type": "markdown",
   "metadata": {},
   "source": [
    "## Session information\n",
    "\n",
    "The section gives information about the computing environment used to generate the results contained in this\n",
    "manuscript, including the version of Julia, Python and the Julia packages. "
   ]
  },
  {
   "cell_type": "code",
   "execution_count": 9,
   "metadata": {},
   "outputs": [
    {
     "name": "stdout",
     "output_type": "stream",
     "text": [
      " - CSV                           0.1.5\n"
     ]
    }
   ],
   "source": [
    "Pkg.status(\"CSV\")"
   ]
  },
  {
   "cell_type": "code",
   "execution_count": 10,
   "metadata": {},
   "outputs": [
    {
     "name": "stdout",
     "output_type": "stream",
     "text": [
      "Julia Version 0.6.2\n",
      "Commit d386e40c17 (2017-12-13 18:08 UTC)\n",
      "Platform Info:\n",
      "  OS: macOS (x86_64-apple-darwin14.5.0)\n",
      "  CPU: Intel(R) Core(TM) i7-7567U CPU @ 3.50GHz\n",
      "  WORD_SIZE: 64\n",
      "  BLAS: libopenblas (USE64BITINT DYNAMIC_ARCH NO_AFFINITY Prescott)\n",
      "  LAPACK: libopenblas64_\n",
      "  LIBM: libopenlibm\n",
      "  LLVM: libLLVM-3.9.1 (ORCJIT, broadwell)\n"
     ]
    }
   ],
   "source": [
    "versioninfo()"
   ]
  }
 ],
 "metadata": {
  "kernelspec": {
   "display_name": "Julia 0.6.2",
   "language": "julia",
   "name": "julia-0.6"
  },
  "language_info": {
   "file_extension": ".jl",
   "mimetype": "application/julia",
   "name": "julia",
   "version": "0.6.2"
  }
 },
 "nbformat": 4,
 "nbformat_minor": 2
}
