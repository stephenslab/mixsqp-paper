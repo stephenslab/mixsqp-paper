{
 "cells": [
  {
   "cell_type": "code",
   "execution_count": 1,
   "metadata": {},
   "outputs": [],
   "source": [
    "# Short script to test the projected gradient method against other\n",
    "# algorithms.\n",
    "using Distributions\n",
    "using LowRankApprox\n",
    "include(\"../code/datasim.jl\");\n",
    "include(\"../code/likelihood.jl\");\n",
    "include(\"../code/mixEM.jl\");\n",
    "include(\"../code/mixGD.jl\");\n",
    "include(\"../code/mixSQP.jl\");\n",
    "\n",
    "# Initialize the sequence of pseudorandom numbers.\n",
    "srand(1);\n",
    "\n",
    "# Generate a data set with n = 50,000.\n",
    "z = normtmixdatasim(round(Int,1000));\n",
    "\n",
    "# Compute the 50,000 x 20 likelihood matrix.\n",
    "sd = autoselectmixsd(z,nv = 10000);\n",
    "L  = normlikmatrix(z,sd = sd);"
   ]
  },
  {
   "cell_type": "code",
   "execution_count": 31,
   "metadata": {},
   "outputs": [],
   "source": [
    "# Initialize the sequence of pseudorandom numbers.\n",
    "srand(1);\n",
    "\n",
    "# Generate a data set with n = 50,000.\n",
    "z = normtmixdatasim(round(Int,2000));\n",
    "\n",
    "# Compute the 50,000 x 20 likelihood matrix.\n",
    "sd = autoselectmixsd(z,nv = 2000);\n",
    "L  = normlikmatrix(z,sd = sd);"
   ]
  },
  {
   "cell_type": "code",
   "execution_count": 30,
   "metadata": {},
   "outputs": [],
   "source": [
    "# Initialize the sequence of pseudorandom numbers.\n",
    "srand(1);\n",
    "\n",
    "# Generate a data set with n = 50,000.\n",
    "z = normtmixdatasim(round(Int,50000));\n",
    "\n",
    "# Compute the 50,000 x 20 likelihood matrix.\n",
    "sd = autoselectmixsd(z,nv = 100);\n",
    "L  = normlikmatrix(z,sd = sd);"
   ]
  },
  {
   "cell_type": "code",
   "execution_count": 36,
   "metadata": {},
   "outputs": [
    {
     "data": {
      "text/plain": [
       "\"/Users/yosikim/.Trash/mixsqp-paper/analysis\""
      ]
     },
     "execution_count": 36,
     "metadata": {},
     "output_type": "execute_result"
    }
   ],
   "source": [
    "matwrite(\"d1.mat\", Dict(:L => L))"
   ]
  },
  {
   "cell_type": "code",
   "execution_count": 33,
   "metadata": {},
   "outputs": [
    {
     "name": "stdout",
     "output_type": "stream",
     "text": [
      " 10.012371 seconds (85.88 k allocations: 5.467 GiB, 58.16% gc time)\n",
      "  9.508079 seconds (489.05 k allocations: 3.710 GiB, 30.32% gc time)\n",
      "  0.445564 seconds (12.17 k allocations: 276.052 MiB, 47.61% gc time)\n",
      "  6.450293 seconds (345.11 k allocations: 429.411 MiB, 0.94% gc time)\n",
      "Objective at SQP  solution: 4.083038522989e+02\n",
      "Objective at SQP2 solution: 4.083038523657e+02\n",
      "Objective at EM   solution:  4.575111761859e+02\n",
      "Objective at PGD  solution: 4.092928384756e+02\n"
     ]
    }
   ],
   "source": [
    "# Run the mix-SQP algorithm.\n",
    "@time outsqp = mixSQP(L,lowrank = \"none\", eps = 1e-8, maxqpiter = 300, verbose = false);\n",
    "@time outsqp2 = mixSQP(L,lowrank = \"qr\", eps = 1e-8, maxqpiter = 300, verbose = false);\n",
    "\n",
    "# Run the EM algorithm.\n",
    "@time xem, fem = mixEM(L,maxiter = 1000,tol = 1e-4);\n",
    "\n",
    "# Run the projected gradient descent method.\n",
    "@time xpgd, fpgd = mixGD(L,maxiter = 3000, alpha = 10);\n",
    "\n",
    "# Compare the quality of the solutions.\n",
    "@printf \"Objective at SQP  solution: %0.12e\\n\" mixobjective(L,outsqp[\"x\"])\n",
    "@printf \"Objective at SQP2 solution: %0.12e\\n\" mixobjective(L,outsqp2[\"x\"])\n",
    "@printf \"Objective at EM   solution:  %0.12e\\n\" mixobjective(L,xem)\n",
    "@printf \"Objective at PGD  solution: %0.12e\\n\" mixobjective(L,xpgd)"
   ]
  }
 ],
 "metadata": {
  "kernelspec": {
   "display_name": "Julia 0.6.2",
   "language": "julia",
   "name": "julia-0.6"
  },
  "language_info": {
   "file_extension": ".jl",
   "mimetype": "application/julia",
   "name": "julia",
   "version": "0.6.2"
  }
 },
 "nbformat": 4,
 "nbformat_minor": 2
}
