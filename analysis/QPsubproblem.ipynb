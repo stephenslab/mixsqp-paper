{
 "cells": [
  {
   "cell_type": "code",
   "execution_count": null,
   "metadata": {
    "collapsed": true
   },
   "outputs": [],
   "source": []
  },
  {
   "cell_type": "code",
   "execution_count": 66,
   "metadata": {
    "collapsed": true
   },
   "outputs": [],
   "source": [
    "# include(\"../code/julia/makedata.jl\");\n",
    "L = Array{Float64,2}(CSV.read(\"../data/sample100000x100.txt\", nullable = false, header = false, delim = ' '));"
   ]
  },
  {
   "cell_type": "code",
   "execution_count": 100,
   "metadata": {
    "collapsed": true
   },
   "outputs": [],
   "source": [
    "include(\"../code/julia/QPsubprob.jl\");"
   ]
  },
  {
   "cell_type": "code",
   "execution_count": 101,
   "metadata": {},
   "outputs": [
    {
     "data": {
      "text/plain": [
       "Dict{String,Any} with 4 entries:\n",
       "  \"timing\"      => [0.0511951, 0.0010846, 0.00095883, 0.00103025, 0.00100715, 0…\n",
       "  \"linesearch\"  => [2.0, 1.0, 1.0, 1.0, 1.0, 1.0, 1.0, 1.0, 1.0, 1.0  …  1.0, 1…\n",
       "  \"totalQPtime\" => 0.0678874\n",
       "  \"numiter\"     => 23"
      ]
     },
     "execution_count": 101,
     "metadata": {},
     "output_type": "execute_result"
    }
   ],
   "source": [
    "QPsubprob(L, initialize = \"sparse\", method = \"activeset\", warmstart = false)"
   ]
  },
  {
   "cell_type": "code",
   "execution_count": 102,
   "metadata": {},
   "outputs": [
    {
     "data": {
      "text/plain": [
       "Dict{String,Any} with 4 entries:\n",
       "  \"timing\"      => [0.000999656, 0.00129793, 0.00127699, 0.00130211, 0.0012645,…\n",
       "  \"linesearch\"  => [2.0, 1.0, 1.0, 1.0, 1.0, 1.0, 1.0, 1.0, 1.0, 1.0  …  1.0, 1…\n",
       "  \"totalQPtime\" => 0.0182802\n",
       "  \"numiter\"     => 23"
      ]
     },
     "execution_count": 102,
     "metadata": {},
     "output_type": "execute_result"
    }
   ],
   "source": [
    "QPsubprob(L, initialize = \"sparse\", method = \"activeset\", warmstart = true)"
   ]
  },
  {
   "cell_type": "code",
   "execution_count": 103,
   "metadata": {},
   "outputs": [
    {
     "data": {
      "text/plain": [
       "Dict{String,Any} with 4 entries:\n",
       "  \"timing\"      => [1.64705, 1.47268, 1.3802, 1.56387, 1.54196, 1.37699, 1.3352…\n",
       "  \"linesearch\"  => [2.0, 1.0, 1.0, 1.0, 1.0, 1.0, 1.0, 1.0, 1.0, 1.0  …  1.0, 1…\n",
       "  \"totalQPtime\" => 24.7589\n",
       "  \"numiter\"     => 23"
      ]
     },
     "execution_count": 103,
     "metadata": {},
     "output_type": "execute_result"
    }
   ],
   "source": [
    "QPsubprob(L, initialize = \"sparse\", method = \"interiorpoint\")"
   ]
  },
  {
   "cell_type": "code",
   "execution_count": 53,
   "metadata": {
    "collapsed": true
   },
   "outputs": [],
   "source": [
    "srand(1)\n",
    "x = [randn(10^6);3*randn(10^6)];\n",
    "s = ones(2*10^6); \n",
    "L = ash(x,s, mult = 1.05)[3];"
   ]
  },
  {
   "cell_type": "code",
   "execution_count": 54,
   "metadata": {},
   "outputs": [
    {
     "data": {
      "text/plain": [
       "Dict{String,Any} with 5 entries:\n",
       "  \"timing\"      => [0.00666852, 0.000909547, 0.00124374, 0.000965151, 0.0008556…\n",
       "  \"x\"           => [0.499933, 0.0, 0.0, 0.0, 0.0, 0.0, 0.0, 0.0, 0.0, 0.0  …  0…\n",
       "  \"linesearch\"  => [7.0, 5.0, 4.0, 2.0, 1.0, 1.0, 1.0, 1.0, 1.0, 1.0, 1.0, 1.0,…\n",
       "  \"totalQPtime\" => 0.0182387\n",
       "  \"numiter\"     => 16"
      ]
     },
     "execution_count": 54,
     "metadata": {},
     "output_type": "execute_result"
    }
   ],
   "source": [
    "QPsubprob(L, initialize = \"sparse\", warmstart = false)"
   ]
  },
  {
   "cell_type": "code",
   "execution_count": 55,
   "metadata": {},
   "outputs": [
    {
     "data": {
      "text/plain": [
       "Dict{String,Any} with 5 entries:\n",
       "  \"timing\"      => [0.00691269, 0.000331555, 0.000515658, 0.000268786, 0.000453…\n",
       "  \"x\"           => [0.499933, 0.0, 0.0, 0.0, 0.0, 0.0, 0.0, 0.0, 0.0, 0.0  …  0…\n",
       "  \"linesearch\"  => [7.0, 5.0, 4.0, 2.0, 1.0, 1.0, 1.0, 1.0, 1.0, 1.0, 1.0, 1.0,…\n",
       "  \"totalQPtime\" => 0.0152202\n",
       "  \"numiter\"     => 16"
      ]
     },
     "execution_count": 55,
     "metadata": {},
     "output_type": "execute_result"
    }
   ],
   "source": [
    "QPsubprob(L, initialize = \"sparse\", warmstart = true)"
   ]
  },
  {
   "cell_type": "code",
   "execution_count": 183,
   "metadata": {},
   "outputs": [
    {
     "data": {
      "text/plain": [
       "mosek_qp (generic function with 1 method)"
      ]
     },
     "execution_count": 183,
     "metadata": {},
     "output_type": "execute_result"
    }
   ],
   "source": [
    "# solve minimize 0.5y'Hy + y'g subject to y>=0\n",
    "function mosek_qp(g,H)\n",
    "    m = length(g)\n",
    "    \n",
    "    bkc   = repmat([MSK_BK_LO], m, 1)[:]\n",
    "    blc   = zeros(m)\n",
    "    buc   = Inf * ones(m)\n",
    "    \n",
    "    bkx   = repmat([MSK_BK_LO], m, 1)[:]\n",
    "    blx   = zeros(m)\n",
    "    bux   = Inf * ones(m)\n",
    "    numvar = length(bkx)\n",
    "    numcon = length(bkc)\n",
    "    \n",
    "    c     = g\n",
    "    A     = speye(m)\n",
    "    \n",
    "    x     = zeros(m)\n",
    "    \n",
    "    maketask() do task\n",
    "\n",
    "        # Append 'numcon' empty constraints.\n",
    "        # The constraints will initially have no bounds.  \n",
    "        appendcons(task,numcon)\n",
    "\n",
    "        # Append 'numvar' variables.\n",
    "        # The variables will initially be fixed at zero (x=0). \n",
    "        appendvars(task,numvar)\n",
    "\n",
    "        # Set the linear term c_j in the objective.\n",
    "        putclist(task,[1:numvar;],c)\n",
    "\n",
    "        # Set the bounds on variable j\n",
    "        # blx[j] <= x_j <= bux[j] \n",
    "        putvarboundslice(task,1,numvar+1,bkx,blx,bux)\n",
    "\n",
    "        putacolslice(task,1,numvar+1,\n",
    "                     A.colptr[1:numvar],A.colptr[2:numvar+1],\n",
    "                     A.rowval,A.nzval)\n",
    "\n",
    "        putqobj(task,repeat(1:m,outer = m),repeat(1:m,inner = m),H[:])\n",
    "\n",
    "        putobjsense(task,MSK_OBJECTIVE_SENSE_MINIMIZE)\n",
    "\n",
    "        # Optimize\n",
    "        optimize(task)\n",
    "\n",
    "        prosta = getprosta(task,MSK_SOL_ITR)\n",
    "        solsta = getsolsta(task,MSK_SOL_ITR)\n",
    "\n",
    "        x = getxx(task,MSK_SOL_ITR)\n",
    "    end\n",
    "    return x\n",
    "end"
   ]
  },
  {
   "cell_type": "code",
   "execution_count": 184,
   "metadata": {},
   "outputs": [
    {
     "ename": "LoadError",
     "evalue": "\u001b[91mMosek.MosekError(1415, \"Only elements in the lower triangle of the quadratic term in the objective should be specified. The element q[0,1] is in the upper triangle.\")\u001b[39m",
     "output_type": "error",
     "traceback": [
      "\u001b[91mMosek.MosekError(1415, \"Only elements in the lower triangle of the quadratic term in the objective should be specified. The element q[0,1] is in the upper triangle.\")\u001b[39m",
      "",
      "Stacktrace:",
      " [1] \u001b[1mputqobj\u001b[22m\u001b[22m\u001b[1m(\u001b[22m\u001b[22m::Mosek.Task, ::Array{Int32,1}, ::Array{Int32,1}, ::Array{Float64,1}\u001b[1m)\u001b[22m\u001b[22m at \u001b[1m/Users/yosikim/.julia/v0.6/Mosek/src/msk_functions.jl:6644\u001b[22m\u001b[22m",
      " [2] \u001b[1mputqobj\u001b[22m\u001b[22m\u001b[1m(\u001b[22m\u001b[22m::Mosek.Task, ::Array{Int64,1}, ::Array{Int64,1}, ::Array{Float64,1}\u001b[1m)\u001b[22m\u001b[22m at \u001b[1m/Users/yosikim/.julia/v0.6/Mosek/src/msk_functions.jl:6628\u001b[22m\u001b[22m",
      " [3] \u001b[1m(::##1049#1050{Array{Float64,2},Int64,Array{Mosek.Boundkey,1},Array{Float64,1},Array{Float64,1},Int64,Int64,Array{Float64,1},SparseMatrixCSC{Float64,Int64}})\u001b[22m\u001b[22m\u001b[1m(\u001b[22m\u001b[22m::Mosek.Task\u001b[1m)\u001b[22m\u001b[22m at \u001b[1m./In[183]:41\u001b[22m\u001b[22m",
      " [4] \u001b[1mmaketask\u001b[22m\u001b[22m\u001b[1m(\u001b[22m\u001b[22m::##1049#1050{Array{Float64,2},Int64,Array{Mosek.Boundkey,1},Array{Float64,1},Array{Float64,1},Int64,Int64,Array{Float64,1},SparseMatrixCSC{Float64,Int64}}\u001b[1m)\u001b[22m\u001b[22m at \u001b[1m/Users/yosikim/.julia/v0.6/Mosek/src/Mosek.jl:206\u001b[22m\u001b[22m",
      " [5] \u001b[1mmosek_qp\u001b[22m\u001b[22m\u001b[1m(\u001b[22m\u001b[22m::Array{Float64,1}, ::Array{Float64,2}\u001b[1m)\u001b[22m\u001b[22m at \u001b[1m./In[183]:20\u001b[22m\u001b[22m",
      " [6] \u001b[1minclude_string\u001b[22m\u001b[22m\u001b[1m(\u001b[22m\u001b[22m::String, ::String\u001b[1m)\u001b[22m\u001b[22m at \u001b[1m./loading.jl:522\u001b[22m\u001b[22m"
     ]
    }
   ],
   "source": [
    "mosek_qp(g,H)"
   ]
  }
 ],
 "metadata": {
  "kernelspec": {
   "display_name": "Julia 0.6.2",
   "language": "julia",
   "name": "julia-0.6"
  },
  "language_info": {
   "file_extension": ".jl",
   "mimetype": "application/julia",
   "name": "julia",
   "version": "0.6.2"
  }
 },
 "nbformat": 4,
 "nbformat_minor": 2
}
