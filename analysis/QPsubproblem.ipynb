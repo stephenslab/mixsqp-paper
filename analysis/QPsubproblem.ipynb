{
 "cells": [
  {
   "cell_type": "markdown",
   "metadata": {},
   "source": [
    "# Comparing performance of active-set and interior-point methods for solving quadratic subproblem inside SQP \n",
    "\n",
    "Here we explore the use of active-set and interior-point methods (the latter implemented by the commercial software MOSEK) for solving the quadratic subproblem inside SQP.\n",
    "\n",
    "## Analysis setup\n",
    "\n",
    "*Before attempting to run this Julia code, make sure your computer is properly set up to run this code by following the setup instructions in the README of the [git repository](https://github.com/stephenslab/mixsqp-paper).*\n",
    "\n",
    "We begin by loading the Distributions, Mosek and JuMP Julia packages, as well as some function definitions used in the code chunks below."
   ]
  },
  {
   "cell_type": "code",
   "execution_count": 1,
   "metadata": {},
   "outputs": [
    {
     "name": "stderr",
     "output_type": "stream",
     "text": [
      "WARNING: Method definition abs(ForwardDiff.Dual{T, V, N} where N where V<:Real) in module ForwardDiff at /Users/pcarbo/.julia/v0.6/ForwardDiff/src/dual.jl:317 overwritten at /Users/pcarbo/.julia/v0.6/ForwardDiff/src/dual.jl:163.\n"
     ]
    }
   ],
   "source": [
    "using Distributions\n",
    "using Mosek\n",
    "using JuMP\n",
    "include(\"../code/datasim.jl\");\n",
    "include(\"../code/likelihood.jl\");\n",
    "include(\"../code/mixSQP.jl\");"
   ]
  },
  {
   "cell_type": "markdown",
   "metadata": {},
   "source": [
    "Next, initialize the sequence of pseudorandom numbers."
   ]
  },
  {
   "cell_type": "code",
   "execution_count": 2,
   "metadata": {
    "collapsed": true
   },
   "outputs": [],
   "source": [
    "srand(1);"
   ]
  },
  {
   "cell_type": "markdown",
   "metadata": {},
   "source": [
    "## Generate a small data set\n",
    "\n",
    "Let's begin with a smaller example with 50,000 samples."
   ]
  },
  {
   "cell_type": "code",
   "execution_count": 3,
   "metadata": {
    "collapsed": true
   },
   "outputs": [],
   "source": [
    "n = round(Int,5e4);\n",
    "z = normtmixdatasim(n);"
   ]
  },
  {
   "cell_type": "markdown",
   "metadata": {},
   "source": [
    "## Compute the likelihood matrix\n",
    "\n",
    "Compute the $n \\times k$ likelihood matrix for a mixture of zero-centered normals, with $k = 20$. Note that the rows of the likelihood matrix are normalized by default."
   ]
  },
  {
   "cell_type": "code",
   "execution_count": 4,
   "metadata": {},
   "outputs": [
    {
     "data": {
      "text/plain": [
       "(50000, 20)"
      ]
     },
     "execution_count": 4,
     "metadata": {},
     "output_type": "execute_result"
    }
   ],
   "source": [
    "sd = autoselectmixsd(z,nv = 20);\n",
    "L  = normlikmatrix(z,sd = sd);\n",
    "size(L)"
   ]
  },
  {
   "cell_type": "markdown",
   "metadata": {},
   "source": [
    "## Fit mixture model using SQP algorithm\n",
    "\n",
    "First we run the mix-SQP algorithm a couple of times to precompile the relevant functions."
   ]
  },
  {
   "cell_type": "code",
   "execution_count": 5,
   "metadata": {
    "collapsed": true
   },
   "outputs": [],
   "source": [
    "out = mixSQP(L,qpsubprob = \"activeset\",lowrank = \"none\",verbose = false);\n",
    "out = mixSQP(L,qpsubprob = \"mosek\",lowrank = \"none\",verbose = false);"
   ]
  },
  {
   "cell_type": "markdown",
   "metadata": {},
   "source": [
    "Fit the model using the SQP algorithm, with an active-set method to find the solution to the quadratic program at each SQP iteration."
   ]
  },
  {
   "cell_type": "code",
   "execution_count": 6,
   "metadata": {},
   "outputs": [
    {
     "name": "stdout",
     "output_type": "stream",
     "text": [
      "Running SQP algorithm with the following settings:\n",
      "- 50000 x 20 data matrix\n",
      "- convergence tolerance = 1.00e-08\n",
      "- zero threshold        = 1.00e-03\n",
      "- Exact derivative computation (partial QR not used).\n",
      "iter      objective -min(g+1) #nnz #qp #ls\n",
      "   1 3.03733620e+04 +6.30e-01   20   0   0\n",
      "   2 2.09533189e+04 +5.80e+04    1   0   1\n",
      "   3 1.28079423e+04 +2.01e+04    3   0   1\n",
      "   4 1.11142170e+04 +8.72e+03    3   0   1\n",
      "   5 1.09365390e+04 +4.16e+03    3   0   1\n",
      "   6 1.07220696e+04 +2.01e+03    3   0   1\n",
      "   7 1.05949242e+04 +1.03e+03    3   0   1\n",
      "   8 1.05173539e+04 +5.08e+02    3   0   1\n",
      "   9 1.03017484e+04 +2.50e+02    2   0   1\n",
      "  10 1.01824445e+04 +1.28e+02    3   0   1\n",
      "  11 1.01286239e+04 +6.46e+01    3   0   1\n",
      "  12 1.00404507e+04 +3.20e+01    3   0   1\n",
      "  13 9.89744142e+03 +1.61e+01    3   0   1\n",
      "  14 9.85084743e+03 +8.00e+00    3   0   1\n",
      "  15 9.81505659e+03 +3.85e+00    3   0   1\n",
      "  16 9.77438543e+03 +1.81e+00    3   0   1\n",
      "  17 9.75247900e+03 +8.28e-01    4   0   1\n",
      "  18 9.74083776e+03 +3.51e-01    4   0   1\n",
      "  19 9.73161458e+03 +1.06e-01    4   0   1\n",
      "  20 9.72785163e+03 +2.17e-02    5   0   1\n",
      "  21 9.72698842e+03 +1.59e-03    5   0   1\n",
      "  22 9.72691639e+03 +1.04e-06    5   0   1\n",
      "  23 9.72691593e+03 -3.18e-09    5   0   1\n",
      "Optimization took 23 iterations and 0.4471 seconds.\n"
     ]
    }
   ],
   "source": [
    "out1 = mixSQP(L,qpsubprob = \"activeset\",lowrank = \"none\");"
   ]
  },
  {
   "cell_type": "markdown",
   "metadata": {},
   "source": [
    "Next fit the model again using the same SQP algorithm, with the active-set method replaced by MOSEK."
   ]
  },
  {
   "cell_type": "code",
   "execution_count": 7,
   "metadata": {},
   "outputs": [
    {
     "name": "stdout",
     "output_type": "stream",
     "text": [
      "Running SQP algorithm with the following settings:\n",
      "- 50000 x 20 data matrix\n",
      "- convergence tolerance = 1.00e-08\n",
      "- zero threshold        = 1.00e-03\n",
      "- Exact derivative computation (partial QR not used).\n",
      "iter      objective -min(g+1) #nnz #qp #ls\n",
      "   1 1.18584295e+04 +7.79e+04    2   0   0\n",
      "   2 1.18019962e+04 +2.39e+04    7   0   1\n",
      "   3 1.15826110e+04 +9.45e+03    8   0   1\n",
      "   4 1.12252365e+04 +4.33e+03    8   0   1\n",
      "   5 1.09642877e+04 +2.04e+03    8   0   1\n",
      "   6 1.07884947e+04 +1.01e+03    6   0   1\n",
      "   7 1.06007499e+04 +5.08e+02    7   0   1\n",
      "   8 1.05098000e+04 +2.55e+02    7   0   1\n",
      "   9 1.03011708e+04 +1.26e+02    4   0   1\n",
      "  10 1.01721090e+04 +6.41e+01    3   0   1\n",
      "  11 1.01096088e+04 +3.23e+01    3   0   1\n",
      "  12 1.00125909e+04 +1.59e+01    4   0   1\n",
      "  13 9.87791041e+03 +8.07e+00    3   0   1\n",
      "  14 9.83461847e+03 +3.97e+00    3   0   1\n",
      "  15 9.79385100e+03 +1.86e+00    3   0   1\n",
      "  16 9.75930608e+03 +8.52e-01    4   0   1\n",
      "  17 9.74409206e+03 +3.61e-01    4   0   1\n",
      "  18 9.73365669e+03 +1.12e-01    4   0   1\n",
      "  19 9.72836684e+03 +2.77e-02    5   0   1\n",
      "  20 9.72705594e+03 +2.95e-03    5   0   1\n",
      "  21 9.72691759e+03 +1.03e-05    5   0   1\n",
      "  22 9.72691593e+03 -2.98e-09    5   0   1\n",
      "Optimization took 22 iterations and 0.4430 seconds.\n"
     ]
    }
   ],
   "source": [
    "out2 = mixSQP(L,qpsubprob = \"mosek\",lowrank = \"none\");"
   ]
  },
  {
   "cell_type": "markdown",
   "metadata": {},
   "source": [
    "Both runs converged to a solution in a small number of iterations. The solutions are very similar:"
   ]
  },
  {
   "cell_type": "code",
   "execution_count": 8,
   "metadata": {},
   "outputs": [
    {
     "data": {
      "text/plain": [
       "1.40932608673483e-7"
      ]
     },
     "execution_count": 8,
     "metadata": {},
     "output_type": "execute_result"
    }
   ],
   "source": [
    "maximum(abs.(out1[\"x\"] - out2[\"x\"]))"
   ]
  },
  {
   "cell_type": "markdown",
   "metadata": {},
   "source": [
    "We also observe that solving the quadratic programs is only a small fraction of the total effort. Nonetheless, the effort with the active-set implementation is about 5 times less than with MOSEK."
   ]
  },
  {
   "cell_type": "code",
   "execution_count": 9,
   "metadata": {},
   "outputs": [
    {
     "name": "stdout",
     "output_type": "stream",
     "text": [
      "Total runtime of active set method:     0.011 s.\n",
      "Total runtime of interior point method: 0.033 s.\n"
     ]
    }
   ],
   "source": [
    "@printf \"Total runtime of active set method:     %0.3f s.\\n\" sum(out1[\"qptiming\"])\n",
    "@printf \"Total runtime of interior point method: %0.3f s.\\n\" sum(out2[\"qptiming\"])"
   ]
  },
  {
   "cell_type": "markdown",
   "metadata": {},
   "source": [
    "## Comparison with a larger data set\n",
    "\n",
    "Let's now explore the accuracy and runtime of the active-set and MOSEK solvers in a larger data set."
   ]
  },
  {
   "cell_type": "code",
   "execution_count": 10,
   "metadata": {
    "collapsed": true
   },
   "outputs": [],
   "source": [
    "z = normtmixdatasim(round(Int,1e5));"
   ]
  },
  {
   "cell_type": "markdown",
   "metadata": {},
   "source": [
    "As before, we compute the $n \\times k$ conditional likelihood matrix for a mixture of zero-centered normals. This time, we use a finer grid of $k = 40$ normal densities to compute this matrix."
   ]
  },
  {
   "cell_type": "code",
   "execution_count": 11,
   "metadata": {},
   "outputs": [
    {
     "data": {
      "text/plain": [
       "(100000, 40)"
      ]
     },
     "execution_count": 11,
     "metadata": {},
     "output_type": "execute_result"
    }
   ],
   "source": [
    "k  = 40;\n",
    "sd = autoselectmixsd(z,nv = k);\n",
    "L  = normlikmatrix(z,sd = sd);\n",
    "size(L)"
   ]
  },
  {
   "cell_type": "markdown",
   "metadata": {},
   "source": [
    "Now we fit the model using the two variants of the SQP algorithm."
   ]
  },
  {
   "cell_type": "code",
   "execution_count": 12,
   "metadata": {},
   "outputs": [
    {
     "name": "stdout",
     "output_type": "stream",
     "text": [
      "  4.081609 seconds (71.63 k allocations: 2.956 GiB, 66.13% gc time)\n",
      "  5.948761 seconds (18.61 k allocations: 3.885 GiB, 60.98% gc time)\n"
     ]
    }
   ],
   "source": [
    "@time out1 = mixSQP(L,qpsubprob = \"activeset\",lowrank = \"none\",verbose = false);\n",
    "@time out2 = mixSQP(L,qpsubprob = \"mosek\",lowrank = \"none\",verbose = false);"
   ]
  },
  {
   "cell_type": "markdown",
   "metadata": {},
   "source": [
    "The first SQP run with the active-set method is slightly faster. And, as before, the solutions are very similar:"
   ]
  },
  {
   "cell_type": "code",
   "execution_count": 13,
   "metadata": {},
   "outputs": [
    {
     "data": {
      "text/plain": [
       "7.392572117970175e-5"
      ]
     },
     "execution_count": 13,
     "metadata": {},
     "output_type": "execute_result"
    }
   ],
   "source": [
    "maximum(abs.(out1[\"x\"] - out2[\"x\"]))"
   ]
  },
  {
   "cell_type": "markdown",
   "metadata": {},
   "source": [
    "The amount of time spent solving the quadratic programs is again only a small proportion of the total:"
   ]
  },
  {
   "cell_type": "code",
   "execution_count": 14,
   "metadata": {},
   "outputs": [
    {
     "name": "stdout",
     "output_type": "stream",
     "text": [
      "Total runtime of active set method:     0.018 s.\n",
      "Total runtime of interior point method: 0.062 s.\n"
     ]
    }
   ],
   "source": [
    "@printf \"Total runtime of active set method:     %0.3f s.\\n\" sum(out1[\"qptiming\"])\n",
    "@printf \"Total runtime of interior point method: %0.3f s.\\n\" sum(out2[\"qptiming\"])"
   ]
  },
  {
   "cell_type": "markdown",
   "metadata": {},
   "source": [
    "Therefore, although the active-set method is faster than MOSEK (roughly a 5-fold improvement in runtime), the overall impact on performance is relatively small."
   ]
  },
  {
   "cell_type": "markdown",
   "metadata": {},
   "source": [
    "## SQP with MOSEK sometimes fails to converge to the correct solution\n",
    "\n",
    "Perhaps a more important advantage of the active-set method is that it converges more reliably to the correct solution; in practice, we have found that the MOSEK solver does not provide the correct solution when the initial iterate is not sparse. (To safeguard against this issue, the default initial estimate is set to a vector with only two nonzero entries whenever the MOSEK solver is used.)\n",
    "\n",
    "To illustrate the convergence issue, we set the initial estimate to a vector in which all the entries are the same:"
   ]
  },
  {
   "cell_type": "code",
   "execution_count": 15,
   "metadata": {},
   "outputs": [
    {
     "name": "stdout",
     "output_type": "stream",
     "text": [
      "Running SQP algorithm with the following settings:\n",
      "- 100000 x 40 data matrix\n",
      "- convergence tolerance = 1.00e-08\n",
      "- zero threshold        = 1.00e-03\n",
      "- Exact derivative computation (partial QR not used).\n",
      "iter      objective -min(g+1) #nnz #qp #ls\n",
      "   1 6.69043907e+04 +7.43e-01   40   0   0\n",
      "   2 3.43556702e+04 +2.17e-01   39   0   1\n",
      "   3 1.08872324e+04 -3.94e-02   39   0   1\n",
      "Optimization took 3 iterations and 0.5615 seconds.\n"
     ]
    }
   ],
   "source": [
    "out3 = mixSQP(L,x = ones(k)/k,qpsubprob = \"mosek\",lowrank = \"none\");"
   ]
  },
  {
   "cell_type": "markdown",
   "metadata": {},
   "source": [
    "The optimization algorithm stops after only a small number of iterations, and we see that the solution is far from the correct solution:"
   ]
  },
  {
   "cell_type": "code",
   "execution_count": 16,
   "metadata": {},
   "outputs": [
    {
     "data": {
      "text/plain": [
       "0.868145175450365"
      ]
     },
     "execution_count": 16,
     "metadata": {},
     "output_type": "execute_result"
    }
   ],
   "source": [
    "maximum(abs.(out1[\"x\"] - out3[\"x\"]))"
   ]
  },
  {
   "cell_type": "markdown",
   "metadata": {},
   "source": [
    "Indeed, we see that the provide solution from this run is very far away from the solution obtained earlier."
   ]
  },
  {
   "cell_type": "markdown",
   "metadata": {},
   "source": [
    "## Session information\n",
    "\n",
    "The section gives information about the computing environment used to generate the results contained in this\n",
    "notebook, including the version of Julia, and the versions of the Julia packages used here."
   ]
  },
  {
   "cell_type": "code",
   "execution_count": 17,
   "metadata": {},
   "outputs": [
    {
     "name": "stdout",
     "output_type": "stream",
     "text": [
      " - Distributions                 0.15.0\n",
      " - Mosek                         0.8.3\n",
      " - JuMP                          0.18.0\n",
      "Julia Version 0.6.2\n",
      "Commit d386e40c17 (2017-12-13 18:08 UTC)\n",
      "Platform Info:\n",
      "  OS: macOS (x86_64-apple-darwin14.5.0)\n",
      "  CPU: Intel(R) Core(TM) i7-7567U CPU @ 3.50GHz\n",
      "  WORD_SIZE: 64\n",
      "  BLAS: libopenblas (USE64BITINT DYNAMIC_ARCH NO_AFFINITY Prescott)\n",
      "  LAPACK: libopenblas64_\n",
      "  LIBM: libopenlibm\n",
      "  LLVM: libLLVM-3.9.1 (ORCJIT, broadwell)\n"
     ]
    }
   ],
   "source": [
    "Pkg.status(\"Distributions\");\n",
    "Pkg.status(\"Mosek\");\n",
    "Pkg.status(\"JuMP\");\n",
    "versioninfo()"
   ]
  }
 ],
 "metadata": {
  "kernelspec": {
   "display_name": "Julia 0.6.2",
   "language": "julia",
   "name": "julia-0.6"
  },
  "language_info": {
   "file_extension": ".jl",
   "mimetype": "application/julia",
   "name": "julia",
   "version": "0.6.2"
  }
 },
 "nbformat": 4,
 "nbformat_minor": 2
}
