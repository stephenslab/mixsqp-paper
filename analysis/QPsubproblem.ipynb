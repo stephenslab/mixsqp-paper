{
 "cells": [
  {
   "cell_type": "code",
   "execution_count": 5,
   "metadata": {},
   "outputs": [],
   "source": [
    "using CSV;\n",
    "using LowRankApprox;\n",
    "include(\"../code/julia/ash.jl\");\n",
    "include(\"../code/julia/mixSQP_time.jl\");"
   ]
  },
  {
   "cell_type": "code",
   "execution_count": 6,
   "metadata": {},
   "outputs": [],
   "source": [
    "include(\"../code/julia/makedata.jl\");\n",
    "L = Array{Float64,2}(CSV.read(\"../data/sample100000x100.txt\", nullable = false, header = false, delim = ' '));"
   ]
  },
  {
   "cell_type": "code",
   "execution_count": 51,
   "metadata": {},
   "outputs": [
    {
     "data": {
      "text/plain": [
       "Dict{String,Any} with 5 entries:\n",
       "  \"timing\"      => [0.000855983, 0.0010097, 0.000930596, 0.00099004, 0.00105497…\n",
       "  \"x\"           => [0.496888, 0.0, 0.0, 0.0, 0.0, 0.0, 0.0, 0.0, 0.0, 0.0  …  0…\n",
       "  \"linesearch\"  => [2.0, 1.0, 1.0, 1.0, 1.0, 1.0, 1.0, 1.0, 1.0, 1.0  …  1.0, 1…\n",
       "  \"totalQPtime\" => 0.0170546\n",
       "  \"numiter\"     => 23"
      ]
     },
     "execution_count": 51,
     "metadata": {},
     "output_type": "execute_result"
    }
   ],
   "source": [
    "QPsubprob(L, initialize = \"sparse\", warmstart = false)"
   ]
  },
  {
   "cell_type": "code",
   "execution_count": 52,
   "metadata": {},
   "outputs": [
    {
     "data": {
      "text/plain": [
       "Dict{String,Any} with 5 entries:\n",
       "  \"timing\"      => [0.00068577, 0.000881309, 0.000975159, 0.000894507, 0.000886…\n",
       "  \"x\"           => [0.496888, 0.0, 0.0, 0.0, 0.0, 0.0, 0.0, 0.0, 0.0, 0.0  …  0…\n",
       "  \"linesearch\"  => [2.0, 1.0, 1.0, 1.0, 1.0, 1.0, 1.0, 1.0, 1.0, 1.0  …  1.0, 1…\n",
       "  \"totalQPtime\" => 0.0157574\n",
       "  \"numiter\"     => 23"
      ]
     },
     "execution_count": 52,
     "metadata": {},
     "output_type": "execute_result"
    }
   ],
   "source": [
    "QPsubprob(L, initialize = \"sparse\", warmstart = true)"
   ]
  },
  {
   "cell_type": "code",
   "execution_count": 53,
   "metadata": {
    "collapsed": true
   },
   "outputs": [],
   "source": [
    "srand(1)\n",
    "x = [randn(10^6);3*randn(10^6)];\n",
    "s = ones(2*10^6); \n",
    "L = ash(x,s, mult = 1.05)[3];"
   ]
  },
  {
   "cell_type": "code",
   "execution_count": 54,
   "metadata": {},
   "outputs": [
    {
     "data": {
      "text/plain": [
       "Dict{String,Any} with 5 entries:\n",
       "  \"timing\"      => [0.00666852, 0.000909547, 0.00124374, 0.000965151, 0.0008556…\n",
       "  \"x\"           => [0.499933, 0.0, 0.0, 0.0, 0.0, 0.0, 0.0, 0.0, 0.0, 0.0  …  0…\n",
       "  \"linesearch\"  => [7.0, 5.0, 4.0, 2.0, 1.0, 1.0, 1.0, 1.0, 1.0, 1.0, 1.0, 1.0,…\n",
       "  \"totalQPtime\" => 0.0182387\n",
       "  \"numiter\"     => 16"
      ]
     },
     "execution_count": 54,
     "metadata": {},
     "output_type": "execute_result"
    }
   ],
   "source": [
    "QPsubprob(L, initialize = \"sparse\", warmstart = false)"
   ]
  },
  {
   "cell_type": "code",
   "execution_count": 55,
   "metadata": {},
   "outputs": [
    {
     "data": {
      "text/plain": [
       "Dict{String,Any} with 5 entries:\n",
       "  \"timing\"      => [0.00691269, 0.000331555, 0.000515658, 0.000268786, 0.000453…\n",
       "  \"x\"           => [0.499933, 0.0, 0.0, 0.0, 0.0, 0.0, 0.0, 0.0, 0.0, 0.0  …  0…\n",
       "  \"linesearch\"  => [7.0, 5.0, 4.0, 2.0, 1.0, 1.0, 1.0, 1.0, 1.0, 1.0, 1.0, 1.0,…\n",
       "  \"totalQPtime\" => 0.0152202\n",
       "  \"numiter\"     => 16"
      ]
     },
     "execution_count": 55,
     "metadata": {},
     "output_type": "execute_result"
    }
   ],
   "source": [
    "QPsubprob(L, initialize = \"sparse\", warmstart = true)"
   ]
  }
 ],
 "metadata": {
  "kernelspec": {
   "display_name": "Julia 0.6.2",
   "language": "julia",
   "name": "julia-0.6"
  },
  "language_info": {
   "file_extension": ".jl",
   "mimetype": "application/julia",
   "name": "julia",
   "version": "0.6.2"
  }
 },
 "nbformat": 4,
 "nbformat_minor": 2
}
