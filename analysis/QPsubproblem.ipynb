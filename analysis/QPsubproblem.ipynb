{
 "cells": [
  {
   "cell_type": "code",
   "execution_count": 2,
   "metadata": {
    "collapsed": true
   },
   "outputs": [],
   "source": [
    "using CSV;\n",
    "using LowRankApprox;\n",
    "include(\"../code/julia/ash.jl\");\n",
    "include(\"../code/julia/mixSQP_time.jl\");"
   ]
  },
  {
   "cell_type": "code",
   "execution_count": 3,
   "metadata": {
    "collapsed": true
   },
   "outputs": [],
   "source": [
    "include(\"../code/julia/makedata.jl\");\n",
    "L = Array{Float64,2}(CSV.read(\"../data/sample100000x100.txt\", nullable = false, header = false, delim = ' '));"
   ]
  },
  {
   "cell_type": "code",
   "execution_count": 4,
   "metadata": {},
   "outputs": [
    {
     "data": {
      "text/plain": [
       "Dict{String,Any} with 5 entries:\n",
       "  \"timing\"      => [0.0390681, 0.00074364, 0.000659581, 0.000698846, 0.00068442…\n",
       "  \"x\"           => [0.496888, 0.0, 0.0, 0.0, 0.0, 0.0, 0.0, 0.0, 0.0, 0.0  …  0…\n",
       "  \"linesearch\"  => [2.0, 1.0, 1.0, 1.0, 1.0, 1.0, 1.0, 1.0, 1.0, 1.0  …  1.0, 1…\n",
       "  \"totalQPtime\" => 0.0505593\n",
       "  \"numiter\"     => 23"
      ]
     },
     "execution_count": 4,
     "metadata": {},
     "output_type": "execute_result"
    }
   ],
   "source": [
    "QPsubprob(L, initialize = \"sparse\", warmstart = false)"
   ]
  },
  {
   "cell_type": "code",
   "execution_count": 5,
   "metadata": {},
   "outputs": [
    {
     "data": {
      "text/plain": [
       "Dict{String,Any} with 5 entries:\n",
       "  \"timing\"      => [0.00113545, 0.000637411, 0.00065545, 0.000612231, 0.0006174…\n",
       "  \"x\"           => [0.496888, 0.0, 0.0, 0.0, 0.0, 0.0, 0.0, 0.0, 0.0, 0.0  …  0…\n",
       "  \"linesearch\"  => [2.0, 1.0, 1.0, 1.0, 1.0, 1.0, 1.0, 1.0, 1.0, 1.0  …  1.0, 1…\n",
       "  \"totalQPtime\" => 0.0118203\n",
       "  \"numiter\"     => 23"
      ]
     },
     "execution_count": 5,
     "metadata": {},
     "output_type": "execute_result"
    }
   ],
   "source": [
    "QPsubprob(L, initialize = \"sparse\", warmstart = true)"
   ]
  },
  {
   "cell_type": "code",
   "execution_count": 6,
   "metadata": {
    "collapsed": true
   },
   "outputs": [],
   "source": [
    "srand(1)\n",
    "x = [randn(10^6);3*randn(10^6)];\n",
    "s = ones(2*10^6); \n",
    "L = ash(x,s, mult = 1.05)[3];"
   ]
  },
  {
   "cell_type": "code",
   "execution_count": 7,
   "metadata": {},
   "outputs": [
    {
     "data": {
      "text/plain": [
       "Dict{String,Any} with 5 entries:\n",
       "  \"timing\"      => [0.00171379, 0.00110733, 0.00132008, 0.00218815, 0.000701925…\n",
       "  \"x\"           => [0.499933, 0.0, 0.0, 0.0, 0.0, 0.0, 0.0, 0.0, 0.0, 0.0  …  0…\n",
       "  \"linesearch\"  => [7.0, 5.0, 4.0, 2.0, 1.0, 1.0, 1.0, 1.0, 1.0, 1.0, 1.0, 1.0,…\n",
       "  \"totalQPtime\" => 0.0148588\n",
       "  \"numiter\"     => 16"
      ]
     },
     "execution_count": 7,
     "metadata": {},
     "output_type": "execute_result"
    }
   ],
   "source": [
    "QPsubprob(L, initialize = \"sparse\", warmstart = false)"
   ]
  },
  {
   "cell_type": "code",
   "execution_count": 8,
   "metadata": {},
   "outputs": [
    {
     "data": {
      "text/plain": [
       "Dict{String,Any} with 5 entries:\n",
       "  \"timing\"      => [0.00251791, 0.000348571, 0.00047155, 0.000833199, 0.0002529…\n",
       "  \"x\"           => [0.499933, 0.0, 0.0, 0.0, 0.0, 0.0, 0.0, 0.0, 0.0, 0.0  …  0…\n",
       "  \"linesearch\"  => [7.0, 6.0, 4.0, 3.0, 1.0, 1.0, 1.0, 1.0, 1.0, 1.0, 1.0, 1.0,…\n",
       "  \"totalQPtime\" => 0.0113972\n",
       "  \"numiter\"     => 16"
      ]
     },
     "execution_count": 8,
     "metadata": {},
     "output_type": "execute_result"
    }
   ],
   "source": [
    "QPsubprob(L, initialize = \"sparse\", warmstart = true)"
   ]
  }
 ],
 "metadata": {
  "kernelspec": {
   "display_name": "Julia 0.6.2",
   "language": "julia",
   "name": "julia-0.6"
  },
  "language_info": {
   "file_extension": ".jl",
   "mimetype": "application/julia",
   "name": "julia",
   "version": "0.6.2"
  }
 },
 "nbformat": 4,
 "nbformat_minor": 2
}
