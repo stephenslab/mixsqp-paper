{
 "cells": [
  {
   "cell_type": "markdown",
   "metadata": {},
   "source": [
    "# Comparing performance of active-set and interior-point methods for solving quadratic subproblem inside SQP \n",
    "\n",
    "Here we explore the use of active-set and interior-point methods (the latter implemented by the commercial software MOSEK) for solving the quadratic subproblem inside SQP.\n",
    "\n",
    "## Analysis setup\n",
    "\n",
    "*Before attempting to run this Julia code, make sure your computer is properly set up to run this code by following the setup instructions in the README of the [git repository](https://github.com/stephenslab/mixsqp-paper).*\n",
    "\n",
    "We begin by loading the Distributions, Mosek and JuMP Julia packages, as well as some function definitions used in the code chunks below."
   ]
  },
  {
   "cell_type": "code",
   "execution_count": 1,
   "metadata": {},
   "outputs": [],
   "source": [
    "using Pkg\n",
    "using Random\n",
    "using Printf\n",
    "using Distributions\n",
    "using SparseArrays\n",
    "using LinearAlgebra\n",
    "using Mosek\n",
    "using JuMP\n",
    "include(\"../code/datasim.jl\");\n",
    "include(\"../code/likelihood.jl\");\n",
    "include(\"../code/mixSQP.jl\");"
   ]
  },
  {
   "cell_type": "markdown",
   "metadata": {},
   "source": [
    "Next, initialize the sequence of pseudorandom numbers."
   ]
  },
  {
   "cell_type": "code",
   "execution_count": 2,
   "metadata": {
    "collapsed": true
   },
   "outputs": [],
   "source": [
    "Random.seed!(1);"
   ]
  },
  {
   "cell_type": "markdown",
   "metadata": {},
   "source": [
    "## Generate a small data set\n",
    "\n",
    "Let's begin with a smaller example with 50,000 samples."
   ]
  },
  {
   "cell_type": "code",
   "execution_count": 3,
   "metadata": {
    "collapsed": true
   },
   "outputs": [],
   "source": [
    "n = round(Int,5e4);\n",
    "z = normtmixdatasim(n);"
   ]
  },
  {
   "cell_type": "markdown",
   "metadata": {},
   "source": [
    "## Compute the likelihood matrix\n",
    "\n",
    "Compute the $n \\times k$ likelihood matrix for a mixture of zero-centered normals, with $k = 20$. Note that the rows of the likelihood matrix are normalized by default."
   ]
  },
  {
   "cell_type": "code",
   "execution_count": 4,
   "metadata": {},
   "outputs": [
    {
     "data": {
      "text/plain": [
       "(50000, 20)"
      ]
     },
     "execution_count": 4,
     "metadata": {},
     "output_type": "execute_result"
    }
   ],
   "source": [
    "sd = autoselectmixsd(z,nv = 20);\n",
    "L  = normlikmatrix(z,sd = sd);\n",
    "size(L)"
   ]
  },
  {
   "cell_type": "markdown",
   "metadata": {},
   "source": [
    "## Fit mixture model using SQP algorithm\n",
    "\n",
    "First we run the mix-SQP algorithm a couple of times to precompile the relevant functions."
   ]
  },
  {
   "cell_type": "code",
   "execution_count": 5,
   "metadata": {},
   "outputs": [],
   "source": [
    "out = mixSQP(L,qpsubprob = \"activeset\",lowrank = \"none\",maxiter = 10,verbose = false);\n",
    "out = mixSQP(L,qpsubprob = \"mosek\",lowrank = \"none\",maxiter = 10,verbose = false);"
   ]
  },
  {
   "cell_type": "markdown",
   "metadata": {},
   "source": [
    "Fit the model using the SQP algorithm, with an active-set method to find the solution to the quadratic program at each SQP iteration."
   ]
  },
  {
   "cell_type": "code",
   "execution_count": 6,
   "metadata": {},
   "outputs": [
    {
     "name": "stdout",
     "output_type": "stream",
     "text": [
      "Running SQP algorithm with the following settings:\n",
      "- 50000 x 20 data matrix\n",
      "- convergence tolerance  = 1.00e-08\n",
      "- zero threshold         = 1.00e-06\n",
      "- Exact derivative computation (partial QR not used).\n",
      "iter      objective -min(g+1)  #nz #qp #ls\n",
      "   1 3.03733620e+04 +6.30e-01   20\n",
      "   2 2.09533189e+04 +5.80e+04    1  27   1\n",
      "   3 1.28079423e+04 +2.01e+04    3  54   1\n",
      "   4 1.11142170e+04 +8.72e+03    3  34   1\n",
      "   5 1.09365390e+04 +4.16e+03    3   9   1\n",
      "   6 1.07220696e+04 +2.01e+03    3  18   1\n",
      "   7 1.05949242e+04 +1.03e+03    4  12   1\n",
      "   8 1.05173539e+04 +5.08e+02    4   2   1\n",
      "   9 1.03017484e+04 +2.50e+02    4  20   1\n",
      "  10 1.01824445e+04 +1.28e+02    4   2   1\n",
      "  11 1.01286239e+04 +6.46e+01    4   4   1\n",
      "  12 1.00404507e+04 +3.20e+01    4   7   1\n",
      "  13 9.89744142e+03 +1.61e+01    4  16   1\n",
      "  14 9.85084743e+03 +8.00e+00    4   5   1\n",
      "  15 9.81505659e+03 +3.85e+00    5   4   1\n",
      "  16 9.77438543e+03 +1.81e+00    5  11   1\n",
      "  17 9.75247900e+03 +8.28e-01    5   2   1\n",
      "  18 9.74083776e+03 +3.51e-01    6   4   1\n",
      "  19 9.73161458e+03 +1.06e-01    6  11   1\n",
      "  20 9.72785163e+03 +2.17e-02    6   2   1\n",
      "  21 9.72698842e+03 +1.59e-03    6   2   1\n",
      "  22 9.72691639e+03 +1.04e-06    6   2   1\n",
      "  23 9.72691593e+03 -3.18e-09    6   2   1\n",
      "  0.389242 seconds (248.85 k allocations: 443.474 MiB, 9.25% gc time)\n"
     ]
    }
   ],
   "source": [
    "@time out1 = mixSQP(L,qpsubprob = \"activeset\",lowrank = \"none\");"
   ]
  },
  {
   "cell_type": "markdown",
   "metadata": {},
   "source": [
    "Next fit the model again using the same SQP algorithm, with the active-set method replaced by MOSEK."
   ]
  },
  {
   "cell_type": "code",
   "execution_count": 7,
   "metadata": {},
   "outputs": [
    {
     "name": "stdout",
     "output_type": "stream",
     "text": [
      "Running SQP algorithm with the following settings:\n",
      "- 50000 x 20 data matrix\n",
      "- convergence tolerance  = 1.00e-08\n",
      "- zero threshold         = 1.00e-06\n",
      "- Exact derivative computation (partial QR not used).\n",
      "iter      objective -min(g+1)  #nz #qp #ls\n",
      "   1 3.03733620e+04 +6.30e-01   20\n",
      "   2 2.35424547e+04 +3.74e-01   20   0   2\n",
      "   3 1.61319423e+04 +6.27e+04    7   0   1\n",
      "   4 1.16898684e+04 +1.99e+04    9   0   1\n",
      "   5 1.10954042e+04 +8.33e+03   10   0   1\n",
      "   6 1.09384616e+04 +3.96e+03    9   0   1\n",
      "   7 1.07182611e+04 +1.91e+03   10   0   1\n",
      "   8 1.05921969e+04 +9.72e+02    9   0   1\n",
      "   9 1.05108500e+04 +4.85e+02   10   0   1\n",
      "  10 1.02904495e+04 +2.40e+02   11   0   1\n",
      "  11 1.01780677e+04 +1.23e+02   11   0   1\n",
      "  12 1.01226704e+04 +6.19e+01   12   0   1\n",
      "  13 1.00302472e+04 +3.06e+01   12   0   1\n",
      "  14 9.89082213e+03 +1.54e+01   13   0   1\n",
      "  15 9.84835543e+03 +7.66e+00   12   0   1\n",
      "  16 9.81161447e+03 +3.68e+00    6   0   1\n",
      "  17 9.77177429e+03 +1.73e+00   13   0   1\n",
      "  18 9.75149444e+03 +7.87e-01   14   0   1\n",
      "  19 9.74004693e+03 +3.29e-01   14   0   1\n",
      "  20 9.73116124e+03 +9.73e-02    7   0   1\n",
      "  21 9.72773184e+03 +1.90e-02    6   0   1\n",
      "  22 9.72697209e+03 +1.23e-03    6   0   1\n",
      "  23 9.72691620e+03 +2.68e-07    6   0   1\n",
      "  24 9.72691593e+03 -2.98e-09    6   0   1\n",
      "  0.334137 seconds (16.08 k allocations: 449.188 MiB, 11.10% gc time)\n"
     ]
    }
   ],
   "source": [
    "@time out2 = mixSQP(L,qpsubprob = \"mosek\",lowrank = \"none\");"
   ]
  },
  {
   "cell_type": "markdown",
   "metadata": {},
   "source": [
    "Both runs converged to a solution in a small number of iterations. The solutions are very similar:"
   ]
  },
  {
   "cell_type": "code",
   "execution_count": 8,
   "metadata": {},
   "outputs": [
    {
     "data": {
      "text/plain": [
       "1.3978790775089067e-7"
      ]
     },
     "execution_count": 8,
     "metadata": {},
     "output_type": "execute_result"
    }
   ],
   "source": [
    "maximum(abs.(out1[\"x\"] - out2[\"x\"]))"
   ]
  },
  {
   "cell_type": "markdown",
   "metadata": {},
   "source": [
    "Solving the quadratic programs is only a small fraction of the total effort. Nonetheless, the effort of the active-set computations is much less than solving the quadratic subproblems with MOSEK."
   ]
  },
  {
   "cell_type": "code",
   "execution_count": 9,
   "metadata": {},
   "outputs": [
    {
     "name": "stdout",
     "output_type": "stream",
     "text": [
      "Total runtime of active set method:     0.002 s.\n",
      "Total runtime of interior point method: 0.047 s.\n"
     ]
    }
   ],
   "source": [
    "@printf \"Total runtime of active set method:     %0.3f s.\\n\" sum(out1[\"qptiming\"])\n",
    "@printf \"Total runtime of interior point method: %0.3f s.\\n\" sum(out2[\"qptiming\"])"
   ]
  },
  {
   "cell_type": "markdown",
   "metadata": {},
   "source": [
    "## Comparison with a larger data set\n",
    "\n",
    "Let's now explore the accuracy and runtime of the active-set and MOSEK solvers in a larger data set."
   ]
  },
  {
   "cell_type": "code",
   "execution_count": 10,
   "metadata": {
    "collapsed": true
   },
   "outputs": [],
   "source": [
    "z = normtmixdatasim(round(Int,1e5));"
   ]
  },
  {
   "cell_type": "markdown",
   "metadata": {},
   "source": [
    "As before, we compute the $n \\times k$ conditional likelihood matrix for a mixture of zero-centered normals. This time, we use a finer grid of $k = 40$ normal densities to compute this matrix."
   ]
  },
  {
   "cell_type": "code",
   "execution_count": 11,
   "metadata": {},
   "outputs": [
    {
     "data": {
      "text/plain": [
       "(100000, 40)"
      ]
     },
     "execution_count": 11,
     "metadata": {},
     "output_type": "execute_result"
    }
   ],
   "source": [
    "k  = 40;\n",
    "sd = autoselectmixsd(z,nv = k);\n",
    "L  = normlikmatrix(z,sd = sd);\n",
    "size(L)"
   ]
  },
  {
   "cell_type": "markdown",
   "metadata": {},
   "source": [
    "Now we fit the model using the two variants of the SQP algorithm."
   ]
  },
  {
   "cell_type": "code",
   "execution_count": 12,
   "metadata": {},
   "outputs": [
    {
     "name": "stdout",
     "output_type": "stream",
     "text": [
      "  1.000902 seconds (50.91 k allocations: 1.532 GiB, 22.63% gc time)\n",
      "  0.950645 seconds (2.97 k allocations: 1.525 GiB, 14.49% gc time)\n"
     ]
    }
   ],
   "source": [
    "@time out1 = mixSQP(L,qpsubprob = \"activeset\",lowrank = \"none\",verbose = false);\n",
    "@time out2 = mixSQP(L,qpsubprob = \"mosek\",lowrank = \"none\",verbose = false);"
   ]
  },
  {
   "cell_type": "markdown",
   "metadata": {},
   "source": [
    "The first SQP run with the active-set method is only slightly faster. And, as before, the solutions are very similar:"
   ]
  },
  {
   "cell_type": "code",
   "execution_count": 13,
   "metadata": {},
   "outputs": [
    {
     "data": {
      "text/plain": [
       "4.531836922726025e-5"
      ]
     },
     "execution_count": 13,
     "metadata": {},
     "output_type": "execute_result"
    }
   ],
   "source": [
    "maximum(abs.(out1[\"x\"] - out2[\"x\"]))"
   ]
  },
  {
   "cell_type": "markdown",
   "metadata": {},
   "source": [
    "The amount of time spent solving the quadratic programs is again only a small proportion of the total:"
   ]
  },
  {
   "cell_type": "code",
   "execution_count": 14,
   "metadata": {},
   "outputs": [
    {
     "name": "stdout",
     "output_type": "stream",
     "text": [
      "Total runtime of active set method:     0.005 s.\n",
      "Total runtime of interior point method: 0.060 s.\n"
     ]
    }
   ],
   "source": [
    "@printf \"Total runtime of active set method:     %0.3f s.\\n\" sum(out1[\"qptiming\"])\n",
    "@printf \"Total runtime of interior point method: %0.3f s.\\n\" sum(out2[\"qptiming\"])"
   ]
  },
  {
   "cell_type": "markdown",
   "metadata": {},
   "source": [
    "Therefore, although the active-set method is much faster than MOSEK, the overall impact on performance is relatively small."
   ]
  },
  {
   "cell_type": "markdown",
   "metadata": {},
   "source": [
    "## Session information\n",
    "\n",
    "The section gives information about the computing environment used to generate the results contained in this\n",
    "notebook, including the version of Julia, and the versions of the Julia packages used here."
   ]
  },
  {
   "cell_type": "code",
   "execution_count": 15,
   "metadata": {},
   "outputs": [
    {
     "name": "stdout",
     "output_type": "stream",
     "text": [
      "\u001b[32m\u001b[1m    Status\u001b[22m\u001b[39m `~/.julia/environments/v1.1/Project.toml`\n",
      " \u001b[90m [31c24e10]\u001b[39m\u001b[37m Distributions v0.21.1\u001b[39m\n",
      "\u001b[32m\u001b[1m    Status\u001b[22m\u001b[39m `~/.julia/environments/v1.1/Project.toml`\n",
      " \u001b[90m [6405355b]\u001b[39m\u001b[37m Mosek v1.0.4\u001b[39m\n",
      "\u001b[32m\u001b[1m    Status\u001b[22m\u001b[39m `~/.julia/environments/v1.1/Project.toml`\n",
      " \u001b[90m [4076af6c]\u001b[39m\u001b[37m JuMP v0.19.2\u001b[39m\n",
      "Julia Version 1.1.1\n",
      "Commit 55e36cc (2019-05-16 04:10 UTC)\n",
      "Platform Info:\n",
      "  OS: macOS (x86_64-apple-darwin15.6.0)\n",
      "  CPU: Intel(R) Core(TM) i7-7567U CPU @ 3.50GHz\n",
      "  WORD_SIZE: 64\n",
      "  LIBM: libopenlibm\n",
      "  LLVM: libLLVM-6.0.1 (ORCJIT, skylake)\n"
     ]
    }
   ],
   "source": [
    "Pkg.status(\"Distributions\");\n",
    "Pkg.status(\"Mosek\");\n",
    "Pkg.status(\"JuMP\");\n",
    "versioninfo()"
   ]
  }
 ],
 "metadata": {
  "kernelspec": {
   "display_name": "Julia 1.1.1",
   "language": "julia",
   "name": "julia-1.1"
  },
  "language_info": {
   "file_extension": ".jl",
   "mimetype": "application/julia",
   "name": "julia",
   "version": "1.1.1"
  }
 },
 "nbformat": 4,
 "nbformat_minor": 2
}
