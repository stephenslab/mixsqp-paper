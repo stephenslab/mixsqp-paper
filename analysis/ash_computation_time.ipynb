{
 "cells": [
  {
   "cell_type": "markdown",
   "metadata": {},
   "source": [
    "# Profiling adaptive shrinkage computations with mix-SQP and IP solvers\n",
    "\n",
    "An initial motivation for this work was our interest in applying a nonparametric Empirical Bayes method, “adaptive shrinkage,” to very large data sets. These Empirical Bayes computations involve three steps: \n",
    "\n",
    "1. likelihood computation,\n",
    "2. maximum-likelihood estimation of the mixture proportions, and\n",
    "3. posterior computation.\n",
    "\n",
    "Here we profile the runtime of each of these steps, in which the second step (maximum-likelihood estimation) is solved using either an interior point method (`MOSEK`) or the SQP algorithm we have developed. Our initial solution used the commercial interior point solver MOSEK (called via the `KWDual` function in the `REBayes` R package), and here we show that the mix-SQP solver yields a large improvement in performance, to the point that the model fitting step is no longer the predominant step in terms of computational effort.\n",
    "\n",
    "The adaptive shrinkage calculations from the [ashr package](https://github.com/stephens999/ashr) are reproduced here in Julia."
   ]
  },
  {
   "cell_type": "markdown",
   "metadata": {},
   "source": [
    "## Analysis setup\n",
    "\n",
    "*Before attempting to run this Julia code, make sure your computer is properly set up to run this code by following the setup instructions in the README of the [git repository](https://github.com/stephenslab/mixsqp-paper).*\n",
    "\n",
    "We begin by loading the Distributions, LowRankApprox, RCall and other packages, as well as some function definitions used in the code chunks below."
   ]
  },
  {
   "cell_type": "code",
   "execution_count": 1,
   "metadata": {},
   "outputs": [],
   "source": [
    "using Pkg\n",
    "using Random\n",
    "using Printf\n",
    "using Distributions\n",
    "using LowRankApprox\n",
    "using LinearAlgebra\n",
    "using SparseArrays\n",
    "using RCall\n",
    "include(\"../code/datasim.jl\");\n",
    "include(\"../code/likelihood.jl\");\n",
    "include(\"../code/mixSQP.jl\");\n",
    "include(\"../code/REBayes.jl\");\n",
    "include(\"../code/ash.jl\");"
   ]
  },
  {
   "cell_type": "markdown",
   "metadata": {},
   "source": [
    "Next, initialize the sequence of pseudorandom numbers."
   ]
  },
  {
   "cell_type": "code",
   "execution_count": 2,
   "metadata": {
    "collapsed": true
   },
   "outputs": [],
   "source": [
    "Random.seed!(1);"
   ]
  },
  {
   "cell_type": "markdown",
   "metadata": {},
   "source": [
    "## Generate a small data set\n",
    "\n",
    "Let's begin with a smaller example with 50,000 samples. "
   ]
  },
  {
   "cell_type": "code",
   "execution_count": 3,
   "metadata": {
    "collapsed": true
   },
   "outputs": [],
   "source": [
    "n = round(Int,5e4);\n",
    "z = normtmixdatasim(n);\n",
    "s = ones(n);"
   ]
  },
  {
   "cell_type": "markdown",
   "metadata": {},
   "source": [
    "In this example, the standard errors (`s`) of the provided estimates (`z`) are assumed to all be 1."
   ]
  },
  {
   "cell_type": "markdown",
   "metadata": {},
   "source": [
    "##  Run adaptive shrinkage\n",
    "\n",
    "Run the adaptive shrinkage method with model fitting implemented using the mix-SQP (`method = \"mixSQP\"`) and MOSEK (`method = \"REBayes\"`) algorithms. This is a trial run intended to first precompile the relevant functions."
   ]
  },
  {
   "cell_type": "code",
   "execution_count": 4,
   "metadata": {},
   "outputs": [
    {
     "name": "stderr",
     "output_type": "stream",
     "text": [
      "┌ Warning: RCall.jl: Warning: package ‘REBayes’ was built under R version 3.4.4\n",
      "│ Loading required package: Matrix\n",
      "└ @ RCall /Users/pcarbo/.julia/packages/RCall/iojZI/src/io.jl:113\n"
     ]
    }
   ],
   "source": [
    "gridmult    = 1.2;\n",
    "out_rebayes = ash(z,s,gridmult = gridmult,method = \"REBayes\");\n",
    "out_mixsqp  = ash(z,s,gridmult = gridmult,method = \"mixSQP\",lowrank = \"qr\");"
   ]
  },
  {
   "cell_type": "markdown",
   "metadata": {},
   "source": [
    "Now we re-run the adaptive shrinkage computations, this time recording the runtimes for comparison."
   ]
  },
  {
   "cell_type": "code",
   "execution_count": 5,
   "metadata": {
    "collapsed": true
   },
   "outputs": [],
   "source": [
    "out_rebayes = ash(z,s,gridmult = gridmult,method = \"REBayes\");\n",
    "out_mixsqp  = ash(z,s,gridmult = gridmult,method = \"mixSQP\",lowrank = \"qr\");"
   ]
  },
  {
   "cell_type": "markdown",
   "metadata": {},
   "source": [
    "Now let's summarize the computational effort of adaptive shrinkage in this example data set:"
   ]
  },
  {
   "cell_type": "code",
   "execution_count": 6,
   "metadata": {},
   "outputs": [
    {
     "name": "stdout",
     "output_type": "stream",
     "text": [
      " solver likelihood fitting posterior\n",
      "  MOSEK      0.201   2.198     0.065\n",
      "mix-SQP      0.170   0.211     0.017\n"
     ]
    }
   ],
   "source": [
    "@printf \" solver likelihood fitting posterior\\n\"\n",
    "@printf(\"  MOSEK %10.3f %7.3f %9.3f\\n\",out_rebayes[\"timing-likelihood\"],\n",
    "        out_rebayes[\"timing-fit\"],out_rebayes[\"timing-posterior\"])\n",
    "@printf(\"mix-SQP %10.3f %7.3f %9.3f\\n\",out_mixsqp[\"timing-likelihood\"],\n",
    "        out_mixsqp[\"timing-fit\"],out_mixsqp[\"timing-posterior\"])"
   ]
  },
  {
   "cell_type": "markdown",
   "metadata": {},
   "source": [
    "The likelihood and posterior computations are roughly the same with both optimization algorithms, which is expected because these steps are unchanged.\n",
    "\n",
    "As for the model fitting step, we observe it is the slowest step in both cases. Still, the SQP approach is substantially faster than the interior point method (MOSEK), to the point that the model fitting step is comparable in runtime to the likelihood computation step."
   ]
  },
  {
   "cell_type": "markdown",
   "metadata": {},
   "source": [
    "## Performance on a larger data set\n",
    "\n",
    "Next, let's profile the same adaptive shrinkage computations in a larger data set with more samples, and with a finer-scale grid of normal densities."
   ]
  },
  {
   "cell_type": "code",
   "execution_count": 7,
   "metadata": {
    "collapsed": true
   },
   "outputs": [],
   "source": [
    "n = round(Int,1e5)\n",
    "z = normtmixdatasim(n);\n",
    "s = ones(n);"
   ]
  },
  {
   "cell_type": "markdown",
   "metadata": {},
   "source": [
    "Run adaptive shrinkage using mix-SQP (`method = \"mixSQP\"`) and MOSEK (`method = \"REBayes\"`) in the model-fitting step."
   ]
  },
  {
   "cell_type": "code",
   "execution_count": 8,
   "metadata": {
    "collapsed": true
   },
   "outputs": [],
   "source": [
    "gridmult    = 1.05;\n",
    "out_rebayes = ash(z,s,gridmult = gridmult,method = \"REBayes\");\n",
    "out_mixsqp  = ash(z,s,gridmult = gridmult,method = \"mixSQP\",lowrank = \"qr\");"
   ]
  },
  {
   "cell_type": "markdown",
   "metadata": {},
   "source": [
    "Next, summarize the computational effort of adaptive shrinkage on the larger data set."
   ]
  },
  {
   "cell_type": "code",
   "execution_count": 9,
   "metadata": {},
   "outputs": [
    {
     "name": "stdout",
     "output_type": "stream",
     "text": [
      " solver likelihood fitting posterior\n",
      "  MOSEK      1.031  19.527     0.684\n",
      "mix-SQP      0.763   0.695     0.036\n"
     ]
    }
   ],
   "source": [
    "@printf \" solver likelihood fitting posterior\\n\"\n",
    "@printf(\"  MOSEK %10.3f %7.3f %9.3f\\n\",out_rebayes[\"timing-likelihood\"],\n",
    "        out_rebayes[\"timing-fit\"],out_rebayes[\"timing-posterior\"])\n",
    "@printf(\"mix-SQP %10.3f %7.3f %9.3f\\n\",out_mixsqp[\"timing-likelihood\"],\n",
    "        out_mixsqp[\"timing-fit\"],out_mixsqp[\"timing-posterior\"])"
   ]
  },
  {
   "cell_type": "markdown",
   "metadata": {},
   "source": [
    "The result is similar to above, but more dramatic—in this example, the effort of model fitting with mix-SQP is comparable to the effort required to compute the likelihood matrix, whereas the model fitting using the interior point method (MOSEK) dominates the effort of the other steps. \n",
    "\n",
    "In summary, this illustrates the benefit of the SQP method for implementing adaptive shrinkage, particularly for large data sets."
   ]
  },
  {
   "cell_type": "markdown",
   "metadata": {},
   "source": [
    "## Session information\n",
    "\n",
    "The section gives information about the computing environment used to generate the results contained in this\n",
    "notebook, including the version of Julia and the Julia packages. "
   ]
  },
  {
   "cell_type": "code",
   "execution_count": 10,
   "metadata": {},
   "outputs": [
    {
     "name": "stdout",
     "output_type": "stream",
     "text": [
      "\u001b[32m\u001b[1m    Status\u001b[22m\u001b[39m `~/.julia/environments/v1.1/Project.toml`\n",
      " \u001b[90m [31c24e10]\u001b[39m\u001b[37m Distributions v0.21.1\u001b[39m\n",
      "\u001b[32m\u001b[1m    Status\u001b[22m\u001b[39m `~/.julia/environments/v1.1/Project.toml`\n",
      " \u001b[90m [898213cb]\u001b[39m\u001b[37m LowRankApprox v0.2.3\u001b[39m\n",
      "\u001b[32m\u001b[1m    Status\u001b[22m\u001b[39m `~/.julia/environments/v1.1/Project.toml`\n",
      " \u001b[90m [6f49c342]\u001b[39m\u001b[37m RCall v0.13.3\u001b[39m\n",
      "Julia Version 1.1.1\n",
      "Commit 55e36cc (2019-05-16 04:10 UTC)\n",
      "Platform Info:\n",
      "  OS: macOS (x86_64-apple-darwin15.6.0)\n",
      "  CPU: Intel(R) Core(TM) i7-7567U CPU @ 3.50GHz\n",
      "  WORD_SIZE: 64\n",
      "  LIBM: libopenlibm\n",
      "  LLVM: libLLVM-6.0.1 (ORCJIT, skylake)\n"
     ]
    }
   ],
   "source": [
    "Pkg.status(\"Distributions\")\n",
    "Pkg.status(\"LowRankApprox\")\n",
    "Pkg.status(\"RCall\")\n",
    "versioninfo()"
   ]
  }
 ],
 "metadata": {
  "kernelspec": {
   "display_name": "Julia 1.1.1",
   "language": "julia",
   "name": "julia-1.1"
  },
  "language_info": {
   "file_extension": ".jl",
   "mimetype": "application/julia",
   "name": "julia",
   "version": "1.1.1"
  }
 },
 "nbformat": 4,
 "nbformat_minor": 2
}
