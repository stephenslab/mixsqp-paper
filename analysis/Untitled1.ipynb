{
 "cells": [
  {
   "cell_type": "code",
   "execution_count": 1,
   "metadata": {},
   "outputs": [
    {
     "name": "stderr",
     "output_type": "stream",
     "text": [
      "\u001b[1m\u001b[36mINFO: \u001b[39m\u001b[22m\u001b[36mPrecompiling module RCall.\n",
      "\u001b[39m\u001b[1m\u001b[36mINFO: \u001b[39m\u001b[22m\u001b[36mUsing R installation at /Library/Frameworks/R.framework/Resources\n",
      "\u001b[39m"
     ]
    }
   ],
   "source": [
    "using RCall # use R in Julia and thus in this jupyter notebook\n",
    "using CSV # save/load txt files\n",
    "using LowRankApprox # randomized low-rank approximation"
   ]
  },
  {
   "cell_type": "code",
   "execution_count": 2,
   "metadata": {},
   "outputs": [],
   "source": [
    "L1 = Array{Float64,2}(CSV.read(\"../data/sample5000x20.txt\", nullable = false, header = false, delim = ' '));"
   ]
  },
  {
   "cell_type": "code",
   "execution_count": 13,
   "metadata": {},
   "outputs": [
    {
     "data": {
      "text/plain": [
       "mixSQP (generic function with 1 method)"
      ]
     },
     "execution_count": 13,
     "metadata": {},
     "output_type": "execute_result"
    }
   ],
   "source": [
    "# L       : likelihood matrix; design matrix of size n by m\n",
    "# x       : initial point with default (1/m, 1/m, ...)\n",
    "# convtol :\n",
    "# \n",
    "function mixSQP(L; x = ones(size(L,2))/size(L,2), convtol = 1e-8,\n",
    "                pqrtol = 1e-8, eps = 1e-8, sptol = 1e-3,\n",
    "                maxiter = 100, maxqpiter = 100,\n",
    "                lowrank = \"svd\", seed = 1, verbose = true)\n",
    "    \n",
    "  # Get the number of rows (n) and columns (k) of L\n",
    "  n = size(L,1); k = size(L,2);\n",
    "\n",
    "  # If requested (i.e., if pqrtol > 0), compute the partial QR\n",
    "  # decomposition with relative precision \"tol\", then retrieve the\n",
    "  # permutation matrix, P. For details on the partial QR, see\n",
    "  # https://github.com/klho/LowRankApprox.jl.\n",
    "    \n",
    "  # start timing for low-rank approximation of L\n",
    "  tic();\n",
    "  if lowrank == \"qr\"\n",
    "      srand(seed)\n",
    "      F = pqrfact(L, rtol=pqrtol);\n",
    "      P = sparse(F[:P]);\n",
    "  elseif lowrank == \"svd\"\n",
    "      srand(seed)\n",
    "      F = psvdfact(L, rtol=pqrtol);\n",
    "      S = Diagonal(F[:S]);\n",
    "  else\n",
    "  end\n",
    "  lowranktime = toq();\n",
    "    \n",
    "  # Summarize the analysis here.\n",
    "  if verbose\n",
    "    @printf(\"Running SQP algorithm with the following settings:\\n\")\n",
    "    @printf(\"- %d x %d data matrix\\n\",n,k)\n",
    "    @printf(\"- convergence tolerance = %0.2e\\n\",convtol)\n",
    "    @printf(\"- zero threshold        = %0.2e\\n\",sptol)\n",
    "    if lowrank == \"qr\"\n",
    "      err = maximum(abs.(F[:Q]*F[:R]*P' - L));\n",
    "      @printf(\"- partial QR tolerance  = %0.2e\\n\",pqrtol)\n",
    "      @printf(\"- partial QR max. error = %0.2e\\n\",err)\n",
    "    elseif lowrank == \"svd\"\n",
    "      err = maximum(abs.(F[:U]*S*F[:Vt] - L));\n",
    "      @printf(\"- partial SVD tolerance  = %0.2e\\n\",pqrtol)\n",
    "      @printf(\"- partial SVD max. error = %0.2e\\n\",err)\n",
    "    else\n",
    "      @printf(\"- Exact derivative computation (partial QR not used).\\n\")\n",
    "    end\n",
    "  end\n",
    "\n",
    "  # Initialize storage for the outputs obj, gmin, nnz and nqp.\n",
    "  obj    = zeros(maxiter);\n",
    "  gmin   = zeros(maxiter);\n",
    "  nnz    = zeros(maxiter);\n",
    "  nqp    = zeros(maxiter);\n",
    "  timing = zeros(maxiter);\n",
    "    \n",
    "  # Initialize loop variables used in the loops below so that they\n",
    "  # are available outside the scope of the loop.\n",
    "  i = 0;\n",
    "  j = 0;\n",
    "  D = 0;\n",
    "\n",
    "  # Print the column labels for reporting the algorithm's progress.\n",
    "  if verbose\n",
    "    @printf(\"iter       objective -min(g+1) #nnz #qp\\n\")\n",
    "  end\n",
    "\n",
    "  # QP subproblem start.\n",
    "  for i = 1:maxiter\n",
    "\n",
    "    # Start timing the iteration.\n",
    "    tic();\n",
    "      \n",
    "    # Compute the gradient and Hessian, optionally using the partial\n",
    "    # QR decomposition to increase the speed of these computations.\n",
    "    # gradient and Hessian computation -- Rank reduction method\n",
    "    if lowrank == \"qr\"\n",
    "        D = 1./(F[:Q]*(F[:R]*(P'*x)) + eps);\n",
    "        g = -P * F[:R]' * (F[:Q]'*D)/n;\n",
    "        H = P * F[:R]' * (F[:Q]'*Diagonal(D.^2)*F[:Q]) * F[:R] * P'/n + eps * eye(k);\n",
    "    elseif lowrank == \"svd\"\n",
    "        D = 1./(F[:U]*(S*(F[:Vt]*x)) + eps);\n",
    "        g = -F[:Vt]'*(S * (F[:U]'*D))/n;\n",
    "        H = (F[:V]*S*(F[:U]'*Diagonal(D.^2)*F[:U])* S*F[:Vt])/n + eps * eye(k);\n",
    "    else\n",
    "        D = 1./(L*x + eps);\n",
    "        g = -L'*D/n;\n",
    "        H = L'*Diagonal(D.^2)*L/n + eps * eye(k);\n",
    "    end\n",
    "\n",
    "    # Report on the algorithm's progress.\n",
    "    #\n",
    "    # TO DO: The L * x matrix operation here used to compute the\n",
    "    # objective function could dramatically slow down the algorithm\n",
    "    # when number of QR factors in the partial QR is much smaller than\n",
    "    # k. We need to think of a way to avoid this by having an option\n",
    "    # to not output the objective function at each iteration, and/or\n",
    "    # make sure that this objective function operation is not included\n",
    "    # in the timing.\n",
    "    #\n",
    "    obj[i]  = -sum(log.(L * x + eps));\n",
    "    gmin[i] = minimum(g + 1);\n",
    "    nnz[i]  = sum(x .> sptol);\n",
    "    nqp[i]  = j;\n",
    "    if verbose\n",
    "      @printf(\"%4d %0.8e %+0.2e %4d %3d\\n\",i,obj[i],-gmin[i],nnz[i],j);\n",
    "    end\n",
    "      \n",
    "    # Check convergence of outer loop\n",
    "    if minimum(g + 1) >= -convtol\n",
    "      break\n",
    "    end\n",
    "      \n",
    "    # Initialize the solution to the QP subproblem (y).\n",
    "    ind    = find(x .> sptol);\n",
    "    y      = sparse(zeros(k));\n",
    "    y[ind] = 1/length(ind);\n",
    "\n",
    "    # Run active set method to solve the QP subproblem.\n",
    "    for j = 1:maxqpiter\n",
    "          \n",
    "      # Define the smaller QP subproblem.\n",
    "      s   = length(ind);\n",
    "      H_s = H[ind,ind];\n",
    "      d   = H*y + 2*g + 1;\n",
    "      d_s = d[ind];\n",
    "\n",
    "      # Solve the smaller problem.\n",
    "      p      = sparse(zeros(k));\n",
    "      p_s    = -H_s\\d_s;\n",
    "      p[ind] = p_s;\n",
    "\n",
    "      # Check convergence using KKT\n",
    "      if norm(p_s) < convtol\n",
    "            \n",
    "        # Compute the Lagrange multiplier.\n",
    "        lambda = d;\n",
    "        if all(lambda .>= -convtol)\n",
    "          break;\n",
    "        else\n",
    "            \n",
    "          # TO DO: Explain what ind and ind_min are for.\n",
    "          ind_min = findmin(lambda)[2];\n",
    "          ind     = sort([ind; ind_min]);\n",
    "        end\n",
    "      else\n",
    "          \n",
    "        # Find a feasible step length.\n",
    "        alpha     = 1;\n",
    "        alpha0    = -y[ind]./p_s;\n",
    "        ind_block = find(p_s .< 0);\n",
    "        alpha0    = alpha0[ind_block];\n",
    "        if ~isempty(ind_block)\n",
    "          v, t = findmin(alpha0);\n",
    "          if v < 1\n",
    "\n",
    "            # Blocking constraint.\n",
    "            ind_block = ind[ind_block[t]]; \n",
    "            alpha     = v;\n",
    "              \n",
    "            # Update working set if there is a blocking constraint.\n",
    "            deleteat!(ind,find(ind - ind_block .== 0));\n",
    "          end\n",
    "        end\n",
    "          \n",
    "        # Move to the new \"inner loop\" iterate (y) along the search\n",
    "        # direction.\n",
    "        y = y + alpha * p;\n",
    "      end\n",
    "    end\n",
    "\n",
    "    # Update the solution to the original optimization problem.\n",
    "    x = y;\n",
    "\n",
    "    # Get the elapsed time for the ith iteration.\n",
    "    timing[i] = toq();\n",
    "  end\n",
    "\n",
    "  # Return: (1) the solution (after zeroing out any values below the\n",
    "  # tolerance); (2) the value of the objective at each iteration; (3)\n",
    "  # the minimum gradient value of the modified objective at each\n",
    "  # iteration; (4) the number of nonzero entries in the vector at each\n",
    "  # iteration; and (5) the number of inner iterations taken to solve\n",
    "  # the QP subproblem at each outer iteration.\n",
    "  x[x .< sptol] = 0; x = x/sum(x);\n",
    "  totaltime = lowranktime + sum(timing[1:i]);\n",
    "  if verbose\n",
    "    @printf(\"Optimization took %d iterations and %0.4f seconds.\\n\",i,totaltime)\n",
    "  end\n",
    "\n",
    "  return Dict([(\"x\",full(x)), (\"totaltime\",totaltime), (\"lowranktime\",lowranktime),\n",
    "               (\"obj\",obj[1:i]), (\"gmin\",gmin[1:i]), (\"nnz\",nnz[1:i]),\n",
    "               (\"nqp\",nqp[1:i]), (\"timing\",timing[1:i])])\n",
    "end"
   ]
  },
  {
   "cell_type": "code",
   "execution_count": 14,
   "metadata": {},
   "outputs": [
    {
     "name": "stdout",
     "output_type": "stream",
     "text": [
      "Running SQP algorithm with the following settings:\n",
      "- 5000 x 20 data matrix\n",
      "- convergence tolerance = 1.00e-08\n",
      "- zero threshold        = 1.00e-03\n",
      "- partial SVD tolerance  = 1.00e-08\n",
      "- partial SVD max. error = 5.39e-08\n",
      "iter       objective -min(g+1) #nnz #qp\n",
      "   1 2.95206790e+03 +1.81e-01   20   0\n",
      "   2 2.55805274e+03 +2.20e-01    3  22\n",
      "   3 2.37809188e+03 +4.08e-02    3   2\n",
      "   4 2.34432187e+03 +5.72e-03    3   2\n",
      "   5 2.33599066e+03 +2.59e-04    3   2\n",
      "   6 2.33556636e+03 +4.81e-07    3   2\n",
      "   7 2.33556553e+03 -9.52e-09    3   2\n",
      "Optimization took 7 iterations and 0.0990 seconds.\n"
     ]
    },
    {
     "data": {
      "text/plain": [
       "Dict{String,Any} with 8 entries:\n",
       "  \"timing\"      => [0.0854581, 0.000888117, 0.000801054, 0.00116372, 0.00114653…\n",
       "  \"nnz\"         => [20.0, 3.0, 3.0, 3.0, 3.0, 3.0, 3.0]\n",
       "  \"totaltime\"   => 0.0990484\n",
       "  \"lowranktime\" => 0.0084602\n",
       "  \"obj\"         => [2952.07, 2558.05, 2378.09, 2344.32, 2335.99, 2335.57, 2335.…\n",
       "  \"x\"           => [0.469905, 0.0, 0.0, 0.0, 0.0, 0.0, 0.0, 0.0, 0.0, 0.0, 0.0,…\n",
       "  \"nqp\"         => [0.0, 22.0, 2.0, 2.0, 2.0, 2.0, 2.0]\n",
       "  \"gmin\"        => [-0.181487, -0.220214, -0.0407744, -0.00572226, -0.000259016…"
      ]
     },
     "execution_count": 14,
     "metadata": {},
     "output_type": "execute_result"
    }
   ],
   "source": [
    "mixSQP(L1)"
   ]
  },
  {
   "cell_type": "code",
   "execution_count": 5,
   "metadata": {},
   "outputs": [],
   "source": [
    "include(\"../code/julia/mixSQP_time.jl\")\n",
    "include(\"../code/julia/mixEM.jl\");\n",
    "include(\"../code/julia/REBayes.jl\");\n",
    "include(\"../code/julia/makedata.jl\");"
   ]
  },
  {
   "cell_type": "code",
   "execution_count": 20,
   "metadata": {},
   "outputs": [],
   "source": [
    "srand(1)\n",
    "temp = pqrfact(L1, rank = 5);\n",
    "L = temp[:Q] * temp[:R] * temp[:P]';"
   ]
  },
  {
   "cell_type": "code",
   "execution_count": 21,
   "metadata": {},
   "outputs": [
    {
     "data": {
      "text/plain": [
       "1×2 Array{Int64,2}:\n",
       " 17  5"
      ]
     },
     "execution_count": 21,
     "metadata": {},
     "output_type": "execute_result"
    }
   ],
   "source": [
    "[rank(L1) rank(L)]"
   ]
  },
  {
   "cell_type": "code",
   "execution_count": 22,
   "metadata": {},
   "outputs": [
    {
     "data": {
      "text/plain": [
       "2×3 Array{Any,2}:\n",
       "   \"mixEM\"   \"REbayes\"   \"mixSQP\"\n",
       " 17.3617    0.081       0.0420426"
      ]
     },
     "execution_count": 22,
     "metadata": {},
     "output_type": "execute_result"
    }
   ],
   "source": [
    "# time comparison between mixEM, mixSQP and REBayes\n",
    "\n",
    "## mixEM;\n",
    "tic(); x_em = mixEM(L)[1]; t_em = toq();\n",
    "\n",
    "x_rebayes,t_rebayes = REBayes(L);\n",
    "\n",
    "tic(); x_mixsqp = mixSQP_time(L)[1]; t_mixsqp = toq();\n",
    "\n",
    "# mixSQP ourperforms on this small dataset 5000x20\n",
    "[\"mixEM\" \"REbayes\" \"mixSQP\"; t_em t_rebayes t_mixsqp]"
   ]
  },
  {
   "cell_type": "code",
   "execution_count": 23,
   "metadata": {},
   "outputs": [
    {
     "data": {
      "text/plain": [
       "20×3 Array{Float64,2}:\n",
       " 0.358333      0.35897    0.447119 \n",
       " 0.00397846    0.0        0.0      \n",
       " 0.000109288   0.0        0.0      \n",
       " 1.99013e-7    0.0        0.0      \n",
       " 4.40543e-12   0.0        0.0      \n",
       " 1.63095e-19   0.0        0.0      \n",
       " 5.72183e-30   0.0        0.0      \n",
       " 6.50616e-41   0.0        0.0      \n",
       " 7.34051e-44   0.0        0.0      \n",
       " 8.55295e-28   0.0        0.0      \n",
       " 0.251122      0.267272   0.0369685\n",
       " 0.0592966     0.0433985  0.111889 \n",
       " 2.28634e-24   0.0        0.0755728\n",
       " 0.281933      0.286772   0.32845  \n",
       " 0.0452267     0.0435877  0.0      \n",
       " 1.39568e-228  0.0        0.0      \n",
       " 1.97626e-323  0.0        0.0      \n",
       " 4.94066e-324  0.0        0.0      \n",
       " 0.0           0.0        0.0      \n",
       " 0.0           0.0        0.0      "
      ]
     },
     "execution_count": 23,
     "metadata": {},
     "output_type": "execute_result"
    }
   ],
   "source": [
    "# EM does not converge until maxiter\n",
    "[x_em x_rebayes x_mixsqp]"
   ]
  },
  {
   "cell_type": "code",
   "execution_count": 25,
   "metadata": {},
   "outputs": [
    {
     "data": {
      "text/plain": [
       "3-element Array{Float64,1}:\n",
       " 0.470621\n",
       " 0.470621\n",
       " 0.467781"
      ]
     },
     "execution_count": 25,
     "metadata": {},
     "output_type": "execute_result"
    }
   ],
   "source": [
    "minf = min.(eval_f(L1,x_em), eval_f(L1,x_rebayes),  eval_f(L1,x_mixsqp));\n",
    "[eval_f(L1,x_em), eval_f(L1,x_rebayes),  eval_f(L1,x_mixsqp)]"
   ]
  }
 ],
 "metadata": {
  "kernelspec": {
   "display_name": "Julia 0.6.2",
   "language": "julia",
   "name": "julia-0.6"
  },
  "language_info": {
   "file_extension": ".jl",
   "mimetype": "application/julia",
   "name": "julia",
   "version": "0.6.2"
  }
 },
 "nbformat": 4,
 "nbformat_minor": 2
}
