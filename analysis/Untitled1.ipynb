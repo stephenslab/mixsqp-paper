{
 "cells": [
  {
   "cell_type": "code",
   "execution_count": 2,
   "metadata": {},
   "outputs": [
    {
     "name": "stderr",
     "output_type": "stream",
     "text": [
      "WARNING: Method definition ==(Base.Nullable{S}, Base.Nullable{T}) in module Base at nullable.jl:238 overwritten in module NullableArrays at /Users/youngseok/.julia/v0.6/NullableArrays/src/operators.jl:99.\n"
     ]
    }
   ],
   "source": [
    "using RCall # use R in Julia and thus in this jupyter notebook\n",
    "using CSV # save/load txt files\n",
    "using LowRankApprox # randomized low-rank approximation"
   ]
  },
  {
   "cell_type": "code",
   "execution_count": 6,
   "metadata": {},
   "outputs": [],
   "source": [
    "L1 = Array{Float64,2}(CSV.read(\"../data/sample5000x20.txt\", nullable = false, header = false, delim = ' '));"
   ]
  },
  {
   "cell_type": "code",
   "execution_count": 5,
   "metadata": {},
   "outputs": [],
   "source": [
    "include(\"../code/julia/mixSQP_time.jl\")\n",
    "include(\"../code/julia/mixEM.jl\");\n",
    "include(\"../code/julia/REBayes.jl\");\n",
    "include(\"../code/julia/makedata.jl\");"
   ]
  },
  {
   "cell_type": "code",
   "execution_count": 20,
   "metadata": {},
   "outputs": [],
   "source": [
    "srand(1)\n",
    "temp = pqrfact(L1, rank = 5);\n",
    "L = temp[:Q] * temp[:R] * temp[:P]';"
   ]
  },
  {
   "cell_type": "code",
   "execution_count": 21,
   "metadata": {},
   "outputs": [
    {
     "data": {
      "text/plain": [
       "1×2 Array{Int64,2}:\n",
       " 17  5"
      ]
     },
     "execution_count": 21,
     "metadata": {},
     "output_type": "execute_result"
    }
   ],
   "source": [
    "[rank(L1) rank(L)]"
   ]
  },
  {
   "cell_type": "code",
   "execution_count": 22,
   "metadata": {},
   "outputs": [
    {
     "data": {
      "text/plain": [
       "2×3 Array{Any,2}:\n",
       "   \"mixEM\"   \"REbayes\"   \"mixSQP\"\n",
       " 17.3617    0.081       0.0420426"
      ]
     },
     "execution_count": 22,
     "metadata": {},
     "output_type": "execute_result"
    }
   ],
   "source": [
    "# time comparison between mixEM, mixSQP and REBayes\n",
    "\n",
    "## mixEM;\n",
    "tic(); x_em = mixEM(L)[1]; t_em = toq();\n",
    "\n",
    "x_rebayes,t_rebayes = REBayes(L);\n",
    "\n",
    "tic(); x_mixsqp = mixSQP_time(L)[1]; t_mixsqp = toq();\n",
    "\n",
    "# mixSQP ourperforms on this small dataset 5000x20\n",
    "[\"mixEM\" \"REbayes\" \"mixSQP\"; t_em t_rebayes t_mixsqp]"
   ]
  },
  {
   "cell_type": "code",
   "execution_count": 23,
   "metadata": {},
   "outputs": [
    {
     "data": {
      "text/plain": [
       "20×3 Array{Float64,2}:\n",
       " 0.358333      0.35897    0.447119 \n",
       " 0.00397846    0.0        0.0      \n",
       " 0.000109288   0.0        0.0      \n",
       " 1.99013e-7    0.0        0.0      \n",
       " 4.40543e-12   0.0        0.0      \n",
       " 1.63095e-19   0.0        0.0      \n",
       " 5.72183e-30   0.0        0.0      \n",
       " 6.50616e-41   0.0        0.0      \n",
       " 7.34051e-44   0.0        0.0      \n",
       " 8.55295e-28   0.0        0.0      \n",
       " 0.251122      0.267272   0.0369685\n",
       " 0.0592966     0.0433985  0.111889 \n",
       " 2.28634e-24   0.0        0.0755728\n",
       " 0.281933      0.286772   0.32845  \n",
       " 0.0452267     0.0435877  0.0      \n",
       " 1.39568e-228  0.0        0.0      \n",
       " 1.97626e-323  0.0        0.0      \n",
       " 4.94066e-324  0.0        0.0      \n",
       " 0.0           0.0        0.0      \n",
       " 0.0           0.0        0.0      "
      ]
     },
     "execution_count": 23,
     "metadata": {},
     "output_type": "execute_result"
    }
   ],
   "source": [
    "# EM does not converge until maxiter\n",
    "[x_em x_rebayes x_mixsqp]"
   ]
  },
  {
   "cell_type": "code",
   "execution_count": 25,
   "metadata": {},
   "outputs": [
    {
     "data": {
      "text/plain": [
       "3-element Array{Float64,1}:\n",
       " 0.470621\n",
       " 0.470621\n",
       " 0.467781"
      ]
     },
     "execution_count": 25,
     "metadata": {},
     "output_type": "execute_result"
    }
   ],
   "source": [
    "minf = min.(eval_f(L1,x_em), eval_f(L1,x_rebayes),  eval_f(L1,x_mixsqp));\n",
    "[eval_f(L1,x_em), eval_f(L1,x_rebayes),  eval_f(L1,x_mixsqp)]"
   ]
  }
 ],
 "metadata": {
  "kernelspec": {
   "display_name": "Julia 0.6.2",
   "language": "julia",
   "name": "julia-0.6"
  },
  "language_info": {
   "file_extension": ".jl",
   "mimetype": "application/julia",
   "name": "julia",
   "version": "0.6.2"
  }
 },
 "nbformat": 4,
 "nbformat_minor": 2
}
