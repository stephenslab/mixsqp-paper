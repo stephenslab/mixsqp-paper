{
 "cells": [
  {
   "cell_type": "markdown",
   "metadata": {},
   "source": [
    "Comparing the compute time for running the interior-point method on three different formulations of the optimization problem: (1) dual, (2) primal, and (3) modified primal."
   ]
  },
  {
   "cell_type": "code",
   "execution_count": 1,
   "metadata": {},
   "outputs": [
    {
     "ename": "LoadError",
     "evalue": "\u001b[91mArgumentError: Module CVS not found in current path.\nRun `Pkg.add(\"CVS\")` to install the CVS package.\u001b[39m",
     "output_type": "error",
     "traceback": [
      "\u001b[91mArgumentError: Module CVS not found in current path.\nRun `Pkg.add(\"CVS\")` to install the CVS package.\u001b[39m",
      "",
      "Stacktrace:",
      " [1] \u001b[1m_require\u001b[22m\u001b[22m\u001b[1m(\u001b[22m\u001b[22m::Symbol\u001b[1m)\u001b[22m\u001b[22m at \u001b[1m./loading.jl:435\u001b[22m\u001b[22m",
      " [2] \u001b[1mrequire\u001b[22m\u001b[22m\u001b[1m(\u001b[22m\u001b[22m::Symbol\u001b[1m)\u001b[22m\u001b[22m at \u001b[1m./loading.jl:405\u001b[22m\u001b[22m",
      " [3] \u001b[1minclude_string\u001b[22m\u001b[22m\u001b[1m(\u001b[22m\u001b[22m::String, ::String\u001b[1m)\u001b[22m\u001b[22m at \u001b[1m./loading.jl:522\u001b[22m\u001b[22m"
     ]
    }
   ],
   "source": [
    "using RCall\n",
    "using Mosek\n",
    "using JuMP\n",
    "using PyPlot\n",
    "using Distributions\n",
    "using LowRankApprox\n",
    "using DataFrames\n",
    "using CVS"
   ]
  },
  {
   "cell_type": "code",
   "execution_count": 2,
   "metadata": {},
   "outputs": [],
   "source": [
    "include(\"../code/julia/datasim.jl\");\n",
    "include(\"../code/julia/likelihood.jl\");\n",
    "include(\"../code/julia/mixSQP_time.jl\");\n",
    "include(\"../code/julia/primaldual.jl\");\n",
    "include(\"../code/julia/REBayes.jl\");"
   ]
  },
  {
   "cell_type": "code",
   "execution_count": 3,
   "metadata": {},
   "outputs": [],
   "source": [
    "srand(1);\n",
    "n = round(Int,1e4); m = 40;\n",
    "x = normtmixdatasim(n);\n",
    "sd = autoselectmixsd(x,nv = m);\n",
    "L  = normlikmatrix(x,sd = sd);\n",
    "mixSQP_time(L);"
   ]
  },
  {
   "cell_type": "code",
   "execution_count": 4,
   "metadata": {},
   "outputs": [],
   "source": [
    "a = zeros(10,7);"
   ]
  },
  {
   "cell_type": "code",
   "execution_count": 12,
   "metadata": {},
   "outputs": [
    {
     "data": {
      "text/plain": [
       "10×7 Array{Float64,2}:\n",
       " 4.29507     0.715262   0.124215   0.778613  0.309352   0.00503396  0.003\n",
       " 0.00745568  0.0744612  0.0555333  0.522175  0.0161516  0.00282402  0.005\n",
       " 0.0229443   0.127992   0.127429   0.976991  0.0362826  0.00269214  0.01 \n",
       " 0.0343323   0.254678   0.255791   1.75815   0.0377954  0.00616137  0.016\n",
       " 0.0720909   0.509059   0.517084   3.34384   0.0702588  0.00739223  0.031\n",
       " 0.219612    1.25604    1.31076    8.09865   0.394399   0.0120535   0.073\n",
       " 0.373561    6.65277    7.40581    0.0       0.41342    0.0273739   0.161\n",
       " 0.0         0.0        0.0        0.0       0.175641   0.019743    0.319\n",
       " 0.0         0.0        0.0        0.0       0.466379   0.0438104   0.697\n",
       " 0.0         0.0        0.0        0.0       1.13479    0.0899928   1.894"
      ]
     },
     "execution_count": 12,
     "metadata": {},
     "output_type": "execute_result"
    }
   ],
   "source": [
    "a"
   ]
  },
  {
   "cell_type": "code",
   "execution_count": 8,
   "metadata": {},
   "outputs": [
    {
     "name": "stdout",
     "output_type": "stream",
     "text": [
      "elapsed time: 0.309351913 seconds\n",
      "elapsed time: 0.00503396 seconds\n",
      "elapsed time: 0.067897332 seconds\n",
      "1\n",
      "elapsed time: 0.016151567 seconds\n",
      "elapsed time: 0.002824022 seconds\n",
      "elapsed time: 0.062945986 seconds\n",
      "2\n",
      "elapsed time: 0.036282599 seconds\n",
      "elapsed time: 0.002692144 seconds\n",
      "elapsed time: 0.06791897 seconds\n",
      "3\n",
      "elapsed time: 0.037795367 seconds\n",
      "elapsed time: 0.006161372 seconds\n",
      "elapsed time: 0.074754031 seconds\n",
      "4\n",
      "elapsed time: 0.070258847 seconds\n",
      "elapsed time: 0.007392226 seconds\n",
      "elapsed time: 0.090313865 seconds\n",
      "5\n",
      "elapsed time: 0.39439885 seconds\n",
      "elapsed time: 0.01205353 seconds\n",
      "elapsed time: 0.135370463 seconds\n",
      "6\n",
      "elapsed time: 0.413419538 seconds\n",
      "elapsed time: 0.027373895 seconds\n",
      "elapsed time: 0.223580379 seconds\n",
      "7\n",
      "elapsed time: 0.175640866 seconds\n",
      "elapsed time: 0.019742951 seconds\n",
      "elapsed time: 0.380833743 seconds\n",
      "8\n",
      "elapsed time: 0.466378736 seconds\n",
      "elapsed time: 0.043810356 seconds\n",
      "elapsed time: 0.764182441 seconds\n",
      "9\n",
      "elapsed time: 1.134785181 seconds\n",
      "elapsed time: 0.089992815 seconds\n",
      "elapsed time: 1.963407138 seconds\n",
      "10\n"
     ]
    }
   ],
   "source": [
    "# need to repeat this 10 times to get a reliable result.\n",
    "for i = 1:10\n",
    "    n = round(Int,40 * 2^i); m = 40;\n",
    "    x = normtmixdatasim(n);\n",
    "    sd = autoselectmixsd(x,nv = m);\n",
    "    L  = normlikmatrix(x,sd = sd);\n",
    "    #tic(); ip_dual(L); a[i,1] = toc();\n",
    "    #tic(); ip_simp(L); a[i,2] = toc();\n",
    "    #tic(); ip_box(L); a[i,3] = toc();\n",
    "    #tic(); sqp_dual(L); a[i,4] = toc();\n",
    "    tic(); sqp_simp(L); a[i,5] = toc();\n",
    "    tic(); sqp_box(L); a[i,6] = toc();\n",
    "    tic(); a[i,7] = REBayes(L)[2]; toc();\n",
    "    println(i)\n",
    "end"
   ]
  },
  {
   "cell_type": "code",
   "execution_count": 11,
   "metadata": {},
   "outputs": [],
   "source": [
    "#plot(log.(a)); legend([\"ip_dual\";\"ip_simp\";\"ip_box\";\"sqp_dual\";\"sqp_simp\";\"sqp_box\";\"REBayes\"])"
   ]
  },
  {
   "cell_type": "code",
   "execution_count": 10,
   "metadata": {},
   "outputs": [],
   "source": [
    "out = [[\"n\" \"ip_dual\" \"ip_simp\" \"ip_box\" \"sqp_dual\" \"sqp_simp\" \"sqp_box\" \"REBayes\"]; [1;2;3;4;5;6;7;8;9;10]*80 a];"
   ]
  },
  {
   "cell_type": "code",
   "execution_count": 152,
   "metadata": {},
   "outputs": [
    {
     "data": {
      "text/plain": [
       "RCall.RObject{RCall.NilSxp}\n",
       "NULL\n"
      ]
     },
     "execution_count": 152,
     "metadata": {},
     "output_type": "execute_result"
    }
   ],
   "source": [
    "@rput a\n",
    "R\"write.csv(a,'out.txt')\""
   ]
  }
 ],
 "metadata": {
  "kernelspec": {
   "display_name": "Julia 0.6.2",
   "language": "julia",
   "name": "julia-0.6"
  },
  "language_info": {
   "file_extension": ".jl",
   "mimetype": "application/julia",
   "name": "julia",
   "version": "0.6.2"
  }
 },
 "nbformat": 4,
 "nbformat_minor": 2
}
