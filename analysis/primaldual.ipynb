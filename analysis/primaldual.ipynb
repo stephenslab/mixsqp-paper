{
 "cells": [
  {
   "cell_type": "markdown",
   "metadata": {},
   "source": [
    "Comparing the compute time for running the interior-point method on three different formulations of the optimization problem: (1) dual, (2) primal, and (3) modified primal."
   ]
  },
  {
   "cell_type": "code",
   "execution_count": 7,
   "metadata": {},
   "outputs": [],
   "source": [
    "using RCall\n",
    "using Mosek\n",
    "using JuMP\n",
    "using CSV"
   ]
  },
  {
   "cell_type": "code",
   "execution_count": 3,
   "metadata": {},
   "outputs": [
    {
     "name": "stderr",
     "output_type": "stream",
     "text": [
      "WARNING: Method definition ==(Base.Nullable{S}, Base.Nullable{T}) in module Base at nullable.jl:238 overwritten in module NullableArrays at /Users/yosikim/.julia/v0.6/NullableArrays/src/operators.jl:99.\n",
      "WARNING: Method definition promote_rule(Type{T}, Type{Any}) in module Missings at /Users/yosikim/.julia/v0.6/Missings/src/Missings.jl:52 overwritten in module Nulls at /Users/yosikim/.julia/v0.6/Nulls/src/Nulls.jl:29.\n"
     ]
    },
    {
     "data": {
      "text/plain": [
       "ash (generic function with 1 method)"
      ]
     },
     "execution_count": 3,
     "metadata": {},
     "output_type": "execute_result"
    }
   ],
   "source": [
    "include(\"../code/julia/ash.jl\")"
   ]
  },
  {
   "cell_type": "code",
   "execution_count": 8,
   "metadata": {},
   "outputs": [
    {
     "data": {
      "text/plain": [
       "vanilla_primal (generic function with 1 method)"
      ]
     },
     "execution_count": 8,
     "metadata": {},
     "output_type": "execute_result"
    }
   ],
   "source": [
    "# vanilla interior point method for the primal\n",
    "function vanilla_primal(L)\n",
    "    n,m = size(L);\n",
    "    mod = Model(solver=MosekSolver(QUIET = true));\n",
    "    @variable(mod, x[1:m] >= 0, start = 1/m);\n",
    "    @NLobjective(mod, Min, -sum(log(sum(L[i,j]*x[j] for j = 1:m)) for i = 1:n)/n);\n",
    "    @constraint(mod, sum(x) == 1)\n",
    "    solve(mod);\n",
    "    x = getvalue(x);\n",
    "    x[x.< 1e-3] = 0;\n",
    "    return sparse(x/sum(x));\n",
    "end"
   ]
  },
  {
   "cell_type": "code",
   "execution_count": 9,
   "metadata": {},
   "outputs": [
    {
     "data": {
      "text/plain": [
       "vanilla_boxed (generic function with 1 method)"
      ]
     },
     "execution_count": 9,
     "metadata": {},
     "output_type": "execute_result"
    }
   ],
   "source": [
    "# vanilla interior point method for the primal\n",
    "function vanilla_boxed(L)\n",
    "    n,m = size(L);\n",
    "    mod = Model(solver=MosekSolver(QUIET = true));\n",
    "    @variable(mod, x[1:m] >= 0, start = 1/m);\n",
    "    @NLobjective(mod, Min, -sum(log(sum(L[i,j]*x[j] for j = 1:m)) for i = 1:n)/n + sum(x[i] for i = 1:m));\n",
    "    solve(mod);\n",
    "    x = getvalue(x);\n",
    "    x[x.< 1e-3] = 0;\n",
    "    return sparse(x/sum(x));\n",
    "end"
   ]
  },
  {
   "cell_type": "code",
   "execution_count": 10,
   "metadata": {},
   "outputs": [
    {
     "data": {
      "text/plain": [
       "vanilla_dual (generic function with 1 method)"
      ]
     },
     "execution_count": 10,
     "metadata": {},
     "output_type": "execute_result"
    }
   ],
   "source": [
    "# vanilla interior point method for the primal\n",
    "function vanilla_dual(L)\n",
    "    n,m = size(L);\n",
    "    mod = Model(solver=MosekSolver(QUIET = true));\n",
    "    @variable(mod, y[1:n] >= 0, start = 1/n);\n",
    "    @NLobjective(mod, Min, -sum(log(y[i]) for i = 1:n)/n);\n",
    "    @constraint(mod, ic, L'*y .<= 1)\n",
    "    solve(mod);\n",
    "    x = -getdual(ic);\n",
    "    x[x.< 1e-3] = 0;\n",
    "    return sparse(x/sum(x));\n",
    "end"
   ]
  },
  {
   "cell_type": "code",
   "execution_count": 11,
   "metadata": {},
   "outputs": [
    {
     "data": {
      "text/plain": [
       "REBayes (generic function with 1 method)"
      ]
     },
     "execution_count": 11,
     "metadata": {},
     "output_type": "execute_result"
    }
   ],
   "source": [
    "function REBayes(L)\n",
    "    @rput L;\n",
    "    R\"require(REBayes);\n",
    "    t_rebayes = system.time(res <- KWDual(L, rep(1,dim(L)[2]), rep(1,dim(L)[1])/dim(L)[1]))[3];\n",
    "    res$f[res$f < 1e-3] = 0\n",
    "    x_rebayes = res$f / sum(res$f)\"\n",
    "    @rget x_rebayes;\n",
    "    return sparse(x_rebayes);\n",
    "end"
   ]
  },
  {
   "cell_type": "code",
   "execution_count": 140,
   "metadata": {},
   "outputs": [],
   "source": [
    "L = Array{Float64,2}(CSV.read(\"../data/sample5000x20.txt\", nullable = false, header = false, delim = ' '));"
   ]
  },
  {
   "cell_type": "code",
   "execution_count": 51,
   "metadata": {},
   "outputs": [
    {
     "name": "stdout",
     "output_type": "stream",
     "text": [
      "  0.632511 seconds (442.58 k allocations: 53.744 MiB, 67.20% gc time)\n",
      "  0.686826 seconds (1.02 M allocations: 133.468 MiB, 1.73% gc time)\n",
      "  0.818156 seconds (1.02 M allocations: 133.450 MiB, 18.72% gc time)\n",
      "  0.399800 seconds (170 allocations: 6.984 KiB)\n"
     ]
    },
    {
     "data": {
      "text/plain": [
       "20-element SparseVector{Float64,Int64} with 3 stored entries:\n",
       "  [1 ]  =  0.469905\n",
       "  [13]  =  0.305865\n",
       "  [14]  =  0.22423"
      ]
     },
     "execution_count": 51,
     "metadata": {},
     "output_type": "execute_result"
    }
   ],
   "source": [
    "@time vanilla_dual(L)\n",
    "@time vanilla_primal(L)\n",
    "@time vanilla_boxed(L)\n",
    "@time REBayes(L)"
   ]
  },
  {
   "cell_type": "code",
   "execution_count": 64,
   "metadata": {},
   "outputs": [
    {
     "data": {
      "text/plain": [
       "(1000000, 3)"
      ]
     },
     "execution_count": 64,
     "metadata": {},
     "output_type": "execute_result"
    }
   ],
   "source": [
    "srand(1)\n",
    "x = [randn(5*10^5);3*randn(5*10^5)];\n",
    "s = ones(10^6);\n",
    "iter = 8;\n",
    "L = ash(x,s, mult = 1e3, lowrank = \"nothing\")[3];\n",
    "size(L)"
   ]
  },
  {
   "cell_type": "code",
   "execution_count": 49,
   "metadata": {},
   "outputs": [
    {
     "name": "stdout",
     "output_type": "stream",
     "text": [
      " 14.036674 seconds (37.00 M allocations: 2.549 GiB, 24.60% gc time)\n",
      " 10.933699 seconds (51.00 M allocations: 3.004 GiB, 12.16% gc time)\n",
      " 10.391847 seconds (51.00 M allocations: 3.004 GiB, 9.84% gc time)\n",
      " 11.840568 seconds (153 allocations: 5.531 KiB)\n"
     ]
    }
   ],
   "source": [
    "@time vanilla_dual(L)\n",
    "@time vanilla_primal(L)\n",
    "@time vanilla_boxed(L)\n",
    "@time REBayes(L)"
   ]
  },
  {
   "cell_type": "code",
   "execution_count": 173,
   "metadata": {},
   "outputs": [
    {
     "data": {
      "text/plain": [
       "sqp_box (generic function with 1 method)"
      ]
     },
     "execution_count": 173,
     "metadata": {},
     "output_type": "execute_result"
    }
   ],
   "source": [
    "function sqp_box(L)\n",
    "    n,m = size(L);\n",
    "    x = ones(m)/m;\n",
    "    for i = 1:100\n",
    "        D = 1./(L*x + 1e-8);\n",
    "        g = -L'*D/n;\n",
    "        H = L'*Diagonal(D.^2)*L/n + 1e-8 * speye(m);\n",
    "        \n",
    "        if minimum(g+1) >= -1e-6\n",
    "          break;\n",
    "        end\n",
    "        \n",
    "        mod = Model(solver=MosekSolver(QUIET = true));\n",
    "        a,b = findn(H);\n",
    "        @variable(mod, y[1:m] >= 0);\n",
    "        @objective(mod, Min, QuadExpr(y[a],y[b],H[:]/2,AffExpr(y, 2*g+1, 0)) )\n",
    "        solve(mod);\n",
    "        x = getvalue(y);\n",
    "        x[x .< 0] = 0;\n",
    "        println(x)\n",
    "        \n",
    "    end\n",
    "    x[x .< 1e-3] = 0;\n",
    "    return x\n",
    "end"
   ]
  },
  {
   "cell_type": "code",
   "execution_count": 631,
   "metadata": {},
   "outputs": [],
   "source": [
    "\n",
    "for i = 1:100\n",
    "    D = 1./(L*x + 1e-8);\n",
    "    g = -L'*D/n;\n",
    "    x = x .* (g.^2);\n",
    "end"
   ]
  },
  {
   "cell_type": "code",
   "execution_count": 632,
   "metadata": {},
   "outputs": [
    {
     "data": {
      "text/plain": [
       "20-element Array{Float64,1}:\n",
       " 0.448069    \n",
       " 0.020337    \n",
       " 0.00157086  \n",
       " 1.42207e-5  \n",
       " 2.39921e-9  \n",
       " 2.34251e-16 \n",
       " 1.98556e-29 \n",
       " 1.57267e-53 \n",
       " 9.24419e-96 \n",
       " 1.35138e-160\n",
       " 8.97308e-231\n",
       " 6.05222e-218\n",
       " 0.305698    \n",
       " 0.224312    \n",
       " 4.94066e-323\n",
       " 9.88131e-324\n",
       " 4.94066e-324\n",
       " 0.0         \n",
       " 0.0         \n",
       " 0.0         "
      ]
     },
     "execution_count": 632,
     "metadata": {},
     "output_type": "execute_result"
    }
   ],
   "source": [
    "x"
   ]
  },
  {
   "cell_type": "code",
   "execution_count": 624,
   "metadata": {},
   "outputs": [
    {
     "data": {
      "text/plain": [
       "20-element Array{Float64,1}:\n",
       " 0.447824    \n",
       " 0.0205508   \n",
       " 0.00160193  \n",
       " 1.47481e-5  \n",
       " 2.56706e-9  \n",
       " 2.6572e-16  \n",
       " 2.51469e-29 \n",
       " 2.44819e-53 \n",
       " 2.08009e-95 \n",
       " 5.42192e-160\n",
       " 6.85951e-230\n",
       " 4.2389e-217 \n",
       " 0.305696    \n",
       " 0.224312    \n",
       " 4.94066e-323\n",
       " 9.88131e-324\n",
       " 4.94066e-324\n",
       " 0.0         \n",
       " 0.0         \n",
       " 0.0         "
      ]
     },
     "execution_count": 624,
     "metadata": {},
     "output_type": "execute_result"
    }
   ],
   "source": [
    "D = 1./(L*x + 1e-8);\n",
    "    g = -L'*D/n;\n",
    "    x = x .* (g.^2);\n",
    "    x = x/sum(x)"
   ]
  },
  {
   "cell_type": "code",
   "execution_count": 601,
   "metadata": {},
   "outputs": [
    {
     "data": {
      "text/plain": [
       "1×2 Array{Float64,2}:\n",
       " 0.467113  0.467113"
      ]
     },
     "execution_count": 601,
     "metadata": {},
     "output_type": "execute_result"
    }
   ],
   "source": [
    "[eval_f(L,x) eval_f(L,y)]"
   ]
  },
  {
   "cell_type": "code",
   "execution_count": 597,
   "metadata": {},
   "outputs": [
    {
     "data": {
      "text/plain": [
       "20-element Array{Float64,1}:\n",
       " 0.469885\n",
       " 0.0     \n",
       " 0.0     \n",
       " 0.0     \n",
       " 0.0     \n",
       " 0.0     \n",
       " 0.0     \n",
       " 0.0     \n",
       " 0.0     \n",
       " 0.0     \n",
       " 0.0     \n",
       " 0.0     \n",
       " 0.305864\n",
       " 0.22423 \n",
       " 0.0     \n",
       " 0.0     \n",
       " 0.0     \n",
       " 0.0     \n",
       " 0.0     \n",
       " 0.0     "
      ]
     },
     "execution_count": 597,
     "metadata": {},
     "output_type": "execute_result"
    }
   ],
   "source": [
    "y = sqp_primal(L)"
   ]
  },
  {
   "cell_type": "code",
   "execution_count": 535,
   "metadata": {},
   "outputs": [
    {
     "data": {
      "text/plain": [
       "sqp_primal (generic function with 1 method)"
      ]
     },
     "execution_count": 535,
     "metadata": {},
     "output_type": "execute_result"
    }
   ],
   "source": [
    "function sqp_primal(L)\n",
    "    n,m = size(L);\n",
    "    x = ones(m)/m;\n",
    "    for i = 1:100\n",
    "        D = 1./(L*x + 1e-8);\n",
    "        g = -L'*D/n;\n",
    "        H = L'*Diagonal(D.^2)*L/n + 1e-8 * speye(m);\n",
    "        \n",
    "        if minimum(g+1) >= -1e-8\n",
    "          break;\n",
    "        end\n",
    "        \n",
    "        mod = Model(solver=MosekSolver(QUIET = true));\n",
    "        a,b = findn(H);\n",
    "        @variable(mod, y[1:m] >= 0);\n",
    "        @objective(mod, Min, QuadExpr(y[a],y[b],H[:]/2,AffExpr(y, 2*g, 0)) )\n",
    "        @constraint(mod, sum(y) == 1);\n",
    "        solve(mod);\n",
    "        x = getvalue(y);\n",
    "        x[x .< 0] = 0;\n",
    "\n",
    "    end\n",
    "    x[x .< 1e-3] = 0;\n",
    "    return x\n",
    "end"
   ]
  },
  {
   "cell_type": "code",
   "execution_count": 132,
   "metadata": {},
   "outputs": [
    {
     "data": {
      "text/plain": [
       "sqp_dual (generic function with 1 method)"
      ]
     },
     "execution_count": 132,
     "metadata": {},
     "output_type": "execute_result"
    }
   ],
   "source": [
    "function sqp_dual(L)\n",
    "    n,m = size(L);\n",
    "    x = ones(n)/n;\n",
    "    for i = 1:100\n",
    "        D = 1./x;\n",
    "        \n",
    "        mod = Model(solver=MosekSolver(QUIET = true));\n",
    "        @variable(mod, y[1:n] >= 0);\n",
    "        @objective(mod, Min, QuadExpr(y,y,D.^2/2/n,AffExpr(y, -2*D/n, 0)) )\n",
    "        @constraint(mod, L'*y .<= 1);\n",
    "        solve(mod);\n",
    "        x = getvalue(y);\n",
    "        x[x .< 0] = 0;\n",
    "        \n",
    "        println(x[1])\n",
    "\n",
    "    end\n",
    "    return x\n",
    "end"
   ]
  },
  {
   "cell_type": "code",
   "execution_count": 114,
   "metadata": {},
   "outputs": [],
   "source": [
    "L = Array{Float64,2}(CSV.read(\"../data/sample100000x100.txt\", nullable = false, header = false, delim = ' '));"
   ]
  },
  {
   "cell_type": "code",
   "execution_count": 174,
   "metadata": {},
   "outputs": [
    {
     "name": "stdout",
     "output_type": "stream",
     "text": [
      "[0.050302, 0.0502918, 0.0502833, 0.0502682, 0.0502412, 0.0501956, 0.0501309, 0.0500998, 0.0504027, 0.0521416, 0.0585201, 0.0783786, 0.13232, 0.145536, 0.0463974, 0.0148561, 0.00820402, 0.00568864, 0.00975584, 0.0]\n",
      "[0.0523327, 0.0523339, 0.0523355, 0.0523398, 0.0523523, 0.0523905, 0.0525099, 0.0528767, 0.0539315, 0.0566371, 0.0635433, 0.0833016, 0.127922, 0.133212, 0.0593565, 0.0218916, 0.0101227, 0.00609943, 0.020397, 0.0]\n",
      "  0.229389 seconds (106.99 k allocations: 14.326 MiB, 2.38% gc time)\n"
     ]
    },
    {
     "data": {
      "text/plain": [
       "20-element Array{Float64,1}:\n",
       " 0.0523327 \n",
       " 0.0523339 \n",
       " 0.0523355 \n",
       " 0.0523398 \n",
       " 0.0523523 \n",
       " 0.0523905 \n",
       " 0.0525099 \n",
       " 0.0528767 \n",
       " 0.0539315 \n",
       " 0.0566371 \n",
       " 0.0635433 \n",
       " 0.0833016 \n",
       " 0.127922  \n",
       " 0.133212  \n",
       " 0.0593565 \n",
       " 0.0218916 \n",
       " 0.0101227 \n",
       " 0.00609943\n",
       " 0.020397  \n",
       " 0.0       "
      ]
     },
     "execution_count": 174,
     "metadata": {},
     "output_type": "execute_result"
    }
   ],
   "source": [
    "@time sqp_box(L)"
   ]
  },
  {
   "cell_type": "code",
   "execution_count": 177,
   "metadata": {},
   "outputs": [
    {
     "name": "stdout",
     "output_type": "stream",
     "text": [
      "[0.477111, 2.94024e-5, 1.57915e-5, 6.80474e-6, 2.63773e-6, 1.24819e-6, 7.07332e-7, 4.32877e-7, 2.7562e-7, 1.90629e-7, 1.50425e-7, 1.95713e-7, 0.445846, 0.0769853, 4.16843e-8, 1.52489e-8, 9.8944e-9, 0.0, 0.0, 0.0]\n",
      "[0.461626, 3.72366e-5, 9.12725e-6, 5.33708e-6, 3.38055e-6, 1.99809e-6, 1.13996e-6, 6.6778e-7, 4.21359e-7, 3.24509e-7, 2.96978e-7, 3.93307e-7, 0.370649, 0.167665, 6.24075e-8, 1.61561e-8, 5.8141e-9, 0.0, 0.0, 0.0]\n",
      "[0.469062, 9.62642e-7, 4.06529e-7, 2.25402e-7, 1.26081e-7, 7.27474e-8, 4.54177e-8, 3.11381e-8, 2.28832e-8, 1.77779e-8, 1.53081e-8, 1.91976e-8, 0.312897, 0.218038, 2.59878e-9, 5.83347e-10, 2.65858e-10, 0.0, 0.0, 0.0]\n",
      "[0.469855, 2.04808e-5, 9.67103e-6, 5.24604e-6, 2.89619e-6, 1.59013e-6, 8.65718e-7, 4.71995e-7, 2.64519e-7, 1.59462e-7, 1.12786e-7, 1.21442e-7, 0.305941, 0.224161, 1.31551e-8, 3.0742e-9, 1.07856e-9, 0.0, 0.0, 0.0]\n",
      "[0.469885, 9.83125e-6, 4.68968e-6, 2.56557e-6, 1.41839e-6, 7.77267e-7, 4.22833e-7, 2.31523e-7, 1.31235e-7, 8.04096e-8, 5.78786e-8, 6.31848e-8, 0.305864, 0.22423, 6.96382e-9, 1.62905e-9, 5.71785e-10, 0.0, 0.0, 0.0]\n",
      "  0.257867 seconds (116.42 k allocations: 24.477 MiB, 2.16% gc time)\n"
     ]
    },
    {
     "data": {
      "text/plain": [
       "20-element Array{Float64,1}:\n",
       " 0.469885\n",
       " 0.0     \n",
       " 0.0     \n",
       " 0.0     \n",
       " 0.0     \n",
       " 0.0     \n",
       " 0.0     \n",
       " 0.0     \n",
       " 0.0     \n",
       " 0.0     \n",
       " 0.0     \n",
       " 0.0     \n",
       " 0.305864\n",
       " 0.22423 \n",
       " 0.0     \n",
       " 0.0     \n",
       " 0.0     \n",
       " 0.0     \n",
       " 0.0     \n",
       " 0.0     "
      ]
     },
     "execution_count": 177,
     "metadata": {},
     "output_type": "execute_result"
    }
   ],
   "source": [
    "@time sqp_primal(L)"
   ]
  },
  {
   "cell_type": "code",
   "execution_count": 127,
   "metadata": {},
   "outputs": [
    {
     "name": "stdout",
     "output_type": "stream",
     "text": [
      "1.4804971720005258e-5\n"
     ]
    },
    {
     "ename": "LoadError",
     "evalue": "\u001b[91mInterruptException:\u001b[39m",
     "output_type": "error",
     "traceback": [
      "\u001b[91mInterruptException:\u001b[39m",
      "",
      "Stacktrace:",
      " [1] \u001b[1mdisable_sigint\u001b[22m\u001b[22m\u001b[1m(\u001b[22m\u001b[22m::Mosek.##343#344{Mosek.Task,Array{Int32,1}}\u001b[1m)\u001b[22m\u001b[22m at \u001b[1m./c.jl:342\u001b[22m\u001b[22m",
      " [2] \u001b[1moptimize\u001b[22m\u001b[22m\u001b[1m(\u001b[22m\u001b[22m::Mosek.Task\u001b[1m)\u001b[22m\u001b[22m at \u001b[1m/Users/yosikim/.julia/v0.6/Mosek/src/msk_functions.jl:5065\u001b[22m\u001b[22m",
      " [3] \u001b[1moptimize!\u001b[22m\u001b[22m\u001b[1m(\u001b[22m\u001b[22m::Mosek.MosekMathProgSolverInterface.MosekLinearQuadraticModel\u001b[1m)\u001b[22m\u001b[22m at \u001b[1m/Users/yosikim/.julia/v0.6/Mosek/src/MosekLPQCQPInterface.jl:661\u001b[22m\u001b[22m",
      " [4] \u001b[1m#solve#116\u001b[22m\u001b[22m\u001b[1m(\u001b[22m\u001b[22m::Bool, ::Bool, ::Bool, ::Array{Any,1}, ::Function, ::JuMP.Model\u001b[1m)\u001b[22m\u001b[22m at \u001b[1m/Users/yosikim/.julia/v0.6/JuMP/src/solvers.jl:175\u001b[22m\u001b[22m",
      " [5] \u001b[1msqp_dual\u001b[22m\u001b[22m\u001b[1m(\u001b[22m\u001b[22m::Array{Float64,2}\u001b[1m)\u001b[22m\u001b[22m at \u001b[1m./In[126]:11\u001b[22m\u001b[22m",
      " [6] \u001b[1minclude_string\u001b[22m\u001b[22m\u001b[1m(\u001b[22m\u001b[22m::String, ::String\u001b[1m)\u001b[22m\u001b[22m at \u001b[1m./loading.jl:522\u001b[22m\u001b[22m"
     ]
    }
   ],
   "source": [
    "@time sqp_dual(L)"
   ]
  }
 ],
 "metadata": {
  "kernelspec": {
   "display_name": "Julia 0.6.2",
   "language": "julia",
   "name": "julia-0.6"
  },
  "language_info": {
   "file_extension": ".jl",
   "mimetype": "application/julia",
   "name": "julia",
   "version": "0.6.2"
  }
 },
 "nbformat": 4,
 "nbformat_minor": 2
}
