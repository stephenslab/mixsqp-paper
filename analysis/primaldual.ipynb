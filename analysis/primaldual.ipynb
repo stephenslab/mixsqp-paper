{
 "cells": [
  {
   "cell_type": "markdown",
   "metadata": {},
   "source": [
    "Comparing the compute time for running the interior-point method on three different formulations of the optimization problem: (1) dual, (2) primal, and (3) modified primal."
   ]
  },
  {
   "cell_type": "code",
   "execution_count": 1,
   "metadata": {},
   "outputs": [
    {
     "ename": "LoadError",
     "evalue": "\u001b[91mArgumentError: Module Mosek not found in current path.\nRun `Pkg.add(\"Mosek\")` to install the Mosek package.\u001b[39m",
     "output_type": "error",
     "traceback": [
      "\u001b[91mArgumentError: Module Mosek not found in current path.\nRun `Pkg.add(\"Mosek\")` to install the Mosek package.\u001b[39m",
      "",
      "Stacktrace:",
      " [1] \u001b[1m_require\u001b[22m\u001b[22m\u001b[1m(\u001b[22m\u001b[22m::Symbol\u001b[1m)\u001b[22m\u001b[22m at \u001b[1m./loading.jl:435\u001b[22m\u001b[22m",
      " [2] \u001b[1mrequire\u001b[22m\u001b[22m\u001b[1m(\u001b[22m\u001b[22m::Symbol\u001b[1m)\u001b[22m\u001b[22m at \u001b[1m./loading.jl:405\u001b[22m\u001b[22m",
      " [3] \u001b[1minclude_string\u001b[22m\u001b[22m\u001b[1m(\u001b[22m\u001b[22m::String, ::String\u001b[1m)\u001b[22m\u001b[22m at \u001b[1m./loading.jl:522\u001b[22m\u001b[22m"
     ]
    }
   ],
   "source": [
    "using RCall\n",
    "using Mosek\n",
    "using JuMP\n",
    "using PyPlot"
   ]
  },
  {
   "cell_type": "code",
   "execution_count": 2,
   "metadata": {},
   "outputs": [
    {
     "ename": "LoadError",
     "evalue": "\u001b[91mcould not open file /Users/youngseok/git/mixopt-paper/code/julia/genL.jl\u001b[39m",
     "output_type": "error",
     "traceback": [
      "\u001b[91mcould not open file /Users/youngseok/git/mixopt-paper/code/julia/genL.jl\u001b[39m",
      "",
      "Stacktrace:",
      " [1] \u001b[1minclude_from_node1\u001b[22m\u001b[22m\u001b[1m(\u001b[22m\u001b[22m::String\u001b[1m)\u001b[22m\u001b[22m at \u001b[1m./loading.jl:576\u001b[22m\u001b[22m",
      " [2] \u001b[1minclude\u001b[22m\u001b[22m\u001b[1m(\u001b[22m\u001b[22m::String\u001b[1m)\u001b[22m\u001b[22m at \u001b[1m./sysimg.jl:14\u001b[22m\u001b[22m",
      " [3] \u001b[1minclude_string\u001b[22m\u001b[22m\u001b[1m(\u001b[22m\u001b[22m::String, ::String\u001b[1m)\u001b[22m\u001b[22m at \u001b[1m./loading.jl:522\u001b[22m\u001b[22m"
     ]
    }
   ],
   "source": [
    "include(\"../code/julia/genL.jl\");\n",
    "include(\"../code/julia/primaldual.jl\");\n",
    "include(\"../code/julia/mixSQP_time.jl\");"
   ]
  },
  {
   "cell_type": "code",
   "execution_count": 100,
   "metadata": {},
   "outputs": [],
   "source": [
    "srand(1)\n",
    "Z = randn(5,10^4) .* [1;1;1;3;6];\n",
    "z = Z[:]; s = ones(5*10^4);"
   ]
  },
  {
   "cell_type": "code",
   "execution_count": 232,
   "metadata": {},
   "outputs": [
    {
     "name": "stdout",
     "output_type": "stream",
     "text": [
      "  0.021019 seconds (61.49 k allocations: 6.637 MiB)\n",
      "  0.094805 seconds (125.81 k allocations: 16.865 MiB, 9.94% gc time)\n",
      "  0.105701 seconds (125.45 k allocations: 16.852 MiB, 6.72% gc time)\n"
     ]
    },
    {
     "data": {
      "text/plain": [
       "(1000, 11)"
      ]
     },
     "execution_count": 232,
     "metadata": {},
     "output_type": "execute_result"
    }
   ],
   "source": [
    "L = genL(z[1:1000],s[1:1000], mult = 2.0)\n",
    "@time ip_dual(L);\n",
    "@time ip_simp(L);\n",
    "@time ip_box(L);"
   ]
  },
  {
   "cell_type": "code",
   "execution_count": 233,
   "metadata": {},
   "outputs": [
    {
     "name": "stdout",
     "output_type": "stream",
     "text": [
      "  0.513205 seconds (1.20 M allocations: 128.545 MiB, 6.84% gc time)\n",
      "  1.824235 seconds (2.46 M allocations: 297.097 MiB, 11.78% gc time)\n",
      "  1.934057 seconds (2.46 M allocations: 297.080 MiB, 15.01% gc time)\n"
     ]
    },
    {
     "data": {
      "text/plain": [
       "(20000, 11)"
      ]
     },
     "execution_count": 233,
     "metadata": {},
     "output_type": "execute_result"
    }
   ],
   "source": [
    "L = genL(z[1:20000],s[1:20000], mult = 2.0);\n",
    "@time ip_dual(L);\n",
    "@time ip_simp(L);\n",
    "@time ip_box(L);"
   ]
  },
  {
   "cell_type": "code",
   "execution_count": 211,
   "metadata": {},
   "outputs": [
    {
     "name": "stdout",
     "output_type": "stream",
     "text": [
      "  2.880161 seconds (10.69 M allocations: 1.103 GiB, 9.17% gc time)\n",
      "  0.036356 seconds (3.68 k allocations: 10.031 MiB)\n",
      "  0.009012 seconds (1.05 k allocations: 3.653 MiB)\n"
     ]
    }
   ],
   "source": [
    "L = genL(z[1:1000],s[1:1000], mult = 1.2);\n",
    "@time sqp_dual(L);\n",
    "@time sqp_simp(L);\n",
    "@time sqp_box(L);"
   ]
  },
  {
   "cell_type": "code",
   "execution_count": 221,
   "metadata": {},
   "outputs": [
    {
     "name": "stdout",
     "output_type": "stream",
     "text": [
      " 18.179266 seconds (56.11 M allocations: 5.821 GiB, 24.57% gc time)\n",
      "  0.203737 seconds (5.37 k allocations: 64.387 MiB, 60.45% gc time)\n",
      "  0.024312 seconds (1.08 k allocations: 17.425 MiB, 11.58% gc time)\n"
     ]
    }
   ],
   "source": [
    "L = genL(z[1:5000],s[1:5000], mult = 1.2);\n",
    "@time sqp_dual(L);\n",
    "@time sqp_simp(L);\n",
    "@time sqp_box(L);"
   ]
  }
 ],
 "metadata": {
  "kernelspec": {
   "display_name": "Julia 0.6.2",
   "language": "julia",
   "name": "julia-0.6"
  },
  "language_info": {
   "file_extension": ".jl",
   "mimetype": "application/julia",
   "name": "julia",
   "version": "0.6.2"
  }
 },
 "nbformat": 4,
 "nbformat_minor": 2
}
