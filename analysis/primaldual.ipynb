{
 "cells": [
  {
   "cell_type": "markdown",
   "metadata": {},
   "source": [
    "Comparing the compute time for running the interior-point method on three different formulations of the optimization problem: (1) dual, (2) primal, and (3) modified primal."
   ]
  },
  {
   "cell_type": "code",
   "execution_count": 16,
   "metadata": {},
   "outputs": [],
   "source": [
    "using RCall\n",
    "using Mosek\n",
    "using JuMP\n",
    "using PyPlot\n",
    "using Distributions\n",
    "using LowRankApprox"
   ]
  },
  {
   "cell_type": "code",
   "execution_count": 33,
   "metadata": {},
   "outputs": [],
   "source": [
    "include(\"../code/julia/datasim.jl\");\n",
    "include(\"../code/julia/likelihood.jl\");\n",
    "include(\"../code/julia/mixSQP_time.jl\");\n",
    "include(\"../code/julia/primaldual.jl\");\n",
    "include(\"../code/julia/REBayes.jl\");"
   ]
  },
  {
   "cell_type": "code",
   "execution_count": 28,
   "metadata": {},
   "outputs": [],
   "source": [
    "srand(1);\n",
    "n = round(Int,1e4); m = 40;\n",
    "x = normtmixdatasim(n);\n",
    "sd = autoselectmixsd(x,nv = m);\n",
    "L  = normlikmatrix(x,sd = sd);\n",
    "mixSQP_time(L);"
   ]
  },
  {
   "cell_type": "code",
   "execution_count": 59,
   "metadata": {},
   "outputs": [
    {
     "name": "stdout",
     "output_type": "stream",
     "text": [
      "  0.787168 seconds (1.47 M allocations: 192.761 MiB, 6.36% gc time)\n",
      "  5.001482 seconds (3.85 M allocations: 515.166 MiB, 10.92% gc time)\n",
      "  4.685277 seconds (3.85 M allocations: 515.152 MiB, 8.50% gc time)\n",
      " 39.504578 seconds (124.12 M allocations: 12.858 GiB, 25.09% gc time)\n",
      "  0.277916 seconds (10.46 k allocations: 255.354 MiB, 12.93% gc time)\n",
      "  0.034491 seconds (1.65 k allocations: 50.891 MiB, 15.50% gc time)\n",
      "  0.413143 seconds (217 allocations: 9.797 KiB)\n"
     ]
    }
   ],
   "source": [
    "n = round(Int,1e4); m = 40;\n",
    "x = normtmixdatasim(n);\n",
    "sd = autoselectmixsd(x,nv = m);\n",
    "L  = normlikmatrix(x,sd = sd);\n",
    "@time ip_dual(L);\n",
    "@time ip_simp(L);\n",
    "@time ip_box(L);\n",
    "@time sqp_dual(L);\n",
    "@time sqp_simp(L);\n",
    "@time sqp_box(L);\n",
    "@time REBayes(L);"
   ]
  }
 ],
 "metadata": {
  "kernelspec": {
   "display_name": "Julia 0.6.2",
   "language": "julia",
   "name": "julia-0.6"
  },
  "language_info": {
   "file_extension": ".jl",
   "mimetype": "application/julia",
   "name": "julia",
   "version": "0.6.2"
  }
 },
 "nbformat": 4,
 "nbformat_minor": 2
}
