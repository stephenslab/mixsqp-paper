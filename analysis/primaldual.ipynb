{
 "cells": [
  {
   "cell_type": "markdown",
   "metadata": {},
   "source": [
    "Comparing the compute time for running the interior-point method on three different formulations of the optimization problem: (1) dual, (2) primal, and (3) modified primal."
   ]
  },
  {
   "cell_type": "code",
   "execution_count": 1,
   "metadata": {},
   "outputs": [
    {
<<<<<<< HEAD
     "name": "stderr",
     "output_type": "stream",
     "text": [
      "WARNING: Method definition ==(Base.Nullable{S}, Base.Nullable{T}) in module Base at nullable.jl:238 overwritten in module NullableArrays at /Users/yosikim/.julia/v0.6/NullableArrays/src/operators.jl:99.\n",
      "WARNING: Method definition promote_rule(Type{T}, Type{Any}) in module Missings at /Users/yosikim/.julia/v0.6/Missings/src/Missings.jl:52 overwritten in module Nulls at /Users/yosikim/.julia/v0.6/Nulls/src/Nulls.jl:29.\n"
=======
     "ename": "LoadError",
     "evalue": "\u001b[91mArgumentError: Module CVS not found in current path.\nRun `Pkg.add(\"CVS\")` to install the CVS package.\u001b[39m",
     "output_type": "error",
     "traceback": [
      "\u001b[91mArgumentError: Module CVS not found in current path.\nRun `Pkg.add(\"CVS\")` to install the CVS package.\u001b[39m",
      "",
      "Stacktrace:",
      " [1] \u001b[1m_require\u001b[22m\u001b[22m\u001b[1m(\u001b[22m\u001b[22m::Symbol\u001b[1m)\u001b[22m\u001b[22m at \u001b[1m./loading.jl:435\u001b[22m\u001b[22m",
      " [2] \u001b[1mrequire\u001b[22m\u001b[22m\u001b[1m(\u001b[22m\u001b[22m::Symbol\u001b[1m)\u001b[22m\u001b[22m at \u001b[1m./loading.jl:405\u001b[22m\u001b[22m",
      " [3] \u001b[1minclude_string\u001b[22m\u001b[22m\u001b[1m(\u001b[22m\u001b[22m::String, ::String\u001b[1m)\u001b[22m\u001b[22m at \u001b[1m./loading.jl:522\u001b[22m\u001b[22m"
>>>>>>> 0b69fb60b6af443d5549ad10773727d3bf6649c3
     ]
    }
   ],
   "source": [
    "using RCall\n",
    "using Mosek\n",
    "using JuMP\n",
<<<<<<< HEAD
    "using PyPlot"
=======
    "using PyPlot\n",
    "using Distributions\n",
    "using LowRankApprox\n",
    "using DataFrames\n",
    "using CVS"
>>>>>>> 0b69fb60b6af443d5549ad10773727d3bf6649c3
   ]
  },
  {
   "cell_type": "code",
   "execution_count": 2,
   "metadata": {},
   "outputs": [],
   "source": [
<<<<<<< HEAD
    "include(\"../code/julia/primaldual.jl\");\n",
    "include(\"../code/julia/mixSQP_time.jl\");"
=======
    "include(\"../code/julia/datasim.jl\");\n",
    "include(\"../code/julia/likelihood.jl\");\n",
    "include(\"../code/julia/mixSQP_time.jl\");\n",
    "include(\"../code/julia/primaldual.jl\");\n",
    "include(\"../code/julia/REBayes.jl\");"
>>>>>>> 0b69fb60b6af443d5549ad10773727d3bf6649c3
   ]
  },
  {
   "cell_type": "code",
<<<<<<< HEAD
   "execution_count": 100,
   "metadata": {},
   "outputs": [],
   "source": [
    "srand(1)\n",
    "Z = randn(5,10^4) .* [1;1;1;3;6];\n",
    "z = Z[:]; s = ones(5*10^4);"
=======
   "execution_count": 3,
   "metadata": {},
   "outputs": [],
   "source": [
    "srand(1);\n",
    "n = round(Int,1e4); m = 40;\n",
    "x = normtmixdatasim(n);\n",
    "sd = autoselectmixsd(x,nv = m);\n",
    "L  = normlikmatrix(x,sd = sd);\n",
    "mixSQP_time(L);"
>>>>>>> 0b69fb60b6af443d5549ad10773727d3bf6649c3
   ]
  },
  {
   "cell_type": "code",
<<<<<<< HEAD
   "execution_count": 232,
   "metadata": {},
   "outputs": [
    {
     "name": "stdout",
     "output_type": "stream",
     "text": [
      "  0.021019 seconds (61.49 k allocations: 6.637 MiB)\n",
      "  0.094805 seconds (125.81 k allocations: 16.865 MiB, 9.94% gc time)\n",
      "  0.105701 seconds (125.45 k allocations: 16.852 MiB, 6.72% gc time)\n"
     ]
    },
    {
     "data": {
      "text/plain": [
       "(1000, 11)"
      ]
     },
     "execution_count": 232,
     "metadata": {},
     "output_type": "execute_result"
    }
   ],
   "source": [
    "L = genL(z[1:1000],s[1:1000], mult = 2.0)\n",
    "@time ip_dual(L);\n",
    "@time ip_simp(L);\n",
    "@time ip_box(L);"
=======
   "execution_count": 4,
   "metadata": {},
   "outputs": [],
   "source": [
    "a = zeros(10,7);"
>>>>>>> 0b69fb60b6af443d5549ad10773727d3bf6649c3
   ]
  },
  {
   "cell_type": "code",
<<<<<<< HEAD
   "execution_count": 233,
   "metadata": {},
   "outputs": [
    {
     "name": "stdout",
     "output_type": "stream",
     "text": [
      "  0.513205 seconds (1.20 M allocations: 128.545 MiB, 6.84% gc time)\n",
      "  1.824235 seconds (2.46 M allocations: 297.097 MiB, 11.78% gc time)\n",
      "  1.934057 seconds (2.46 M allocations: 297.080 MiB, 15.01% gc time)\n"
     ]
    },
    {
     "data": {
      "text/plain": [
       "(20000, 11)"
      ]
     },
     "execution_count": 233,
=======
   "execution_count": 12,
   "metadata": {},
   "outputs": [
    {
     "data": {
      "text/plain": [
       "10×7 Array{Float64,2}:\n",
       " 4.29507     0.715262   0.124215   0.778613  0.309352   0.00503396  0.003\n",
       " 0.00745568  0.0744612  0.0555333  0.522175  0.0161516  0.00282402  0.005\n",
       " 0.0229443   0.127992   0.127429   0.976991  0.0362826  0.00269214  0.01 \n",
       " 0.0343323   0.254678   0.255791   1.75815   0.0377954  0.00616137  0.016\n",
       " 0.0720909   0.509059   0.517084   3.34384   0.0702588  0.00739223  0.031\n",
       " 0.219612    1.25604    1.31076    8.09865   0.394399   0.0120535   0.073\n",
       " 0.373561    6.65277    7.40581    0.0       0.41342    0.0273739   0.161\n",
       " 0.0         0.0        0.0        0.0       0.175641   0.019743    0.319\n",
       " 0.0         0.0        0.0        0.0       0.466379   0.0438104   0.697\n",
       " 0.0         0.0        0.0        0.0       1.13479    0.0899928   1.894"
      ]
     },
     "execution_count": 12,
>>>>>>> 0b69fb60b6af443d5549ad10773727d3bf6649c3
     "metadata": {},
     "output_type": "execute_result"
    }
   ],
   "source": [
<<<<<<< HEAD
    "L = genL(z[1:20000],s[1:20000], mult = 2.0);\n",
    "@time ip_dual(L);\n",
    "@time ip_simp(L);\n",
    "@time ip_box(L);"
=======
    "a"
>>>>>>> 0b69fb60b6af443d5549ad10773727d3bf6649c3
   ]
  },
  {
   "cell_type": "code",
<<<<<<< HEAD
   "execution_count": 211,
=======
   "execution_count": 8,
>>>>>>> 0b69fb60b6af443d5549ad10773727d3bf6649c3
   "metadata": {},
   "outputs": [
    {
     "name": "stdout",
     "output_type": "stream",
     "text": [
<<<<<<< HEAD
      "  2.880161 seconds (10.69 M allocations: 1.103 GiB, 9.17% gc time)\n",
      "  0.036356 seconds (3.68 k allocations: 10.031 MiB)\n",
      "  0.009012 seconds (1.05 k allocations: 3.653 MiB)\n"
=======
      "elapsed time: 0.309351913 seconds\n",
      "elapsed time: 0.00503396 seconds\n",
      "elapsed time: 0.067897332 seconds\n",
      "1\n",
      "elapsed time: 0.016151567 seconds\n",
      "elapsed time: 0.002824022 seconds\n",
      "elapsed time: 0.062945986 seconds\n",
      "2\n",
      "elapsed time: 0.036282599 seconds\n",
      "elapsed time: 0.002692144 seconds\n",
      "elapsed time: 0.06791897 seconds\n",
      "3\n",
      "elapsed time: 0.037795367 seconds\n",
      "elapsed time: 0.006161372 seconds\n",
      "elapsed time: 0.074754031 seconds\n",
      "4\n",
      "elapsed time: 0.070258847 seconds\n",
      "elapsed time: 0.007392226 seconds\n",
      "elapsed time: 0.090313865 seconds\n",
      "5\n",
      "elapsed time: 0.39439885 seconds\n",
      "elapsed time: 0.01205353 seconds\n",
      "elapsed time: 0.135370463 seconds\n",
      "6\n",
      "elapsed time: 0.413419538 seconds\n",
      "elapsed time: 0.027373895 seconds\n",
      "elapsed time: 0.223580379 seconds\n",
      "7\n",
      "elapsed time: 0.175640866 seconds\n",
      "elapsed time: 0.019742951 seconds\n",
      "elapsed time: 0.380833743 seconds\n",
      "8\n",
      "elapsed time: 0.466378736 seconds\n",
      "elapsed time: 0.043810356 seconds\n",
      "elapsed time: 0.764182441 seconds\n",
      "9\n",
      "elapsed time: 1.134785181 seconds\n",
      "elapsed time: 0.089992815 seconds\n",
      "elapsed time: 1.963407138 seconds\n",
      "10\n"
>>>>>>> 0b69fb60b6af443d5549ad10773727d3bf6649c3
     ]
    }
   ],
   "source": [
<<<<<<< HEAD
    "L = genL(z[1:1000],s[1:1000], mult = 1.2);\n",
    "@time sqp_dual(L);\n",
    "@time sqp_simp(L);\n",
    "@time sqp_box(L);"
=======
    "# need to repeat this 10 times to get a reliable result.\n",
    "for i = 1:10\n",
    "    n = round(Int,40 * 2^i); m = 40;\n",
    "    x = normtmixdatasim(n);\n",
    "    sd = autoselectmixsd(x,nv = m);\n",
    "    L  = normlikmatrix(x,sd = sd);\n",
    "    #tic(); ip_dual(L); a[i,1] = toc();\n",
    "    #tic(); ip_simp(L); a[i,2] = toc();\n",
    "    #tic(); ip_box(L); a[i,3] = toc();\n",
    "    #tic(); sqp_dual(L); a[i,4] = toc();\n",
    "    tic(); sqp_simp(L); a[i,5] = toc();\n",
    "    tic(); sqp_box(L); a[i,6] = toc();\n",
    "    tic(); a[i,7] = REBayes(L)[2]; toc();\n",
    "    println(i)\n",
    "end"
>>>>>>> 0b69fb60b6af443d5549ad10773727d3bf6649c3
   ]
  },
  {
   "cell_type": "code",
<<<<<<< HEAD
   "execution_count": 221,
   "metadata": {},
   "outputs": [
    {
     "name": "stdout",
     "output_type": "stream",
     "text": [
      " 18.179266 seconds (56.11 M allocations: 5.821 GiB, 24.57% gc time)\n",
      "  0.203737 seconds (5.37 k allocations: 64.387 MiB, 60.45% gc time)\n",
      "  0.024312 seconds (1.08 k allocations: 17.425 MiB, 11.58% gc time)\n"
     ]
    }
   ],
   "source": [
    "L = genL(z[1:5000],s[1:5000], mult = 1.2);\n",
    "@time sqp_dual(L);\n",
    "@time sqp_simp(L);\n",
    "@time sqp_box(L);"
=======
   "execution_count": 11,
   "metadata": {},
   "outputs": [],
   "source": [
    "#plot(log.(a)); legend([\"ip_dual\";\"ip_simp\";\"ip_box\";\"sqp_dual\";\"sqp_simp\";\"sqp_box\";\"REBayes\"])"
   ]
  },
  {
   "cell_type": "code",
   "execution_count": 10,
   "metadata": {},
   "outputs": [],
   "source": [
    "out = [[\"n\" \"ip_dual\" \"ip_simp\" \"ip_box\" \"sqp_dual\" \"sqp_simp\" \"sqp_box\" \"REBayes\"]; [1;2;3;4;5;6;7;8;9;10]*80 a];"
   ]
  },
  {
   "cell_type": "code",
   "execution_count": 152,
   "metadata": {},
   "outputs": [
    {
     "data": {
      "text/plain": [
       "RCall.RObject{RCall.NilSxp}\n",
       "NULL\n"
      ]
     },
     "execution_count": 152,
     "metadata": {},
     "output_type": "execute_result"
    }
   ],
   "source": [
    "@rput a\n",
    "R\"write.csv(a,'out.txt')\""
>>>>>>> 0b69fb60b6af443d5549ad10773727d3bf6649c3
   ]
  }
 ],
 "metadata": {
  "kernelspec": {
   "display_name": "Julia 0.6.2",
   "language": "julia",
   "name": "julia-0.6"
  },
  "language_info": {
   "file_extension": ".jl",
   "mimetype": "application/julia",
   "name": "julia",
   "version": "0.6.2"
  }
 },
 "nbformat": 4,
 "nbformat_minor": 2
}
