{
 "cells": [
  {
   "cell_type": "markdown",
   "metadata": {},
   "source": [
    "Comparing the compute time for running the interior-point method on three different formulations of the optimization problem: (1) dual, (2) primal, and (3) modified primal."
   ]
  },
  {
   "cell_type": "code",
   "execution_count": 8,
   "metadata": {
    "collapsed": true
   },
   "outputs": [],
   "source": [
    "using RCall\n",
    "using Mosek\n",
    "using JuMP\n",
    "using CSV"
   ]
  },
  {
   "cell_type": "code",
   "execution_count": 2,
   "metadata": {
    "collapsed": true
   },
   "outputs": [],
   "source": [
    "L = Array{Float64,2}(CSV.read(\"../data/sample5000x20.txt\", nullable = false, header = false, delim = ' '));"
   ]
  },
  {
   "cell_type": "code",
   "execution_count": 3,
   "metadata": {},
   "outputs": [
    {
     "data": {
      "text/plain": [
       "vanilla_primal (generic function with 1 method)"
      ]
     },
     "execution_count": 3,
     "metadata": {},
     "output_type": "execute_result"
    }
   ],
   "source": [
    "# vanilla interior point method for the primal\n",
    "function vanilla_primal(L)\n",
    "    n,m = size(L);\n",
    "    mod = Model(solver=MosekSolver(QUIET = true));\n",
    "    @variable(mod, x[1:m] >= 0, start = 1/m);\n",
    "    @NLobjective(mod, Min, -sum(log(sum(L[i,j]*x[j] for j = 1:m)) for i = 1:n)/n);\n",
    "    @constraint(mod, sum(x) == 1)\n",
    "    solve(mod);\n",
    "    x = getvalue(x);\n",
    "    x[x.< 1e-3] = 0;\n",
    "    return sparse(x/sum(x));\n",
    "end"
   ]
  },
  {
   "cell_type": "code",
   "execution_count": 4,
   "metadata": {},
   "outputs": [
    {
     "data": {
      "text/plain": [
       "vanilla_boxed (generic function with 1 method)"
      ]
     },
     "execution_count": 4,
     "metadata": {},
     "output_type": "execute_result"
    }
   ],
   "source": [
    "# vanilla interior point method for the primal\n",
    "function vanilla_boxed(L)\n",
    "    n,m = size(L);\n",
    "    mod = Model(solver=MosekSolver(QUIET = true));\n",
    "    @variable(mod, x[1:m] >= 0, start = 1/m);\n",
    "    @NLobjective(mod, Min, -sum(log(sum(L[i,j]*x[j] for j = 1:m)) for i = 1:n)/n + sum(x[i] for i = 1:m));\n",
    "    solve(mod);\n",
    "    x = getvalue(x);\n",
    "    x[x.< 1e-3] = 0;\n",
    "    return sparse(x/sum(x));\n",
    "end"
   ]
  },
  {
   "cell_type": "code",
   "execution_count": 5,
   "metadata": {},
   "outputs": [
    {
     "data": {
      "text/plain": [
       "vanilla_dual (generic function with 1 method)"
      ]
     },
     "execution_count": 5,
     "metadata": {},
     "output_type": "execute_result"
    }
   ],
   "source": [
    "# vanilla interior point method for the primal\n",
    "function vanilla_dual(L)\n",
    "    n,m = size(L);\n",
    "    mod = Model(solver=MosekSolver(QUIET = true));\n",
    "    @variable(mod, y[1:n] >= 0, start = 1/n);\n",
    "    @NLobjective(mod, Min, -sum(log(y[i]) for i = 1:n)/n);\n",
    "    @constraint(mod, ic, L'*y .<= 1)\n",
    "    solve(mod);\n",
    "    x = -getdual(ic);\n",
    "    x[x.< 1e-3] = 0;\n",
    "    return sparse(x/sum(x));\n",
    "end"
   ]
  },
  {
   "cell_type": "code",
   "execution_count": 6,
   "metadata": {},
   "outputs": [
    {
     "data": {
      "text/plain": [
       "REBayes (generic function with 1 method)"
      ]
     },
     "execution_count": 6,
     "metadata": {},
     "output_type": "execute_result"
    }
   ],
   "source": [
    "function REBayes(L)\n",
    "    @rput L;\n",
    "    R\"require(REBayes);\n",
    "    t_rebayes = system.time(res <- KWDual(L, rep(1,dim(L)[2]), rep(1,dim(L)[1])/dim(L)[1]))[3];\n",
    "    res$f[res$f < 1e-4] = 0\n",
    "    x_rebayes = res$f / sum(res$f)\"\n",
    "    @rget x_rebayes;\n",
    "    return sparse(x_rebayes);\n",
    "end"
   ]
  },
  {
   "cell_type": "code",
   "execution_count": 7,
   "metadata": {},
   "outputs": [
    {
     "name": "stdout",
     "output_type": "stream",
     "text": [
      "  7.692752 seconds (6.33 M allocations: 353.003 MiB, 1.71% gc time)\n",
      "  1.469517 seconds (1.45 M allocations: 151.341 MiB, 15.19% gc time)\n",
      "  0.808663 seconds (1.07 M allocations: 135.263 MiB, 24.32% gc time)\n"
     ]
    },
    {
     "name": "stderr",
     "output_type": "stream",
     "text": [
      "\u001b[1m\u001b[33mWARNING: \u001b[39m\u001b[22m\u001b[33mRCall.jl: Loading required package: REBayes\n",
      "Loading required package: Matrix\u001b[39m\n"
     ]
    },
    {
     "name": "stdout",
     "output_type": "stream",
     "text": [
      "  1.172427 seconds (149.93 k allocations: 8.076 MiB)\n"
     ]
    },
    {
     "data": {
      "text/plain": [
       "20-element SparseVector{Float64,Int64} with 3 stored entries:\n",
       "  [1 ]  =  0.469905\n",
       "  [13]  =  0.305865\n",
       "  [14]  =  0.22423"
      ]
     },
     "execution_count": 7,
     "metadata": {},
     "output_type": "execute_result"
    }
   ],
   "source": [
    "@time vanilla_dual(L)\n",
    "@time vanilla_primal(L)\n",
    "@time vanilla_boxed(L)\n",
    "@time REBayes(L)"
   ]
  }
 ],
 "metadata": {
  "kernelspec": {
   "display_name": "Julia 0.6.2",
   "language": "julia",
   "name": "julia-0.6"
  },
  "language_info": {
   "file_extension": ".jl",
   "mimetype": "application/julia",
   "name": "julia",
   "version": "0.6.2"
  }
 },
 "nbformat": 4,
 "nbformat_minor": 2
}
