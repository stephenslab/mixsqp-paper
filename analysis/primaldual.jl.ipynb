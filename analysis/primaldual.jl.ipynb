{
 "cells": [
  {
   "cell_type": "code",
   "execution_count": 3,
   "metadata": {},
   "outputs": [
    {
     "ename": "LoadError",
     "evalue": "\u001b[91mArgumentError: Module Mosek not found in current path.\nRun `Pkg.add(\"Mosek\")` to install the Mosek package.\u001b[39m",
     "output_type": "error",
     "traceback": [
      "\u001b[91mArgumentError: Module Mosek not found in current path.\nRun `Pkg.add(\"Mosek\")` to install the Mosek package.\u001b[39m",
      "",
      "Stacktrace:",
      " [1] \u001b[1m_require\u001b[22m\u001b[22m\u001b[1m(\u001b[22m\u001b[22m::Symbol\u001b[1m)\u001b[22m\u001b[22m at \u001b[1m./loading.jl:435\u001b[22m\u001b[22m",
      " [2] \u001b[1mrequire\u001b[22m\u001b[22m\u001b[1m(\u001b[22m\u001b[22m::Symbol\u001b[1m)\u001b[22m\u001b[22m at \u001b[1m./loading.jl:405\u001b[22m\u001b[22m",
      " [3] \u001b[1minclude_string\u001b[22m\u001b[22m\u001b[1m(\u001b[22m\u001b[22m::String, ::String\u001b[1m)\u001b[22m\u001b[22m at \u001b[1m./loading.jl:522\u001b[22m\u001b[22m"
     ]
    }
   ],
   "source": [
    "using RCall\n",
    "using Mosek\n",
    "using JuMP\n",
    "using CSV"
   ]
  },
  {
   "cell_type": "code",
   "execution_count": 5,
   "metadata": {},
   "outputs": [
    {
     "ename": "LoadError",
     "evalue": "\u001b[91mUndefVarError: CSV not defined\u001b[39m",
     "output_type": "error",
     "traceback": [
      "\u001b[91mUndefVarError: CSV not defined\u001b[39m",
      "",
      "Stacktrace:",
      " [1] \u001b[1minclude_string\u001b[22m\u001b[22m\u001b[1m(\u001b[22m\u001b[22m::String, ::String\u001b[1m)\u001b[22m\u001b[22m at \u001b[1m./loading.jl:522\u001b[22m\u001b[22m"
     ]
    }
   ],
   "source": [
    "L = Array{Float64,2}(CSV.read(\"../data/sample5000x20.txt\", nullable = false, header = false, delim = ' '));"
   ]
  },
  {
   "cell_type": "code",
   "execution_count": null,
   "metadata": {},
   "outputs": [],
   "source": [
    "# vanilla interior point method for the primal\n",
    "function vanilla_primal(L)\n",
    "    n,m = size(L);\n",
    "    mod = Model(solver=MosekSolver(QUIET = true));\n",
    "    @variable(mod, x[1:m] >= 0, start = 1/m);\n",
    "    @NLobjective(mod, Min, -sum(log(sum(L[i,j]*x[j] for j = 1:m)) for i = 1:n)/n);\n",
    "    @constraint(mod, sum(x) == 1)\n",
    "    solve(mod);\n",
    "    x = getvalue(x);\n",
    "    x[x.< 1e-3] = 0;\n",
    "    return sparse(x/sum(x))\n",
    "end"
   ]
  },
  {
   "cell_type": "code",
   "execution_count": null,
   "metadata": {},
   "outputs": [],
   "source": [
    "# vanilla interior point method for the primal\n",
    "function vanilla_boxed(L)\n",
    "    n,m = size(L);\n",
    "    mod = Model(solver=MosekSolver(QUIET = true));\n",
    "    @variable(mod, x[1:m] >= 0, start = 1/m);\n",
    "    @NLobjective(mod, Min, -sum(log(sum(L[i,j]*x[j] for j = 1:m)) for i = 1:n)/n + sum(x[i] for i = 1:m));\n",
    "    solve(mod);\n",
    "    x = getvalue(x);\n",
    "    x[x.< 1e-3] = 0;\n",
    "    return sparse(x/sum(x))\n",
    "end"
   ]
  },
  {
   "cell_type": "code",
   "execution_count": null,
   "metadata": {},
   "outputs": [],
   "source": [
    "# vanilla interior point method for the primal\n",
    "function vanilla_dual(L)\n",
    "    n,m = size(L);\n",
    "    mod = Model(solver=MosekSolver(QUIET = true));\n",
    "    @variable(mod, y[1:n] >= 0, start = 1/n);\n",
    "    @NLobjective(mod, Min, -sum(log(y[i]) for i = 1:n)/n);\n",
    "    @constraint(mod, ic, L'*y .<= 1)\n",
    "    solve(mod);\n",
    "    x = -getdual(ic);\n",
    "    x[x.< 1e-3] = 0;\n",
    "    return sparse(x/sum(x))\n",
    "end"
   ]
  },
  {
   "cell_type": "code",
   "execution_count": null,
   "metadata": {},
   "outputs": [],
   "source": [
    "function REBayes(L)\n",
    "    @rput L;\n",
    "    R\"require(REBayes);\n",
    "    t_rebayes = system.time(res <- KWDual(L, rep(1,dim(L)[2]), rep(1,dim(L)[1])/dim(L)[1]))[3];\n",
    "    res$f[res$f < 1e-4] = 0\n",
    "    x_rebayes = res$f / sum(res$f)\"\n",
    "    @rget x_rebayes;\n",
    "    return sparse(x_rebayes)\n",
    "end"
   ]
  },
  {
   "cell_type": "code",
   "execution_count": null,
   "metadata": {},
   "outputs": [],
   "source": [
    "@time vanilla_dual(L)"
   ]
  },
  {
   "cell_type": "code",
   "execution_count": null,
   "metadata": {},
   "outputs": [],
   "source": [
    "@time vanilla_primal(L)"
   ]
  },
  {
   "cell_type": "code",
   "execution_count": null,
   "metadata": {},
   "outputs": [],
   "source": [
    "@time vanilla_boxed(L)"
   ]
  },
  {
   "cell_type": "code",
   "execution_count": null,
   "metadata": {},
   "outputs": [],
   "source": [
    "@time REBayes(L)"
   ]
  },
  {
   "cell_type": "code",
   "execution_count": null,
   "metadata": {
    "collapsed": true
   },
   "outputs": [],
   "source": [
    "# L = Array{Float64,2}(CSV.read(\"../data/sample100000x100.txt\", nullable = false, header = false, delim = ' '));\n",
    "# warning : the following code might be extremely slow (with this large L)\n",
    "# @time vanilla_primal(L)\n",
    "# @time vanilla_dual(L)"
   ]
  }
 ],
 "metadata": {
  "kernelspec": {
   "display_name": "Julia 0.6.2",
   "language": "julia",
   "name": "julia-0.6"
  },
  "language_info": {
   "file_extension": ".jl",
   "mimetype": "application/julia",
   "name": "julia",
   "version": "0.6.2"
  }
 },
 "nbformat": 4,
 "nbformat_minor": 2
}
