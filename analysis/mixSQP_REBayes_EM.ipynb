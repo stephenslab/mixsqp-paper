{
 "cells": [
  {
   "cell_type": "code",
   "execution_count": 2,
   "metadata": {},
   "outputs": [],
   "source": [
    "using RCall # use R in Julia and thus in this jupyter notebook\n",
    "using CSV # save/load txt files\n",
    "using LowRankApprox # randomized low-rank approximation"
   ]
  },
  {
   "cell_type": "code",
   "execution_count": null,
   "metadata": {
    "collapsed": true
   },
   "outputs": [],
   "source": [
    "L1 = Array{Float64,2}(CSV.read(\"../data/sample5000x20.txt\", nullable = false, header = false, delim = ' '));"
   ]
  },
  {
   "cell_type": "code",
   "execution_count": null,
   "metadata": {
    "collapsed": true
   },
   "outputs": [],
   "source": [
    "include(\"../code/julia/mixSQP_time.jl\")\n",
    "include(\"../code/julia/mixEM.jl\");\n",
    "include(\"../code/julia/REBayes.jl\");"
   ]
  },
  {
   "cell_type": "code",
   "execution_count": null,
   "metadata": {
    "collapsed": true
   },
   "outputs": [],
   "source": [
    "# mixSQP_time\n",
    "# L1      :\n",
    "# eps     :\n",
    "# tol     :\n",
    "# pqrtol    :\n",
    "# sptol   :\n",
    "# lowrank :\n",
    "x = mixSQP_time(L1, eps=1e-8, tol=1e-8, pqrtol = 1e-10, sptol=1e-3, lowrank = \"svd\")[1];"
   ]
  },
  {
   "cell_type": "code",
   "execution_count": null,
   "metadata": {},
   "outputs": [],
   "source": [
    "# time comparison between mixEM, mixSQP and REBayes\n",
    "\n",
    "## mixEM;\n",
    "tic(); x_em = mixEM(L1)[1]; t_em = toq();\n",
    "\n",
    "x_rebayes,t_rebayes = REBayes(L1);\n",
    "\n",
    "tic(); x_mixsqp = mixSQP_time(L1)[1]; t_mixsqp = toq();\n",
    "\n",
    "# mixSQP ourperforms on this small dataset 5000x20\n",
    "[\"mixEM\" \"REbayes\" \"mixSQP\"; t_em t_rebayes t_mixsqp]"
   ]
  },
  {
   "cell_type": "code",
   "execution_count": null,
   "metadata": {},
   "outputs": [],
   "source": [
    "# EM does not converge until maxiter\n",
    "[x_em x_rebayes x_mixsqp]"
   ]
  },
  {
   "cell_type": "code",
   "execution_count": null,
   "metadata": {},
   "outputs": [],
   "source": [
    "# compare REBayes and mixsqp\n",
    "print(\"l1 norm difference between solutions: \"); println(norm(x_mixsqp - x_rebayes, 1))\n",
    "print(\"relative difference between objective values: \"); println(rel_error(L1,x_mixsqp,x_rebayes));"
   ]
  },
  {
   "cell_type": "code",
   "execution_count": null,
   "metadata": {},
   "outputs": [],
   "source": [
    "# Let's try large dataset 100000x100\n",
    "# time comparison between mixSQP and REBayes\n",
    "# make a large data if it doesn't exist\n",
    "# include(\"../code/julia/makedata.jl\")\n",
    "\n",
    "L = Array{Float64,2}(CSV.read(\"../data/sample100000x100.txt\", nullable = false, header = false, delim = ' '));\n",
    "@rput L;\n",
    "R\"t_rebayes = system.time(res <- REBayes::KWDual(L, rep(1,dim(L)[2]), rep(1,dim(L)[1])/dim(L)[1]))[3];\n",
    "res$f[res$f < 1e-3] = 0\n",
    "x_rebayes = res$f / sum(res$f)\"\n",
    "@rget x_rebayes;\n",
    "@rget t_rebayes;\n",
    "\n",
    "# mixSQP ourperforms on this large dataset 100000x100\n",
    "tic(); x_mixsqp = mixSQP_time(L)[1]; t_mixsqp = toq();\n",
    "[\"mixSQP\" \"REbayes\"; t_mixsqp t_rebayes]"
   ]
  },
  {
   "cell_type": "code",
   "execution_count": null,
   "metadata": {},
   "outputs": [],
   "source": [
    "# solution almost conincides\n",
    "print(\"l1 norm difference between solutions: \"); println(norm(x_mixsqp - x_rebayes, 1))\n",
    "print(\"relative difference between objective values: \"); println(rel_error(L,x_mixsqp,x_rebayes));"
   ]
  },
  {
   "cell_type": "code",
   "execution_count": null,
   "metadata": {},
   "outputs": [],
   "source": [
    "# let's run Adaptive Shinkage for the comparison.\n",
    "include(\"../code/julia/ash.jl\")\n",
    "srand(1);\n",
    "z = [randn(50000);3*randn(50000)];\n",
    "s = ones(100000);\n",
    "out = ash(z,s, mult = 1.04);\n",
    "\n",
    "# solution is sparse\n",
    "x = sparse(out[4]); print(x)\n",
    "\n",
    "# computation time\n",
    "[\"likelihood\" \"lowrank\" \"mixSQP\" \"posterior\"; out[5]']"
   ]
  },
  {
   "cell_type": "code",
   "execution_count": null,
   "metadata": {},
   "outputs": [],
   "source": [
    "# :::Warning:::\n",
    "# Perhaps you don't want to run this: it's much slower.\n",
    "# current \"ashr\" package in R\n",
    "L = out[3];\n",
    "@rput z; @rput s2;\n",
    "R\"t_ash = system.time(res <- ashr::ash(z,s2, mixcompdist = 'normal', prior = 'uniform', gridmult = 1.04) )[3]\"\n",
    "@rget t_ash\n",
    "R\"x_ash = res$fitted_g$pi\"\n",
    "@rget x_ash\n",
    "t_ash"
   ]
  },
  {
   "cell_type": "code",
   "execution_count": null,
   "metadata": {},
   "outputs": [],
   "source": [
    "# solution almost conincides\n",
    "print(\"l1 norm difference between solutions: \"); println(norm(x - x_ash, 1))\n",
    "print(\"relative difference between objective values: \"); println(rel_error(L,x,x_ash));"
   ]
  },
  {
   "cell_type": "markdown",
   "metadata": {},
   "source": [
    "## Session information\n",
    "\n",
    "The section gives information about the computing environment used to generate the results contained in this\n",
    "manuscript, including the version of Julia, Python and the Julia packages. "
   ]
  },
  {
   "cell_type": "code",
   "execution_count": null,
   "metadata": {},
   "outputs": [],
   "source": [
    "# R library/system information\n",
    "R\"sessionInfo()\""
   ]
  },
  {
   "cell_type": "code",
   "execution_count": null,
   "metadata": {},
   "outputs": [],
   "source": [
    "Pkg.status(\"RCall\")\n",
    "Pkg.status(\"CSV\")\n",
    "Pkg.status(\"LowRankApprox\")"
   ]
  },
  {
   "cell_type": "code",
   "execution_count": null,
   "metadata": {},
   "outputs": [],
   "source": [
    "versioninfo()"
   ]
  }
 ],
 "metadata": {
  "kernelspec": {
   "display_name": "Julia 0.6.2",
   "language": "julia",
   "name": "julia-0.6"
  },
  "language_info": {
   "file_extension": ".jl",
   "mimetype": "application/julia",
   "name": "julia",
   "version": "0.6.2"
  }
 },
 "nbformat": 4,
 "nbformat_minor": 2
}
