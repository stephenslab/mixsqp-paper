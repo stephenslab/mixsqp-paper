{
 "cells": [
  {
   "cell_type": "markdown",
   "metadata": {},
   "source": [
    "# Comparing performance and accuracy of EM, IP and mix-SQP algorithms\n",
    "\n",
    "In this example, we compare the runtime and accuracy of the EM algorithm, the mix-SQP algorithm, and the interior-point method implemented by the MOSEK commercial solver (and called via the `KWDual` function in the R package `REBayes`).\n",
    "\n",
    "## Analysis setup\n",
    "\n",
    "*Before attempting to run this Julia code, make sure your computer is properly set up to run this code by following the setup instructions in the README of the [git repository](https://github.com/stephenslab/mixsqp-paper).*\n",
    "\n",
    "We begin by loading the Distributions, LowRankApprox, RCall and other packages, as well as some function definitions used in the code chunks below."
   ]
  },
  {
   "cell_type": "code",
   "execution_count": 1,
   "metadata": {},
   "outputs": [],
   "source": [
    "using Pkg\n",
    "using Printf\n",
    "using Random\n",
    "using Distributions\n",
    "using LinearAlgebra\n",
    "using SparseArrays\n",
    "using LowRankApprox\n",
    "using RCall\n",
    "include(\"../code/datasim.jl\");\n",
    "include(\"../code/likelihood.jl\");\n",
    "include(\"../code/mixEM.jl\");\n",
    "include(\"../code/mixSQP.jl\");\n",
    "include(\"../code/REBayes.jl\");"
   ]
  },
  {
   "cell_type": "markdown",
   "metadata": {},
   "source": [
    "Next, initialize the sequence of pseudorandom numbers."
   ]
  },
  {
   "cell_type": "code",
   "execution_count": 2,
   "metadata": {
    "collapsed": true
   },
   "outputs": [],
   "source": [
    "Random.seed!(1);"
   ]
  },
  {
   "cell_type": "markdown",
   "metadata": {},
   "source": [
    "## Generate a small data set\n",
    "\n",
    "Let's begin with a smaller example with 50,000 samples."
   ]
  },
  {
   "cell_type": "code",
   "execution_count": 3,
   "metadata": {
    "collapsed": true
   },
   "outputs": [],
   "source": [
    "z = normtmixdatasim(round(Int,5e4));"
   ]
  },
  {
   "cell_type": "markdown",
   "metadata": {},
   "source": [
    "## Compute the likelihood matrix\n",
    "\n",
    "Compute the $n \\times k$ likelihood matrix for a mixture of zero-centered normals, with $k = 20$. Note that the rows of the likelihood matrix are normalized by default."
   ]
  },
  {
   "cell_type": "code",
   "execution_count": 4,
   "metadata": {},
   "outputs": [
    {
     "data": {
      "text/plain": [
       "(50000, 20)"
      ]
     },
     "execution_count": 4,
     "metadata": {},
     "output_type": "execute_result"
    }
   ],
   "source": [
    "sd = autoselectmixsd(z,nv = 20);\n",
    "L  = normlikmatrix(z,sd = sd);\n",
    "size(L)"
   ]
  },
  {
   "cell_type": "markdown",
   "metadata": {},
   "source": [
    "## Fit mixture model \n",
    "\n",
    "First we run each of the optimization algorithms once to precompile the relevant functions."
   ]
  },
  {
   "cell_type": "code",
   "execution_count": 5,
   "metadata": {},
   "outputs": [
    {
     "name": "stderr",
     "output_type": "stream",
     "text": [
      "┌ Warning: RCall.jl: Warning: package ‘REBayes’ was built under R version 3.4.4\n",
      "│ Loading required package: Matrix\n",
      "└ @ RCall /Users/pcarbo/.julia/packages/RCall/iojZI/src/io.jl:113\n"
     ]
    }
   ],
   "source": [
    "outem  = mixEM(L,maxiter = 10);\n",
    "outsqp = mixSQP(L,maxiter = 10,verbose = false);\n",
    "outip  = REBayes(L);"
   ]
  },
  {
   "cell_type": "markdown",
   "metadata": {},
   "source": [
    "Next, let's fit the model using the three algorithms. "
   ]
  },
  {
   "cell_type": "code",
   "execution_count": 6,
   "metadata": {},
   "outputs": [
    {
     "name": "stdout",
     "output_type": "stream",
     "text": [
      "  3.929660 seconds (26.65 k allocations: 7.131 GiB, 22.02% gc time)\n",
      "  1.286706 seconds (3.54 k allocations: 243.581 KiB)\n",
      "  0.271515 seconds (35.16 k allocations: 252.154 MiB, 12.41% gc time)\n"
     ]
    }
   ],
   "source": [
    "@time xem, tem = mixEM(L,tol = 1e-4,maxiter = 1000);\n",
    "@time xip, tip = REBayes(L);\n",
    "@time outsqp   = mixSQP(L,verbose = false);"
   ]
  },
  {
   "cell_type": "markdown",
   "metadata": {},
   "source": [
    "The mix-SQP algorithm algorithm is much faster than the other two methods, with EM being the slowest. \n",
    "\n",
    "The quality of the IP and SQP solutions is very similar, whereas the EM solution is much worse: "
   ]
  },
  {
   "cell_type": "code",
   "execution_count": 7,
   "metadata": {},
   "outputs": [
    {
     "name": "stdout",
     "output_type": "stream",
     "text": [
      "Difference between EM solution and best solution:  1.88e+01\n",
      "Difference between IP solution and best solution:  3.07e-09\n",
      "Difference between SQP solution and best solution: 0.00e+00\n"
     ]
    }
   ],
   "source": [
    "fem  = mixobjective(L,xem);\n",
    "fip  = mixobjective(L,xip);\n",
    "fsqp = mixobjective(L,outsqp[\"x\"]);\n",
    "fbest = minimum([fem fip fsqp]);\n",
    "@printf \"Difference between EM solution and best solution:  %0.2e\\n\" fem - fbest\n",
    "@printf \"Difference between IP solution and best solution:  %0.2e\\n\" fip - fbest\n",
    "@printf \"Difference between SQP solution and best solution: %0.2e\\n\" fsqp - fbest"
   ]
  },
  {
   "cell_type": "markdown",
   "metadata": {},
   "source": [
    "## Comparison using a larger data set\n",
    "\n",
    "Next, let's see what happens when we apply these three algorithms to a larger data set."
   ]
  },
  {
   "cell_type": "code",
   "execution_count": 8,
   "metadata": {
    "collapsed": true
   },
   "outputs": [],
   "source": [
    "z = normtmixdatasim(round(Int,1e5));"
   ]
  },
  {
   "cell_type": "markdown",
   "metadata": {},
   "source": [
    "As before, we compute the $n \\times k$ likelihood matrix for a mixture of zero-centered normals. This time, we use a finer grid of $k = 100$ normal densities."
   ]
  },
  {
   "cell_type": "code",
   "execution_count": 9,
   "metadata": {},
   "outputs": [
    {
     "data": {
      "text/plain": [
       "(100000, 100)"
      ]
     },
     "execution_count": 9,
     "metadata": {},
     "output_type": "execute_result"
    }
   ],
   "source": [
    "sd = autoselectmixsd(z,nv = 100);\n",
    "L  = normlikmatrix(z,sd = sd);\n",
    "size(L)"
   ]
  },
  {
   "cell_type": "markdown",
   "metadata": {},
   "source": [
    "Now we fit the model using the three approaches. "
   ]
  },
  {
   "cell_type": "code",
   "execution_count": 10,
   "metadata": {},
   "outputs": [
    {
     "name": "stdout",
     "output_type": "stream",
     "text": [
      " 11.760771 seconds (1.58 k allocations: 11.780 GiB, 45.34% gc time)\n",
      " 13.678142 seconds (258 allocations: 12.984 KiB)\n",
      "  0.733824 seconds (473.63 k allocations: 537.169 MiB, 22.60% gc time)\n"
     ]
    }
   ],
   "source": [
    "@time xem, tem = mixEM(L,tol = 1e-4,maxiter = 1000);\n",
    "@time xip, tip = REBayes(L);\n",
    "@time outsqp   = mixSQP(L,verbose = false);"
   ]
  },
  {
   "cell_type": "markdown",
   "metadata": {},
   "source": [
    "In this example, the mix-SQP algorithm reaches a solution much faster than the both EM and IP approaches. \n",
    "\n",
    "As before, the quality of the IP and SQP solutions is similar, whereas the EM solution is much worse."
   ]
  },
  {
   "cell_type": "code",
   "execution_count": 11,
   "metadata": {},
   "outputs": [
    {
     "name": "stdout",
     "output_type": "stream",
     "text": [
      "Difference between EM and best solutions:  1.42e+02\n",
      "Difference between IP and best solutions:  5.15e-06\n",
      "Difference between SQP and best solutions: 0.00e+00\n"
     ]
    }
   ],
   "source": [
    "fem  = mixobjective(L,xem);\n",
    "fip  = mixobjective(L,xip);\n",
    "fsqp = mixobjective(L,outsqp[\"x\"]);\n",
    "fbest = minimum([fem fip fsqp]);\n",
    "@printf \"Difference between EM and best solutions:  %0.2e\\n\" fem - fbest\n",
    "@printf \"Difference between IP and best solutions:  %0.2e\\n\" fip - fbest\n",
    "@printf \"Difference between SQP and best solutions: %0.2e\\n\" fsqp - fbest"
   ]
  },
  {
   "cell_type": "markdown",
   "metadata": {},
   "source": [
    "## Session information\n",
    "\n",
    "The section gives information about the computing environment used to generate the results contained in this\n",
    "notebook, including the version of Julia, R and the packages used. "
   ]
  },
  {
   "cell_type": "code",
   "execution_count": 12,
   "metadata": {},
   "outputs": [
    {
     "name": "stdout",
     "output_type": "stream",
     "text": [
      "\u001b[32m\u001b[1m    Status\u001b[22m\u001b[39m `~/.julia/environments/v1.1/Project.toml`\n",
      " \u001b[90m [31c24e10]\u001b[39m\u001b[37m Distributions v0.21.1\u001b[39m\n",
      "\u001b[32m\u001b[1m    Status\u001b[22m\u001b[39m `~/.julia/environments/v1.1/Project.toml`\n",
      " \u001b[90m [898213cb]\u001b[39m\u001b[37m LowRankApprox v0.2.3\u001b[39m\n",
      "\u001b[32m\u001b[1m    Status\u001b[22m\u001b[39m `~/.julia/environments/v1.1/Project.toml`\n",
      " \u001b[90m [6f49c342]\u001b[39m\u001b[37m RCall v0.13.3\u001b[39m\n",
      "Julia Version 1.1.1\n",
      "Commit 55e36cc (2019-05-16 04:10 UTC)\n",
      "Platform Info:\n",
      "  OS: macOS (x86_64-apple-darwin15.6.0)\n",
      "  CPU: Intel(R) Core(TM) i7-7567U CPU @ 3.50GHz\n",
      "  WORD_SIZE: 64\n",
      "  LIBM: libopenlibm\n",
      "  LLVM: libLLVM-6.0.1 (ORCJIT, skylake)\n"
     ]
    }
   ],
   "source": [
    "Pkg.status(\"Distributions\")\n",
    "Pkg.status(\"LowRankApprox\")\n",
    "Pkg.status(\"RCall\")\n",
    "versioninfo()"
   ]
  },
  {
   "cell_type": "markdown",
   "metadata": {},
   "source": [
    "Since we called the `KWDual` function in R, it is also useful to record information about R, and the R packages used."
   ]
  },
  {
   "cell_type": "code",
   "execution_count": 13,
   "metadata": {},
   "outputs": [
    {
     "data": {
      "text/plain": [
       "RObject{VecSxp}\n",
       "R version 3.4.3 (2017-11-30)\n",
       "Platform: x86_64-apple-darwin15.6.0 (64-bit)\n",
       "Running under: macOS High Sierra 10.13.6\n",
       "\n",
       "Matrix products: default\n",
       "BLAS: /System/Library/Frameworks/Accelerate.framework/Versions/A/Frameworks/vecLib.framework/Versions/A/libBLAS.dylib\n",
       "LAPACK: /Library/Frameworks/R.framework/Versions/3.4/Resources/lib/libRlapack.dylib\n",
       "\n",
       "locale:\n",
       "[1] en_US.UTF-8/en_US.UTF-8/en_US.UTF-8/C/en_US.UTF-8/en_US.UTF-8\n",
       "\n",
       "attached base packages:\n",
       "[1] stats     graphics  grDevices utils     datasets  methods   base     \n",
       "\n",
       "other attached packages:\n",
       "[1] REBayes_1.8   Matrix_1.2-12\n",
       "\n",
       "loaded via a namespace (and not attached):\n",
       "[1] compiler_3.4.3  Rmosek_8.0.69   grid_3.4.3      lattice_0.20-35\n"
      ]
     },
     "execution_count": 13,
     "metadata": {},
     "output_type": "execute_result"
    }
   ],
   "source": [
    "R\"sessionInfo()\""
   ]
  }
 ],
 "metadata": {
  "kernelspec": {
   "display_name": "Julia 1.1.1",
   "language": "julia",
   "name": "julia-1.1"
  },
  "language_info": {
   "file_extension": ".jl",
   "mimetype": "application/julia",
   "name": "julia",
   "version": "1.1.1"
  }
 },
 "nbformat": 4,
 "nbformat_minor": 2
}
