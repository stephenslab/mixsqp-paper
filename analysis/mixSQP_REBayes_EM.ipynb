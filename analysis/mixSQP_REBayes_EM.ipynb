{
 "cells": [
  {
   "cell_type": "markdown",
   "metadata": {},
   "source": [
    "# Compare performance and accuracy of EM, IP and mix-SQP algorithms\n",
    "\n",
    "In this example, we compare the runtime and accuracy of the EM algorithm, the mix-SQP algorithm, and the interior-point method implemented by the MOSEK commercial solver (and called via the `KWDual` function in the R package `REBayes`).\n",
    "\n",
    "## Analysis setup\n",
    "\n",
    "*Before attempting to run this Julia code, make sure your computer is properly set up to run this code by following the \"Quick Start\" instructions in the README of the [git repository](https://github.com/stephenslab/mixsqp-paper).*\n",
    "\n",
    "We begin by loading the Distributions, LowRankApprox and RCall Julia packages, as well as some function definitions used in the code chunks below."
   ]
  },
  {
   "cell_type": "code",
   "execution_count": null,
   "metadata": {
    "collapsed": true
   },
   "outputs": [],
   "source": [
    "using Distributions\n",
    "using LowRankApprox\n",
    "using RCall\n",
    "include(\"../code/datasim.jl\");\n",
    "include(\"../code/likelihood.jl\");\n",
    "include(\"../code/mixEM.jl\");\n",
    "include(\"../code/mixSQP.jl\");\n",
    "include(\"../code/REBayes.jl\");"
   ]
  },
  {
   "cell_type": "markdown",
   "metadata": {},
   "source": [
    "Next, initialize the sequence of pseudorandom numbers."
   ]
  },
  {
   "cell_type": "code",
   "execution_count": null,
   "metadata": {
    "collapsed": true
   },
   "outputs": [],
   "source": [
    "srand(1);"
   ]
  },
  {
   "cell_type": "markdown",
   "metadata": {},
   "source": [
    "## Generate a small data set\n",
    "\n",
    "Let's begin with a smaller example with 50,000 samples."
   ]
  },
  {
   "cell_type": "code",
   "execution_count": null,
   "metadata": {
    "collapsed": true
   },
   "outputs": [],
   "source": [
    "x = normtmixdatasim(round(Int,5e4));"
   ]
  },
  {
   "cell_type": "markdown",
   "metadata": {},
   "source": [
    "## Compute the likelihood matrix\n",
    "\n",
    "Compute the $n \\times k$ likelihood matrix for a mixture of zero-centered normals, with $k = 20$. Note that the rows of the likelihood matrix are normalized by default."
   ]
  },
  {
   "cell_type": "code",
   "execution_count": null,
   "metadata": {},
   "outputs": [],
   "source": [
    "sd = autoselectmixsd(x,nv = 20);\n",
    "L  = normlikmatrix(x,sd = sd);\n",
    "size(L)"
   ]
  },
  {
   "cell_type": "markdown",
   "metadata": {},
   "source": [
    "## Fit mixture model \n",
    "\n",
    "First we run each of the optimization algorithms once to precompile the relevant functions."
   ]
  },
  {
   "cell_type": "code",
   "execution_count": null,
   "metadata": {
    "collapsed": true
   },
   "outputs": [],
   "source": [
    "outem  = mixEM(L,maxiter = 100);\n",
    "outip  = REBayes(L);\n",
    "outsqp = mixSQP(L,verbose = false);"
   ]
  },
  {
   "cell_type": "markdown",
   "metadata": {},
   "source": [
    "Next, let's fit the model using the three algorithms. "
   ]
  },
  {
   "cell_type": "code",
   "execution_count": null,
   "metadata": {},
   "outputs": [],
   "source": [
    "@time xem, tem = mixEM(L,tol = 1e-4,maxiter = 1000);\n",
    "@time xip, tip = REBayes(L);\n",
    "@time outsqp   = mixSQP(L,verbose = false);"
   ]
  },
  {
   "cell_type": "markdown",
   "metadata": {},
   "source": [
    "The mix-SQP algorithm algorithm is much faster than the other two methods, with the EM being the slowest. \n",
    "\n",
    "Further, the quality of the IP and SQP solutions is very similar, whereas the EM solution is much worse: "
   ]
  },
  {
   "cell_type": "code",
   "execution_count": null,
   "metadata": {},
   "outputs": [],
   "source": [
    "fem  = mixobjective(L,xem);\n",
    "fip  = mixobjective(L,xip);\n",
    "fsqp = mixobjective(L,outsqp[\"x\"]);\n",
    "fbest = minimum([fem fip fsqp]);\n",
    "@printf \"Difference between EM and best solutions:  %0.2e\\n\" fem - fbest\n",
    "@printf \"Difference between IP and best solutions:  %0.2e\\n\" fip - fbest\n",
    "@printf \"Difference between SQP and best solutions: %0.2e\\n\" fsqp - fbest"
   ]
  },
  {
   "cell_type": "markdown",
   "metadata": {},
   "source": [
    "## Comparison using a larger data set\n",
    "\n",
    "Next, let's see what happens when we apply these three algorithms to a larger data set."
   ]
  },
  {
   "cell_type": "code",
   "execution_count": null,
   "metadata": {
    "collapsed": true
   },
   "outputs": [],
   "source": [
    "x = normtmixdatasim(round(Int,1e5));"
   ]
  },
  {
   "cell_type": "markdown",
   "metadata": {},
   "source": [
    "As before, we compute the $n \\times k$ likelihood matrix for a mixture of zero-centered normals. This time, we use a finer grid of $k = 100$ normal densities."
   ]
  },
  {
   "cell_type": "code",
   "execution_count": null,
   "metadata": {},
   "outputs": [],
   "source": [
    "sd = autoselectmixsd(x,nv = 100);\n",
    "L  = normlikmatrix(x,sd = sd);\n",
    "size(L)"
   ]
  },
  {
   "cell_type": "markdown",
   "metadata": {},
   "source": [
    "Now we fit the model using the three approaches. "
   ]
  },
  {
   "cell_type": "code",
   "execution_count": null,
   "metadata": {},
   "outputs": [],
   "source": [
    "@time xem, tem = mixEM(L,tol = 1e-4,maxiter = 1000);\n",
    "@time xip, tip = REBayes(L);\n",
    "@time outsqp   = mixSQP(L,verbose = false);"
   ]
  },
  {
   "cell_type": "markdown",
   "metadata": {},
   "source": [
    "In this example, the mix-SQP algorithm reaches a solution much faster than the both EM and IP approaches. \n",
    "\n",
    "As before, the quality of the IP and SQP solutions is similar, whereas the EM solution is much worse."
   ]
  },
  {
   "cell_type": "code",
   "execution_count": null,
   "metadata": {},
   "outputs": [],
   "source": [
    "fem  = mixobjective(L,xem);\n",
    "fip  = mixobjective(L,xip);\n",
    "fsqp = mixobjective(L,outsqp[\"x\"]);\n",
    "fbest = minimum([fem fip fsqp]);\n",
    "@printf \"Difference between EM and best solutions:  %0.2e\\n\" fem - fbest\n",
    "@printf \"Difference between IP and best solutions:  %0.2e\\n\" fip - fbest\n",
    "@printf \"Difference between SQP and best solutions: %0.2e\\n\" fsqp - fbest"
   ]
  },
  {
   "cell_type": "markdown",
   "metadata": {},
   "source": [
    "## Session information\n",
    "\n",
    "The section gives information about the computing environment used to generate the results contained in this\n",
    "notebook, including the version of Julia, R and the packages used. "
   ]
  },
  {
   "cell_type": "code",
   "execution_count": null,
   "metadata": {},
   "outputs": [],
   "source": [
    "Pkg.status(\"Distributions\")\n",
    "Pkg.status(\"LowRankApprox\")\n",
    "Pkg.status(\"RCall\")\n",
    "versioninfo()"
   ]
  },
  {
   "cell_type": "markdown",
   "metadata": {},
   "source": [
    "Since we called the `KWDual` function in R, it is also useful to record information about R."
   ]
  },
  {
   "cell_type": "code",
   "execution_count": null,
   "metadata": {},
   "outputs": [],
   "source": [
    "R\"sessionInfo()\""
   ]
  }
 ],
 "metadata": {
  "kernelspec": {
   "display_name": "Julia 0.6.2",
   "language": "julia",
   "name": "julia-0.6"
  },
  "language_info": {
   "file_extension": ".jl",
   "mimetype": "application/julia",
   "name": "julia",
   "version": "0.6.2"
  }
 },
 "nbformat": 4,
 "nbformat_minor": 2
}
