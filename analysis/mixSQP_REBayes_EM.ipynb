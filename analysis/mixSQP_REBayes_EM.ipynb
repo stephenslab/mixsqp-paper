{
 "cells": [
  {
   "cell_type": "markdown",
   "metadata": {},
   "source": [
    "# Comparing performance and accuracy of EM, IP and mix-SQP algorithms\n",
    "\n",
    "In this example, we compare the runtime and accuracy of the EM algorithm, the mix-SQP algorithm, and the interior-point method implemented by the MOSEK commercial solver (and called via the `KWDual` function in the R package `REBayes`).\n",
    "\n",
    "## Analysis setup\n",
    "\n",
    "*Before attempting to run this Julia code, make sure your computer is properly set up to run this code by following the \"Quick Start\" instructions in the README of the [git repository](https://github.com/stephenslab/mixsqp-paper).*\n",
    "\n",
    "We begin by loading the Distributions, LowRankApprox and RCall Julia packages, as well as some function definitions used in the code chunks below."
   ]
  },
  {
   "cell_type": "code",
   "execution_count": 1,
   "metadata": {
    "collapsed": true
   },
   "outputs": [],
   "source": [
    "using Distributions\n",
    "using LowRankApprox\n",
    "using RCall\n",
    "include(\"../code/datasim.jl\");\n",
    "include(\"../code/likelihood.jl\");\n",
    "include(\"../code/mixEM.jl\");\n",
    "include(\"../code/mixSQP.jl\");\n",
    "include(\"../code/REBayes.jl\");"
   ]
  },
  {
   "cell_type": "markdown",
   "metadata": {},
   "source": [
    "Next, initialize the sequence of pseudorandom numbers."
   ]
  },
  {
   "cell_type": "code",
   "execution_count": 2,
   "metadata": {
    "collapsed": true
   },
   "outputs": [],
   "source": [
    "srand(1);"
   ]
  },
  {
   "cell_type": "markdown",
   "metadata": {},
   "source": [
    "## Generate a small data set\n",
    "\n",
    "Let's begin with a smaller example with 50,000 samples."
   ]
  },
  {
   "cell_type": "code",
   "execution_count": 3,
   "metadata": {
    "collapsed": true
   },
   "outputs": [],
   "source": [
    "z = normtmixdatasim(round(Int,5e4));"
   ]
  },
  {
   "cell_type": "markdown",
   "metadata": {},
   "source": [
    "## Compute the likelihood matrix\n",
    "\n",
    "Compute the $n \\times k$ likelihood matrix for a mixture of zero-centered normals, with $k = 20$. Note that the rows of the likelihood matrix are normalized by default."
   ]
  },
  {
   "cell_type": "code",
   "execution_count": 4,
   "metadata": {},
   "outputs": [
    {
     "data": {
      "text/plain": [
       "(50000, 20)"
      ]
     },
     "execution_count": 4,
     "metadata": {},
     "output_type": "execute_result"
    }
   ],
   "source": [
    "sd = autoselectmixsd(z,nv = 20);\n",
    "L  = normlikmatrix(z,sd = sd);\n",
    "size(L)"
   ]
  },
  {
   "cell_type": "markdown",
   "metadata": {},
   "source": [
    "## Fit mixture model \n",
    "\n",
    "First we run each of the optimization algorithms once to precompile the relevant functions."
   ]
  },
  {
   "cell_type": "code",
   "execution_count": 14,
   "metadata": {},
   "outputs": [],
   "source": [
    "outem  = mixEM(L,maxiter = 100);\n",
    "outip  = REBayes(L);\n",
    "outsqp = mixSQP(L,verbose = false);"
   ]
  },
  {
   "cell_type": "markdown",
   "metadata": {},
   "source": [
    "Next, let's fit the model using the three algorithms. "
   ]
  },
  {
   "cell_type": "code",
   "execution_count": 6,
   "metadata": {},
   "outputs": [
    {
     "name": "stdout",
     "output_type": "stream",
     "text": [
      "  3.479721 seconds (25.40 k allocations: 7.243 GiB, 21.60% gc time)\n",
      "  1.314076 seconds (579 allocations: 30.897 KiB)\n",
      "  0.276557 seconds (38.24 k allocations: 404.534 MiB, 15.43% gc time)\n"
     ]
    }
   ],
   "source": [
    "@time xem, tem = mixEM(L,tol = 1e-4,maxiter = 1000);\n",
    "@time xip, tip = REBayes(L);\n",
    "@time outsqp   = mixSQP(L,verbose = false);"
   ]
  },
  {
   "cell_type": "markdown",
   "metadata": {},
   "source": [
    "The mix-SQP algorithm algorithm is much faster than the other two methods, with the EM being the slowest. \n",
    "\n",
    "Further, the quality of the IP and SQP solutions is very similar, whereas the EM solution is much worse: "
   ]
  },
  {
   "cell_type": "code",
   "execution_count": 7,
   "metadata": {},
   "outputs": [
    {
     "name": "stdout",
     "output_type": "stream",
     "text": [
      "Difference between EM and best solutions:  7.97e+00\n",
      "Difference between IP and best solutions:  0.00e+00\n",
      "Difference between SQP and best solutions: 2.22e-06\n"
     ]
    }
   ],
   "source": [
    "fem  = mixobjective(L,xem);\n",
    "fip  = mixobjective(L,xip);\n",
    "fsqp = mixobjective(L,outsqp[\"x\"]);\n",
    "fbest = minimum([fem fip fsqp]);\n",
    "@printf \"Difference between EM and best solutions:  %0.2e\\n\" fem - fbest\n",
    "@printf \"Difference between IP and best solutions:  %0.2e\\n\" fip - fbest\n",
    "@printf \"Difference between SQP and best solutions: %0.2e\\n\" fsqp - fbest"
   ]
  },
  {
   "cell_type": "markdown",
   "metadata": {},
   "source": [
    "## Comparison using a larger data set\n",
    "\n",
    "Next, let's see what happens when we apply these three algorithms to a larger data set."
   ]
  },
  {
   "cell_type": "code",
   "execution_count": 8,
   "metadata": {
    "collapsed": true
   },
   "outputs": [],
   "source": [
    "z = normtmixdatasim(round(Int,1e5));"
   ]
  },
  {
   "cell_type": "markdown",
   "metadata": {},
   "source": [
    "As before, we compute the $n \\times k$ likelihood matrix for a mixture of zero-centered normals. This time, we use a finer grid of $k = 100$ normal densities."
   ]
  },
  {
   "cell_type": "code",
   "execution_count": 9,
   "metadata": {},
   "outputs": [
    {
     "data": {
      "text/plain": [
       "(100000, 100)"
      ]
     },
     "execution_count": 9,
     "metadata": {},
     "output_type": "execute_result"
    }
   ],
   "source": [
    "sd = autoselectmixsd(z,nv = 100);\n",
    "L  = normlikmatrix(z,sd = sd);\n",
    "size(L)"
   ]
  },
  {
   "cell_type": "markdown",
   "metadata": {},
   "source": [
    "Now we fit the model using the three approaches. "
   ]
  },
  {
   "cell_type": "code",
   "execution_count": 10,
   "metadata": {},
   "outputs": [
    {
     "name": "stdout",
     "output_type": "stream",
     "text": [
      " 17.030483 seconds (12.71 k allocations: 11.820 GiB, 53.78% gc time)\n",
      " 19.056084 seconds (315 allocations: 16.172 KiB)\n",
      "  1.019957 seconds (134.62 k allocations: 872.181 MiB, 12.84% gc time)\n"
     ]
    }
   ],
   "source": [
    "@time xem, tem = mixEM(L,tol = 1e-4,maxiter = 1000);\n",
    "@time xip, tip = REBayes(L);\n",
    "@time outsqp   = mixSQP(L,verbose = false);"
   ]
  },
  {
   "cell_type": "markdown",
   "metadata": {},
   "source": [
    "In this example, the mix-SQP algorithm reaches a solution much faster than the both EM and IP approaches. \n",
    "\n",
    "As before, the quality of the IP and SQP solutions is similar, whereas the EM solution is much worse."
   ]
  },
  {
   "cell_type": "code",
   "execution_count": 11,
   "metadata": {},
   "outputs": [
    {
     "name": "stdout",
     "output_type": "stream",
     "text": [
      "Difference between EM and best solutions:  1.23e+02\n",
      "Difference between IP and best solutions:  0.00e+00\n",
      "Difference between SQP and best solutions: 2.00e-02\n"
     ]
    }
   ],
   "source": [
    "fem  = mixobjective(L,xem);\n",
    "fip  = mixobjective(L,xip);\n",
    "fsqp = mixobjective(L,outsqp[\"x\"]);\n",
    "fbest = minimum([fem fip fsqp]);\n",
    "@printf \"Difference between EM and best solutions:  %0.2e\\n\" fem - fbest\n",
    "@printf \"Difference between IP and best solutions:  %0.2e\\n\" fip - fbest\n",
    "@printf \"Difference between SQP and best solutions: %0.2e\\n\" fsqp - fbest"
   ]
  },
  {
   "cell_type": "markdown",
   "metadata": {},
   "source": [
    "## Session information\n",
    "\n",
    "The section gives information about the computing environment used to generate the results contained in this\n",
    "notebook, including the version of Julia, R and the packages used. "
   ]
  },
  {
   "cell_type": "code",
   "execution_count": 12,
   "metadata": {},
   "outputs": [
    {
     "name": "stdout",
     "output_type": "stream",
     "text": [
      " - Distributions                 0.15.0\n",
      " - LowRankApprox                 0.1.1\n",
      " - RCall                         0.10.2\n",
      "Julia Version 0.6.2\n",
      "Commit d386e40c17 (2017-12-13 18:08 UTC)\n",
      "Platform Info:\n",
      "  OS: macOS (x86_64-apple-darwin14.5.0)\n",
      "  CPU: Intel(R) Core(TM) i7-7567U CPU @ 3.50GHz\n",
      "  WORD_SIZE: 64\n",
      "  BLAS: libopenblas (USE64BITINT DYNAMIC_ARCH NO_AFFINITY Prescott)\n",
      "  LAPACK: libopenblas64_\n",
      "  LIBM: libopenlibm\n",
      "  LLVM: libLLVM-3.9.1 (ORCJIT, broadwell)\n"
     ]
    }
   ],
   "source": [
    "Pkg.status(\"Distributions\")\n",
    "Pkg.status(\"LowRankApprox\")\n",
    "Pkg.status(\"RCall\")\n",
    "versioninfo()"
   ]
  },
  {
   "cell_type": "markdown",
   "metadata": {},
   "source": [
    "Since we called the `KWDual` function in R, it is also useful to record information about R."
   ]
  },
  {
   "cell_type": "code",
   "execution_count": 13,
   "metadata": {},
   "outputs": [
    {
     "data": {
      "text/plain": [
       "RCall.RObject{RCall.VecSxp}\n",
       "R version 3.4.3 (2017-11-30)\n",
       "Platform: x86_64-apple-darwin15.6.0 (64-bit)\n",
       "Running under: macOS High Sierra 10.13.4\n",
       "\n",
       "Matrix products: default\n",
       "BLAS: /System/Library/Frameworks/Accelerate.framework/Versions/A/Frameworks/vecLib.framework/Versions/A/libBLAS.dylib\n",
       "LAPACK: /Library/Frameworks/R.framework/Versions/3.4/Resources/lib/libRlapack.dylib\n",
       "\n",
       "locale:\n",
       "[1] en_US.UTF-8/en_US.UTF-8/en_US.UTF-8/C/en_US.UTF-8/en_US.UTF-8\n",
       "\n",
       "attached base packages:\n",
       "[1] stats     graphics  grDevices utils     datasets  methods   base     \n",
       "\n",
       "other attached packages:\n",
       "[1] REBayes_1.3   Matrix_1.2-12\n",
       "\n",
       "loaded via a namespace (and not attached):\n",
       "[1] compiler_3.4.3  Rmosek_8.0.69   grid_3.4.3      lattice_0.20-35\n"
      ]
     },
     "execution_count": 13,
     "metadata": {},
     "output_type": "execute_result"
    }
   ],
   "source": [
    "R\"sessionInfo()\""
   ]
  }
 ],
 "metadata": {
  "kernelspec": {
   "display_name": "Julia 0.6.2",
   "language": "julia",
   "name": "julia-0.6"
  },
  "language_info": {
   "file_extension": ".jl",
   "mimetype": "application/julia",
   "name": "julia",
   "version": "0.6.2"
  }
 },
 "nbformat": 4,
 "nbformat_minor": 2
}
