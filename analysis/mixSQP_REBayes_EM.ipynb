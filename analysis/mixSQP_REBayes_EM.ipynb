{
 "cells": [
  {
   "cell_type": "markdown",
   "metadata": {},
   "source": [
    "Comparing optimization time and accuracy of solutions for running REBayes, EM and mixSQP algorithms. "
   ]
  },
  {
   "cell_type": "code",
   "execution_count": 1,
   "metadata": {},
   "outputs": [
    {
     "name": "stderr",
     "output_type": "stream",
     "text": [
      "WARNING: Method definition ==(Base.Nullable{S}, Base.Nullable{T}) in module Base at nullable.jl:238 overwritten in module NullableArrays at /Users/yosikim/.julia/v0.6/NullableArrays/src/operators.jl:99.\n",
      "WARNING: Method definition promote_rule(Type{T}, Type{Any}) in module Missings at /Users/yosikim/.julia/v0.6/Missings/src/Missings.jl:52 overwritten in module Nulls at /Users/yosikim/.julia/v0.6/Nulls/src/Nulls.jl:29.\n"
     ]
    }
   ],
   "source": [
    "using RCall # use R in Julia and thus in this jupyter notebook\n",
    "using CSV # save/load txt files\n",
    "using LowRankApprox # randomized low-rank approximation"
   ]
  },
  {
   "cell_type": "code",
   "execution_count": 2,
   "metadata": {},
   "outputs": [],
   "source": [
    "L1 = Array{Float64,2}(CSV.read(\"../data/sample5000x20.txt\", nullable = false, header = false, delim = ' '));"
   ]
  },
  {
   "cell_type": "code",
   "execution_count": 3,
   "metadata": {},
   "outputs": [],
   "source": [
    "include(\"../code/julia/mixSQP_time.jl\")\n",
    "include(\"../code/julia/mixEM.jl\");\n",
    "include(\"../code/julia/REBayes.jl\");"
   ]
  },
  {
   "cell_type": "code",
   "execution_count": 4,
   "metadata": {},
   "outputs": [],
   "source": [
    "# mixSQP_time\n",
    "# L       :\n",
    "# eps     :\n",
    "# tol     :\n",
    "# pqrtol    :\n",
    "# sptol   :\n",
    "# lowrank :\n",
    "x = mixSQP_time(L1, eps=1e-8, tol=1e-8, pqrtol = 1e-10, sptol=1e-3, lowrank = \"svd\")[1];"
   ]
  },
  {
   "cell_type": "code",
   "execution_count": 20,
   "metadata": {},
   "outputs": [
    {
     "data": {
      "text/plain": [
       "2×3 Array{Any,2}:\n",
       "   \"mixEM\"   \"REbayes\"   \"mixSQP\"\n",
       " 16.998     0.091       0.0408473"
      ]
     },
     "execution_count": 20,
     "metadata": {},
     "output_type": "execute_result"
    }
   ],
   "source": [
    "# time comparison between mixEM, mixSQP and REBayes\n",
    "\n",
    "## mixEM;\n",
    "tic(); x_em = mixEM(L1)[1]; t_em = toq();\n",
    "\n",
    "x_rebayes,t_rebayes = REBayes(L1);\n",
    "\n",
    "tic(); x_mixsqp = mixSQP_time(L1)[1]; t_mixsqp = toq();\n",
    "\n",
    "# mixSQP ourperforms on this small dataset 5000x20\n",
    "[\"mixEM\" \"REbayes\" \"mixSQP\"; t_em t_rebayes t_mixsqp]"
   ]
  },
  {
   "cell_type": "code",
   "execution_count": 23,
   "metadata": {},
   "outputs": [
    {
     "data": {
      "text/plain": [
       "3-element Array{Float64,1}:\n",
       " 1.36085e-5\n",
       " 2.4869e-14\n",
       " 0.0       "
      ]
     },
     "execution_count": 23,
     "metadata": {},
     "output_type": "execute_result"
    }
   ],
   "source": [
    "minf = min.(eval_f(L1,x_em), eval_f(L1,x_rebayes),  eval_f(L1,x_mixsqp));\n",
    "[eval_f(L1,x_em), eval_f(L1,x_rebayes),  eval_f(L1,x_mixsqp)] - minf"
   ]
  },
  {
   "cell_type": "code",
   "execution_count": 6,
   "metadata": {},
   "outputs": [
    {
     "data": {
      "text/plain": [
       "20×3 Array{Float64,2}:\n",
       " 0.153501      0.469905  0.469905\n",
       " 0.118181      0.0       0.0     \n",
       " 0.0953305     0.0       0.0     \n",
       " 0.0644788     0.0       0.0     \n",
       " 0.0316927     0.0       0.0     \n",
       " 0.0087753     0.0       0.0     \n",
       " 0.000885194   0.0       0.0     \n",
       " 1.66476e-5    0.0       0.0     \n",
       " 2.77142e-8    0.0       0.0     \n",
       " 4.31917e-12   0.0       0.0     \n",
       " 1.64767e-15   0.0       0.0     \n",
       " 1.14012e-13   0.0       0.0     \n",
       " 0.300091      0.305865  0.305864\n",
       " 0.227048      0.22423   0.22423 \n",
       " 4.75833e-106  0.0       0.0     \n",
       " 2.47033e-323  0.0       0.0     \n",
       " 4.94066e-324  0.0       0.0     \n",
       " 4.94066e-324  0.0       0.0     \n",
       " 0.0           0.0       0.0     \n",
       " 0.0           0.0       0.0     "
      ]
     },
     "execution_count": 6,
     "metadata": {},
     "output_type": "execute_result"
    }
   ],
   "source": [
    "# EM does not converge until maxiter\n",
    "[x_em x_rebayes x_mixsqp]"
   ]
  },
  {
   "cell_type": "code",
   "execution_count": 7,
   "metadata": {},
   "outputs": [
    {
     "name": "stdout",
     "output_type": "stream",
     "text": [
      "l1 norm difference between solutions: 4.0214898031076807e-7\n",
      "relative difference between objective values: 5.2735593669694936e-14\n"
     ]
    }
   ],
   "source": [
    "# compare REBayes and mixsqp\n",
    "print(\"l1 norm difference between solutions: \"); println(norm(x_mixsqp - x_rebayes, 1))\n",
    "print(\"relative difference between objective values: \"); println(rel_error(L1,x_mixsqp,x_rebayes));"
   ]
  },
  {
   "cell_type": "code",
   "execution_count": 8,
   "metadata": {},
   "outputs": [
    {
     "data": {
      "text/plain": [
       "2×2 Array{Any,2}:\n",
       "  \"mixSQP\"    \"REbayes\"\n",
       " 0.28861    12.976     "
      ]
     },
     "execution_count": 8,
     "metadata": {},
     "output_type": "execute_result"
    }
   ],
   "source": [
    "# Let's try large dataset 100000x100\n",
    "# time comparison between mixSQP and REBayes\n",
    "# make a large data if it doesn't exist\n",
    "# include(\"../code/julia/makedata.jl\")\n",
    "\n",
    "L = Array{Float64,2}(CSV.read(\"../data/sample100000x100.txt\", nullable = false, header = false, delim = ' '));\n",
    "@rput L;\n",
    "R\"t_rebayes = system.time(res <- REBayes::KWDual(L, rep(1,dim(L)[2]), rep(1,dim(L)[1])/dim(L)[1]))[3];\n",
    "res$f[res$f < 1e-3] = 0\n",
    "x_rebayes = res$f / sum(res$f)\"\n",
    "@rget x_rebayes;\n",
    "@rget t_rebayes;\n",
    "\n",
    "# mixSQP ourperforms on this large dataset 100000x100\n",
    "tic(); x_mixsqp = mixSQP_time(L)[1]; t_mixsqp = toq();\n",
    "[\"mixSQP\" \"REbayes\"; t_mixsqp t_rebayes]"
   ]
  },
  {
   "cell_type": "code",
   "execution_count": 9,
   "metadata": {},
   "outputs": [
    {
     "name": "stdout",
     "output_type": "stream",
     "text": [
      "l1 norm difference between solutions: 2.6047920905769573e-6\n",
      "relative difference between objective values: 0.0\n"
     ]
    }
   ],
   "source": [
    "# solution almost conincides\n",
    "print(\"l1 norm difference between solutions: \"); println(norm(x_mixsqp - x_rebayes, 1))\n",
    "print(\"relative difference between objective values: \"); println(rel_error(L,x_mixsqp,x_rebayes));"
   ]
  },
  {
   "cell_type": "code",
   "execution_count": 10,
   "metadata": {},
   "outputs": [
    {
     "name": "stdout",
     "output_type": "stream",
     "text": [
      "  [1  ]  =  0.496888\n",
      "  [87 ]  =  0.0755944\n",
      "  [88 ]  =  0.427518"
     ]
    },
    {
     "data": {
      "text/plain": [
       "2×4 Array{Any,2}:\n",
       "  \"likelihood\"   \"lowrank\"   \"mixSQP\"   \"posterior\"\n",
       " 1.35093        0.351193    0.296403   0.406882    "
      ]
     },
     "execution_count": 10,
     "metadata": {},
     "output_type": "execute_result"
    }
   ],
   "source": [
    "# let's run Adaptive Shinkage for the comparison.\n",
    "include(\"../code/julia/ash.jl\")\n",
    "srand(1);\n",
    "z = [randn(50000);3*randn(50000)];\n",
    "s = ones(100000);\n",
    "out = ash(z,s, mult = 1.04);\n",
    "\n",
    "# solution is sparse\n",
    "x = sparse(out[4]); print(x)\n",
    "\n",
    "# computation time\n",
    "[\"likelihood\" \"lowrank\" \"mixSQP\" \"posterior\"; out[5]']"
   ]
  },
  {
   "cell_type": "code",
   "execution_count": 11,
   "metadata": {},
   "outputs": [
    {
     "data": {
      "text/html": [
       "53.407"
      ],
      "text/plain": [
       "53.407"
      ]
     },
     "execution_count": 11,
     "metadata": {},
     "output_type": "execute_result"
    }
   ],
   "source": [
    "# :::Warning:::\n",
    "# Perhaps you don't want to run this: it's much slower.\n",
    "# current \"ashr\" package in R\n",
    "L = out[3];\n",
    "@rput z; @rput s;\n",
    "R\"t_ash = system.time(res <- ashr::ash(z,s, mixcompdist = 'normal', prior = 'uniform', gridmult = 1.04) )[3]\"\n",
    "@rget t_ash\n",
    "R\"x_ash = res$fitted_g$pi\"\n",
    "@rget x_ash\n",
    "t_ash"
   ]
  },
  {
   "cell_type": "code",
   "execution_count": 12,
   "metadata": {},
   "outputs": [
    {
     "name": "stdout",
     "output_type": "stream",
     "text": [
      "l1 norm difference between solutions: 4.191711227991043e-6\n",
      "relative difference between objective values: 2.000435372906395e-10\n"
     ]
    }
   ],
   "source": [
    "# solution almost conincides\n",
    "print(\"l1 norm difference between solutions: \"); println(norm(x - x_ash, 1))\n",
    "print(\"relative difference between objective values: \"); println(rel_error(L,x,x_ash));"
   ]
  },
  {
   "cell_type": "markdown",
   "metadata": {},
   "source": [
    "## Session information\n",
    "\n",
    "The section gives information about the computing environment used to generate the results contained in this\n",
    "manuscript, including the version of Julia, Python and the Julia packages. "
   ]
  },
  {
   "cell_type": "code",
   "execution_count": 13,
   "metadata": {},
   "outputs": [
    {
     "data": {
      "text/plain": [
       "RCall.RObject{RCall.VecSxp}\n",
       "R version 3.4.3 (2017-11-30)\n",
       "Platform: x86_64-apple-darwin15.6.0 (64-bit)\n",
       "Running under: macOS High Sierra 10.13.3\n",
       "\n",
       "Matrix products: default\n",
       "BLAS: /System/Library/Frameworks/Accelerate.framework/Versions/A/Frameworks/vecLib.framework/Versions/A/libBLAS.dylib\n",
       "LAPACK: /Library/Frameworks/R.framework/Versions/3.4/Resources/lib/libRlapack.dylib\n",
       "\n",
       "locale:\n",
       "[1] en_US.UTF-8/en_US.UTF-8/en_US.UTF-8/C/en_US.UTF-8/en_US.UTF-8\n",
       "\n",
       "attached base packages:\n",
       "[1] stats     graphics  grDevices utils     datasets  methods   base     \n",
       "\n",
       "other attached packages:\n",
       "[1] REBayes_1.3   Matrix_1.2-12\n",
       "\n",
       "loaded via a namespace (and not attached):\n",
       " [1] Rcpp_0.12.15      lattice_0.20-35   codetools_0.2-15  Rmosek_8.0.69    \n",
       " [5] foreach_1.4.4     assertthat_0.2.0  truncnorm_1.0-8   MASS_7.3-48      \n",
       " [9] grid_3.4.3        pscl_1.5.2        doParallel_1.0.11 iterators_1.0.9  \n",
       "[13] parallel_3.4.3    compiler_3.4.3    ashr_2.2-6        SQUAREM_2017.10-1\n"
      ]
     },
     "execution_count": 13,
     "metadata": {},
     "output_type": "execute_result"
    }
   ],
   "source": [
    "# R library/system information\n",
    "R\"sessionInfo()\""
   ]
  },
  {
   "cell_type": "code",
   "execution_count": 14,
   "metadata": {},
   "outputs": [
    {
     "name": "stdout",
     "output_type": "stream",
     "text": [
      " - RCall                         0.8.1\n",
      " - CSV                           0.1.5\n",
      " - LowRankApprox                 0.1.0\n"
     ]
    }
   ],
   "source": [
    "Pkg.status(\"RCall\")\n",
    "Pkg.status(\"CSV\")\n",
    "Pkg.status(\"LowRankApprox\")"
   ]
  },
  {
   "cell_type": "code",
   "execution_count": 15,
   "metadata": {},
   "outputs": [
    {
     "name": "stdout",
     "output_type": "stream",
     "text": [
      "Julia Version 0.6.2\n",
      "Commit d386e40c17 (2017-12-13 18:08 UTC)\n",
      "Platform Info:\n",
      "  OS: macOS (x86_64-apple-darwin14.5.0)\n",
      "  CPU: Intel(R) Core(TM) i7-7567U CPU @ 3.50GHz\n",
      "  WORD_SIZE: 64\n",
      "  BLAS: libopenblas (USE64BITINT DYNAMIC_ARCH NO_AFFINITY Prescott)\n",
      "  LAPACK: libopenblas64_\n",
      "  LIBM: libopenlibm\n",
      "  LLVM: libLLVM-3.9.1 (ORCJIT, broadwell)\n"
     ]
    }
   ],
   "source": [
    "versioninfo()"
   ]
  }
 ],
 "metadata": {
  "kernelspec": {
   "display_name": "Julia 0.6.2",
   "language": "julia",
   "name": "julia-0.6"
  },
  "language_info": {
   "file_extension": ".jl",
   "mimetype": "application/julia",
   "name": "julia",
   "version": "0.6.2"
  }
 },
 "nbformat": 4,
 "nbformat_minor": 2
}
