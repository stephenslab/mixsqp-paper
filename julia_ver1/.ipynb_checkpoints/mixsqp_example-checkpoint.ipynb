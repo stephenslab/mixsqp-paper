{
 "cells": [
  {
   "cell_type": "markdown",
   "metadata": {},
   "source": [
    "# Illustration of mix-SQP solver applied to a small data set, and a large one\n",
    "\n",
    "## Analysis setup\n",
    "\n",
    "*Before attempting to run this Julia code, make sure your computer is properly set up to run this code by following the setup instructions in the README of the [git repository](https://github.com/stephenslab/mixsqp-paper).*\n",
    "\n",
    "We begin by loading the Distributions and LowRankApprox Julia packages, as well as some function definitions used in the code chunks below."
   ]
  },
  {
   "cell_type": "code",
   "execution_count": 1,
   "metadata": {},
   "outputs": [],
   "source": [
    "using Distributions\n",
    "using LowRankApprox\n",
    "using RCall\n",
    "using Random\n",
    "using Printf\n",
    "using LinearAlgebra\n",
    "using SparseArrays\n",
    "include(\"datasim.jl\");\n",
    "include(\"likelihood.jl\");\n",
    "include(\"mixEM.jl\");\n",
    "include(\"mixsqp_julia_v1.jl\");\n",
    "include(\"REBayes.jl\");"
   ]
  },
  {
   "cell_type": "markdown",
   "metadata": {},
   "source": [
    "Next, initialize the sequence of pseudorandom numbers."
   ]
  },
  {
   "cell_type": "code",
   "execution_count": 2,
   "metadata": {},
   "outputs": [],
   "source": [
    "Random.seed!(0);"
   ]
  },
  {
   "cell_type": "markdown",
   "metadata": {},
   "source": [
    "## Generate a small data set\n",
    "\n",
    "Let's start with a smaller example with 50,000 samples."
   ]
  },
  {
   "cell_type": "code",
   "execution_count": 3,
   "metadata": {},
   "outputs": [],
   "source": [
    "z = normtmixdatasim(round(Int,5e4));"
   ]
  },
  {
   "cell_type": "markdown",
   "metadata": {},
   "source": [
    "## Compute the likelihood matrix\n",
    "\n",
    "Compute the $n \\times k$ likelihood matrix for a mixture of zero-centered normals, with $k = 20$. Note that the rows of the likelihood matrix are normalized by default."
   ]
  },
  {
   "cell_type": "code",
   "execution_count": 4,
   "metadata": {},
   "outputs": [
    {
     "data": {
      "text/plain": [
       "(50000, 20)"
      ]
     },
     "execution_count": 4,
     "metadata": {},
     "output_type": "execute_result"
    }
   ],
   "source": [
    "sd = autoselectmixsd(z,nv = 20);\n",
    "L  = normlikmatrix(z,sd = sd);\n",
    "size(L)"
   ]
  },
  {
   "cell_type": "markdown",
   "metadata": {},
   "source": [
    "## Fit mixture model using SQP algorithm \n",
    "\n",
    "First we run the mix-SQP algorithm once to precompile the function."
   ]
  },
  {
   "cell_type": "code",
   "execution_count": 5,
   "metadata": {},
   "outputs": [],
   "source": [
    "out = mixsqp(L,verbose = false);"
   ]
  },
  {
   "cell_type": "markdown",
   "metadata": {},
   "source": [
    "Observe that only a small number of iterations is needed to converge to the solution of the constrained optimization problem."
   ]
  },
  {
   "cell_type": "code",
   "execution_count": 6,
   "metadata": {},
   "outputs": [
    {
     "name": "stdout",
     "output_type": "stream",
     "text": [
      "Running SQP algorithm with the following settings:\n",
      "- 50000 x 20 data matrix\n",
      "- convergence tolerance = 1.00e-08\n",
      "- zero threshold        = 1.00e-03\n",
      "- partial SVD tolerance  = 1.00e-08\n",
      "- partial SVD max. error = 5.98e-07\n",
      "iter      objective -min(g+1)  #nz #qp #ls\n",
      "   1 2.62702453e+04 +4.98e-01   20\n",
      "   2 1.92707133e+04 +9.47e+02    2  32   1\n",
      "   3 1.23597568e+04 +3.35e+02    2  63   1\n",
      "   4 1.10588873e+04 +1.47e+02    2  31   1\n",
      "   5 1.07833333e+04 +6.98e+01    3  27   1\n",
      "   6 1.05447236e+04 +3.37e+01    3  19   1\n",
      "   7 1.03970757e+04 +1.69e+01    3  10   1\n",
      "   8 1.01967794e+04 +8.31e+00    3  15   1\n",
      "   9 1.00767996e+04 +4.23e+00    3   4   1\n",
      "  10 9.98533249e+03 +2.02e+00    3   9   1\n",
      "  11 9.87534018e+03 +9.37e-01    3  16   1\n",
      "  12 9.83686386e+03 +3.93e-01    3   7   1\n",
      "  13 9.81375860e+03 +1.18e-01    4   9   1\n",
      "  14 9.80470988e+03 +2.87e-02    4   4   1\n",
      "  15 9.80158446e+03 +1.32e-03    4   2   1\n",
      "  16 9.80122388e+03 -3.17e-07    4   2   1\n",
      "Optimization took 16 iterations and 0.3092 seconds.\n"
     ]
    }
   ],
   "source": [
    "k   = size(L,2);\n",
    "x0  = ones(k)/k;\n",
    "out = mixsqp(L,x = x0);"
   ]
  },
  {
   "cell_type": "markdown",
   "metadata": {},
   "source": [
    "## Generate a larger data set\n",
    "\n",
    "Next, let's see what happens when we use the SQP algorithm to fit a mixture model to a much larger data set."
   ]
  },
  {
   "cell_type": "code",
   "execution_count": 7,
   "metadata": {},
   "outputs": [],
   "source": [
    "Random.seed!(1);\n",
    "z = normtmixdatasim(round(Int,1e5));"
   ]
  },
  {
   "cell_type": "markdown",
   "metadata": {},
   "source": [
    "## Compute the likelihood matrix\n",
    "\n",
    "As before, we compute the $n \\times k$ likelihood matrix for a mixture of zero-centered normals. This time, we use a finer grid of $k = 40$ normal densities."
   ]
  },
  {
   "cell_type": "code",
   "execution_count": 8,
   "metadata": {},
   "outputs": [
    {
     "data": {
      "text/plain": [
       "(100000, 40)"
      ]
     },
     "execution_count": 8,
     "metadata": {},
     "output_type": "execute_result"
    }
   ],
   "source": [
    "sd = autoselectmixsd(z,nv = 40);\n",
    "L  = normlikmatrix(z,sd = sd);\n",
    "size(L)"
   ]
  },
  {
   "cell_type": "markdown",
   "metadata": {},
   "source": [
    "## Fit mixture model using SQP algorithm \n",
    "\n",
    "Even on this much larger data set, only a small number of iterations is needed to compute the solution."
   ]
  },
  {
   "cell_type": "code",
   "execution_count": 9,
   "metadata": {},
   "outputs": [
    {
     "name": "stdout",
     "output_type": "stream",
     "text": [
      "Running SQP algorithm with the following settings:\n",
      "- 100000 x 40 data matrix\n",
      "- convergence tolerance = 1.00e-08\n",
      "- zero threshold        = 1.00e-03\n",
      "- partial SVD tolerance  = 1.00e-08\n",
      "- partial SVD max. error = 1.35e-06\n",
      "iter      objective -min(g+1)  #nz #qp #ls\n",
      "   1 6.21692352e+04 +6.60e-01   40\n",
      "   2 4.28411526e+04 +1.06e+03    2  55   1\n",
      "   3 2.56096309e+04 +3.69e+02    3 100   1\n",
      "   4 2.18424879e+04 +1.61e+02    2  52   1\n",
      "   5 2.12479175e+04 +7.52e+01    2  40   1\n",
      "   6 2.08873601e+04 +3.64e+01    2  37   1\n",
      "   7 2.05703467e+04 +1.80e+01    3  29   1\n",
      "   8 2.02435366e+04 +8.95e+00    3  30   1\n",
      "   9 1.99723675e+04 +4.38e+00    3  25   1\n",
      "  10 1.97676896e+04 +2.08e+00    3  15   1\n",
      "  11 1.96306393e+04 +9.38e-01    3  12   1\n",
      "  12 1.95365433e+04 +4.04e-01    4  22   1\n",
      "  13 1.94905417e+04 +1.44e-01    5  31   1\n",
      "  14 1.94697537e+04 +3.98e-02    5  39   1\n",
      "  15 1.94618061e+04 +2.97e-03    4  13   1\n",
      "  16 1.94607553e+04 -3.12e-07    4  15   1\n",
      "Optimization took 16 iterations and 0.4986 seconds.\n"
     ]
    }
   ],
   "source": [
    "k   = size(L,2);\n",
    "x0  = ones(k)/k;\n",
    "out = mixsqp(L,x = x0);"
   ]
  },
  {
   "cell_type": "markdown",
   "metadata": {},
   "source": [
    "With no low-rank approximation (`lowrank = \"none\"`), the algorithm still converges even when using a very small correction factor `eps = 1e-12`."
   ]
  },
  {
   "cell_type": "code",
   "execution_count": 10,
   "metadata": {},
   "outputs": [
    {
     "name": "stdout",
     "output_type": "stream",
     "text": [
      "Running SQP algorithm with the following settings:\n",
      "- 100000 x 40 data matrix\n",
      "- convergence tolerance = 1.00e-08\n",
      "- zero threshold        = 1.00e-03\n",
      "- Exact derivative computation (partial QR not used).\n",
      "iter      objective -min(g+1)  #nz #qp #ls\n",
      "   1 6.21694226e+04 +6.60e-01   40\n",
      "   2 4.35976361e+04 +2.74e+08    2  52   1\n",
      "   3 2.63754248e+04 +9.42e+07    3  53   1\n",
      "   4 2.26716550e+04 +4.11e+07    3  33   1\n",
      "   5 2.22369707e+04 +1.93e+07    3  18   1\n",
      "   6 2.20822494e+04 +9.86e+06    3  10   1\n",
      "   7 2.17850757e+04 +4.96e+06    3  43   1\n",
      "   8 2.15686850e+04 +2.48e+06    2  11   1\n",
      "   9 2.13181590e+04 +1.28e+06    3  39   1\n",
      "  10 2.11397369e+04 +6.40e+05    2  11   1\n",
      "  11 2.08812795e+04 +3.39e+05    3  39   1\n",
      "  12 2.07941249e+04 +1.75e+05    3  10   1\n",
      "  13 2.04915356e+04 +8.97e+04    3  37   1\n",
      "  14 2.03990501e+04 +4.57e+04    3  10   1\n",
      "  15 2.01797507e+04 +2.27e+04    3  16   1\n",
      "  16 2.00663424e+04 +1.17e+04    3  10   1\n",
      "  17 2.00068966e+04 +5.91e+03    3  10   1\n",
      "  18 1.98269277e+04 +3.06e+03    3  31   1\n",
      "  19 1.97740158e+04 +1.56e+03    3  10   1\n",
      "  20 1.97130109e+04 +7.79e+02    3  10   1\n",
      "Optimization took 20 iterations and 1.2473 seconds.\n"
     ]
    }
   ],
   "source": [
    "out = mixsqp(L,x = x0,lowrank = \"none\",eps = 1e-12);"
   ]
  },
  {
   "cell_type": "markdown",
   "metadata": {},
   "source": [
    "## Session information\n",
    "\n",
    "The section gives information about the computing environment used to generate the results contained in this\n",
    "notebook, including the version of Julia, and the versions of the Julia packages used here. "
   ]
  },
  {
   "cell_type": "code",
   "execution_count": 11,
   "metadata": {},
   "outputs": [
    {
     "name": "stdout",
     "output_type": "stream",
     "text": [
      "\u001b[32m\u001b[1m    Status\u001b[22m\u001b[39m `~/.julia/environments/v1.0/Project.toml`\n",
      " \u001b[90m [7d9fca2a]\u001b[39m\u001b[37m Arpack v0.3.0\u001b[39m\n",
      " \u001b[90m [336ed68f]\u001b[39m\u001b[37m CSV v0.4.3\u001b[39m\n",
      " \u001b[90m [159f3aea]\u001b[39m\u001b[37m Cairo v0.5.6\u001b[39m\n",
      " \u001b[90m [a81c6b42]\u001b[39m\u001b[37m Compose v0.7.1\u001b[39m\n",
      " \u001b[90m [f65535da]\u001b[39m\u001b[37m Convex v0.11.3\u001b[39m\n",
      " \u001b[90m [a93c6f00]\u001b[39m\u001b[37m DataFrames v0.14.1\u001b[39m\n",
      " \u001b[90m [31c24e10]\u001b[39m\u001b[37m Distributions v0.16.4\u001b[39m\n",
      " \u001b[90m [5789e2e9]\u001b[39m\u001b[37m FileIO v1.0.6\u001b[39m\n",
      " \u001b[90m [186bb1d3]\u001b[39m\u001b[37m Fontconfig v0.2.0\u001b[39m\n",
      " \u001b[90m [f6369f11]\u001b[39m\u001b[37m ForwardDiff v0.10.3\u001b[39m\n",
      " \u001b[90m [c91e804a]\u001b[39m\u001b[37m Gadfly v1.0.0\u001b[39m\n",
      " \u001b[90m [2e9cd046]\u001b[39m\u001b[37m Gurobi v0.5.5\u001b[39m\n",
      " \u001b[90m [7073ff75]\u001b[39m\u001b[37m IJulia v1.14.1\u001b[39m\n",
      " \u001b[90m [916415d5]\u001b[39m\u001b[37m Images v0.18.0\u001b[39m\n",
      " \u001b[90m [b6b21f68]\u001b[39m\u001b[37m Ipopt v0.4.3\u001b[39m\n",
      " \u001b[90m [4076af6c]\u001b[39m\u001b[37m JuMP v0.18.4\u001b[39m\n",
      " \u001b[90m [67920dd8]\u001b[39m\u001b[37m KNITRO v0.5.2\u001b[39m\n",
      " \u001b[90m [093fc24a]\u001b[39m\u001b[37m LightGraphs v1.2.0\u001b[39m\n",
      " \u001b[90m [898213cb]\u001b[39m\u001b[37m LowRankApprox v0.2.1\u001b[39m\n",
      " \u001b[90m [e1d29d7a]\u001b[39m\u001b[37m Missings v0.4.0\u001b[39m\n",
      " \u001b[90m [6405355b]\u001b[39m\u001b[37m Mosek v0.9.11\u001b[39m\n",
      " \u001b[90m [9b87118b]\u001b[39m\u001b[37m PackageCompiler v0.5.1\u001b[39m\n",
      " \u001b[90m [2dcacdae]\u001b[39m\u001b[37m ParallelDataTransfer v0.5.0\u001b[39m\n",
      " \u001b[90m [91a5bcdd]\u001b[39m\u001b[37m Plots v0.21.0\u001b[39m\n",
      " \u001b[90m [d330b81b]\u001b[39m\u001b[37m PyPlot v2.6.3\u001b[39m\n",
      " \u001b[90m [dca85d43]\u001b[39m\u001b[37m QuartzImageIO v0.6.0\u001b[39m\n",
      " \u001b[90m [6f49c342]\u001b[39m\u001b[37m RCall v0.13.0\u001b[39m\n",
      " \u001b[90m [ce6b1742]\u001b[39m\u001b[37m RDatasets v0.6.1\u001b[39m\n",
      " \u001b[90m [f2b01f46]\u001b[39m\u001b[37m Roots v0.7.3\u001b[39m\n",
      " \u001b[90m [276daf66]\u001b[39m\u001b[37m SpecialFunctions v0.7.2\u001b[39m\n",
      " \u001b[90m [2913bbd2]\u001b[39m\u001b[37m StatsBase v0.26.0\u001b[39m\n",
      " \u001b[90m [4c63d2b9]\u001b[39m\u001b[37m StatsFuns v0.7.1\u001b[39m\n",
      " \u001b[90m [b8865327]\u001b[39m\u001b[37m UnicodePlots v0.3.1\u001b[39m\n",
      " \u001b[90m [009559a3]\u001b[39m\u001b[37m XGBoost v0.3.1\u001b[39m\n",
      "Julia Version 1.0.2\n",
      "Commit d789231e99 (2018-11-08 20:11 UTC)\n",
      "Platform Info:\n",
      "  OS: macOS (x86_64-apple-darwin14.5.0)\n",
      "  CPU: Intel(R) Core(TM) i7-6700HQ CPU @ 2.60GHz\n",
      "  WORD_SIZE: 64\n",
      "  LIBM: libopenlibm\n",
      "  LLVM: libLLVM-6.0.0 (ORCJIT, skylake)\n"
     ]
    }
   ],
   "source": [
    "using Pkg\n",
    "Pkg.status();\n",
    "versioninfo();"
   ]
  }
 ],
 "metadata": {
  "kernelspec": {
   "display_name": "Julia 1.0.2",
   "language": "julia",
   "name": "julia-1.0"
  },
  "language_info": {
   "file_extension": ".jl",
   "mimetype": "application/julia",
   "name": "julia",
   "version": "1.0.2"
  }
 },
 "nbformat": 4,
 "nbformat_minor": 2
}
