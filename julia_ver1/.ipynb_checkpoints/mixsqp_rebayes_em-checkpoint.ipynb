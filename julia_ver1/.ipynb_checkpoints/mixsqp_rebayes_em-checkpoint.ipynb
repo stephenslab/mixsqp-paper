{
 "cells": [
  {
   "cell_type": "markdown",
   "metadata": {},
   "source": [
    "# Comparing performance and accuracy of EM, IP and mix-SQP algorithms\n",
    "\n",
    "In this example, we compare the runtime and accuracy of the EM algorithm, the mix-SQP algorithm, and the interior-point method implemented by the MOSEK commercial solver (and called via the `KWDual` function in the R package `REBayes`).\n",
    "\n",
    "## Analysis setup\n",
    "\n",
    "*Before attempting to run this Julia code, make sure your computer is properly set up to run this code by following the setup instructions in the README of the [git repository](https://github.com/stephenslab/mixsqp-paper).*\n",
    "\n",
    "We begin by loading the Distributions, LowRankApprox and RCall Julia packages, as well as some function definitions used in the code chunks below."
   ]
  },
  {
   "cell_type": "code",
   "execution_count": 1,
   "metadata": {},
   "outputs": [],
   "source": [
    "using Distributions\n",
    "using LowRankApprox\n",
    "using RCall\n",
    "using Random\n",
    "using Printf\n",
    "using LinearAlgebra\n",
    "using SparseArrays\n",
    "include(\"datasim.jl\");\n",
    "include(\"likelihood.jl\");\n",
    "include(\"mixEM.jl\");\n",
    "include(\"mixsqp_julia_v1.jl\");\n",
    "include(\"REBayes.jl\");"
   ]
  },
  {
   "cell_type": "markdown",
   "metadata": {},
   "source": [
    "Next, initialize the sequence of pseudorandom numbers."
   ]
  },
  {
   "cell_type": "code",
   "execution_count": 2,
   "metadata": {},
   "outputs": [],
   "source": [
    "Random.seed!(2019);"
   ]
  },
  {
   "cell_type": "markdown",
   "metadata": {},
   "source": [
    "## Generate a small data set\n",
    "\n",
    "Let's begin with a smaller example with 50,000 samples."
   ]
  },
  {
   "cell_type": "code",
   "execution_count": 3,
   "metadata": {},
   "outputs": [],
   "source": [
    "z = normtmixdatasim(round(Int,5e4));"
   ]
  },
  {
   "cell_type": "markdown",
   "metadata": {},
   "source": [
    "## Compute the likelihood matrix\n",
    "\n",
    "Compute the $n \\times k$ likelihood matrix for a mixture of zero-centered normals, with $k = 20$. Note that the rows of the likelihood matrix are normalized by default."
   ]
  },
  {
   "cell_type": "code",
   "execution_count": 4,
   "metadata": {},
   "outputs": [
    {
     "data": {
      "text/plain": [
       "(50000, 20)"
      ]
     },
     "execution_count": 4,
     "metadata": {},
     "output_type": "execute_result"
    }
   ],
   "source": [
    "sd = autoselectmixsd(z,nv = 20);\n",
    "L  = normlikmatrix(z,sd = sd);\n",
    "size(L)"
   ]
  },
  {
   "cell_type": "markdown",
   "metadata": {},
   "source": [
    "## Fit mixture model \n",
    "\n",
    "First we run each of the optimization algorithms once to precompile the relevant functions."
   ]
  },
  {
   "cell_type": "code",
   "execution_count": 5,
   "metadata": {},
   "outputs": [
    {
     "name": "stderr",
     "output_type": "stream",
     "text": [
      "┌ Warning: RCall.jl: Loading required package: Matrix\n",
      "└ @ RCall /Users/yosikim/.julia/packages/RCall/RPlFw/src/io.jl:110\n"
     ]
    }
   ],
   "source": [
    "outem  = mixEM(L,maxiter = 100);\n",
    "outip  = REBayes(L);\n",
    "outsqp = mixsqp(L,verbose = false);"
   ]
  },
  {
   "cell_type": "markdown",
   "metadata": {},
   "source": [
    "Next, let's fit the model using the three algorithms. "
   ]
  },
  {
   "cell_type": "code",
   "execution_count": 6,
   "metadata": {},
   "outputs": [
    {
     "name": "stdout",
     "output_type": "stream",
     "text": [
      "  5.592359 seconds (33.17 k allocations: 9.373 GiB, 21.34% gc time)\n",
      "  1.468151 seconds (3.52 k allocations: 194.456 KiB)\n",
      "  0.247536 seconds (119.37 k allocations: 187.969 MiB, 11.78% gc time)\n"
     ]
    }
   ],
   "source": [
    "@time xem, tem = mixEM(L,tol = 1e-4,maxiter = 1000);\n",
    "@time xip, tip = REBayes(L);\n",
    "@time outsqp   = mixsqp(L,verbose = false);"
   ]
  },
  {
   "cell_type": "markdown",
   "metadata": {},
   "source": [
    "The mix-SQP algorithm algorithm is much faster than the other two methods, with the EM being the slowest. \n",
    "\n",
    "Further, the quality of the IP and SQP solutions is very similar, whereas the EM solution is much worse: "
   ]
  },
  {
   "cell_type": "code",
   "execution_count": 7,
   "metadata": {},
   "outputs": [
    {
     "name": "stdout",
     "output_type": "stream",
     "text": [
      "Difference between EM and best solutions:  1.24e+01\n",
      "Difference between IP and best solutions:  1.21e-03\n",
      "Difference between SQP and best solutions: 0.00e+00\n"
     ]
    }
   ],
   "source": [
    "fem  = mixobjective(L,xem);\n",
    "fip  = mixobjective(L,xip);\n",
    "fsqp = mixobjective(L,outsqp[\"x\"]);\n",
    "fbest = minimum([fem fip fsqp]);\n",
    "@printf \"Difference between EM and best solutions:  %0.2e\\n\" fem - fbest\n",
    "@printf \"Difference between IP and best solutions:  %0.2e\\n\" fip - fbest\n",
    "@printf \"Difference between SQP and best solutions: %0.2e\\n\" fsqp - fbest"
   ]
  },
  {
   "cell_type": "markdown",
   "metadata": {},
   "source": [
    "## Comparison using a larger data set\n",
    "\n",
    "Next, let's see what happens when we apply these three algorithms to a larger data set."
   ]
  },
  {
   "cell_type": "code",
   "execution_count": 8,
   "metadata": {},
   "outputs": [],
   "source": [
    "Random.seed!(2020);\n",
    "z = normtmixdatasim(round(Int,1e5));"
   ]
  },
  {
   "cell_type": "markdown",
   "metadata": {},
   "source": [
    "As before, we compute the $n \\times k$ likelihood matrix for a mixture of zero-centered normals. This time, we use a finer grid of $k = 100$ normal densities."
   ]
  },
  {
   "cell_type": "code",
   "execution_count": 9,
   "metadata": {},
   "outputs": [
    {
     "data": {
      "text/plain": [
       "(100000, 100)"
      ]
     },
     "execution_count": 9,
     "metadata": {},
     "output_type": "execute_result"
    }
   ],
   "source": [
    "sd = autoselectmixsd(z,nv = 100);\n",
    "L  = normlikmatrix(z,sd = sd);\n",
    "size(L)"
   ]
  },
  {
   "cell_type": "markdown",
   "metadata": {},
   "source": [
    "Now we fit the model using the three approaches. "
   ]
  },
  {
   "cell_type": "code",
   "execution_count": 10,
   "metadata": {},
   "outputs": [
    {
     "name": "stdout",
     "output_type": "stream",
     "text": [
      " 11.673978 seconds (2.48 k allocations: 11.327 GiB, 43.70% gc time)\n",
      " 15.799090 seconds (265 allocations: 13.109 KiB)\n",
      "  0.885132 seconds (680.13 k allocations: 469.331 MiB, 23.21% gc time)\n"
     ]
    }
   ],
   "source": [
    "@time xem, tem = mixEM(L,tol = 1e-4,maxiter = 1000);\n",
    "@time xip, tip = REBayes(L);\n",
    "@time outsqp   = mixsqp(L,verbose = false);"
   ]
  },
  {
   "cell_type": "markdown",
   "metadata": {},
   "source": [
    "In this example, the mix-SQP algorithm reaches a solution much faster than the both EM and IP approaches. \n",
    "\n",
    "As before, the quality of the IP and SQP solutions is similar, whereas the EM solution is much worse."
   ]
  },
  {
   "cell_type": "code",
   "execution_count": 11,
   "metadata": {},
   "outputs": [
    {
     "name": "stdout",
     "output_type": "stream",
     "text": [
      "Difference between EM and best solutions:  1.15e+02\n",
      "Difference between IP and best solutions:  4.47e-03\n",
      "Difference between SQP and best solutions: 0.00e+00\n"
     ]
    }
   ],
   "source": [
    "fem  = mixobjective(L,xem);\n",
    "fip  = mixobjective(L,xip);\n",
    "fsqp = mixobjective(L,outsqp[\"x\"]);\n",
    "fbest = minimum([fem fip fsqp]);\n",
    "@printf \"Difference between EM and best solutions:  %0.2e\\n\" fem - fbest\n",
    "@printf \"Difference between IP and best solutions:  %0.2e\\n\" fip - fbest\n",
    "@printf \"Difference between SQP and best solutions: %0.2e\\n\" fsqp - fbest"
   ]
  },
  {
   "cell_type": "markdown",
   "metadata": {},
   "source": [
    "## Session information\n",
    "\n",
    "The section gives information about the computing environment used to generate the results contained in this\n",
    "notebook, including the version of Julia, R and the packages used. "
   ]
  },
  {
   "cell_type": "code",
   "execution_count": 14,
   "metadata": {},
   "outputs": [
    {
     "name": "stdout",
     "output_type": "stream",
     "text": [
      "\u001b[32m\u001b[1m    Status\u001b[22m\u001b[39m `~/.julia/environments/v1.0/Project.toml`\n",
      " \u001b[90m [7d9fca2a]\u001b[39m\u001b[37m Arpack v0.3.0\u001b[39m\n",
      " \u001b[90m [336ed68f]\u001b[39m\u001b[37m CSV v0.4.3\u001b[39m\n",
      " \u001b[90m [159f3aea]\u001b[39m\u001b[37m Cairo v0.5.6\u001b[39m\n",
      " \u001b[90m [a81c6b42]\u001b[39m\u001b[37m Compose v0.7.1\u001b[39m\n",
      " \u001b[90m [f65535da]\u001b[39m\u001b[37m Convex v0.11.3\u001b[39m\n",
      " \u001b[90m [a93c6f00]\u001b[39m\u001b[37m DataFrames v0.14.1\u001b[39m\n",
      " \u001b[90m [31c24e10]\u001b[39m\u001b[37m Distributions v0.16.4\u001b[39m\n",
      " \u001b[90m [5789e2e9]\u001b[39m\u001b[37m FileIO v1.0.6\u001b[39m\n",
      " \u001b[90m [186bb1d3]\u001b[39m\u001b[37m Fontconfig v0.2.0\u001b[39m\n",
      " \u001b[90m [f6369f11]\u001b[39m\u001b[37m ForwardDiff v0.10.3\u001b[39m\n",
      " \u001b[90m [c91e804a]\u001b[39m\u001b[37m Gadfly v1.0.0\u001b[39m\n",
      " \u001b[90m [2e9cd046]\u001b[39m\u001b[37m Gurobi v0.5.5\u001b[39m\n",
      " \u001b[90m [7073ff75]\u001b[39m\u001b[37m IJulia v1.14.1\u001b[39m\n",
      " \u001b[90m [916415d5]\u001b[39m\u001b[37m Images v0.18.0\u001b[39m\n",
      " \u001b[90m [b6b21f68]\u001b[39m\u001b[37m Ipopt v0.4.3\u001b[39m\n",
      " \u001b[90m [4076af6c]\u001b[39m\u001b[37m JuMP v0.18.4\u001b[39m\n",
      " \u001b[90m [67920dd8]\u001b[39m\u001b[37m KNITRO v0.5.2\u001b[39m\n",
      " \u001b[90m [093fc24a]\u001b[39m\u001b[37m LightGraphs v1.2.0\u001b[39m\n",
      " \u001b[90m [898213cb]\u001b[39m\u001b[37m LowRankApprox v0.2.1\u001b[39m\n",
      " \u001b[90m [e1d29d7a]\u001b[39m\u001b[37m Missings v0.4.0\u001b[39m\n",
      " \u001b[90m [6405355b]\u001b[39m\u001b[37m Mosek v0.9.11\u001b[39m\n",
      " \u001b[90m [9b87118b]\u001b[39m\u001b[37m PackageCompiler v0.5.1\u001b[39m\n",
      " \u001b[90m [2dcacdae]\u001b[39m\u001b[37m ParallelDataTransfer v0.5.0\u001b[39m\n",
      " \u001b[90m [91a5bcdd]\u001b[39m\u001b[37m Plots v0.21.0\u001b[39m\n",
      " \u001b[90m [d330b81b]\u001b[39m\u001b[37m PyPlot v2.6.3\u001b[39m\n",
      " \u001b[90m [dca85d43]\u001b[39m\u001b[37m QuartzImageIO v0.6.0\u001b[39m\n",
      " \u001b[90m [6f49c342]\u001b[39m\u001b[37m RCall v0.13.0\u001b[39m\n",
      " \u001b[90m [ce6b1742]\u001b[39m\u001b[37m RDatasets v0.6.1\u001b[39m\n",
      " \u001b[90m [f2b01f46]\u001b[39m\u001b[37m Roots v0.7.3\u001b[39m\n",
      " \u001b[90m [276daf66]\u001b[39m\u001b[37m SpecialFunctions v0.7.2\u001b[39m\n",
      " \u001b[90m [2913bbd2]\u001b[39m\u001b[37m StatsBase v0.26.0\u001b[39m\n",
      " \u001b[90m [4c63d2b9]\u001b[39m\u001b[37m StatsFuns v0.7.1\u001b[39m\n",
      " \u001b[90m [b8865327]\u001b[39m\u001b[37m UnicodePlots v0.3.1\u001b[39m\n",
      " \u001b[90m [009559a3]\u001b[39m\u001b[37m XGBoost v0.3.1\u001b[39m\n",
      "Julia Version 1.0.2\n",
      "Commit d789231e99 (2018-11-08 20:11 UTC)\n",
      "Platform Info:\n",
      "  OS: macOS (x86_64-apple-darwin14.5.0)\n",
      "  CPU: Intel(R) Core(TM) i7-6700HQ CPU @ 2.60GHz\n",
      "  WORD_SIZE: 64\n",
      "  LIBM: libopenlibm\n",
      "  LLVM: libLLVM-6.0.0 (ORCJIT, skylake)\n"
     ]
    }
   ],
   "source": [
    "using Pkg\n",
    "Pkg.status()\n",
    "versioninfo()"
   ]
  },
  {
   "cell_type": "markdown",
   "metadata": {},
   "source": [
    "Since we called the `KWDual` function in R, it is also useful to record information about R."
   ]
  },
  {
   "cell_type": "code",
   "execution_count": 13,
   "metadata": {},
   "outputs": [
    {
     "data": {
      "text/plain": [
       "RObject{VecSxp}\n",
       "R version 3.5.3 (2019-03-11)\n",
       "Platform: x86_64-apple-darwin15.6.0 (64-bit)\n",
       "Running under: macOS High Sierra 10.13.3\n",
       "\n",
       "Matrix products: default\n",
       "BLAS: /System/Library/Frameworks/Accelerate.framework/Versions/A/Frameworks/vecLib.framework/Versions/A/libBLAS.dylib\n",
       "LAPACK: /Library/Frameworks/R.framework/Versions/3.5/Resources/lib/libRlapack.dylib\n",
       "\n",
       "locale:\n",
       "[1] en_US.UTF-8/en_US.UTF-8/en_US.UTF-8/C/en_US.UTF-8/en_US.UTF-8\n",
       "\n",
       "attached base packages:\n",
       "[1] stats     graphics  grDevices utils     datasets  methods   base     \n",
       "\n",
       "other attached packages:\n",
       "[1] REBayes_1.8   Matrix_1.2-17\n",
       "\n",
       "loaded via a namespace (and not attached):\n",
       "[1] compiler_3.5.3  Rmosek_8.0.69   grid_3.5.3      lattice_0.20-38\n"
      ]
     },
     "execution_count": 13,
     "metadata": {},
     "output_type": "execute_result"
    }
   ],
   "source": [
    "R\"sessionInfo()\""
   ]
  }
 ],
 "metadata": {
  "kernelspec": {
   "display_name": "Julia 1.0.2",
   "language": "julia",
   "name": "julia-1.0"
  },
  "language_info": {
   "file_extension": ".jl",
   "mimetype": "application/julia",
   "name": "julia",
   "version": "1.0.2"
  }
 },
 "nbformat": 4,
 "nbformat_minor": 2
}
