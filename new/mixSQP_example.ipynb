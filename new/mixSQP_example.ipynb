{
 "cells": [
  {
   "cell_type": "code",
   "execution_count": 1,
   "metadata": {},
   "outputs": [
    {
     "name": "stdout",
     "output_type": "stream",
     "text": [
      " - DataFrames                    0.10.1\n"
     ]
    }
   ],
   "source": [
    "using DataFrames # save/load txt file\n",
    "Pkg.status(\"DataFrames\")"
   ]
  },
  {
   "cell_type": "code",
   "execution_count": 36,
   "metadata": {},
   "outputs": [],
   "source": [
    "# make a large data\n",
    "include(\"code/makedata.jl\")"
   ]
  },
  {
   "cell_type": "code",
   "execution_count": 6,
   "metadata": {},
   "outputs": [],
   "source": [
    "L1 = Array{Float64,2}(readtable(\"data/sample5000x20.txt\", header = false, separator = ' '));\n",
    "L2 = Array{Float64,2}(readtable(\"data/sample100000x100.txt\", header = false, separator = ' '));"
   ]
  },
  {
   "cell_type": "code",
   "execution_count": 22,
   "metadata": {},
   "outputs": [
    {
     "name": "stdout",
     "output_type": "stream",
     "text": [
      "Running SQP algorithm with the following settings:\n",
      "- 5000 x 20 data matrix\n",
      "- convergence tolerance = 1.00e-08\n",
      "- zero threshold        = 1.00e-03\n",
      "- partial SVD tolerance  = 1.00e-10\n",
      "- partial SVD max. error = 9.68e-14\n",
      "iter       objective -min(g+1) #nnz #qp\n",
      "   1 -2.90875475e+03 +3.18e-01   20   0\n",
      "   2 -3.21713770e+03 +6.95e+04    2  26\n",
      "   3 -3.70865496e+03 +2.43e+04    2  25\n",
      "   4 -3.78546754e+03 +1.04e+04    3  27\n",
      "   5 -3.80605495e+03 +4.87e+03    3  19\n",
      "   6 -3.82235480e+03 +2.35e+03    4  18\n",
      "   7 -3.83648039e+03 +1.16e+03    4   9\n",
      "   8 -3.85347774e+03 +5.77e+02    3 100\n",
      "   9 -3.80679050e+03 +3.86e+04    3 100\n",
      "  10 -3.81785216e+03 +1.33e+04    3  16\n",
      "  11 -3.83122697e+03 +5.73e+03    3   7\n",
      "  12 -3.84722766e+03 +2.67e+03    3  16\n",
      "  13 -3.86039842e+03 +1.29e+03    4   6\n",
      "  14 -3.87240406e+03 +6.36e+02    4   6\n",
      "  15 -3.88673438e+03 +3.16e+02    5  42\n",
      "  16 -3.89884057e+03 +1.58e+02    4  14\n",
      "  17 -3.91060124e+03 +7.87e+01    3  23\n",
      "  18 -3.92311191e+03 +3.95e+01    4  27\n",
      "  19 -3.93322190e+03 +1.97e+01    4  19\n",
      "  20 -3.94461153e+03 +9.75e+00    4  19\n",
      "  21 -3.95331422e+03 +4.78e+00    4   7\n",
      "  22 -3.96204982e+03 +2.27e+00    4  18\n",
      "  23 -3.96854640e+03 +1.03e+00    5  10\n",
      "  24 -3.97389206e+03 +4.17e-01    4   4\n",
      "  25 -3.97794077e+03 +1.23e-01    4   6\n",
      "  26 -3.98030118e+03 +2.59e-02    6   6\n",
      "  27 -3.98092497e+03 +2.22e-03    6   2\n",
      "  28 -3.98098199e+03 +2.13e-05    6   2\n",
      "  29 -3.98098267e+03 -1.01e-09    6   2\n",
      "Optimization took 29 iterations and 0.0019 seconds.\n"
     ]
    },
    {
     "data": {
      "text/plain": [
       "Dict{String,Any} with 8 entries:\n",
       "  \"timing\"      => [0.125381, 0.00209366, 0.00237749, 0.00303897, 0.00224276, 0…\n",
       "  \"nnz\"         => [20.0, 2.0, 2.0, 3.0, 3.0, 4.0, 4.0, 3.0, 3.0, 3.0  …  4.0, …\n",
       "  \"totaltime\"   => 0.00191168\n",
       "  \"lowranktime\" => 0.00633719\n",
       "  \"obj\"         => [-2908.75, -3217.14, -3708.65, -3785.47, -3806.05, -3822.35,…\n",
       "  \"x\"           => [0.0, 0.0, 0.0, 0.0, 0.354355, 0.627714, 0.0, 0.0, 0.0, 0.0,…\n",
       "  \"nqp\"         => [0.0, 26.0, 25.0, 27.0, 19.0, 18.0, 9.0, 100.0, 100.0, 16.0 …\n",
       "  \"gmin\"        => [-0.317527, -69530.5, -24271.7, -10430.9, -4868.18, -2354.4,…"
      ]
     },
     "execution_count": 22,
     "metadata": {},
     "output_type": "execute_result"
    }
   ],
   "source": [
    "include(\"code/mixSQP.jl\");\n",
    "x1 = mixSQP(L1, x = ones(size(L1,2))/size(L1,2); convtol = 1e-8,\n",
    "                pqrtol = 1e-10, eps = 1e-8, sptol = 1e-3,\n",
    "                maxiter = 100, maxqpiter = 100,\n",
    "                lowrank = \"svd\", seed = 1, verbose = true)"
   ]
  },
  {
   "cell_type": "code",
   "execution_count": 23,
   "metadata": {},
   "outputs": [
    {
     "name": "stdout",
     "output_type": "stream",
     "text": [
      "Running SQP algorithm with the following settings:\n",
      "- 100000 x 100 data matrix\n",
      "- convergence tolerance = 1.00e-08\n",
      "- zero threshold        = 1.00e-03\n",
      "- partial QR tolerance  = 1.00e-10\n",
      "- partial QR max. error = 5.57e-09\n",
      "iter       objective -min(g+1) #nnz #qp\n",
      "   1 4.98632430e+04 +8.29e-02  100   0\n",
      "   2 4.92187538e+04 +4.79e-02    3 100\n",
      "   3 4.76046826e+04 +5.51e-03    3  14\n",
      "   4 4.74135332e+04 +6.40e-05    3   2\n",
      "   5 4.74104039e+04 +2.38e-08    3   2\n",
      "   6 4.74104018e+04 -9.25e-09    3   2\n",
      "Optimization took 6 iterations and 0.0273 seconds.\n"
     ]
    },
    {
     "data": {
      "text/plain": [
       "Dict{String,Any} with 8 entries:\n",
       "  \"timing\"      => [0.130304, 0.035584, 0.0330755, 0.0250486, 0.0263688, 0.0]\n",
       "  \"nnz\"         => [100.0, 3.0, 3.0, 3.0, 3.0, 3.0]\n",
       "  \"totaltime\"   => 0.0273191\n",
       "  \"lowranktime\" => 0.133421\n",
       "  \"obj\"         => [49863.2, 49218.8, 47604.7, 47413.5, 47410.4, 47410.4]\n",
       "  \"x\"           => [0.497557, 0.0, 0.0, 0.0, 0.0, 0.0, 0.0, 0.0, 0.0, 0.0  …  0…\n",
       "  \"nqp\"         => [0.0, 100.0, 14.0, 2.0, 2.0, 2.0]\n",
       "  \"gmin\"        => [-0.0828825, -0.0479481, -0.00551384, -6.40421e-5, -2.37803e…"
      ]
     },
     "execution_count": 23,
     "metadata": {},
     "output_type": "execute_result"
    }
   ],
   "source": [
    "x2 = mixSQP(L2, x = ones(size(L2,2))/size(L2,2); convtol = 1e-8,\n",
    "                pqrtol = 1e-10, eps = 1e-8, sptol = 1e-3,\n",
    "                maxiter = 100, maxqpiter = 100,\n",
    "                lowrank = \"qr\", seed = 1, verbose = true)"
   ]
  }
 ],
 "metadata": {
  "kernelspec": {
   "display_name": "Julia 0.6.2",
   "language": "julia",
   "name": "julia-0.6"
  },
  "language_info": {
   "file_extension": ".jl",
   "mimetype": "application/julia",
   "name": "julia",
   "version": "0.6.2"
  }
 },
 "nbformat": 4,
 "nbformat_minor": 2
}
