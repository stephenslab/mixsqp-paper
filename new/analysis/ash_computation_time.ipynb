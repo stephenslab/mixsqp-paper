{
 "cells": [
  {
   "cell_type": "code",
   "execution_count": 2,
   "metadata": {},
   "outputs": [],
   "source": [
    "# Set up the Julia environment.\n",
    "using DataFrames\n",
    "using PyPlot"
   ]
  },
  {
   "cell_type": "code",
   "execution_count": null,
   "metadata": {
    "collapsed": true
   },
   "outputs": [],
   "source": [
    "function sim(n; mult = 1.3)\n",
    "    n_half = round(Int,n/2);\n",
    "    srand(1);\n",
    "    x = [randn(n_half);3*randn(n-n_half)]; s = ones(n);\n",
    "    out = ash(x,s, lowrank = \"qr\")[5];\n",
    "    return out\n",
    "end\n",
    "\n",
    "t = sim(1000); # check if works well\n",
    "\n",
    "n = 40000 * 4.^(1:3);\n",
    "for i = 1:3\n",
    "    t = [t sim(n[i])];\n",
    "end\n",
    "t = t[:,2:end]';"
   ]
  },
  {
   "cell_type": "code",
   "execution_count": null,
   "metadata": {},
   "outputs": [],
   "source": [
    "fig, ax = subplots()\n",
    "ax[:bar](log2.(n),t[:,1]./n)\n",
    "ax[:bar](log2.(n),t[:,2]./n, bottom = t[:,1]./n)\n",
    "ax[:bar](log2.(n),t[:,3]./n, bottom = sum(t[:,1:2],2)[:]./n)\n",
    "ax[:bar](log2.(n),t[:,4]./n, bottom = sum(t[:,1:3],2)[:]./n)\n",
    "xlabel(\"log2(n)\")\n",
    "ylabel(\"time/n\")\n",
    "ax[:legend]([\"likelihood computation\";\"low-rank approximation of L\";\"convex programming\";\"posterior computation\"])\n",
    "\n",
    "# they are in the same scale (time per n).\n",
    "# For smaller n, other issues (e.g. memory allocation) take considerable amount of time."
   ]
  },
  {
   "cell_type": "markdown",
   "metadata": {},
   "source": [
    "## Session information\n",
    "\n",
    "The section gives information about the computing environment used to generate the results contained in this\n",
    "manuscript, including the version of Julia, Python and the Julia packages. "
   ]
  },
  {
   "cell_type": "code",
   "execution_count": 5,
   "metadata": {},
   "outputs": [
    {
     "name": "stdout",
     "output_type": "stream",
     "text": [
      " - DataFrames                    0.10.1\n",
      " - PyPlot                        2.3.2\n"
     ]
    }
   ],
   "source": [
    "Pkg.status(\"DataFrames\")\n",
    "Pkg.status(\"PyPlot\")"
   ]
  },
  {
   "cell_type": "code",
   "execution_count": 6,
   "metadata": {},
   "outputs": [
    {
     "name": "stdout",
     "output_type": "stream",
     "text": [
      "Julia Version 0.6.2\n",
      "Commit d386e40c17 (2017-12-13 18:08 UTC)\n",
      "Platform Info:\n",
      "  OS: macOS (x86_64-apple-darwin14.5.0)\n",
      "  CPU: Intel(R) Core(TM) i7-7567U CPU @ 3.50GHz\n",
      "  WORD_SIZE: 64\n",
      "  BLAS: libopenblas (USE64BITINT DYNAMIC_ARCH NO_AFFINITY Prescott)\n",
      "  LAPACK: libopenblas64_\n",
      "  LIBM: libopenlibm\n",
      "  LLVM: libLLVM-3.9.1 (ORCJIT, broadwell)\n"
     ]
    }
   ],
   "source": [
    "versioninfo()"
   ]
  }
 ],
 "metadata": {
  "kernelspec": {
   "display_name": "Julia 0.6.2",
   "language": "julia",
   "name": "julia-0.6"
  },
  "language_info": {
   "file_extension": ".jl",
   "mimetype": "application/julia",
   "name": "julia",
   "version": "0.6.2"
  }
 },
 "nbformat": 4,
 "nbformat_minor": 2
}
