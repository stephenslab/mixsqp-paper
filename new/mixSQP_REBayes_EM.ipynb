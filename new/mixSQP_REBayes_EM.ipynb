{
 "cells": [
  {
   "cell_type": "code",
   "execution_count": 58,
   "metadata": {},
   "outputs": [
    {
     "name": "stdout",
     "output_type": "stream",
     "text": [
      " - RCall                         0.8.1\n"
     ]
    }
   ],
   "source": [
    "using RCall # use R in Julia and thus in this jupyter notebook\n",
    "Pkg.status(\"RCall\")"
   ]
  },
  {
   "cell_type": "code",
   "execution_count": 59,
   "metadata": {},
   "outputs": [
    {
     "name": "stdout",
     "output_type": "stream",
     "text": [
      " - DataFrames                    0.10.1\n"
     ]
    }
   ],
   "source": [
    "using DataFrames # save/load txt file\n",
    "Pkg.status(\"DataFrames\")"
   ]
  },
  {
   "cell_type": "code",
   "execution_count": 60,
   "metadata": {},
   "outputs": [],
   "source": [
    "data = Array{Float64,2}(readtable(\"data/sample5000x20.txt\", header = false, separator = ' '));"
   ]
  },
  {
   "cell_type": "code",
   "execution_count": 61,
   "metadata": {},
   "outputs": [],
   "source": [
    "include(\"code/mixSQP_time.jl\")\n",
    "include(\"code/mixEM.jl\");\n",
    "include(\"code/REBayes.jl\");"
   ]
  },
  {
   "cell_type": "code",
   "execution_count": 62,
   "metadata": {},
   "outputs": [
    {
     "data": {
      "text/html": [
       "1.5696391712435864e-10"
      ],
      "text/plain": [
       "1.5696391712435864e-10"
      ]
     },
     "execution_count": 62,
     "metadata": {},
     "output_type": "execute_result"
    }
   ],
   "source": [
    "x1 = mixSQP_time(data, eps=1e-8, tol=1e-8, ptol = 1e-10, sptol=1e-3, lowrank = \"svd\")[1];\n",
    "L = data ./ maximum(data,2);\n",
    "x2 = mixSQP_time(L)[1];\n",
    "norm(x2 - x1, 1)  # row-wise renormalization yields the same solution"
   ]
  },
  {
   "cell_type": "code",
   "execution_count": 63,
   "metadata": {},
   "outputs": [
    {
     "data": {
      "text/plain": [
       "2×3 Array{Any,2}:\n",
       "   \"mixEM\"   \"REbayes\"   \"mixSQP\"\n",
       " 14.7347    0.08        0.0353605"
      ]
     },
     "execution_count": 63,
     "metadata": {},
     "output_type": "execute_result"
    }
   ],
   "source": [
    "# time comparison between mixEM, mixSQP and REBayes\n",
    "\n",
    "## mixEM;\n",
    "tic(); x_em = mixEM(L)[1]; t_em = toq();\n",
    "\n",
    "x_rebayes,t_rebayes = REBayes(L);\n",
    "\n",
    "tic(); x_mixsqp = mixSQP_time(L)[1]; t_mixsqp = toq();\n",
    "\n",
    "# mixSQP ourperforms on this small dataset 5000x20\n",
    "[\"mixEM\" \"REbayes\" \"mixSQP\"; t_em t_rebayes t_mixsqp]"
   ]
  },
  {
   "cell_type": "code",
   "execution_count": 64,
   "metadata": {},
   "outputs": [
    {
     "data": {
      "text/plain": [
       "20×3 Array{Float64,2}:\n",
       " 0.127199      0.0         0.0       \n",
       " 0.127199      0.0         0.0       \n",
       " 0.127645      0.0         0.0       \n",
       " 0.128086      0.0         0.0       \n",
       " 0.127556      0.354333    0.354355  \n",
       " 0.123721      0.627736    0.627714  \n",
       " 0.11013       0.0         0.0       \n",
       " 0.0770192     0.0         0.0       \n",
       " 0.0304384     0.0         0.0       \n",
       " 0.00458465    0.0         0.0       \n",
       " 0.000387899   0.0         0.0       \n",
       " 0.000140873   0.0         0.0       \n",
       " 0.000683394   0.00330509  0.00330597\n",
       " 0.0073103     0.00675424  0.00675372\n",
       " 4.2626e-7     0.0         0.0       \n",
       " 1.81378e-27   0.0         0.0       \n",
       " 1.04048e-38   0.0         0.0       \n",
       " 0.00521181    0.00514342  0.00514348\n",
       " 0.0026887     0.00272876  0.00272873\n",
       " 1.17097e-188  0.0         0.0       "
      ]
     },
     "execution_count": 64,
     "metadata": {},
     "output_type": "execute_result"
    }
   ],
   "source": [
    "# EM does not converge until maxiter\n",
    "[x_em x_rebayes x_mixsqp]"
   ]
  },
  {
   "cell_type": "code",
   "execution_count": 65,
   "metadata": {},
   "outputs": [
    {
     "name": "stdout",
     "output_type": "stream",
     "text": [
      "l1 norm difference between solutions: 4.5283897708680524e-5\n",
      "relative difference between objective values: 1.7352785874891197e-13\n"
     ]
    }
   ],
   "source": [
    "# compare REBayes and mixsqp\n",
    "print(\"l1 norm difference between solutions: \"); println(norm(x_mixsqp - x_rebayes, 1))\n",
    "print(\"relative difference between objective values: \"); println(rel_error(L,x_mixsqp,x_rebayes));"
   ]
  },
  {
   "cell_type": "code",
   "execution_count": 66,
   "metadata": {},
   "outputs": [
    {
     "data": {
      "text/plain": [
       "2×2 Array{Any,2}:\n",
       "  \"mixSQP\"    \"REbayes\"\n",
       " 0.275421   13.981     "
      ]
     },
     "execution_count": 66,
     "metadata": {},
     "output_type": "execute_result"
    }
   ],
   "source": [
    "# Let's try large dataset 100000x100\n",
    "# time comparison between mixSQP and REBayes\n",
    "# make a large data if it doesn't exist\n",
    "# include(\"code/makedata.jl\")\n",
    "\n",
    "L = Array{Float64,2}(readtable(\"data/sample100000x100.txt\", header = false, separator = ' '));\n",
    "@rput L;\n",
    "R\"t_rebayes = system.time(res <- REBayes::KWDual(L, rep(1,dim(L)[2]), rep(1,dim(L)[1])/dim(L)[1]))[3];\n",
    "res$f[res$f < 1e-3] = 0\n",
    "x_rebayes = res$f / sum(res$f)\"\n",
    "@rget x_rebayes;\n",
    "@rget t_rebayes;\n",
    "\n",
    "# mixSQP ourperforms on this large dataset 100000x100\n",
    "tic(); x_mixsqp = mixSQP_time(L)[1]; t_mixsqp = toq();\n",
    "[\"mixSQP\" \"REbayes\"; t_mixsqp t_rebayes]"
   ]
  },
  {
   "cell_type": "code",
   "execution_count": 67,
   "metadata": {},
   "outputs": [
    {
     "name": "stdout",
     "output_type": "stream",
     "text": [
      "l1 norm difference between solutions: 2.696556654122051e-6\n",
      "relative difference between objective values: 4.440892098500626e-16\n"
     ]
    }
   ],
   "source": [
    "# solution almost conincides\n",
    "print(\"l1 norm difference between solutions: \"); println(norm(x_mixsqp - x_rebayes, 1))\n",
    "print(\"relative difference between objective values: \"); println(rel_error(L,x_mixsqp,x_rebayes));"
   ]
  },
  {
   "cell_type": "code",
   "execution_count": 68,
   "metadata": {},
   "outputs": [
    {
     "name": "stdout",
     "output_type": "stream",
     "text": [
      "  [1  ]  =  0.496888\n",
      "  [87 ]  =  0.0755944\n",
      "  [88 ]  =  0.427518"
     ]
    },
    {
     "data": {
      "text/plain": [
       "2×4 Array{Any,2}:\n",
       "  \"likelihood\"   \"lowrank\"   \"mixSQP\"   \"posterior\"\n",
       " 1.43529        0.229641    0.287963   0.115075    "
      ]
     },
     "execution_count": 68,
     "metadata": {},
     "output_type": "execute_result"
    }
   ],
   "source": [
    "# let's run Adaptive Shinkage for the comparison.\n",
    "include(\"code/ash.jl\")\n",
    "srand(1);\n",
    "z = [randn(50000);3*randn(50000)];\n",
    "s = ones(100000);\n",
    "out = ash(z,s, mult = 1.04);\n",
    "\n",
    "# solution is sparse\n",
    "x = sparse(out[4]); print(x)\n",
    "\n",
    "# computation time\n",
    "[\"likelihood\" \"lowrank\" \"mixSQP\" \"posterior\"; out[5]']"
   ]
  },
  {
   "cell_type": "code",
   "execution_count": 69,
   "metadata": {},
   "outputs": [
    {
     "data": {
      "text/html": [
       "59.5199999999968"
      ],
      "text/plain": [
       "59.5199999999968"
      ]
     },
     "execution_count": 69,
     "metadata": {},
     "output_type": "execute_result"
    }
   ],
   "source": [
    "# :::Warning:::\n",
    "# Perhaps you don't want to run this: it's much slower.\n",
    "# current \"ashr\" package in R\n",
    "L = out[3];\n",
    "@rput z; @rput s2;\n",
    "R\"t_ash = system.time(res <- ashr::ash(z,s2, mixcompdist = 'normal', prior = 'uniform', gridmult = 1.04) )[3]\"\n",
    "@rget t_ash\n",
    "R\"x_ash = res$fitted_g$pi\"\n",
    "@rget x_ash\n",
    "t_ash"
   ]
  },
  {
   "cell_type": "code",
   "execution_count": 70,
   "metadata": {},
   "outputs": [
    {
     "name": "stdout",
     "output_type": "stream",
     "text": [
      "l1 norm difference between solutions: 4.191712685658363e-6\n",
      "relative difference between objective values: 2.0004398137984936e-10\n"
     ]
    }
   ],
   "source": [
    "# solution almost conincides\n",
    "print(\"l1 norm difference between solutions: \"); println(norm(x - x_ash, 1))\n",
    "print(\"relative difference between objective values: \"); println(rel_error(L,x,x_ash));"
   ]
  },
  {
   "cell_type": "code",
   "execution_count": 71,
   "metadata": {},
   "outputs": [
    {
     "data": {
      "text/plain": [
       "RCall.RObject{RCall.VecSxp}\n",
       "R version 3.4.3 (2017-11-30)\n",
       "Platform: x86_64-apple-darwin15.6.0 (64-bit)\n",
       "Running under: macOS High Sierra 10.13.3\n",
       "\n",
       "Matrix products: default\n",
       "BLAS: /System/Library/Frameworks/Accelerate.framework/Versions/A/Frameworks/vecLib.framework/Versions/A/libBLAS.dylib\n",
       "LAPACK: /Library/Frameworks/R.framework/Versions/3.4/Resources/lib/libRlapack.dylib\n",
       "\n",
       "locale:\n",
       "[1] en_US.UTF-8/en_US.UTF-8/en_US.UTF-8/C/en_US.UTF-8/en_US.UTF-8\n",
       "\n",
       "attached base packages:\n",
       "[1] stats     graphics  grDevices utils     datasets  methods   base     \n",
       "\n",
       "other attached packages:\n",
       "[1] REBayes_1.2   Matrix_1.2-12\n",
       "\n",
       "loaded via a namespace (and not attached):\n",
       " [1] Rcpp_0.12.15      lattice_0.20-35   codetools_0.2-15  Rmosek_8.0.69    \n",
       " [5] foreach_1.4.4     assertthat_0.2.0  truncnorm_1.0-7   MASS_7.3-47      \n",
       " [9] grid_3.4.3        pscl_1.5.2        doParallel_1.0.11 iterators_1.0.9  \n",
       "[13] parallel_3.4.3    compiler_3.4.3    ashr_2.2-4        SQUAREM_2017.10-1\n"
      ]
     },
     "execution_count": 71,
     "metadata": {},
     "output_type": "execute_result"
    }
   ],
   "source": [
    "# R library/system information\n",
    "R\"sessionInfo()\""
   ]
  }
 ],
 "metadata": {
  "kernelspec": {
   "display_name": "Julia 0.6.2",
   "language": "julia",
   "name": "julia-0.6"
  },
  "language_info": {
   "file_extension": ".jl",
   "mimetype": "application/julia",
   "name": "julia",
   "version": "0.6.2"
  }
 },
 "nbformat": 4,
 "nbformat_minor": 2
}
