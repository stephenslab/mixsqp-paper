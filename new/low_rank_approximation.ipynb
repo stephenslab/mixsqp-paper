{
 "cells": [
  {
   "cell_type": "code",
   "execution_count": 3,
   "metadata": {},
   "outputs": [],
   "source": [
    "using DataFrames"
   ]
  },
  {
   "cell_type": "code",
   "execution_count": 52,
   "metadata": {},
   "outputs": [],
   "source": [
    "include(\"code/mixSQP.jl\")\n",
    "# ptol    : relative tolerance for randomized low-rank approximation\n",
    "# lowrank : low-rank approximation method, perform randomized svd if \"svd\", randomized RRQR if \"qr\",\n",
    "#           and do nothing otherwise\n",
    "\n",
    "# example\n",
    "data = Array{Float64,2}(readtable(\"data/sample5000x20.txt\", header = false, separator = ' '));\n",
    "x_svd = mixSQP(data, ptol = 1e-10, lowrank = \"svd\");\n",
    "x_qr = mixSQP(data, ptol = 1e-10, lowrank = \"qr\");\n",
    "x_nothing = mixSQP(data, ptol = 1e-10, lowrank = \"nothing\");"
   ]
  },
  {
   "cell_type": "code",
   "execution_count": null,
   "metadata": {},
   "outputs": [],
   "source": [
    "# now we compare the computation time for small/large design matrix respectively"
   ]
  },
  {
   "cell_type": "code",
   "execution_count": 53,
   "metadata": {},
   "outputs": [
    {
     "name": "stdout",
     "output_type": "stream",
     "text": [
      "  0.051978 seconds (48.03 k allocations: 53.920 MiB, 8.78% gc time)\n",
      "  0.040882 seconds (65.31 k allocations: 47.193 MiB, 10.09% gc time)\n",
      "  0.062490 seconds (46.94 k allocations: 76.703 MiB, 13.01% gc time)\n"
     ]
    },
    {
     "data": {
      "text/plain": [
       "2×2 Array{Any,2}:\n",
       "  \"rel_err btw x_svd,x\"   \"rel_error btw x_qr,x\"\n",
       " 1.11022e-16             1.11022e-16            "
      ]
     },
     "execution_count": 53,
     "metadata": {},
     "output_type": "execute_result"
    }
   ],
   "source": [
    "srand(4)\n",
    "@time mixSQP(data, ptol = 1e-10, lowrank = \"svd\");\n",
    "@time mixSQP(data, ptol = 1e-10, lowrank = \"qr\");\n",
    "@time mixSQP(data, ptol = 1e-10, lowrank = \"nothing\");\n",
    "[\"rel_err btw x_svd,x\" \"rel_error btw x_qr,x\"; rel_error(data,x_svd,x_nothing) rel_error(data,x_qr,x_nothing)]"
   ]
  },
  {
   "cell_type": "code",
   "execution_count": 54,
   "metadata": {},
   "outputs": [],
   "source": [
    "data = Array{Float64,2}(readtable(\"data/sample100000x100.txt\", header = false, separator = ' '));"
   ]
  },
  {
   "cell_type": "code",
   "execution_count": 56,
   "metadata": {},
   "outputs": [
    {
     "name": "stdout",
     "output_type": "stream",
     "text": [
      "  0.428064 seconds (8.07 k allocations: 321.719 MiB, 37.08% gc time)\n",
      "  0.260417 seconds (9.85 k allocations: 321.544 MiB, 12.09% gc time)\n",
      "  2.535116 seconds (7.71 k allocations: 2.412 GiB, 52.55% gc time)\n"
     ]
    },
    {
     "data": {
      "text/plain": [
       "2×2 Array{Any,2}:\n",
       "  \"rel_err btw x_svd,x\"   \"rel_error btw x_qr,x\"\n",
       " 0.0                     4.44089e-16            "
      ]
     },
     "execution_count": 56,
     "metadata": {},
     "output_type": "execute_result"
    }
   ],
   "source": [
    "srand(4)\n",
    "@time x_svd = mixSQP(data, ptol = 1e-10, lowrank = \"svd\");\n",
    "@time x_qr = mixSQP(data, ptol = 1e-10, lowrank = \"qr\");\n",
    "@time x_nothing = mixSQP(data, ptol = 1e-10, lowrank = \"nothing\");\n",
    "[\"rel_err btw x_svd,x\" \"rel_error btw x_qr,x\"; rel_error(data,x_svd,x_nothing) rel_error(data,x_qr,x_nothing)]"
   ]
  }
 ],
 "metadata": {
  "kernelspec": {
   "display_name": "Julia 0.6.2",
   "language": "julia",
   "name": "julia-0.6"
  },
  "language_info": {
   "file_extension": ".jl",
   "mimetype": "application/julia",
   "name": "julia",
   "version": "0.6.2"
  }
 },
 "nbformat": 4,
 "nbformat_minor": 2
}
